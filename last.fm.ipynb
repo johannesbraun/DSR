{
 "metadata": {
  "name": "",
  "signature": "sha256:b9e90979d82e33ab169f0b719604395443978ff7285ea58735449b7efcfbdd51"
 },
 "nbformat": 3,
 "nbformat_minor": 0,
 "worksheets": [
  {
   "cells": [
    {
     "cell_type": "code",
     "collapsed": false,
     "input": [
      "#http://www.lastfm.de/api/show/user.getLovedTracks"
     ],
     "language": "python",
     "metadata": {},
     "outputs": []
    }
   ],
   "metadata": {}
  }
 ]
}