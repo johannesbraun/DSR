{
 "metadata": {
  "name": "",
  "signature": "sha256:09cc6f304e82773b10077eddbb7005c3493bb3a66ac87572f14a407b04c1018d"
 },
 "nbformat": 3,
 "nbformat_minor": 0,
 "worksheets": [
  {
   "cells": [
    {
     "cell_type": "heading",
     "level": 1,
     "metadata": {},
     "source": [
      "Soundcloud API"
     ]
    },
    {
     "cell_type": "markdown",
     "metadata": {},
     "source": [
      "Table of contents:\n",
      "<dl>\n",
      "    <dt><a href='#recos'>1. Recommendations</a></dt>\n",
      "    <dt><a href='#other'>2. More functionality</a></dt>\n",
      "</dl>"
     ]
    },
    {
     "cell_type": "heading",
     "level": 2,
     "metadata": {},
     "source": [
      "<a id='recos'>1. Recommendations</a>"
     ]
    },
    {
     "cell_type": "code",
     "collapsed": false,
     "input": [
      "import soundcloud\n",
      "import urllib2"
     ],
     "language": "python",
     "metadata": {},
     "outputs": [],
     "prompt_number": 3
    },
    {
     "cell_type": "code",
     "collapsed": false,
     "input": [
      "# create a client object with your app credentials\n",
      "clientid= '17089d3c7d05cb2cfdffe46c2e486ff0'\n",
      "client = soundcloud.Client(client_id='17089d3c7d05cb2cfdffe46c2e486ff0') # 'YOUR_CLIENT_ID'\n",
      "\n",
      "# find all sounds of buskers licensed under 'creative commons share alike'\n",
      "tracks = client.get('/tracks', q='buskers', license='cc-by-sa')"
     ],
     "language": "python",
     "metadata": {},
     "outputs": [],
     "prompt_number": 4
    },
    {
     "cell_type": "code",
     "collapsed": false,
     "input": [
      "tracks = client.get('/tracks', q='sascha funke')"
     ],
     "language": "python",
     "metadata": {},
     "outputs": [],
     "prompt_number": 5
    },
    {
     "cell_type": "code",
     "collapsed": false,
     "input": [
      "print len(tracks)\n",
      "songs = [ [track.id,track.title] for track in tracks]"
     ],
     "language": "python",
     "metadata": {},
     "outputs": [
      {
       "output_type": "stream",
       "stream": "stdout",
       "text": [
        "50\n"
       ]
      }
     ],
     "prompt_number": 6
    },
    {
     "cell_type": "code",
     "collapsed": false,
     "input": [
      "# http://api.soundcloud.com/tracks/174365478.json?client_id=17089d3c7d05cb2cfdffe46c2e486ff0\"\n",
      "for track in songs[1:5]:\n",
      "    print 'Track ID: %d, Title: \"%s\"' % (track[0], track[1])    "
     ],
     "language": "python",
     "metadata": {},
     "outputs": [
      {
       "output_type": "stream",
       "stream": "stdout",
       "text": [
        "Track ID: 38180130, Title: \"Sascha Funke - Mango\"\n",
        "Track ID: 4038069, Title: \"sascha funke vs nina kraviz - moses ( stimming remix )\"\n",
        "Track ID: 9803642, Title: \"PAUL KALKBRENNER  Sascha Funke Mango VS Fritz Kalkbrenner   Wichita Lineman\"\n",
        "Track ID: 17840488, Title: \"sascha funke @ bpitch control night -2010 new york\"\n"
       ]
      }
     ],
     "prompt_number": 7
    },
    {
     "cell_type": "markdown",
     "metadata": {},
     "source": [
      "<img src=\"https://i1.sndcdn.com/artworks-000019150575-g6xzgx-large.jpg\" alt=\"Accuracy graph\" align=\"left\" >"
     ]
    },
    {
     "cell_type": "code",
     "collapsed": false,
     "input": [
      "#tid = 174365478\n",
      "#Task is to be better than recos at https://soundcloud.com/paulkalkbrenner/paul-kalkbrenner-sky-and/recommended\n",
      "\n",
      "#tid = 37032471\n",
      "tid = 38180130\n",
      "\n",
      "track = client.get('/tracks/%d' %tid)\n",
      "\n",
      "print 'Track ID: %d, Title: \"%s' % (track.id, track.title)\n",
      "print 'Username: %s, Popularity: %d, %d, %d' % (track.user['username'], track.playback_count, track.favoritings_count, track.comment_count)\n",
      "print 'Tags: %s' % track.tag_list\n",
      "print 'Description: %s' % track.description    "
     ],
     "language": "python",
     "metadata": {},
     "outputs": [
      {
       "output_type": "stream",
       "stream": "stdout",
       "text": [
        "Track ID: 38180130, Title: \"Sascha Funke - Mango\n",
        "Username: Journeyofsound, Popularity: 55766, 877, 22\n",
        "Tags: \n",
        "Description: \n"
       ]
      }
     ],
     "prompt_number": 8
    },
    {
     "cell_type": "code",
     "collapsed": false,
     "input": [
      "import urllib2\n",
      "import simplejson\n",
      "url = 'http://api.soundcloud.com/tracks/%d.json?client_id=%s' %(tid,clientid)\n",
      "print url\n",
      "\n",
      "import urllib2\n",
      "import simplejson\n",
      "req = urllib2.Request(url)\n",
      "opener = urllib2.build_opener()\n",
      "f = opener.open(req)\n",
      "simplejson.load(f)"
     ],
     "language": "python",
     "metadata": {},
     "outputs": [
      {
       "output_type": "stream",
       "stream": "stdout",
       "text": [
        "http://api.soundcloud.com/tracks/38180130.json?client_id=17089d3c7d05cb2cfdffe46c2e486ff0\n"
       ]
      },
      {
       "metadata": {},
       "output_type": "pyout",
       "prompt_number": 9,
       "text": [
        "{'artwork_url': 'https://i1.sndcdn.com/artworks-000019150575-g6xzgx-large.jpg',\n",
        " 'attachments_uri': 'https://api.soundcloud.com/tracks/38180130/attachments',\n",
        " 'bpm': 125.0,\n",
        " 'comment_count': 22,\n",
        " 'commentable': True,\n",
        " 'created_at': '2012/02/29 02:13:08 +0000',\n",
        " 'description': u'',\n",
        " 'download_count': 0,\n",
        " 'downloadable': False,\n",
        " 'duration': 421200,\n",
        " 'embeddable_by': 'all',\n",
        " 'favoritings_count': 877,\n",
        " 'genre': 'Tech House',\n",
        " 'id': 38180130,\n",
        " 'isrc': u'',\n",
        " 'key_signature': u'',\n",
        " 'kind': 'track',\n",
        " 'label_id': None,\n",
        " 'label_name': u'',\n",
        " 'last_modified': '2014/12/06 11:13:04 +0000',\n",
        " 'license': 'all-rights-reserved',\n",
        " 'original_content_size': 11367874,\n",
        " 'original_format': 'mp3',\n",
        " 'permalink': 'sascha-funke-mango',\n",
        " 'permalink_url': 'http://soundcloud.com/journeyofsound/sascha-funke-mango',\n",
        " 'playback_count': 55766,\n",
        " 'policy': 'ALLOW',\n",
        " 'purchase_title': None,\n",
        " 'purchase_url': 'http://www.beatport.com/track/mango-original-mix/495053',\n",
        " 'release': u'',\n",
        " 'release_day': None,\n",
        " 'release_month': None,\n",
        " 'release_year': None,\n",
        " 'sharing': 'public',\n",
        " 'state': 'finished',\n",
        " 'stream_url': 'https://api.soundcloud.com/tracks/38180130/stream',\n",
        " 'streamable': True,\n",
        " 'tag_list': u'',\n",
        " 'title': 'Sascha Funke - Mango',\n",
        " 'track_type': 'original',\n",
        " 'uri': 'https://api.soundcloud.com/tracks/38180130',\n",
        " 'user': {'avatar_url': 'https://i1.sndcdn.com/avatars-000011802028-r2ud3p-large.jpg',\n",
        "  'id': 5438139,\n",
        "  'kind': 'user',\n",
        "  'last_modified': '2014/07/05 14:49:00 +0000',\n",
        "  'permalink': 'journeyofsound',\n",
        "  'permalink_url': 'http://soundcloud.com/journeyofsound',\n",
        "  'uri': 'https://api.soundcloud.com/users/5438139',\n",
        "  'username': 'Journeyofsound'},\n",
        " 'user_id': 5438139,\n",
        " 'video_url': None,\n",
        " 'waveform_url': 'https://w1.sndcdn.com/rEkDzcqjfGOO_m.png'}"
       ]
      }
     ],
     "prompt_number": 9
    },
    {
     "cell_type": "code",
     "collapsed": false,
     "input": [
      "#helper method for fetching more than limit by looping over offset and page_size\n",
      "\n",
      "def getAll(path,default,at_most):\n",
      "    \n",
      "    items=[]\n",
      "    offset=0\n",
      "\n",
      "    page = client.get(path)    \n",
      "    \n",
      "    while (len(page) != 0): \n",
      "        items = items + [item for item in page]\n",
      "        if len(items) >= at_most: \n",
      "            break\n",
      "            \n",
      "        if len(page)>(default-1):          \n",
      "            offset = offset + len(page)\n",
      "            page = client.get(path, offset=offset)\n",
      "        else: \n",
      "            page = []\n",
      "        \n",
      "        #while (offset<=(at_most-page_size)):\n",
      "        #items = items + [ item for item in page]           \n",
      "            \n",
      "    return items\n"
     ],
     "language": "python",
     "metadata": {},
     "outputs": [],
     "prompt_number": 10
    },
    {
     "cell_type": "code",
     "collapsed": false,
     "input": [
      "def getAllHighPageSize(path,default,at_most):\n",
      "    \n",
      "    items=[]\n",
      "    offset=0\n",
      "\n",
      "    page = client.get(path)    \n",
      "    \n",
      "    while (len(page) != 0): \n",
      "        items = items + [item for item in page]\n",
      "        if len(items) >= at_most: \n",
      "            break\n",
      "            \n",
      "        if len(page)>(default-1):          \n",
      "            offset = offset + len(page)\n",
      "            page = client.get(path, page_size = default,  offset=offset)\n",
      "        else: \n",
      "            page = []\n",
      "        \n",
      "        #while (offset<=(at_most-page_size)):\n",
      "        #items = items + [ item for item in page]           \n",
      "            \n",
      "    return items\n"
     ],
     "language": "python",
     "metadata": {},
     "outputs": [],
     "prompt_number": 11
    },
    {
     "cell_type": "code",
     "collapsed": false,
     "input": [
      "# all comments in a list\n",
      "\n",
      "print 'Track ID: %d, Title: \"%s\"' % (track.id, track.title)\n",
      "    \n",
      "comments = [ comment     \n",
      "    #for comment in client.get('/tracks/%d/comments' %tid) ]\n",
      "    for comment in getAll('/tracks/%d/comments' % tid, 200, 1000)]\n",
      "\n",
      "print '%d Comments' % len(comments)\n",
      "\n",
      "print \n",
      "for comment in comments[1:10]:\n",
      "    print comment.body\n",
      "    "
     ],
     "language": "python",
     "metadata": {},
     "outputs": [
      {
       "output_type": "stream",
       "stream": "stdout",
       "text": [
        "Track ID: 38180130, Title: \"Sascha Funke - Mango\"\n",
        "22 Comments"
       ]
      },
      {
       "output_type": "stream",
       "stream": "stdout",
       "text": [
        "\n",
        "\n",
        "nice tech house-awesome+timeless-love it so much loud !!!\n",
        "Thanks berlin calling movie for this song !\n",
        "Deepsisimo bailotin\n",
        "Einfach nur super! Der Aufbau, die Melodien, die Atmosph\u00e4re! Meine Nummer 1 von ihm!\n",
        "WOOHOOOOO!!! Forever love this song\n",
        "One of the best songs out there!! Perfect Work!\n",
        "Auch nach dem 1000. mal h\u00f6ren eine absolute \u00fcbernummer! <3\n",
        "im totally addicted to this track. amazing stuff\n",
        "one in a million since years!\n"
       ]
      }
     ],
     "prompt_number": 12
    },
    {
     "cell_type": "code",
     "collapsed": false,
     "input": [
      "# all words from comments\n",
      "words = [ w \n",
      "          for c in comments\n",
      "              for w in c.body.split() ]\n",
      "\n",
      "from collections import Counter\n",
      "    \n",
      "agg =  [ Counter(w).items()\n",
      "    for w in [words]][0]    \n",
      "    \n",
      "sorted_words = sorted(agg, key=lambda tup: tup[1], reverse=True)\n",
      "\n",
      "print '%d Words' % len(sorted_words)\n",
      "\n",
      "from tabulate import tabulate\n",
      "print tabulate(sorted_words[1:20], headers=['word', '#occurences'])"
     ],
     "language": "python",
     "metadata": {},
     "outputs": [
      {
       "output_type": "stream",
       "stream": "stdout",
       "text": [
        "104 Words\n",
        "word               #occurences\n",
        "---------------  -------------\n",
        "song                         2\n",
        "die                          2\n",
        "of                           2\n",
        "love                         2\n",
        "geil                         2\n",
        "it                           2\n",
        "so                           2\n",
        "Perfect                      1\n",
        ":)                           1\n",
        "Work!                        1\n",
        "ihm!                         1\n",
        "WOOHOOOOO!!!                 1\n",
        "@volker-scherz:              1\n",
        "Chill!!!!                    1\n",
        "h\u00f6ren                        1\n",
        "track!!!!!                   1\n",
        "to                           1\n",
        "only                         1\n",
        "\u00fcbernummer!                  1\n"
       ]
      }
     ],
     "prompt_number": 13
    },
    {
     "cell_type": "code",
     "collapsed": false,
     "input": [
      "#All users that commented\n",
      "\n",
      "commenters  = [ (comment.user_id, comment.user['username'])\n",
      "                 for comment in comments ]        \n",
      "agg =  [ Counter(comment).items()\n",
      "    for comment in [commenters]][0]\n",
      "\n",
      "sorted_commenters = sorted(agg, key=lambda tup: tup[1], reverse=True)\n",
      "\n",
      "print '%d Commenters' % len(sorted_commenters)\n",
      "\n",
      "from tabulate import tabulate\n",
      "print tabulate(sorted_commenters[1:20], headers=['user_id', '#comments'])\n",
      "\n",
      "        "
     ],
     "language": "python",
     "metadata": {},
     "outputs": [
      {
       "output_type": "stream",
       "stream": "stdout",
       "text": [
        "22 Commenters\n",
        "user_id                                #comments\n",
        "-----------------------------------  -----------\n",
        "(6253410, u'**Blanche*neigE**')                1\n",
        "(47292789, u'Oly_S')                           1\n",
        "(382684, u'Ben van Flijken')                   1\n",
        "(29061634, u'rixcs')                           1\n",
        "(7467342, u'Ma&Mo')                            1\n",
        "(11338590, u'Malaika Wolter')                  1\n",
        "(57292200, u'Mateo Garofuli\\u0107')            1\n",
        "(4269902, u'stephanessity (foxxy)')            1\n",
        "(43369501, u'Der St\\xe4ppke')                  1\n",
        "(55453455, u'Maximilian Milan')                1\n",
        "(102631130, u'Alexandre Tssr')                 1\n",
        "(16939783, u'La Iz Plemena Na')                1\n",
        "(68040952, u'Giulio Scuderi 1')                1\n",
        "(2200403, u'Marc David - Krefeld')             1\n",
        "(7603753, u'user6151145')                      1\n",
        "(15036952, u'bigballs69')                      1\n",
        "(34057129, u'Manuel Balderas')                 1\n",
        "(12963341, u'Volker.Scherz')                   1\n",
        "(122410702, u'Curt Coolbein')                  1\n"
       ]
      }
     ],
     "prompt_number": 14
    },
    {
     "cell_type": "code",
     "collapsed": false,
     "input": [
      "#Get all users who favour this track\n",
      "print 'Track ID: %d' % tid\n",
      "\n",
      "fans = [ (fan.id, fan.username)\n",
      "    #for fan in client.get('/tracks/%d/favoriters' % tid) ]\n",
      "    for fan in getAll('/tracks/%d/favoriters' % tid,50,1000)]\n",
      "\n",
      "print '%d Fans' % len(fans)\n",
      "\n",
      "from tabulate import tabulate\n",
      "print tabulate(fans[1:20], headers=['Id', 'Username'])\n",
      "print '...'\n",
      "print tabulate(fans[510:550], headers=['Id', 'Username'])\n"
     ],
     "language": "python",
     "metadata": {},
     "outputs": [
      {
       "output_type": "stream",
       "stream": "stdout",
       "text": [
        "Track ID: 38180130\n",
        "877 Fans"
       ]
      },
      {
       "output_type": "stream",
       "stream": "stdout",
       "text": [
        "\n",
        "       Id  Username\n",
        "---------  -------------------\n",
        " 37860817  Gaelle Khalife\n",
        "123219768  Deschamps Arthur\n",
        "103002120  user932296708\n",
        "   602148  Linoa\n",
        " 15070102  Gunnar-\n",
        " 16463893  Marco Bartl\n",
        " 30743393  Andrea Urja\n",
        " 49470277  Dj Fabolou$\n",
        " 12717686  dr.sampler\n",
        "  3748667  Psyc' (Distorsong)\n",
        " 71499456  Streetwalker\n",
        " 44434186  millibanani\n",
        "  2240121  Merysz M\n",
        " 86743571  Harald Breidenbach\n",
        " 62353501  Thom Pem's Lachaume\n",
        " 20222537  Melek Ha\n",
        " 13816846  Britta Felzmann\n",
        " 13571911  Finn Job\n",
        " 29140901  tolyan-k\n",
        "...\n",
        "      Id  Username\n",
        "--------  -------------------------\n",
        "56395358  DeeperBeat\n",
        " 5493556  user5919893\n",
        "24254323  Aldy Amali\n",
        " 4452400  Liora Gu\n",
        "27675961  lukas.lobeck\n",
        "  450949  The-Diggin\n",
        "18791213  Roman Condratiuc\n",
        "48468707  MI KA 24\n",
        "16651233  Karoliina P\u00e4rn\u00e4nen\n",
        "27309637  laurascls\n",
        " 9360441  Oscar Aguilar BETA3\n",
        "19584426  Kiki4\n",
        "60353795  stefan ak -Soulz-\n",
        "51055826  Aequilibrist\n",
        " 6253410  **Blanche*neigE**\n",
        "15049021  Ferdl Heinz\n",
        "67294901  Ece Yava\u015fca\n",
        "57697091  W4nja\n",
        "22178183  jeffrigerator\n",
        " 7249358  Jackie Bl\n",
        " 5273348  Tan Jaa\n",
        "46420322  Mc Reen\n",
        "25737364  Linn Hanna\n",
        " 5091598  Giodinapoli\n",
        "53163503  aunt13\n",
        "22617874  vandaseve\n",
        "15633789  mantralicious\n",
        "21570177  Niklas Siegmund\n",
        "40137899  P\u00e2t\u00e9&Bullshit\n",
        "33143380  st\u00f3\u0142zpowy\u0142amywanyminogami\n",
        "53139293  2bell\n",
        "24733458  DDyrka\n",
        "20159294  Arne Maa\u00df\n",
        " 1582327  Flauschinator\n",
        "24299801  Christopher Parmer\n",
        " 6543321  tryptic\n",
        "48969034  Utku Namlises\n",
        "   26033  Zero Style\n",
        "12127189  Mark Peacock\n",
        "19256080  Anekin Skywalker\n"
       ]
      }
     ],
     "prompt_number": 15
    },
    {
     "cell_type": "code",
     "collapsed": false,
     "input": [
      "#http://api.soundcloud.com/resolve.json?url=http://soundcloud.com/johannesbraun&client_id=17089d3c7d05cb2cfdffe46c2e486ff0\n",
      "uid = 5506106 # Johannes Braun\n",
      "#uid2 = 3207 # some soundcloud guy\n",
      "#uid = 125862450 # jobraun2\n",
      "\n",
      "ufavs = client.get('/users/%d/favorites' %uid )\n",
      "utracks = client.get('/users/%d/tracks' %uid ) # menaing songs that i uploaded\n",
      "\n",
      "for track in ufavs:\n",
      "        print 'Track ID: %d, Title: \"%s\"' % (track.id, track.title)"
     ],
     "language": "python",
     "metadata": {},
     "outputs": [
      {
       "output_type": "stream",
       "stream": "stdout",
       "text": [
        "Track ID: 1858438, Title: \"Moderat - Rusty Nails\"\n",
        "Track ID: 174365478, Title: \"Jay Rock - Pay for It (Ft. Kendrick Lamar & Chantal)\"\n",
        "Track ID: 29214963, Title: \"Tricky Tricky - Royksop - McTwist remix\"\n",
        "Track ID: 8079022, Title: \"booka shade-outskirts (trentemoeller remix)\"\n",
        "Track ID: 83930667, Title: \"Siriusmo \"Itchy\" taken from the forthcoming album \"Enthusiast\" (MONKEYTOWN033) Out June 14\"\n",
        "Track ID: 99297925, Title: \"Beck - I Wont Be Long\"\n",
        "Track ID: 157952374, Title: \"Can't Do Without You (Extended Mix)\"\n",
        "Track ID: 37032471, Title: \"Paul Kalkbrenner - Sky And Sand (Feat. Fritz Kalkbrenner)\"\n",
        "Track ID: 174218218, Title: \"Kygo Special - Mixtaped by Freuron [FREE DOWNLOAD]\"\n",
        "Track ID: 94686925, Title: \"Milky Chance - Stolen Dance /// FlicFlac Edit [OUT NOW on iTunes]\"\n",
        "Track ID: 170355836, Title: \"Moderat - Bad Kingdom (Lambert Rework)  Jacob Groening's Sunday Juno Remix\"\n",
        "Track ID: 147992070, Title: \"Moderat \"Bad Kingdom - Robag Wruhme Remix\" (MKTXTR001) Out May 16, 2014\"\n",
        "Track ID: 10213834, Title: \"Moderat - A New Error\"\n",
        "Track ID: 172894209, Title: \"Above & Beyond Live at Madison Square Garden (ABGT100 - Main Set)\"\n",
        "Track ID: 612340, Title: \"Keep The Secrets Empty For Me\"\n"
       ]
      }
     ],
     "prompt_number": 15
    },
    {
     "cell_type": "code",
     "collapsed": false,
     "input": [
      "upls = client.get('/users/%d/playlists' %uid )\n",
      "\n",
      "for pl in upls:\n",
      "    print 'pl ID: %d, Title: \"%s\"' % (pl.id, pl.title)\n",
      "\n",
      "#http://api.soundcloud.com/playlists/56964368.json?client_id=17089d3c7d05cb2cfdffe46c2e486ff0\n",
      "plid = 62070993\n",
      "\n",
      "pl_tracks = client.get('/playlists/%d/tracks' %plid)\n",
      "for track in pl_tracks:\n",
      "    print 'Track ID: %d, Title: \"%s\"' % (track.id, track.title)"
     ],
     "language": "python",
     "metadata": {},
     "outputs": [
      {
       "output_type": "stream",
       "stream": "stdout",
       "text": [
        "pl ID: 56964368, Title: \"Likes\"\n",
        "Track ID: 143501087, Title: \"Out Of My Head (Naughty Boy Remix)\""
       ]
      },
      {
       "output_type": "stream",
       "stream": "stdout",
       "text": [
        "\n",
        "Track ID: 174365478, Title: \"Jay Rock - Pay for It (Ft. Kendrick Lamar & Chantal)\"\n"
       ]
      }
     ],
     "prompt_number": 16
    },
    {
     "cell_type": "code",
     "collapsed": false,
     "input": [
      "#for cacheing api results\n",
      "\n",
      "cached_user_favorites={} # cached_user_favorites"
     ],
     "language": "python",
     "metadata": {},
     "outputs": [],
     "prompt_number": 17
    },
    {
     "cell_type": "code",
     "collapsed": false,
     "input": [
      "print len(cached_user_favorites)"
     ],
     "language": "python",
     "metadata": {},
     "outputs": [
      {
       "output_type": "stream",
       "stream": "stdout",
       "text": [
        "0\n"
       ]
      }
     ],
     "prompt_number": 18
    },
    {
     "cell_type": "code",
     "collapsed": false,
     "input": [
      "import requests\n",
      "# get all songs from all followers\n",
      "\n",
      "#TODO get all song where they commented on /users/{id}/comments\n",
      "#TODO get all songs with same tags\n",
      "#IDEA check for users that are similar based on comments?\n",
      "\n",
      "fan_ids =  [x[0] for x in fans]\n",
      "comm_ids = [x[0] for x in sorted_commenters]\n",
      "\n",
      "\n",
      "followers = fan_ids #+ comm_ids #just using fans for now\n",
      "myset = set(followers) # unique ids\n",
      "followers = list(myset)\n",
      "\n",
      "\n",
      "print '%d Followers' % len(followers)  \n",
      "print '%d Fans' % len(fan_ids)  \n",
      "print '%d Commenters' % len(comm_ids)  "
     ],
     "language": "python",
     "metadata": {},
     "outputs": [
      {
       "output_type": "stream",
       "stream": "stdout",
       "text": [
        "877 Followers\n",
        "877 Fans\n",
        "22 Commenters\n"
       ]
      }
     ],
     "prompt_number": 19
    },
    {
     "cell_type": "code",
     "collapsed": false,
     "input": [
      "# Bottleneck!\n",
      "\n",
      "songs = []\n",
      "i=0\n",
      "\n",
      "for uid in followers:   # 1.2 seconds per user  = 25 mins\n",
      "    i=i+1\n",
      "    a = datetime.datetime.now()    \n",
      "    try:\n",
      "        if uid in cached_user_favorites:\n",
      "            ufavs = cached_user_favorites[uid]\n",
      "        else:\n",
      "            \n",
      "            #ufavs = getAll('/users/%d/favorites' % uid,50,1000)\n",
      "            #ufavs = getAllHighPageSize('/users/%d/favorites' % uid,200,1000)\n",
      "            print '/users/%d/favorites' % uid\n",
      "            ufavs = client.get('/users/%d/favorites' % uid) \n",
      "            #cached_user_favorites[uid]=ufavs\n",
      "        songs=songs+[track for track in ufavs]\n",
      "        #print 'Track ID: %d, Title: \"%s\"' % (track.id, track.title)\n",
      "    except requests.HTTPError, e:\n",
      "      print 'HTTP ERROR occured for user %d: %s' %(uid, e)\n",
      "\n",
      "    b = datetime.datetime.now()\n",
      "    c = b - a\n",
      "\n",
      "    if i % 10 == 0:  \n",
      "        print i, c.total_seconds()\n",
      "\n",
      "        \n",
      "# HTTP error ????:        \n",
      "#songs = [ client.get('/users/%d/favorites' %uid)\n",
      "#             for uid in followers]  \n",
      "        \n"
     ],
     "language": "python",
     "metadata": {},
     "outputs": [
      {
       "output_type": "stream",
       "stream": "stdout",
       "text": [
        "/users/11765519/favorites\n",
        "/users/4499457/favorites"
       ]
      },
      {
       "output_type": "stream",
       "stream": "stdout",
       "text": [
        "\n",
        "/users/53741571/favorites"
       ]
      },
      {
       "output_type": "stream",
       "stream": "stdout",
       "text": [
        "\n",
        "/users/103002120/favorites"
       ]
      },
      {
       "output_type": "stream",
       "stream": "stdout",
       "text": [
        "\n",
        "/users/1466378/favorites"
       ]
      },
      {
       "output_type": "stream",
       "stream": "stdout",
       "text": [
        "\n",
        "/users/1540109/favorites"
       ]
      },
      {
       "output_type": "stream",
       "stream": "stdout",
       "text": [
        "\n",
        "/users/16017427/favorites"
       ]
      },
      {
       "output_type": "stream",
       "stream": "stdout",
       "text": [
        "\n",
        "/users/54333460/favorites"
       ]
      },
      {
       "output_type": "stream",
       "stream": "stdout",
       "text": [
        "\n",
        "/users/16463893/favorites"
       ]
      },
      {
       "output_type": "stream",
       "stream": "stdout",
       "text": [
        "\n",
        "/users/6940695/favorites"
       ]
      },
      {
       "output_type": "stream",
       "stream": "stdout",
       "text": [
        "\n",
        "10"
       ]
      },
      {
       "output_type": "stream",
       "stream": "stdout",
       "text": [
        " 0.857726\n",
        "/users/5709850/favorites\n",
        "/users/32323615/favorites"
       ]
      },
      {
       "output_type": "stream",
       "stream": "stdout",
       "text": [
        "\n",
        "/users/12253216/favorites"
       ]
      },
      {
       "output_type": "stream",
       "stream": "stdout",
       "text": [
        "\n",
        "/users/54885040/favorites"
       ]
      },
      {
       "output_type": "stream",
       "stream": "stdout",
       "text": [
        "\n",
        "/users/5736482/favorites"
       ]
      },
      {
       "output_type": "stream",
       "stream": "stdout",
       "text": [
        "\n",
        "/users/602148/favorites"
       ]
      },
      {
       "output_type": "stream",
       "stream": "stdout",
       "text": [
        "\n",
        "/users/7284774/favorites"
       ]
      },
      {
       "output_type": "stream",
       "stream": "stdout",
       "text": [
        "\n",
        "/users/6848177/favorites"
       ]
      },
      {
       "output_type": "stream",
       "stream": "stdout",
       "text": [
        "\n",
        "/users/68831272/favorites"
       ]
      },
      {
       "output_type": "stream",
       "stream": "stdout",
       "text": [
        "\n",
        "/users/29094236/favorites"
       ]
      },
      {
       "output_type": "stream",
       "stream": "stdout",
       "text": [
        "\n",
        "20"
       ]
      },
      {
       "output_type": "stream",
       "stream": "stdout",
       "text": [
        " 1.403159\n",
        "/users/29243439/favorites\n",
        "/users/4452400/favorites"
       ]
      },
      {
       "output_type": "stream",
       "stream": "stdout",
       "text": [
        "\n",
        "/users/59754545/favorites"
       ]
      },
      {
       "output_type": "stream",
       "stream": "stdout",
       "text": [
        "\n",
        "/users/13481411/favorites"
       ]
      },
      {
       "output_type": "stream",
       "stream": "stdout",
       "text": [
        "\n",
        "/users/23108909/favorites"
       ]
      },
      {
       "output_type": "stream",
       "stream": "stdout",
       "text": [
        "\n",
        "/users/58200118/favorites"
       ]
      },
      {
       "output_type": "stream",
       "stream": "stdout",
       "text": [
        "\n",
        "/users/5850589/favorites"
       ]
      },
      {
       "output_type": "stream",
       "stream": "stdout",
       "text": [
        "\n",
        "/users/4632637/favorites"
       ]
      },
      {
       "output_type": "stream",
       "stream": "stdout",
       "text": [
        "\n",
        "/users/67294901/favorites"
       ]
      },
      {
       "output_type": "stream",
       "stream": "stdout",
       "text": [
        "\n",
        "/users/5947456/favorites"
       ]
      },
      {
       "output_type": "stream",
       "stream": "stdout",
       "text": [
        "\n",
        "30"
       ]
      },
      {
       "output_type": "stream",
       "stream": "stdout",
       "text": [
        " 1.295851\n",
        "/users/8259649/favorites\n",
        "/users/42356802/favorites"
       ]
      },
      {
       "output_type": "stream",
       "stream": "stdout",
       "text": [
        "\n",
        "/users/31770691/favorites"
       ]
      },
      {
       "output_type": "stream",
       "stream": "stdout",
       "text": [
        "\n",
        "/users/8415301/favorites"
       ]
      },
      {
       "output_type": "stream",
       "stream": "stdout",
       "text": [
        "\n",
        "/users/54814791/favorites"
       ]
      },
      {
       "output_type": "stream",
       "stream": "stdout",
       "text": [
        "\n",
        "/users/71737417/favorites"
       ]
      },
      {
       "output_type": "stream",
       "stream": "stdout",
       "text": [
        "\n",
        "/users/90459800/favorites"
       ]
      },
      {
       "output_type": "stream",
       "stream": "stdout",
       "text": [
        "\n",
        "/users/7467083/favorites"
       ]
      },
      {
       "output_type": "stream",
       "stream": "stdout",
       "text": [
        "\n",
        "/users/9543756/favorites"
       ]
      },
      {
       "output_type": "stream",
       "stream": "stdout",
       "text": [
        "\n",
        "/users/13280610/favorites"
       ]
      },
      {
       "output_type": "stream",
       "stream": "stdout",
       "text": [
        "\n",
        "40"
       ]
      },
      {
       "output_type": "stream",
       "stream": "stdout",
       "text": [
        " 1.083171\n",
        "/users/19624015/favorites\n",
        "/users/11315281/favorites"
       ]
      },
      {
       "output_type": "stream",
       "stream": "stdout",
       "text": [
        "\n",
        "/users/13816846/favorites"
       ]
      },
      {
       "output_type": "stream",
       "stream": "stdout",
       "text": [
        "\n",
        "/users/9339236/favorites"
       ]
      },
      {
       "output_type": "stream",
       "stream": "stdout",
       "text": [
        "\n",
        "/users/62353501/favorites"
       ]
      },
      {
       "output_type": "stream",
       "stream": "stdout",
       "text": [
        "\n",
        "/users/7673648/favorites"
       ]
      },
      {
       "output_type": "stream",
       "stream": "stdout",
       "text": [
        "\n",
        "/users/1826912/favorites"
       ]
      },
      {
       "output_type": "stream",
       "stream": "stdout",
       "text": [
        "\n",
        "/users/11828701/favorites"
       ]
      },
      {
       "output_type": "stream",
       "stream": "stdout",
       "text": [
        "\n",
        "/users/4946119/favorites"
       ]
      },
      {
       "output_type": "stream",
       "stream": "stdout",
       "text": [
        "\n",
        "/users/2918708/favorites"
       ]
      },
      {
       "output_type": "stream",
       "stream": "stdout",
       "text": [
        "\n",
        "50"
       ]
      },
      {
       "output_type": "stream",
       "stream": "stdout",
       "text": [
        " 0.929575\n",
        "/users/15110250/favorites\n",
        "/users/36644977/favorites"
       ]
      },
      {
       "output_type": "stream",
       "stream": "stdout",
       "text": [
        "\n",
        "/users/694386/favorites"
       ]
      },
      {
       "output_type": "stream",
       "stream": "stdout",
       "text": [
        "\n",
        "/users/14483571/favorites"
       ]
      },
      {
       "output_type": "stream",
       "stream": "stdout",
       "text": [
        "\n",
        "/users/3868788/favorites"
       ]
      },
      {
       "output_type": "stream",
       "stream": "stdout",
       "text": [
        "\n",
        "/users/113449079/favorites"
       ]
      },
      {
       "output_type": "stream",
       "stream": "stdout",
       "text": [
        "\n",
        "/users/44243066/favorites"
       ]
      },
      {
       "output_type": "stream",
       "stream": "stdout",
       "text": [
        "\n",
        "/users/6465660/favorites"
       ]
      },
      {
       "output_type": "stream",
       "stream": "stdout",
       "text": [
        "\n",
        "/users/43468925/favorites"
       ]
      },
      {
       "output_type": "stream",
       "stream": "stdout",
       "text": [
        "\n",
        "/users/17367170/favorites"
       ]
      },
      {
       "output_type": "stream",
       "stream": "stdout",
       "text": [
        "\n",
        "60"
       ]
      },
      {
       "output_type": "stream",
       "stream": "stdout",
       "text": [
        " 1.486932\n",
        "/users/67821700/favorites\n",
        "/users/12441736/favorites"
       ]
      },
      {
       "output_type": "stream",
       "stream": "stdout",
       "text": [
        "\n",
        "/users/56924303/favorites"
       ]
      },
      {
       "output_type": "stream",
       "stream": "stdout",
       "text": [
        "\n",
        "/users/61175953/favorites"
       ]
      },
      {
       "output_type": "stream",
       "stream": "stdout",
       "text": [
        "\n",
        "/users/25737364/favorites"
       ]
      },
      {
       "output_type": "stream",
       "stream": "stdout",
       "text": [
        "\n",
        "/users/66150549/favorites"
       ]
      },
      {
       "output_type": "stream",
       "stream": "stdout",
       "text": [
        "\n",
        "/users/4346006/favorites"
       ]
      },
      {
       "output_type": "stream",
       "stream": "stdout",
       "text": [
        "\n",
        "/users/271254/favorites"
       ]
      },
      {
       "output_type": "stream",
       "stream": "stdout",
       "text": [
        "\n",
        "/users/8007838/favorites"
       ]
      },
      {
       "output_type": "stream",
       "stream": "stdout",
       "text": [
        "\n",
        "/users/28879008/favorites"
       ]
      },
      {
       "output_type": "stream",
       "stream": "stdout",
       "text": [
        "\n",
        "70"
       ]
      },
      {
       "output_type": "stream",
       "stream": "stdout",
       "text": [
        " 0.86631\n",
        "/users/5265569/favorites\n",
        "/users/34080930/favorites"
       ]
      },
      {
       "output_type": "stream",
       "stream": "stdout",
       "text": [
        "\n",
        "/users/91699364/favorites"
       ]
      },
      {
       "output_type": "stream",
       "stream": "stdout",
       "text": [
        "\n",
        "/users/16214726/favorites"
       ]
      },
      {
       "output_type": "stream",
       "stream": "stdout",
       "text": [
        "\n",
        "/users/42681713/favorites"
       ]
      },
      {
       "output_type": "stream",
       "stream": "stdout",
       "text": [
        "\n",
        "/users/50030764/favorites"
       ]
      },
      {
       "output_type": "stream",
       "stream": "stdout",
       "text": [
        "\n",
        "/users/38799536/favorites"
       ]
      },
      {
       "output_type": "stream",
       "stream": "stdout",
       "text": [
        "\n",
        "/users/2928821/favorites"
       ]
      },
      {
       "output_type": "stream",
       "stream": "stdout",
       "text": [
        "\n",
        "/users/4503241/favorites"
       ]
      },
      {
       "output_type": "stream",
       "stream": "stdout",
       "text": [
        "\n",
        "/users/20272314/favorites"
       ]
      },
      {
       "output_type": "stream",
       "stream": "stdout",
       "text": [
        "\n",
        "80"
       ]
      },
      {
       "output_type": "stream",
       "stream": "stdout",
       "text": [
        " 1.072511\n",
        "/users/12436852/favorites\n",
        "/users/50867914/favorites"
       ]
      },
      {
       "output_type": "stream",
       "stream": "stdout",
       "text": [
        "\n",
        "/users/119650494/favorites"
       ]
      },
      {
       "output_type": "stream",
       "stream": "stdout",
       "text": [
        "\n",
        "/users/63129791/favorites"
       ]
      },
      {
       "output_type": "stream",
       "stream": "stdout",
       "text": [
        "\n",
        "/users/1457756/favorites"
       ]
      },
      {
       "output_type": "stream",
       "stream": "stdout",
       "text": [
        "\n",
        "/users/72351937/favorites"
       ]
      },
      {
       "output_type": "stream",
       "stream": "stdout",
       "text": [
        "\n",
        "/users/34078915/favorites"
       ]
      },
      {
       "output_type": "stream",
       "stream": "stdout",
       "text": [
        "\n",
        "/users/8908996/favorites"
       ]
      },
      {
       "output_type": "stream",
       "stream": "stdout",
       "text": [
        "\n",
        "/users/13527239/favorites"
       ]
      },
      {
       "output_type": "stream",
       "stream": "stdout",
       "text": [
        "\n",
        "/users/21953912/favorites"
       ]
      },
      {
       "output_type": "stream",
       "stream": "stdout",
       "text": [
        "\n",
        "90"
       ]
      },
      {
       "output_type": "stream",
       "stream": "stdout",
       "text": [
        " 0.919365\n",
        "/users/12810450/favorites\n",
        "/users/18426068/favorites"
       ]
      },
      {
       "output_type": "stream",
       "stream": "stdout",
       "text": [
        "\n",
        "/users/53827797/favorites"
       ]
      },
      {
       "output_type": "stream",
       "stream": "stdout",
       "text": [
        "\n",
        "/users/19769558/favorites"
       ]
      },
      {
       "output_type": "stream",
       "stream": "stdout",
       "text": [
        "\n",
        "/users/32323799/favorites"
       ]
      },
      {
       "output_type": "stream",
       "stream": "stdout",
       "text": [
        "\n",
        "/users/38736088/favorites"
       ]
      },
      {
       "output_type": "stream",
       "stream": "stdout",
       "text": [
        "\n",
        "/users/25366564/favorites"
       ]
      },
      {
       "output_type": "stream",
       "stream": "stdout",
       "text": [
        "\n",
        "/users/37390555/favorites"
       ]
      },
      {
       "output_type": "stream",
       "stream": "stdout",
       "text": [
        "\n",
        "/users/9066720/favorites"
       ]
      },
      {
       "output_type": "stream",
       "stream": "stdout",
       "text": [
        "\n",
        "/users/48609507/favorites"
       ]
      },
      {
       "output_type": "stream",
       "stream": "stdout",
       "text": [
        "\n",
        "100"
       ]
      },
      {
       "output_type": "stream",
       "stream": "stdout",
       "text": [
        " 0.839556\n",
        "/users/1462505/favorites\n",
        "/users/52687084/favorites"
       ]
      },
      {
       "output_type": "stream",
       "stream": "stdout",
       "text": [
        "\n",
        "/users/14102765/favorites"
       ]
      },
      {
       "output_type": "stream",
       "stream": "stdout",
       "text": [
        "\n",
        "/users/102967535/favorites"
       ]
      },
      {
       "output_type": "stream",
       "stream": "stdout",
       "text": [
        "\n",
        "/users/7280880/favorites"
       ]
      },
      {
       "output_type": "stream",
       "stream": "stdout",
       "text": [
        "\n",
        "/users/14624940/favorites"
       ]
      },
      {
       "output_type": "stream",
       "stream": "stdout",
       "text": [
        "\n",
        "/users/7520499/favorites"
       ]
      },
      {
       "output_type": "stream",
       "stream": "stdout",
       "text": [
        "\n",
        "/users/9613556/favorites"
       ]
      },
      {
       "output_type": "stream",
       "stream": "stdout",
       "text": [
        "\n",
        "/users/42313979/favorites"
       ]
      },
      {
       "output_type": "stream",
       "stream": "stdout",
       "text": [
        "\n",
        "/users/38226175/favorites"
       ]
      },
      {
       "output_type": "stream",
       "stream": "stdout",
       "text": [
        "\n",
        "110"
       ]
      },
      {
       "output_type": "stream",
       "stream": "stdout",
       "text": [
        " 0.674287\n",
        "/users/16618034/favorites\n",
        "/users/10799364/favorites"
       ]
      },
      {
       "output_type": "stream",
       "stream": "stdout",
       "text": [
        "\n",
        "/users/19532037/favorites"
       ]
      },
      {
       "output_type": "stream",
       "stream": "stdout",
       "text": [
        "\n",
        "/users/5091598/favorites"
       ]
      },
      {
       "output_type": "stream",
       "stream": "stdout",
       "text": [
        "\n",
        "/users/5992720/favorites"
       ]
      },
      {
       "output_type": "stream",
       "stream": "stdout",
       "text": [
        "\n",
        "/users/69081364/favorites"
       ]
      },
      {
       "output_type": "stream",
       "stream": "stdout",
       "text": [
        "\n",
        "/users/9050389/favorites"
       ]
      },
      {
       "output_type": "stream",
       "stream": "stdout",
       "text": [
        "\n",
        "/users/5239063/favorites"
       ]
      },
      {
       "output_type": "stream",
       "stream": "stdout",
       "text": [
        "\n",
        "/users/73263384/favorites"
       ]
      },
      {
       "output_type": "stream",
       "stream": "stdout",
       "text": [
        "\n",
        "/users/24299801/favorites"
       ]
      },
      {
       "output_type": "stream",
       "stream": "stdout",
       "text": [
        "\n",
        "120"
       ]
      },
      {
       "output_type": "stream",
       "stream": "stdout",
       "text": [
        " 1.568618\n",
        "/users/113088797/favorites\n",
        "/users/4235653/favorites"
       ]
      },
      {
       "output_type": "stream",
       "stream": "stdout",
       "text": [
        "\n",
        "/users/60213536/favorites"
       ]
      },
      {
       "output_type": "stream",
       "stream": "stdout",
       "text": [
        "\n",
        "/users/30298401/favorites"
       ]
      },
      {
       "output_type": "stream",
       "stream": "stdout",
       "text": [
        "\n",
        "/users/3410213/favorites"
       ]
      },
      {
       "output_type": "stream",
       "stream": "stdout",
       "text": [
        "\n",
        "/users/51736625/favorites"
       ]
      },
      {
       "output_type": "stream",
       "stream": "stdout",
       "text": [
        "\n",
        "/users/48630057/favorites"
       ]
      },
      {
       "output_type": "stream",
       "stream": "stdout",
       "text": [
        "\n",
        "/users/3944747/favorites"
       ]
      },
      {
       "output_type": "stream",
       "stream": "stdout",
       "text": [
        "\n",
        "/users/13132076/favorites"
       ]
      },
      {
       "output_type": "stream",
       "stream": "stdout",
       "text": [
        "\n",
        "/users/8345906/favorites"
       ]
      },
      {
       "output_type": "stream",
       "stream": "stdout",
       "text": [
        "\n",
        "130"
       ]
      },
      {
       "output_type": "stream",
       "stream": "stdout",
       "text": [
        " 1.315871\n",
        "/users/47483187/favorites\n",
        "/users/31656244/favorites"
       ]
      },
      {
       "output_type": "stream",
       "stream": "stdout",
       "text": [
        "\n",
        "/users/59846966/favorites"
       ]
      },
      {
       "output_type": "stream",
       "stream": "stdout",
       "text": [
        "\n",
        "/users/18489655/favorites"
       ]
      },
      {
       "output_type": "stream",
       "stream": "stdout",
       "text": [
        "\n",
        "/users/16185656/favorites"
       ]
      },
      {
       "output_type": "stream",
       "stream": "stdout",
       "text": [
        "\n",
        "/users/27500859/favorites"
       ]
      },
      {
       "output_type": "stream",
       "stream": "stdout",
       "text": [
        "\n",
        "/users/50886972/favorites"
       ]
      },
      {
       "output_type": "stream",
       "stream": "stdout",
       "text": [
        "\n",
        "/users/15049021/favorites"
       ]
      },
      {
       "output_type": "stream",
       "stream": "stdout",
       "text": [
        "\n",
        "/users/1462596/favorites"
       ]
      },
      {
       "output_type": "stream",
       "stream": "stdout",
       "text": [
        "\n",
        "/users/39493957/favorites"
       ]
      },
      {
       "output_type": "stream",
       "stream": "stdout",
       "text": [
        "\n",
        "140"
       ]
      },
      {
       "output_type": "stream",
       "stream": "stdout",
       "text": [
        " 1.343235\n",
        "/users/56375622/favorites\n",
        "/users/9265889/favorites"
       ]
      },
      {
       "output_type": "stream",
       "stream": "stdout",
       "text": [
        "\n",
        "/users/40351092/favorites"
       ]
      },
      {
       "output_type": "stream",
       "stream": "stdout",
       "text": [
        "\n",
        "/users/30583115/favorites"
       ]
      },
      {
       "output_type": "stream",
       "stream": "stdout",
       "text": [
        "\n",
        "/users/53578060/favorites"
       ]
      },
      {
       "output_type": "stream",
       "stream": "stdout",
       "text": [
        "\n",
        "/users/45210680/favorites"
       ]
      },
      {
       "output_type": "stream",
       "stream": "stdout",
       "text": [
        "\n",
        "/users/22264547/favorites"
       ]
      },
      {
       "output_type": "stream",
       "stream": "stdout",
       "text": [
        "\n",
        "/users/438612/favorites"
       ]
      },
      {
       "output_type": "stream",
       "stream": "stdout",
       "text": [
        "\n",
        "/users/7014744/favorites"
       ]
      },
      {
       "output_type": "stream",
       "stream": "stdout",
       "text": [
        "\n",
        "/users/614746/favorites"
       ]
      },
      {
       "output_type": "stream",
       "stream": "stdout",
       "text": [
        "\n",
        "150"
       ]
      },
      {
       "output_type": "stream",
       "stream": "stdout",
       "text": [
        " 1.061213\n",
        "/users/1065308/favorites\n",
        "/users/4760953/favorites"
       ]
      },
      {
       "output_type": "stream",
       "stream": "stdout",
       "text": [
        "\n",
        "/users/36516192/favorites"
       ]
      },
      {
       "output_type": "stream",
       "stream": "stdout",
       "text": [
        "\n",
        "/users/46420322/favorites"
       ]
      },
      {
       "output_type": "stream",
       "stream": "stdout",
       "text": [
        "\n",
        "/users/28981603/favorites"
       ]
      },
      {
       "output_type": "stream",
       "stream": "stdout",
       "text": [
        "\n",
        "/users/101622116/favorites"
       ]
      },
      {
       "output_type": "stream",
       "stream": "stdout",
       "text": [
        "\n",
        "/users/9095528/favorites"
       ]
      },
      {
       "output_type": "stream",
       "stream": "stdout",
       "text": [
        "\n",
        "/users/42043755/favorites"
       ]
      },
      {
       "output_type": "stream",
       "stream": "stdout",
       "text": [
        "\n",
        "/users/20226416/favorites"
       ]
      },
      {
       "output_type": "stream",
       "stream": "stdout",
       "text": [
        "\n",
        "/users/13619554/favorites"
       ]
      },
      {
       "output_type": "stream",
       "stream": "stdout",
       "text": [
        "\n",
        "160"
       ]
      },
      {
       "output_type": "stream",
       "stream": "stdout",
       "text": [
        " 1.142588\n",
        "/users/66468213/favorites\n",
        "/users/17543542/favorites"
       ]
      },
      {
       "output_type": "stream",
       "stream": "stdout",
       "text": [
        "\n",
        "/users/7883129/favorites"
       ]
      },
      {
       "output_type": "stream",
       "stream": "stdout",
       "text": [
        "\n",
        "/users/4067706/favorites"
       ]
      },
      {
       "output_type": "stream",
       "stream": "stdout",
       "text": [
        "\n",
        "/users/61628795/favorites"
       ]
      },
      {
       "output_type": "stream",
       "stream": "stdout",
       "text": [
        "\n",
        "/users/13619946/favorites"
       ]
      },
      {
       "output_type": "stream",
       "stream": "stdout",
       "text": [
        "\n",
        "/users/22552960/favorites"
       ]
      },
      {
       "output_type": "stream",
       "stream": "stdout",
       "text": [
        "\n",
        "/users/114338177/favorites"
       ]
      },
      {
       "output_type": "stream",
       "stream": "stdout",
       "text": [
        "\n",
        "/users/28760452/favorites"
       ]
      },
      {
       "output_type": "stream",
       "stream": "stdout",
       "text": [
        "\n",
        "/users/450949/favorites"
       ]
      },
      {
       "output_type": "stream",
       "stream": "stdout",
       "text": [
        "\n",
        "170"
       ]
      },
      {
       "output_type": "stream",
       "stream": "stdout",
       "text": [
        " 0.908086\n",
        "/users/41312646/favorites\n",
        "/users/22178183/favorites"
       ]
      },
      {
       "output_type": "stream",
       "stream": "stdout",
       "text": [
        "\n",
        "/users/125105900/favorites"
       ]
      },
      {
       "output_type": "stream",
       "stream": "stdout",
       "text": [
        "\n",
        "/users/19206540/favorites"
       ]
      },
      {
       "output_type": "stream",
       "stream": "stdout",
       "text": [
        "\n",
        "/users/3062157/favorites"
       ]
      },
      {
       "output_type": "stream",
       "stream": "stdout",
       "text": [
        "\n",
        "/users/14316611/favorites"
       ]
      },
      {
       "output_type": "stream",
       "stream": "stdout",
       "text": [
        "\n",
        "/users/25983380/favorites"
       ]
      },
      {
       "output_type": "stream",
       "stream": "stdout",
       "text": [
        "\n",
        "/users/13963674/favorites"
       ]
      },
      {
       "output_type": "stream",
       "stream": "stdout",
       "text": [
        "\n",
        "/users/50940317/favorites"
       ]
      },
      {
       "output_type": "stream",
       "stream": "stdout",
       "text": [
        "\n",
        "/users/36581786/favorites"
       ]
      },
      {
       "output_type": "stream",
       "stream": "stdout",
       "text": [
        "\n",
        "180"
       ]
      },
      {
       "output_type": "stream",
       "stream": "stdout",
       "text": [
        " 0.922138\n",
        "/users/27505055/favorites\n",
        "/users/12757409/favorites"
       ]
      },
      {
       "output_type": "stream",
       "stream": "stdout",
       "text": [
        "\n",
        "/users/44974498/favorites"
       ]
      },
      {
       "output_type": "stream",
       "stream": "stdout",
       "text": [
        "\n",
        "/users/9351588/favorites"
       ]
      },
      {
       "output_type": "stream",
       "stream": "stdout",
       "text": [
        "\n",
        "/users/86174118/favorites"
       ]
      },
      {
       "output_type": "stream",
       "stream": "stdout",
       "text": [
        "\n",
        "/users/39405991/favorites"
       ]
      },
      {
       "output_type": "stream",
       "stream": "stdout",
       "text": [
        "\n",
        "/users/10940840/favorites"
       ]
      },
      {
       "output_type": "stream",
       "stream": "stdout",
       "text": [
        "\n",
        "/users/94689441/favorites"
       ]
      },
      {
       "output_type": "stream",
       "stream": "stdout",
       "text": [
        "\n",
        "/users/61407659/favorites"
       ]
      },
      {
       "output_type": "stream",
       "stream": "stdout",
       "text": [
        "\n",
        "/users/13869484/favorites"
       ]
      },
      {
       "output_type": "stream",
       "stream": "stdout",
       "text": [
        "\n",
        "190"
       ]
      },
      {
       "output_type": "stream",
       "stream": "stdout",
       "text": [
        " 1.069577\n",
        "/users/52196148/favorites\n",
        "/users/58789619/favorites"
       ]
      },
      {
       "output_type": "stream",
       "stream": "stdout",
       "text": [
        "\n",
        "/users/40726965/favorites"
       ]
      },
      {
       "output_type": "stream",
       "stream": "stdout",
       "text": [
        "\n",
        "/users/12857782/favorites"
       ]
      },
      {
       "output_type": "stream",
       "stream": "stdout",
       "text": [
        "\n",
        "/users/17222072/favorites"
       ]
      },
      {
       "output_type": "stream",
       "stream": "stdout",
       "text": [
        "\n",
        "/users/11768251/favorites"
       ]
      },
      {
       "output_type": "stream",
       "stream": "stdout",
       "text": [
        "\n",
        "/users/72280510/favorites"
       ]
      },
      {
       "output_type": "stream",
       "stream": "stdout",
       "text": [
        "\n",
        "/users/18323906/favorites"
       ]
      },
      {
       "output_type": "stream",
       "stream": "stdout",
       "text": [
        "\n",
        "/users/30751173/favorites"
       ]
      },
      {
       "output_type": "stream",
       "stream": "stdout",
       "text": [
        "\n",
        "/users/110711239/favorites"
       ]
      },
      {
       "output_type": "stream",
       "stream": "stdout",
       "text": [
        "\n",
        "200"
       ]
      },
      {
       "output_type": "stream",
       "stream": "stdout",
       "text": [
        " 0.976617\n",
        "/users/46391756/favorites\n",
        "/users/52081058/favorites"
       ]
      },
      {
       "output_type": "stream",
       "stream": "stdout",
       "text": [
        "\n",
        "/users/105175502/favorites"
       ]
      },
      {
       "output_type": "stream",
       "stream": "stdout",
       "text": [
        "\n",
        "/users/20590380/favorites"
       ]
      },
      {
       "output_type": "stream",
       "stream": "stdout",
       "text": [
        "\n",
        "/users/94632401/favorites"
       ]
      },
      {
       "output_type": "stream",
       "stream": "stdout",
       "text": [
        "\n",
        "/users/31459797/favorites"
       ]
      },
      {
       "output_type": "stream",
       "stream": "stdout",
       "text": [
        "\n",
        "/users/84799958/favorites"
       ]
      },
      {
       "output_type": "stream",
       "stream": "stdout",
       "text": [
        "\n",
        "/users/11975129/favorites"
       ]
      },
      {
       "output_type": "stream",
       "stream": "stdout",
       "text": [
        "\n",
        "/users/69392858/favorites"
       ]
      },
      {
       "output_type": "stream",
       "stream": "stdout",
       "text": [
        "\n",
        "/users/10301915/favorites"
       ]
      },
      {
       "output_type": "stream",
       "stream": "stdout",
       "text": [
        "\n",
        "210"
       ]
      },
      {
       "output_type": "stream",
       "stream": "stdout",
       "text": [
        " 1.037764\n",
        "/users/26614236/favorites\n",
        "/users/122797477/favorites"
       ]
      },
      {
       "output_type": "stream",
       "stream": "stdout",
       "text": [
        "\n",
        "/users/51446243/favorites"
       ]
      },
      {
       "output_type": "stream",
       "stream": "stdout",
       "text": [
        "\n",
        "/users/45023719/favorites"
       ]
      },
      {
       "output_type": "stream",
       "stream": "stdout",
       "text": [
        "\n",
        "/users/13431274/favorites"
       ]
      },
      {
       "output_type": "stream",
       "stream": "stdout",
       "text": [
        "\n",
        "/users/47305127/favorites"
       ]
      },
      {
       "output_type": "stream",
       "stream": "stdout",
       "text": [
        "\n",
        "/users/11739632/favorites"
       ]
      },
      {
       "output_type": "stream",
       "stream": "stdout",
       "text": [
        "\n",
        "/users/969202/favorites"
       ]
      },
      {
       "output_type": "stream",
       "stream": "stdout",
       "text": [
        "\n",
        "/users/109629944/favorites"
       ]
      },
      {
       "output_type": "stream",
       "stream": "stdout",
       "text": [
        "\n",
        "/users/154108/favorites"
       ]
      },
      {
       "output_type": "stream",
       "stream": "stdout",
       "text": [
        "\n",
        "220"
       ]
      },
      {
       "output_type": "stream",
       "stream": "stdout",
       "text": [
        " 0.954986\n",
        "/users/14725758/favorites\n",
        "/users/13867093/favorites"
       ]
      },
      {
       "output_type": "stream",
       "stream": "stdout",
       "text": [
        "\n",
        "/users/29061634/favorites"
       ]
      },
      {
       "output_type": "stream",
       "stream": "stdout",
       "text": [
        "\n",
        "/users/14207492/favorites"
       ]
      },
      {
       "output_type": "stream",
       "stream": "stdout",
       "text": [
        "\n",
        "/users/59161096/favorites"
       ]
      },
      {
       "output_type": "stream",
       "stream": "stdout",
       "text": [
        "\n",
        "/users/38808073/favorites"
       ]
      },
      {
       "output_type": "stream",
       "stream": "stdout",
       "text": [
        "\n",
        "/users/22092298/favorites"
       ]
      },
      {
       "output_type": "stream",
       "stream": "stdout",
       "text": [
        "\n",
        "/users/103363083/favorites"
       ]
      },
      {
       "output_type": "stream",
       "stream": "stdout",
       "text": [
        "\n",
        "/users/5147149/favorites"
       ]
      },
      {
       "output_type": "stream",
       "stream": "stdout",
       "text": [
        "\n",
        "/users/54288911/favorites"
       ]
      },
      {
       "output_type": "stream",
       "stream": "stdout",
       "text": [
        "\n",
        "230"
       ]
      },
      {
       "output_type": "stream",
       "stream": "stdout",
       "text": [
        " 1.677162\n",
        "/users/92262928/favorites\n",
        "/users/20838929/favorites"
       ]
      },
      {
       "output_type": "stream",
       "stream": "stdout",
       "text": [
        "\n",
        "/users/85977618/favorites"
       ]
      },
      {
       "output_type": "stream",
       "stream": "stdout",
       "text": [
        "\n",
        "/users/86743571/favorites"
       ]
      },
      {
       "output_type": "stream",
       "stream": "stdout",
       "text": [
        "\n",
        "/users/34928046/favorites"
       ]
      },
      {
       "output_type": "stream",
       "stream": "stdout",
       "text": [
        "\n",
        "/users/37095960/favorites"
       ]
      },
      {
       "output_type": "stream",
       "stream": "stdout",
       "text": [
        "\n",
        "/users/1350169/favorites"
       ]
      },
      {
       "output_type": "stream",
       "stream": "stdout",
       "text": [
        "\n",
        "/users/88001050/favorites"
       ]
      },
      {
       "output_type": "stream",
       "stream": "stdout",
       "text": [
        "\n",
        "/users/30855711/favorites"
       ]
      },
      {
       "output_type": "stream",
       "stream": "stdout",
       "text": [
        "\n",
        "/users/30177825/favorites"
       ]
      },
      {
       "output_type": "stream",
       "stream": "stdout",
       "text": [
        "\n",
        "240"
       ]
      },
      {
       "output_type": "stream",
       "stream": "stdout",
       "text": [
        " 1.644681\n",
        "/users/29090343/favorites\n",
        "/users/37023837/favorites"
       ]
      },
      {
       "output_type": "stream",
       "stream": "stdout",
       "text": [
        "\n",
        "/users/31842864/favorites"
       ]
      },
      {
       "output_type": "stream",
       "stream": "stdout",
       "text": [
        "\n",
        "/users/15270449/favorites"
       ]
      },
      {
       "output_type": "stream",
       "stream": "stdout",
       "text": [
        "\n",
        "/users/63935026/favorites"
       ]
      },
      {
       "output_type": "stream",
       "stream": "stdout",
       "text": [
        "\n",
        "/users/9120307/favorites"
       ]
      },
      {
       "output_type": "stream",
       "stream": "stdout",
       "text": [
        "\n",
        "/users/16691767/favorites"
       ]
      },
      {
       "output_type": "stream",
       "stream": "stdout",
       "text": [
        "\n",
        "/users/77277752/favorites"
       ]
      },
      {
       "output_type": "stream",
       "stream": "stdout",
       "text": [
        "\n",
        "/users/23931453/favorites"
       ]
      },
      {
       "output_type": "stream",
       "stream": "stdout",
       "text": [
        "\n",
        "/users/17541694/favorites"
       ]
      },
      {
       "output_type": "stream",
       "stream": "stdout",
       "text": [
        "\n",
        "250"
       ]
      },
      {
       "output_type": "stream",
       "stream": "stdout",
       "text": [
        " 0.712448\n",
        "/users/32336448/favorites\n",
        "/users/27640386/favorites"
       ]
      },
      {
       "output_type": "stream",
       "stream": "stdout",
       "text": [
        "\n",
        "/users/78236227/favorites"
       ]
      },
      {
       "output_type": "stream",
       "stream": "stdout",
       "text": [
        "\n",
        "/users/54274629/favorites"
       ]
      },
      {
       "output_type": "stream",
       "stream": "stdout",
       "text": [
        "\n",
        "/users/103363144/favorites"
       ]
      },
      {
       "output_type": "stream",
       "stream": "stdout",
       "text": [
        "\n",
        "/users/20222537/favorites"
       ]
      },
      {
       "output_type": "stream",
       "stream": "stdout",
       "text": [
        "\n",
        "/users/21226250/favorites"
       ]
      },
      {
       "output_type": "stream",
       "stream": "stdout",
       "text": [
        "\n",
        "/users/4450891/favorites"
       ]
      },
      {
       "output_type": "stream",
       "stream": "stdout",
       "text": [
        "\n",
        "/users/202850/favorites"
       ]
      },
      {
       "output_type": "stream",
       "stream": "stdout",
       "text": [
        "\n",
        "/users/15561294/favorites"
       ]
      },
      {
       "output_type": "stream",
       "stream": "stdout",
       "text": [
        "\n",
        "260"
       ]
      },
      {
       "output_type": "stream",
       "stream": "stdout",
       "text": [
        " 1.486921\n",
        "/users/40151634/favorites\n",
        "/users/33143380/favorites"
       ]
      },
      {
       "output_type": "stream",
       "stream": "stdout",
       "text": [
        "\n",
        "/users/90319447/favorites"
       ]
      },
      {
       "output_type": "stream",
       "stream": "stdout",
       "text": [
        "\n",
        "/users/50365019/favorites"
       ]
      },
      {
       "output_type": "stream",
       "stream": "stdout",
       "text": [
        "\n",
        "/users/27482720/favorites"
       ]
      },
      {
       "output_type": "stream",
       "stream": "stdout",
       "text": [
        "\n",
        "/users/10617441/favorites"
       ]
      },
      {
       "output_type": "stream",
       "stream": "stdout",
       "text": [
        "\n",
        "/users/28881507/favorites"
       ]
      },
      {
       "output_type": "stream",
       "stream": "stdout",
       "text": [
        "\n",
        "/users/55129190/favorites"
       ]
      },
      {
       "output_type": "stream",
       "stream": "stdout",
       "text": [
        "\n",
        "/users/28750438/favorites"
       ]
      },
      {
       "output_type": "stream",
       "stream": "stdout",
       "text": [
        "\n",
        "/users/29002344/favorites"
       ]
      },
      {
       "output_type": "stream",
       "stream": "stdout",
       "text": [
        "\n",
        "270"
       ]
      },
      {
       "output_type": "stream",
       "stream": "stdout",
       "text": [
        " 1.134438\n",
        "/users/39582313/favorites\n",
        "/users/14088810/favorites"
       ]
      },
      {
       "output_type": "stream",
       "stream": "stdout",
       "text": [
        "\n",
        "/users/22016619/favorites"
       ]
      },
      {
       "output_type": "stream",
       "stream": "stdout",
       "text": [
        "\n",
        "/users/22024812/favorites"
       ]
      },
      {
       "output_type": "stream",
       "stream": "stdout",
       "text": [
        "\n",
        "/users/24733458/favorites"
       ]
      },
      {
       "output_type": "stream",
       "stream": "stdout",
       "text": [
        "\n",
        "/users/1407601/favorites"
       ]
      },
      {
       "output_type": "stream",
       "stream": "stdout",
       "text": [
        "\n",
        "/users/99361395/favorites"
       ]
      },
      {
       "output_type": "stream",
       "stream": "stdout",
       "text": [
        "\n",
        "/users/57166453/favorites"
       ]
      },
      {
       "output_type": "stream",
       "stream": "stdout",
       "text": [
        "\n",
        "/users/123513/favorites"
       ]
      },
      {
       "output_type": "stream",
       "stream": "stdout",
       "text": [
        "\n",
        "/users/1657466/favorites"
       ]
      },
      {
       "output_type": "stream",
       "stream": "stdout",
       "text": [
        "\n",
        "280"
       ]
      },
      {
       "output_type": "stream",
       "stream": "stdout",
       "text": [
        " 0.873351\n",
        "/users/443003/favorites\n",
        "/users/103201406/favorites"
       ]
      },
      {
       "output_type": "stream",
       "stream": "stdout",
       "text": [
        "\n",
        "/users/35663637/favorites"
       ]
      },
      {
       "output_type": "stream",
       "stream": "stdout",
       "text": [
        "\n",
        "/users/98357889/favorites"
       ]
      },
      {
       "output_type": "stream",
       "stream": "stdout",
       "text": [
        "\n",
        "/users/50135684/favorites"
       ]
      },
      {
       "output_type": "stream",
       "stream": "stdout",
       "text": [
        "\n",
        "/users/87018117/favorites"
       ]
      },
      {
       "output_type": "stream",
       "stream": "stdout",
       "text": [
        "\n",
        "/users/25856647/favorites"
       ]
      },
      {
       "output_type": "stream",
       "stream": "stdout",
       "text": [
        "\n",
        "/users/20990602/favorites"
       ]
      },
      {
       "output_type": "stream",
       "stream": "stdout",
       "text": [
        "\n",
        "/users/1727115/favorites"
       ]
      },
      {
       "output_type": "stream",
       "stream": "stdout",
       "text": [
        "\n",
        "/users/102607502/favorites"
       ]
      },
      {
       "output_type": "stream",
       "stream": "stdout",
       "text": [
        "\n",
        "290"
       ]
      },
      {
       "output_type": "stream",
       "stream": "stdout",
       "text": [
        " 0.623301\n",
        "/users/12452496/favorites\n",
        "/users/7120323/favorites"
       ]
      },
      {
       "output_type": "stream",
       "stream": "stdout",
       "text": [
        "\n",
        "/users/10597012/favorites"
       ]
      },
      {
       "output_type": "stream",
       "stream": "stdout",
       "text": [
        "\n",
        "/users/15422101/favorites"
       ]
      },
      {
       "output_type": "stream",
       "stream": "stdout",
       "text": [
        "\n",
        "/users/5010082/favorites"
       ]
      },
      {
       "output_type": "stream",
       "stream": "stdout",
       "text": [
        "\n",
        "/users/31756953/favorites"
       ]
      },
      {
       "output_type": "stream",
       "stream": "stdout",
       "text": [
        "\n",
        "/users/1245852/favorites"
       ]
      },
      {
       "output_type": "stream",
       "stream": "stdout",
       "text": [
        "\n",
        "/users/74021533/favorites"
       ]
      },
      {
       "output_type": "stream",
       "stream": "stdout",
       "text": [
        "\n",
        "/users/10967711/favorites"
       ]
      },
      {
       "output_type": "stream",
       "stream": "stdout",
       "text": [
        "\n",
        "/users/17013409/favorites"
       ]
      },
      {
       "output_type": "stream",
       "stream": "stdout",
       "text": [
        "\n",
        "300"
       ]
      },
      {
       "output_type": "stream",
       "stream": "stdout",
       "text": [
        " 0.937961\n",
        "/users/16882338/favorites\n",
        "/users/14936747/favorites"
       ]
      },
      {
       "output_type": "stream",
       "stream": "stdout",
       "text": [
        "\n",
        "/users/63261358/favorites"
       ]
      },
      {
       "output_type": "stream",
       "stream": "stdout",
       "text": [
        "\n",
        "/users/90516144/favorites"
       ]
      },
      {
       "output_type": "stream",
       "stream": "stdout",
       "text": [
        "\n",
        "/users/10902643/favorites"
       ]
      },
      {
       "output_type": "stream",
       "stream": "stdout",
       "text": [
        "\n",
        "/users/6607541/favorites"
       ]
      },
      {
       "output_type": "stream",
       "stream": "stdout",
       "text": [
        "\n",
        "/users/49046206/favorites"
       ]
      },
      {
       "output_type": "stream",
       "stream": "stdout",
       "text": [
        "\n",
        "/users/26446528/favorites"
       ]
      },
      {
       "output_type": "stream",
       "stream": "stdout",
       "text": [
        "\n",
        "/users/5765825/favorites"
       ]
      },
      {
       "output_type": "stream",
       "stream": "stdout",
       "text": [
        "\n",
        "/users/104282818/favorites"
       ]
      },
      {
       "output_type": "stream",
       "stream": "stdout",
       "text": [
        "\n",
        "310"
       ]
      },
      {
       "output_type": "stream",
       "stream": "stdout",
       "text": [
        " 0.875901\n",
        "/users/72561349/favorites\n",
        "/users/17058502/favorites"
       ]
      },
      {
       "output_type": "stream",
       "stream": "stdout",
       "text": [
        "\n",
        "/users/49044257/favorites"
       ]
      },
      {
       "output_type": "stream",
       "stream": "stdout",
       "text": [
        "\n",
        "/users/97815242/favorites"
       ]
      },
      {
       "output_type": "stream",
       "stream": "stdout",
       "text": [
        "\n",
        "/users/60129995/favorites"
       ]
      },
      {
       "output_type": "stream",
       "stream": "stdout",
       "text": [
        "\n",
        "/users/13636306/favorites"
       ]
      },
      {
       "output_type": "stream",
       "stream": "stdout",
       "text": [
        "\n",
        "/users/1915603/favorites"
       ]
      },
      {
       "output_type": "stream",
       "stream": "stdout",
       "text": [
        "\n",
        "/users/73865940/favorites"
       ]
      },
      {
       "output_type": "stream",
       "stream": "stdout",
       "text": [
        "\n",
        "/users/49940942/favorites"
       ]
      },
      {
       "output_type": "stream",
       "stream": "stdout",
       "text": [
        "\n",
        "/users/7400154/favorites"
       ]
      },
      {
       "output_type": "stream",
       "stream": "stdout",
       "text": [
        "\n",
        "320"
       ]
      },
      {
       "output_type": "stream",
       "stream": "stdout",
       "text": [
        " 1.433299\n",
        "/users/22348513/favorites\n",
        "/users/48468707/favorites"
       ]
      },
      {
       "output_type": "stream",
       "stream": "stdout",
       "text": [
        "\n",
        "/users/5810917/favorites"
       ]
      },
      {
       "output_type": "stream",
       "stream": "stdout",
       "text": [
        "\n",
        "/users/287463/favorites"
       ]
      },
      {
       "output_type": "stream",
       "stream": "stdout",
       "text": [
        "\n",
        "/users/22444776/favorites"
       ]
      },
      {
       "output_type": "stream",
       "stream": "stdout",
       "text": [
        "\n",
        "/users/7318250/favorites"
       ]
      },
      {
       "output_type": "stream",
       "stream": "stdout",
       "text": [
        "\n",
        "/users/29242104/favorites"
       ]
      },
      {
       "output_type": "stream",
       "stream": "stdout",
       "text": [
        "\n",
        "/users/6060725/favorites"
       ]
      },
      {
       "output_type": "stream",
       "stream": "stdout",
       "text": [
        "\n",
        "/users/75504385/favorites"
       ]
      },
      {
       "output_type": "stream",
       "stream": "stdout",
       "text": [
        "\n",
        "/users/33401602/favorites"
       ]
      },
      {
       "output_type": "stream",
       "stream": "stdout",
       "text": [
        "\n",
        "330"
       ]
      },
      {
       "output_type": "stream",
       "stream": "stdout",
       "text": [
        " 0.349665\n",
        "/users/11834118/favorites\n",
        "/users/16939783/favorites"
       ]
      },
      {
       "output_type": "stream",
       "stream": "stdout",
       "text": [
        "\n",
        "/users/15377196/favorites"
       ]
      },
      {
       "output_type": "stream",
       "stream": "stdout",
       "text": [
        "\n",
        "/users/44434186/favorites"
       ]
      },
      {
       "output_type": "stream",
       "stream": "stdout",
       "text": [
        "\n",
        "/users/19256080/favorites"
       ]
      },
      {
       "output_type": "stream",
       "stream": "stdout",
       "text": [
        "\n",
        "/users/44839697/favorites"
       ]
      },
      {
       "output_type": "stream",
       "stream": "stdout",
       "text": [
        "\n",
        "/users/6245138/favorites"
       ]
      },
      {
       "output_type": "stream",
       "stream": "stdout",
       "text": [
        "\n",
        "/users/59327251/favorites"
       ]
      },
      {
       "output_type": "stream",
       "stream": "stdout",
       "text": [
        "\n",
        "/users/105814805/favorites"
       ]
      },
      {
       "output_type": "stream",
       "stream": "stdout",
       "text": [
        "\n",
        "/users/26336019/favorites"
       ]
      },
      {
       "output_type": "stream",
       "stream": "stdout",
       "text": [
        "\n",
        "340"
       ]
      },
      {
       "output_type": "stream",
       "stream": "stdout",
       "text": [
        " 0.727786\n",
        "/users/70965380/favorites\n",
        "/users/24476442/favorites"
       ]
      },
      {
       "output_type": "stream",
       "stream": "stdout",
       "text": [
        "\n",
        "/users/32740124/favorites"
       ]
      },
      {
       "output_type": "stream",
       "stream": "stdout",
       "text": [
        "\n",
        "/users/18987482/favorites"
       ]
      },
      {
       "output_type": "stream",
       "stream": "stdout",
       "text": [
        "\n",
        "/users/19608350/favorites"
       ]
      },
      {
       "output_type": "stream",
       "stream": "stdout",
       "text": [
        "\n",
        "/users/54772512/favorites"
       ]
      },
      {
       "output_type": "stream",
       "stream": "stdout",
       "text": [
        "\n",
        "/users/50897697/favorites"
       ]
      },
      {
       "output_type": "stream",
       "stream": "stdout",
       "text": [
        "\n",
        "/users/23677733/favorites"
       ]
      },
      {
       "output_type": "stream",
       "stream": "stdout",
       "text": [
        "\n",
        "/users/70929193/favorites"
       ]
      },
      {
       "output_type": "stream",
       "stream": "stdout",
       "text": [
        "\n",
        "/users/22908023/favorites"
       ]
      },
      {
       "output_type": "stream",
       "stream": "stdout",
       "text": [
        "\n",
        "350"
       ]
      },
      {
       "output_type": "stream",
       "stream": "stdout",
       "text": [
        " 0.859463\n",
        "/users/69466924/favorites\n",
        "/users/18791213/favorites"
       ]
      },
      {
       "output_type": "stream",
       "stream": "stdout",
       "text": [
        "\n",
        "/users/23219677/favorites"
       ]
      },
      {
       "output_type": "stream",
       "stream": "stdout",
       "text": [
        "\n",
        "/users/9390497/favorites"
       ]
      },
      {
       "output_type": "stream",
       "stream": "stdout",
       "text": [
        "\n",
        "/users/45136690/favorites"
       ]
      },
      {
       "output_type": "stream",
       "stream": "stdout",
       "text": [
        "\n",
        "/users/40399668/favorites"
       ]
      },
      {
       "output_type": "stream",
       "stream": "stdout",
       "text": [
        "\n",
        "/users/8983689/favorites"
       ]
      },
      {
       "output_type": "stream",
       "stream": "stdout",
       "text": [
        "\n",
        "/users/1289016/favorites"
       ]
      },
      {
       "output_type": "stream",
       "stream": "stdout",
       "text": [
        "\n",
        "/users/44008244/favorites"
       ]
      },
      {
       "output_type": "stream",
       "stream": "stdout",
       "text": [
        "\n",
        "/users/124080954/favorites"
       ]
      },
      {
       "output_type": "stream",
       "stream": "stdout",
       "text": [
        "\n",
        "360"
       ]
      },
      {
       "output_type": "stream",
       "stream": "stdout",
       "text": [
        " 0.331271\n",
        "/users/3748667/favorites\n",
        "/users/20159294/favorites"
       ]
      },
      {
       "output_type": "stream",
       "stream": "stdout",
       "text": [
        "\n",
        "/users/20024129/favorites"
       ]
      },
      {
       "output_type": "stream",
       "stream": "stdout",
       "text": [
        "\n",
        "/users/97901378/favorites"
       ]
      },
      {
       "output_type": "stream",
       "stream": "stdout",
       "text": [
        "\n",
        "/users/28892129/favorites"
       ]
      },
      {
       "output_type": "stream",
       "stream": "stdout",
       "text": [
        "\n",
        "/users/25477957/favorites"
       ]
      },
      {
       "output_type": "stream",
       "stream": "stdout",
       "text": [
        "\n",
        "/users/119372616/favorites"
       ]
      },
      {
       "output_type": "stream",
       "stream": "stdout",
       "text": [
        "\n",
        "/users/46519113/favorites"
       ]
      },
      {
       "output_type": "stream",
       "stream": "stdout",
       "text": [
        "\n",
        "/users/50228042/favorites"
       ]
      },
      {
       "output_type": "stream",
       "stream": "stdout",
       "text": [
        "\n",
        "/users/61465419/favorites"
       ]
      },
      {
       "output_type": "stream",
       "stream": "stdout",
       "text": [
        "\n",
        "370"
       ]
      },
      {
       "output_type": "stream",
       "stream": "stdout",
       "text": [
        " 1.787954\n",
        "/users/6681421/favorites\n",
        "/users/80188240/favorites"
       ]
      },
      {
       "output_type": "stream",
       "stream": "stdout",
       "text": [
        "\n",
        "/users/81285969/favorites"
       ]
      },
      {
       "output_type": "stream",
       "stream": "stdout",
       "text": [
        "\n",
        "/users/40635223/favorites"
       ]
      },
      {
       "output_type": "stream",
       "stream": "stdout",
       "text": [
        "\n",
        "/users/4176732/favorites"
       ]
      },
      {
       "output_type": "stream",
       "stream": "stdout",
       "text": [
        "\n",
        "/users/2175840/favorites"
       ]
      },
      {
       "output_type": "stream",
       "stream": "stdout",
       "text": [
        "\n",
        "/users/30743393/favorites"
       ]
      },
      {
       "output_type": "stream",
       "stream": "stdout",
       "text": [
        "\n",
        "/users/6253410/favorites"
       ]
      },
      {
       "output_type": "stream",
       "stream": "stdout",
       "text": [
        "\n",
        "/users/4266853/favorites"
       ]
      },
      {
       "output_type": "stream",
       "stream": "stdout",
       "text": [
        "\n",
        "/users/46154601/favorites"
       ]
      },
      {
       "output_type": "stream",
       "stream": "stdout",
       "text": [
        "\n",
        "380"
       ]
      },
      {
       "output_type": "stream",
       "stream": "stdout",
       "text": [
        " 1.419466\n",
        "/users/111635309/favorites\n",
        "/users/35611502/favorites"
       ]
      },
      {
       "output_type": "stream",
       "stream": "stdout",
       "text": [
        "\n",
        "/users/11799408/favorites"
       ]
      },
      {
       "output_type": "stream",
       "stream": "stdout",
       "text": [
        "\n",
        "/users/21619572/favorites"
       ]
      },
      {
       "output_type": "stream",
       "stream": "stdout",
       "text": [
        "\n",
        "/users/12266309/favorites"
       ]
      },
      {
       "output_type": "stream",
       "stream": "stdout",
       "text": [
        "\n",
        "/users/7598228/favorites"
       ]
      },
      {
       "output_type": "stream",
       "stream": "stdout",
       "text": [
        "\n",
        "/users/23972732/favorites"
       ]
      },
      {
       "output_type": "stream",
       "stream": "stdout",
       "text": [
        "\n",
        "/users/2743168/favorites"
       ]
      },
      {
       "output_type": "stream",
       "stream": "stdout",
       "text": [
        "\n",
        "/users/2282371/favorites"
       ]
      },
      {
       "output_type": "stream",
       "stream": "stdout",
       "text": [
        "\n",
        "/users/3810180/favorites"
       ]
      },
      {
       "output_type": "stream",
       "stream": "stdout",
       "text": [
        "\n",
        "390"
       ]
      },
      {
       "output_type": "stream",
       "stream": "stdout",
       "text": [
        " 0.924147\n",
        "/users/11610262/favorites\n",
        "/users/5462919/favorites"
       ]
      },
      {
       "output_type": "stream",
       "stream": "stdout",
       "text": [
        "\n",
        "/users/3740552/favorites"
       ]
      },
      {
       "output_type": "stream",
       "stream": "stdout",
       "text": [
        "\n",
        "/users/3218314/favorites"
       ]
      },
      {
       "output_type": "stream",
       "stream": "stdout",
       "text": [
        "\n",
        "/users/10793870/favorites"
       ]
      },
      {
       "output_type": "stream",
       "stream": "stdout",
       "text": [
        "\n",
        "/users/648082/favorites"
       ]
      },
      {
       "output_type": "stream",
       "stream": "stdout",
       "text": [
        "\n",
        "/users/57697091/favorites"
       ]
      },
      {
       "output_type": "stream",
       "stream": "stdout",
       "text": [
        "\n",
        "/users/15309718/favorites"
       ]
      },
      {
       "output_type": "stream",
       "stream": "stdout",
       "text": [
        "\n",
        "/users/107557785/favorites"
       ]
      },
      {
       "output_type": "stream",
       "stream": "stdout",
       "text": [
        "\n",
        "/users/45384602/favorites"
       ]
      },
      {
       "output_type": "stream",
       "stream": "stdout",
       "text": [
        "\n",
        "400"
       ]
      },
      {
       "output_type": "stream",
       "stream": "stdout",
       "text": [
        " 1.432374\n",
        "/users/53163503/favorites\n",
        "/users/49470277/favorites"
       ]
      },
      {
       "output_type": "stream",
       "stream": "stdout",
       "text": [
        "\n",
        "/users/12721057/favorites"
       ]
      },
      {
       "output_type": "stream",
       "stream": "stdout",
       "text": [
        "\n",
        "/users/110501019/favorites"
       ]
      },
      {
       "output_type": "stream",
       "stream": "stdout",
       "text": [
        "\n",
        "/users/34057129/favorites"
       ]
      },
      {
       "output_type": "stream",
       "stream": "stdout",
       "text": [
        "\n",
        "/users/12651437/favorites"
       ]
      },
      {
       "output_type": "stream",
       "stream": "stdout",
       "text": [
        "\n",
        "/users/27435950/favorites"
       ]
      },
      {
       "output_type": "stream",
       "stream": "stdout",
       "text": [
        "\n",
        "/users/31986032/favorites"
       ]
      },
      {
       "output_type": "stream",
       "stream": "stdout",
       "text": [
        "\n",
        "/users/43238324/favorites"
       ]
      },
      {
       "output_type": "stream",
       "stream": "stdout",
       "text": [
        "\n",
        "/users/16765086/favorites"
       ]
      },
      {
       "output_type": "stream",
       "stream": "stdout",
       "text": [
        "\n",
        "410"
       ]
      },
      {
       "output_type": "stream",
       "stream": "stdout",
       "text": [
        " 1.137582\n",
        "/users/22137673/favorites\n",
        "/users/14863291/favorites"
       ]
      },
      {
       "output_type": "stream",
       "stream": "stdout",
       "text": [
        "\n",
        "/users/11309898/favorites"
       ]
      },
      {
       "output_type": "stream",
       "stream": "stdout",
       "text": [
        "\n",
        "/users/9995765/favorites"
       ]
      },
      {
       "output_type": "stream",
       "stream": "stdout",
       "text": [
        "\n",
        "/users/2610113/favorites"
       ]
      },
      {
       "output_type": "stream",
       "stream": "stdout",
       "text": [
        "\n",
        "/users/105204897/favorites"
       ]
      },
      {
       "output_type": "stream",
       "stream": "stdout",
       "text": [
        "\n",
        "/users/63802315/favorites"
       ]
      },
      {
       "output_type": "stream",
       "stream": "stdout",
       "text": [
        "\n",
        "/users/11070412/favorites"
       ]
      },
      {
       "output_type": "stream",
       "stream": "stdout",
       "text": [
        "\n",
        "/users/7680974/favorites"
       ]
      },
      {
       "output_type": "stream",
       "stream": "stdout",
       "text": [
        "\n",
        "/users/23049911/favorites"
       ]
      },
      {
       "output_type": "stream",
       "stream": "stdout",
       "text": [
        "\n",
        "420"
       ]
      },
      {
       "output_type": "stream",
       "stream": "stdout",
       "text": [
        " 0.832373\n",
        "/users/31030226/favorites\n",
        "/users/50396115/favorites"
       ]
      },
      {
       "output_type": "stream",
       "stream": "stdout",
       "text": [
        "\n",
        "/users/11068372/favorites"
       ]
      },
      {
       "output_type": "stream",
       "stream": "stdout",
       "text": [
        "\n",
        "/users/2023246/favorites"
       ]
      },
      {
       "output_type": "stream",
       "stream": "stdout",
       "text": [
        "\n",
        "/users/26178519/favorites"
       ]
      },
      {
       "output_type": "stream",
       "stream": "stdout",
       "text": [
        "\n",
        "/users/67392474/favorites"
       ]
      },
      {
       "output_type": "stream",
       "stream": "stdout",
       "text": [
        "\n",
        "/users/16118747/favorites"
       ]
      },
      {
       "output_type": "stream",
       "stream": "stdout",
       "text": [
        "\n",
        "/users/82777661/favorites"
       ]
      },
      {
       "output_type": "stream",
       "stream": "stdout",
       "text": [
        "\n",
        "/users/70117200/favorites"
       ]
      },
      {
       "output_type": "stream",
       "stream": "stdout",
       "text": [
        "\n",
        "/users/11158498/favorites"
       ]
      },
      {
       "output_type": "stream",
       "stream": "stdout",
       "text": [
        "\n",
        "430"
       ]
      },
      {
       "output_type": "stream",
       "stream": "stdout",
       "text": [
        " 0.54902\n",
        "/users/542203/favorites\n",
        "/users/10152933/favorites"
       ]
      },
      {
       "output_type": "stream",
       "stream": "stdout",
       "text": [
        "\n",
        "/users/49368038/favorites"
       ]
      },
      {
       "output_type": "stream",
       "stream": "stdout",
       "text": [
        "\n",
        "/users/42205692/favorites"
       ]
      },
      {
       "output_type": "stream",
       "stream": "stdout",
       "text": [
        "\n",
        "/users/108325875/favorites"
       ]
      },
      {
       "output_type": "stream",
       "stream": "stdout",
       "text": [
        "\n",
        "/users/10822644/favorites"
       ]
      },
      {
       "output_type": "stream",
       "stream": "stdout",
       "text": [
        "\n",
        "/users/52739061/favorites"
       ]
      },
      {
       "output_type": "stream",
       "stream": "stdout",
       "text": [
        "\n",
        "/users/114088950/favorites"
       ]
      },
      {
       "output_type": "stream",
       "stream": "stdout",
       "text": [
        "\n",
        "/users/14062583/favorites"
       ]
      },
      {
       "output_type": "stream",
       "stream": "stdout",
       "text": [
        "\n",
        "/users/1602552/favorites"
       ]
      },
      {
       "output_type": "stream",
       "stream": "stdout",
       "text": [
        "\n",
        "440"
       ]
      },
      {
       "output_type": "stream",
       "stream": "stdout",
       "text": [
        " 1.158805\n",
        "/users/31765497/favorites\n",
        "/users/40164347/favorites"
       ]
      },
      {
       "output_type": "stream",
       "stream": "stdout",
       "text": [
        "\n",
        "/users/7252989/favorites"
       ]
      },
      {
       "output_type": "stream",
       "stream": "stdout",
       "text": [
        "\n",
        "/users/34214910/favorites"
       ]
      },
      {
       "output_type": "stream",
       "stream": "stdout",
       "text": [
        "\n",
        "/users/16524287/favorites"
       ]
      },
      {
       "output_type": "stream",
       "stream": "stdout",
       "text": [
        "\n",
        "/users/40137899/favorites"
       ]
      },
      {
       "output_type": "stream",
       "stream": "stdout",
       "text": [
        "\n",
        "/users/38800392/favorites"
       ]
      },
      {
       "output_type": "stream",
       "stream": "stdout",
       "text": [
        "\n",
        "/users/89590793/favorites"
       ]
      },
      {
       "output_type": "stream",
       "stream": "stdout",
       "text": [
        "\n",
        "/users/31097869/favorites"
       ]
      },
      {
       "output_type": "stream",
       "stream": "stdout",
       "text": [
        "\n",
        "/users/77761550/favorites"
       ]
      },
      {
       "output_type": "stream",
       "stream": "stdout",
       "text": [
        "\n",
        "450"
       ]
      },
      {
       "output_type": "stream",
       "stream": "stdout",
       "text": [
        " 0.775098\n",
        "/users/21935121/favorites\n",
        "/users/19862547/favorites"
       ]
      },
      {
       "output_type": "stream",
       "stream": "stdout",
       "text": [
        "\n",
        "/users/98169883/favorites"
       ]
      },
      {
       "output_type": "stream",
       "stream": "stdout",
       "text": [
        "\n",
        "/users/43369501/favorites"
       ]
      },
      {
       "output_type": "stream",
       "stream": "stdout",
       "text": [
        "\n",
        "/users/1534128/favorites"
       ]
      },
      {
       "output_type": "stream",
       "stream": "stdout",
       "text": [
        "\n",
        "/users/41577507/favorites"
       ]
      },
      {
       "output_type": "stream",
       "stream": "stdout",
       "text": [
        "\n",
        "/users/3501093/favorites"
       ]
      },
      {
       "output_type": "stream",
       "stream": "stdout",
       "text": [
        "\n",
        "/users/7230502/favorites"
       ]
      },
      {
       "output_type": "stream",
       "stream": "stdout",
       "text": [
        "\n",
        "/users/75228199/favorites"
       ]
      },
      {
       "output_type": "stream",
       "stream": "stdout",
       "text": [
        "\n",
        "/users/32046124/favorites"
       ]
      },
      {
       "output_type": "stream",
       "stream": "stdout",
       "text": [
        "\n",
        "460"
       ]
      },
      {
       "output_type": "stream",
       "stream": "stdout",
       "text": [
        " 0.654794\n",
        "/users/5424173/favorites\n",
        "/users/3775534/favorites"
       ]
      },
      {
       "output_type": "stream",
       "stream": "stdout",
       "text": [
        "\n",
        "/users/2581563/favorites"
       ]
      },
      {
       "output_type": "stream",
       "stream": "stdout",
       "text": [
        "\n",
        "/users/32324656/favorites"
       ]
      },
      {
       "output_type": "stream",
       "stream": "stdout",
       "text": [
        "\n",
        "/users/80127025/favorites"
       ]
      },
      {
       "output_type": "stream",
       "stream": "stdout",
       "text": [
        "\n",
        "/users/121658422/favorites"
       ]
      },
      {
       "output_type": "stream",
       "stream": "stdout",
       "text": [
        "\n",
        "/users/23870519/favorites"
       ]
      },
      {
       "output_type": "stream",
       "stream": "stdout",
       "text": [
        "\n",
        "/users/21570177/favorites"
       ]
      },
      {
       "output_type": "stream",
       "stream": "stdout",
       "text": [
        "\n",
        "/users/9360441/favorites"
       ]
      },
      {
       "output_type": "stream",
       "stream": "stdout",
       "text": [
        "\n",
        "/users/37956667/favorites"
       ]
      },
      {
       "output_type": "stream",
       "stream": "stdout",
       "text": [
        "\n",
        "470"
       ]
      },
      {
       "output_type": "stream",
       "stream": "stdout",
       "text": [
        " 1.034756\n",
        "/users/18814015/favorites\n",
        "/users/812096/favorites"
       ]
      },
      {
       "output_type": "stream",
       "stream": "stdout",
       "text": [
        "\n",
        "/users/20660747/favorites"
       ]
      },
      {
       "output_type": "stream",
       "stream": "stdout",
       "text": [
        "\n",
        "/users/2231365/favorites"
       ]
      },
      {
       "output_type": "stream",
       "stream": "stdout",
       "text": [
        "\n",
        "/users/90833990/favorites"
       ]
      },
      {
       "output_type": "stream",
       "stream": "stdout",
       "text": [
        "\n",
        "/users/20898887/favorites"
       ]
      },
      {
       "output_type": "stream",
       "stream": "stdout",
       "text": [
        "\n",
        "/users/20515912/favorites"
       ]
      },
      {
       "output_type": "stream",
       "stream": "stdout",
       "text": [
        "\n",
        "/users/8051785/favorites"
       ]
      },
      {
       "output_type": "stream",
       "stream": "stdout",
       "text": [
        "\n",
        "/users/62882892/favorites"
       ]
      },
      {
       "output_type": "stream",
       "stream": "stdout",
       "text": [
        "\n",
        "/users/46842961/favorites"
       ]
      },
      {
       "output_type": "stream",
       "stream": "stdout",
       "text": [
        "\n",
        "480"
       ]
      },
      {
       "output_type": "stream",
       "stream": "stdout",
       "text": [
        " 0.957952\n",
        "/users/6011987/favorites\n",
        "/users/760917/favorites"
       ]
      },
      {
       "output_type": "stream",
       "stream": "stdout",
       "text": [
        "\n",
        "/users/13229142/favorites"
       ]
      },
      {
       "output_type": "stream",
       "stream": "stdout",
       "text": [
        "\n",
        "/users/20405337/favorites"
       ]
      },
      {
       "output_type": "stream",
       "stream": "stdout",
       "text": [
        "\n",
        "/users/42038458/favorites"
       ]
      },
      {
       "output_type": "stream",
       "stream": "stdout",
       "text": [
        "\n",
        "/users/102417502/favorites"
       ]
      },
      {
       "output_type": "stream",
       "stream": "stdout",
       "text": [
        "\n",
        "/users/13569120/favorites"
       ]
      },
      {
       "output_type": "stream",
       "stream": "stdout",
       "text": [
        "\n",
        "/users/20202000/favorites"
       ]
      },
      {
       "output_type": "stream",
       "stream": "stdout",
       "text": [
        "\n",
        "/users/3826788/favorites"
       ]
      },
      {
       "output_type": "stream",
       "stream": "stdout",
       "text": [
        "\n",
        "/users/22386291/favorites"
       ]
      },
      {
       "output_type": "stream",
       "stream": "stdout",
       "text": [
        "\n",
        "490"
       ]
      },
      {
       "output_type": "stream",
       "stream": "stdout",
       "text": [
        " 1.348772\n",
        "/users/31465228/favorites\n",
        "/users/64773223/favorites"
       ]
      },
      {
       "output_type": "stream",
       "stream": "stdout",
       "text": [
        "\n",
        "/users/2165864/favorites"
       ]
      },
      {
       "output_type": "stream",
       "stream": "stdout",
       "text": [
        "\n",
        "/users/86860912/favorites"
       ]
      },
      {
       "output_type": "stream",
       "stream": "stdout",
       "text": [
        "\n",
        "/users/2628721/favorites"
       ]
      },
      {
       "output_type": "stream",
       "stream": "stdout",
       "text": [
        "\n",
        "/users/48014451/favorites"
       ]
      },
      {
       "output_type": "stream",
       "stream": "stdout",
       "text": [
        "\n",
        "/users/29800638/favorites"
       ]
      },
      {
       "output_type": "stream",
       "stream": "stdout",
       "text": [
        "\n",
        "/users/5081961/favorites"
       ]
      },
      {
       "output_type": "stream",
       "stream": "stdout",
       "text": [
        "\n",
        "/users/32388221/favorites"
       ]
      },
      {
       "output_type": "stream",
       "stream": "stdout",
       "text": [
        "\n",
        "/users/37123199/favorites"
       ]
      },
      {
       "output_type": "stream",
       "stream": "stdout",
       "text": [
        "\n",
        "500"
       ]
      },
      {
       "output_type": "stream",
       "stream": "stdout",
       "text": [
        " 1.400445\n",
        "/users/5365952/favorites\n",
        "/users/27298947/favorites"
       ]
      },
      {
       "output_type": "stream",
       "stream": "stdout",
       "text": [
        "\n",
        "/users/45114501/favorites"
       ]
      },
      {
       "output_type": "stream",
       "stream": "stdout",
       "text": [
        "\n",
        "/users/82431113/favorites"
       ]
      },
      {
       "output_type": "stream",
       "stream": "stdout",
       "text": [
        "\n",
        "/users/6833292/favorites"
       ]
      },
      {
       "output_type": "stream",
       "stream": "stdout",
       "text": [
        "\n",
        "/users/27096258/favorites"
       ]
      },
      {
       "output_type": "stream",
       "stream": "stdout",
       "text": [
        "\n",
        "/users/28435598/favorites"
       ]
      },
      {
       "output_type": "stream",
       "stream": "stdout",
       "text": [
        "\n",
        "/users/27380880/favorites"
       ]
      },
      {
       "output_type": "stream",
       "stream": "stdout",
       "text": [
        "\n",
        "/users/28089489/favorites"
       ]
      }
     ]
    },
    {
     "cell_type": "code",
     "collapsed": false,
     "input": [
      "print '%d Songs' % len(songs) \n",
      "print \n",
      "for song in songs[1:10]: \n",
      "     print song.title\n",
      "\n",
      "print '...'\n"
     ],
     "language": "python",
     "metadata": {},
     "outputs": [
      {
       "output_type": "stream",
       "stream": "stdout",
       "text": [
        "416 Songs\n",
        "\n",
        "Thomas Newman - Arose (Remix By Scott Tobin)\n",
        "Andre Lodemann - Robot Heart - Spring - NYC -2014\n",
        "Tensnake \u2013 Love Sublime Ft Niles Rodgers & Fiora (Duke Dumont Remix)\n",
        "IV46 Agoria - Scala EP - Scala\n",
        "Nicolas Jaar - And I Say (Xinobi Edit)\n",
        "SALLY SHAPIRO - Sundown (Nite Jewel Remix)\n",
        "Strip Steve - \"Astral Projection (Destructo Remix)\"\n",
        "Summer Tape\n",
        "Crayon Feat. KLP - Give You Up (Darius Remix)\n",
        "...\n"
       ]
      }
     ],
     "prompt_number": 22
    },
    {
     "cell_type": "code",
     "collapsed": false,
     "input": [
      "song_map = [(song.id,song.title) for song in songs] \n",
      "\n",
      "print song_map[1:15]"
     ],
     "language": "python",
     "metadata": {},
     "outputs": [
      {
       "output_type": "stream",
       "stream": "stdout",
       "text": [
        "[(3814408, u'Thomas Newman - Arose (Remix By Scott Tobin)'), (159238854, u'Andre Lodemann - Robot Heart - Spring - NYC -2014'), (130796309, u'Tensnake \\u2013 Love Sublime Ft Niles Rodgers & Fiora (Duke Dumont Remix)'), (111986060, u'IV46 Agoria - Scala EP - Scala'), (61331925, u'Nicolas Jaar - And I Say (Xinobi Edit)'), (81778064, u'SALLY SHAPIRO - Sundown (Nite Jewel Remix)'), (49813240, u'Strip Steve - \"Astral Projection (Destructo Remix)\"'), (100199685, u'Summer Tape'), (104120136, u'Crayon Feat. KLP - Give You Up (Darius Remix)'), (45403168, u'Milk And Honey (original)'), (134595738, u'Jupiter - Juicy Lucy (Crayon Remix)'), (134009094, u'Lana Del Rey - Young & Beautiful (Myon & Shane 54 Summer Of Love Mix)'), (104560877, u\"M.A.N.D.Y. Presents Get Physical On Ibiza #108 mixed by Catz 'N Dogz live at Watergate\"), (78903838, u'Catz N Dogz Boiler Room Berlin 70 Min Mix')]\n"
       ]
      }
     ],
     "prompt_number": 52
    },
    {
     "cell_type": "code",
     "collapsed": false,
     "input": [
      "agg =  [ Counter(song).items()\n",
      "    for song in [song_map]][0]\n",
      "\n",
      "#print agg[1:10]\n",
      "\n",
      "top_songs = sorted(agg, key=lambda tup: tup[1], reverse=True)\n",
      "\n",
      "print '%d Songs' % len(top_songs)\n",
      "\n",
      "for x in top_songs[1:10]:\n",
      "    print x\n",
      "#from tabulate import tabulate\n",
      "#print tabulate( ?????, headers=['user_id', '#comments'])\n"
     ],
     "language": "python",
     "metadata": {},
     "outputs": [
      {
       "output_type": "stream",
       "stream": "stdout",
       "text": [
        "7496 Songs\n",
        "((138712428, u'ZHU - Faded.'), 9)\n",
        "((32490807, u'Pachanga Boys - Time'), 9)\n",
        "((123406633, u'Lilly Wood & the Prick & Robin Schulz - Prayer In C (Robin Schulz Remix) BUY ON I TUNES NOW !!!'), 7)\n",
        "((74914066, u'Tube & Berger - Imprint Of Pleasure [SUARA072]'), 7)\n",
        "((177856481, u'DJ Tennis - Robot Heart - Burning Man 2014'), 7)\n",
        "((96379023, u'Disclosure - You & Me (Flume Remix)'), 7)\n",
        "((7475138, u'Paul Kalkbrenner - Gebrunn Gebrunn (Original Mix)'), 7)\n",
        "((151641960, u'Diynamic Radio Show May 2014 by Kollektiv Turmstrasse'), 6)\n",
        "((179440234, u'Max Cooper - Origins (David August Remix)'), 6)\n"
       ]
      }
     ],
     "prompt_number": 53
    },
    {
     "cell_type": "code",
     "collapsed": false,
     "input": [
      "cached_tracks = {}"
     ],
     "language": "python",
     "metadata": {},
     "outputs": [],
     "prompt_number": 54
    },
    {
     "cell_type": "code",
     "collapsed": false,
     "input": [
      "print len(cached_tracks)"
     ],
     "language": "python",
     "metadata": {},
     "outputs": [
      {
       "output_type": "stream",
       "stream": "stdout",
       "text": [
        "0\n"
       ]
      }
     ],
     "prompt_number": 55
    },
    {
     "cell_type": "code",
     "collapsed": false,
     "input": [
      "related_tracks = []  # 1.5 seconds per track: 5000 = 40 mins\n",
      "i=0\n",
      "for song in top_songs:\n",
      "    a = datetime.datetime.now()\n",
      "    i=i+1\n",
      "    freq = song[1]\n",
      "    if freq >= 3: # only for high enough intersections to save time (top_songs are sorted by intersections)\n",
      "        a = datetime.datetime.now()\n",
      "        tid = song[0][0]\n",
      "        \n",
      "        try:\n",
      "            if tid in cached_tracks:\n",
      "                track_stats = cached_tracks[tid]\n",
      "            else:\n",
      "                track = client.get('/tracks/%d' %tid)\n",
      "                track_stats = [track.id, freq, freq*1000/float(track.favoritings_count), track.title, track.favoritings_count, track.comment_count, track.playback_count] \n",
      "                cached_tracks[tid]=track_stats \n",
      "            related_tracks = related_tracks + [track_stats]\n",
      "        except AttributeError, e:\n",
      "            print 'Attribute Error occured for track %d: %s' %(tid, e)\n",
      "        except requests.HTTPError, e:\n",
      "            print 'HTTPError occured for track %d: %s' %(tid, e)\n",
      "        b = datetime.datetime.now()\n",
      "        c = b - a\n",
      "    \n",
      "    if (i % 10 == 0) & (freq >= 3):  \n",
      "        print i, c.total_seconds()\n",
      "\n",
      "print        \n",
      "print '%d tracks found' %len(related_tracks)\n",
      "        \n"
     ],
     "language": "python",
     "metadata": {},
     "outputs": [
      {
       "output_type": "stream",
       "stream": "stdout",
       "text": [
        "10 1e-05\n",
        "Attribute Error occured for track 124147566: "
       ]
      },
      {
       "output_type": "stream",
       "stream": "stdout",
       "text": [
        "\n",
        "20 1.1e-05\n",
        "30 1e-05\n",
        "40 1e-05\n",
        "50 1e-05\n",
        "60 1e-05\n",
        "70 1e-05\n",
        "Attribute Error occured for track 165915864: "
       ]
      },
      {
       "output_type": "stream",
       "stream": "stdout",
       "text": [
        "\n",
        "80 1.1e-05\n",
        "90 1.1e-05\n",
        "100 1.1e-05\n",
        "110 1e-05\n",
        "Attribute Error occured for track 162076439: "
       ]
      },
      {
       "output_type": "stream",
       "stream": "stdout",
       "text": [
        "\n",
        "120 1.1e-05\n",
        "130 1.3e-05\n",
        "140 1.1e-05\n",
        "150 1.1e-05\n",
        "160 1.1e-05\n",
        "Attribute Error occured for track 69125795: "
       ]
      },
      {
       "output_type": "stream",
       "stream": "stdout",
       "text": [
        "\n",
        "170 1.1e-05\n",
        "Attribute Error occured for track 76255568: "
       ]
      },
      {
       "output_type": "stream",
       "stream": "stdout",
       "text": [
        "\n",
        "180 1.9e-05\n",
        "190 1.1e-05\n",
        "200 1e-05\n",
        "210 1.2e-05\n",
        "Attribute Error occured for track 11265947: "
       ]
      },
      {
       "output_type": "stream",
       "stream": "stdout",
       "text": [
        "\n",
        "220 1.2e-05\n",
        "\n"
       ]
      },
      {
       "output_type": "stream",
       "stream": "stdout",
       "text": [
        "214 tracks found\n"
       ]
      }
     ],
     "prompt_number": 62
    },
    {
     "cell_type": "code",
     "collapsed": false,
     "input": [
      "#Normalization happens by favs of top songs    \n",
      "recos = sorted(related_tracks, key=lambda x: x[2], reverse=True)\n",
      "\n",
      "#print tabulate( [ track[1:5] for track in filtered_recos], headers=[ 'common', 'score', 'title', 'favs'])\n",
      "print 'related_score, common favoriters, total favoriters, title '\n",
      "for candidate in recos:\n",
      "    if candidate[1]>=5:\n",
      "        print \"%.2f\" % candidate[2], candidate[3], candidate[1], candidate[4]\n",
      "    "
     ],
     "language": "python",
     "metadata": {},
     "outputs": [
      {
       "output_type": "stream",
       "stream": "stdout",
       "text": [
        "related_score, common favoriters, total favoriters, title \n",
        "112.88 Sascha Funke - Mango 99 877\n",
        "22.03 Sascha Funke - We Are Facing The Sun 5 227\n",
        "4.04 HVOB - Exclusive \"Window\" EP Prelistening 2014 5 1238\n",
        "3.31 Sascha Funke -  Deep House Amsterdam Kompakt Podcast #001 5 1510\n",
        "2.30 Sabo - Robot Heart - Burning Man 2014 5 2177\n",
        "2.15 Max Cooper - Origins (David August Remix) 6 2788\n",
        "2.12 Monaberry Podberry  19 - Super Flu 5 2357\n",
        "1.75 IV55 Recondite - Levo (Club Edit) - Levo EP 5 2865\n",
        "1.58 DJ Tennis - Robot Heart - Burning Man 2014 7 4417\n",
        "1.39 Recondite - Duolo - Iffy 5 3607\n",
        "1.18 Bedouin - Robot Heart - Burning Man 2014 5 4226\n",
        "1.11 Diynamic Radio Show May 2014 by Kollektiv Turmstrasse 6 5417\n",
        "0.95 Oliver Koletzki @ Watergate 26.09.2014 6 6329\n",
        "0.86 Francesca Lombardo - Robot Heart - Burning Man 2014 5 5831\n",
        "0.76 Nils Frahm - For - Max Cooper remix 5 6581\n",
        "0.65 Darkside - Gone Too Soon 5 7696\n",
        "0.64 Kollektiv Turmstrasse - Mix July 2013 6 9339\n",
        "0.64 Kollektiv Turmstrasse - Mix June 2013 6 9352\n",
        "0.60 Pachanga Boys - Time 9 14953\n",
        "0.59 Paul Kalkbrenner - Gebrunn Gebrunn (Original Mix) 7 11858\n",
        "0.37 Qtier - Set Me On (David August Remix) 5 13375\n",
        "0.35 Super Flu @ Fusion 2014 5 14432\n",
        "0.28 Fade Out Lines 5 17888\n",
        "0.26 Tube & Berger - Imprint Of Pleasure [SUARA072] 7 26837\n",
        "0.23 Noir and Haze - Around (Solomun Vox) 128kbit - Noir Music 6 25811\n",
        "0.18 Kungs ft. Molly - West Coast 6 32484\n",
        "0.12 Awake 5 41645\n",
        "0.11 Daughter - Youth (Alle Farben remix) 5 46929\n",
        "0.09 Waterm\u00e4t - Bullit (Original Mix) 5 53156\n",
        "0.03 ZHU - Faded. 9 277040\n",
        "0.03 Klingande - Jubel (Original mix) Available On Itunes 5 198951\n",
        "0.02 Lilly Wood & the Prick & Robin Schulz - Prayer In C (Robin Schulz Remix) BUY ON I TUNES NOW !!! 7 291637\n",
        "0.02 Disclosure - You & Me (Flume Remix) 7 423568\n"
       ]
      }
     ],
     "prompt_number": 57
    },
    {
     "cell_type": "code",
     "collapsed": false,
     "input": [
      "import pandas as pd\n",
      "\n",
      "df = pd.DataFrame(recos)\n"
     ],
     "language": "python",
     "metadata": {},
     "outputs": [],
     "prompt_number": 66
    },
    {
     "cell_type": "code",
     "collapsed": false,
     "input": [
      "print df[1:10]"
     ],
     "language": "python",
     "metadata": {},
     "outputs": [
      {
       "output_type": "stream",
       "stream": "stdout",
       "text": [
        "           0  1          2                                                  3  \\\n",
        "1   15129623  4  24.242424                   Chemin des figons - Sascha Funke   \n",
        "2   61707760  5  22.026432               Sascha Funke - We Are Facing The Sun   \n",
        "3  161930823  3   8.849558  Sterac aka Steve Rachmad - The Hypnoticus I (1...   \n",
        "4  179602402  3   7.109005         Max Cooper - Origins (Throwing Snow Remix)   \n",
        "5    3961542  3   5.859375                   03. Stimming - Song for Isabelle   \n",
        "6  179297101  3   5.235602  Full Premiere: Trentemoller - Always Something...   \n",
        "7  157719686  3   5.084746                       Leon Vynehall \u200e\u2013 Butterflies   \n",
        "8  178904956  3   5.076142                                 5 Months Nonsmoker   \n",
        "9  177954425  3   4.497751  01 Melokind - Katzenfutter (Schnipsel von turn...   \n",
        "\n",
        "     4   5      6  \n",
        "1  165   4   7024  \n",
        "2  227   5  14277  \n",
        "3  339   9   9378  \n",
        "4  422  21   7063  \n",
        "5  512  24  26429  \n",
        "6  573   7   8671  \n",
        "7  590  15  53207  \n",
        "8  591  31  11264  \n",
        "9  667  20  26869  \n",
        "\n",
        "[9 rows x 7 columns]\n"
       ]
      }
     ],
     "prompt_number": 67
    },
    {
     "cell_type": "heading",
     "level": 2,
     "metadata": {},
     "source": [
      "<a id='recos'>2. Other stuff</a>"
     ]
    },
    {
     "cell_type": "code",
     "collapsed": false,
     "input": [
      "upls = client.get('/users/%d/playlists' %uid )\n",
      "\n",
      "for pl in upls:\n",
      "    print 'pl ID: %d, Title: \"%s\"' % (pl.id, pl.title)\n",
      "\n",
      "#http://api.soundcloud.com/playlists/56964368.json?client_id=17089d3c7d05cb2cfdffe46c2e486ff0\n",
      "plid = 62070993\n",
      "\n",
      "pl_tracks = client.get('/playlists/%d/tracks' %plid)\n",
      "for track in pl_tracks:\n",
      "    print 'Track ID: %d, Title: \"%s\"' % (track.id, track.title)\n",
      "    "
     ],
     "language": "python",
     "metadata": {},
     "outputs": [
      {
       "output_type": "stream",
       "stream": "stdout",
       "text": [
        "Track ID: 143501087, Title: \"Out Of My Head (Naughty Boy Remix)\"\n",
        "Track ID: 174365478, Title: \"Jay Rock - Pay for It (Ft. Kendrick Lamar & Chantal)\"\n"
       ]
      }
     ],
     "prompt_number": 67
    },
    {
     "cell_type": "code",
     "collapsed": false,
     "input": [],
     "language": "python",
     "metadata": {},
     "outputs": [],
     "prompt_number": 60
    },
    {
     "cell_type": "code",
     "collapsed": false,
     "input": [],
     "language": "python",
     "metadata": {},
     "outputs": []
    }
   ],
   "metadata": {}
  }
 ]
}