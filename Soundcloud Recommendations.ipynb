{
 "metadata": {
  "name": "",
  "signature": "sha256:9fbb3f9f201e652b579ebb25e482036ef20a67319ac5e8a0117b2eb6187f25bc"
 },
 "nbformat": 3,
 "nbformat_minor": 0,
 "worksheets": [
  {
   "cells": [
    {
     "cell_type": "heading",
     "level": 1,
     "metadata": {},
     "source": [
      "Soundcloud API"
     ]
    },
    {
     "cell_type": "markdown",
     "metadata": {},
     "source": [
      "This is a prototype example for Johannes' DSR project http://jobraun.tumblr.com/ to demonstrate that it is possible to create a candidate list of music recommendations that isn\u2019t horrible with current Soundcloud API functionality :"
     ]
    },
    {
     "cell_type": "markdown",
     "metadata": {},
     "source": [
      "Table of contents:\n",
      "<dl>\n",
      "    <dt><a href='#recos'>1. Recommendations based on favorites</a></dt>\n",
      "    <dt><a href='#other'>2. More functionality</a></dt>\n",
      "</dl>"
     ]
    },
    {
     "cell_type": "heading",
     "level": 2,
     "metadata": {},
     "source": [
      "<a id='recos'>1. Recommendations based on favorites</a>"
     ]
    },
    {
     "cell_type": "code",
     "collapsed": false,
     "input": [
      "import soundcloud\n",
      "import urllib2"
     ],
     "language": "python",
     "metadata": {},
     "outputs": [],
     "prompt_number": 253
    },
    {
     "cell_type": "code",
     "collapsed": false,
     "input": [
      "# create a client object with your app credentials\n",
      "clientid= '17089d3c7d05cb2cfdffe46c2e486ff0'\n",
      "client = soundcloud.Client(client_id='17089d3c7d05cb2cfdffe46c2e486ff0') # 'YOUR_CLIENT_ID'\n",
      "\n",
      "# find all sounds of buskers licensed under 'creative commons share alike'\n",
      "tracks = client.get('/tracks', q='buskers', license='cc-by-sa')"
     ],
     "language": "python",
     "metadata": {},
     "outputs": [],
     "prompt_number": 254
    },
    {
     "cell_type": "code",
     "collapsed": false,
     "input": [
      "tracks = client.get('/tracks', q='kalkbrenner')"
     ],
     "language": "python",
     "metadata": {},
     "outputs": [],
     "prompt_number": 255
    },
    {
     "cell_type": "code",
     "collapsed": false,
     "input": [
      "print len(tracks)\n",
      "songs = [ [track.id,track.title] for track in tracks]"
     ],
     "language": "python",
     "metadata": {},
     "outputs": [
      {
       "output_type": "stream",
       "stream": "stdout",
       "text": [
        "50\n"
       ]
      }
     ],
     "prompt_number": 256
    },
    {
     "cell_type": "code",
     "collapsed": false,
     "input": [
      "# http://api.soundcloud.com/tracks/174365478.json?client_id=17089d3c7d05cb2cfdffe46c2e486ff0\"\n",
      "for track in songs[1:5]:\n",
      "    print 'Track ID: %d, Title: \"%s\"' % (track[0], track[1])    "
     ],
     "language": "python",
     "metadata": {},
     "outputs": [
      {
       "output_type": "stream",
       "stream": "stdout",
       "text": [
        "Track ID: 7474908, Title: \"Paul Kalkbrenner - Square 1 (Original Mix)\"\n",
        "Track ID: 7475138, Title: \"Paul Kalkbrenner - Gebrunn Gebrunn (Original Mix)\"\n",
        "Track ID: 5724545, Title: \"Fritz Kalkbrenner - Facing The Sun\"\n",
        "Track ID: 3896406, Title: \"Paul Kalkbrenner- Aaron\"\n"
       ]
      }
     ],
     "prompt_number": 257
    },
    {
     "cell_type": "code",
     "collapsed": false,
     "input": [
      "#Task is to be better than recos at https://soundcloud.com/paulkalkbrenner/paul-kalkbrenner-sky-and/recommended\n",
      "\n",
      "#tid = 174365478\n",
      "tid = 37032471\n",
      "#tid = 38180130\n",
      "\n",
      "track = client.get('/tracks/%d' %tid)\n",
      "\n",
      "print 'Track ID: %d, Title: \"%s' % (track.id, track.title)\n",
      "print 'Username: %s, Popularity: %d, %d, %d' % (track.user['username'], track.playback_count, track.favoritings_count, track.comment_count)\n",
      "print 'Tags: %s' % track.tag_list\n",
      "print 'Description: %s' % track.description    "
     ],
     "language": "python",
     "metadata": {},
     "outputs": [
      {
       "output_type": "stream",
       "stream": "stdout",
       "text": [
        "Track ID: 37032471, Title: \"Paul Kalkbrenner - Sky And Sand (Feat. Fritz Kalkbrenner)\n",
        "Username: PaulKalkbrenner, Popularity: 2228630, 39981, 1161\n",
        "Tags: Paul Kalkbrenner Sky And Sand (Feat Fritz Kalkbrenner)\n",
        "Description: \n"
       ]
      }
     ],
     "prompt_number": 258
    },
    {
     "cell_type": "markdown",
     "metadata": {},
     "source": [
      "<img src=\"https://i1.sndcdn.com/avatars-000002131541-54agbv-large.jpg\" alt=\"Accuracy graph\" align=\"left\" >"
     ]
    },
    {
     "cell_type": "code",
     "collapsed": false,
     "input": [
      "import urllib2\n",
      "import simplejson\n",
      "url = 'http://api.soundcloud.com/tracks/%d.json?client_id=%s' %(tid,clientid)\n",
      "print url\n",
      "\n",
      "import urllib2\n",
      "import simplejson\n",
      "req = urllib2.Request(url)\n",
      "opener = urllib2.build_opener()\n",
      "f = opener.open(req)\n",
      "simplejson.load(f)"
     ],
     "language": "python",
     "metadata": {},
     "outputs": [
      {
       "output_type": "stream",
       "stream": "stdout",
       "text": [
        "http://api.soundcloud.com/tracks/37032471.json?client_id=17089d3c7d05cb2cfdffe46c2e486ff0\n"
       ]
      },
      {
       "metadata": {},
       "output_type": "pyout",
       "prompt_number": 259,
       "text": [
        "{'artwork_url': None,\n",
        " 'attachments_uri': 'https://api.soundcloud.com/tracks/37032471/attachments',\n",
        " 'bpm': None,\n",
        " 'comment_count': 1161,\n",
        " 'commentable': True,\n",
        " 'created_at': '2012/02/18 14:33:28 +0000',\n",
        " 'description': u'',\n",
        " 'download_count': 0,\n",
        " 'downloadable': False,\n",
        " 'duration': 239529,\n",
        " 'embeddable_by': 'all',\n",
        " 'favoritings_count': 39981,\n",
        " 'genre': u'',\n",
        " 'id': 37032471,\n",
        " 'isrc': u'',\n",
        " 'key_signature': u'',\n",
        " 'kind': 'track',\n",
        " 'label_id': None,\n",
        " 'label_name': u'',\n",
        " 'last_modified': '2014/12/07 16:03:37 +0000',\n",
        " 'license': 'all-rights-reserved',\n",
        " 'original_content_size': 9577620,\n",
        " 'original_format': 'mp3',\n",
        " 'permalink': 'paul-kalkbrenner-sky-and',\n",
        " 'permalink_url': 'http://soundcloud.com/paulkalkbrenner/paul-kalkbrenner-sky-and',\n",
        " 'playback_count': 2228630,\n",
        " 'policy': 'ALLOW',\n",
        " 'purchase_title': None,\n",
        " 'purchase_url': None,\n",
        " 'release': u'',\n",
        " 'release_day': None,\n",
        " 'release_month': None,\n",
        " 'release_year': None,\n",
        " 'sharing': 'public',\n",
        " 'state': 'finished',\n",
        " 'stream_url': 'https://api.soundcloud.com/tracks/37032471/stream',\n",
        " 'streamable': True,\n",
        " 'tag_list': 'Paul Kalkbrenner Sky And Sand (Feat Fritz Kalkbrenner)',\n",
        " 'title': 'Paul Kalkbrenner - Sky And Sand (Feat. Fritz Kalkbrenner)',\n",
        " 'track_type': 'original',\n",
        " 'uri': 'https://api.soundcloud.com/tracks/37032471',\n",
        " 'user': {'avatar_url': 'https://i1.sndcdn.com/avatars-000002131541-54agbv-large.jpg',\n",
        "  'id': 1582288,\n",
        "  'kind': 'user',\n",
        "  'last_modified': '2014/10/27 10:35:01 +0000',\n",
        "  'permalink': 'paulkalkbrenner',\n",
        "  'permalink_url': 'http://soundcloud.com/paulkalkbrenner',\n",
        "  'uri': 'https://api.soundcloud.com/users/1582288',\n",
        "  'username': 'PaulKalkbrenner'},\n",
        " 'user_id': 1582288,\n",
        " 'video_url': None,\n",
        " 'waveform_url': 'https://w1.sndcdn.com/c3RZTHNjdUyR_m.png'}"
       ]
      }
     ],
     "prompt_number": 259
    },
    {
     "cell_type": "code",
     "collapsed": false,
     "input": [
      "# helper function to paginate through all favorites of a user \n",
      "\n",
      "def getAll(path,default,at_most):\n",
      "    \n",
      "    items=[]\n",
      "    offset=0\n",
      "\n",
      "    page = client.get(path)    \n",
      "    \n",
      "    while (len(page) != 0): \n",
      "        items = items + [item for item in page]\n",
      "        if len(items) >= at_most: \n",
      "            break\n",
      "            \n",
      "        if len(page)>(default-1):          \n",
      "            offset = offset + len(page)\n",
      "            page = client.get(path, page_size = default,  offset=offset)\n",
      "        else: \n",
      "            page = []\n",
      "        \n",
      "        #while (offset<=(at_most-page_size)):\n",
      "        #items = items + [ item for item in page]           \n",
      "            \n",
      "    return items\n"
     ],
     "language": "python",
     "metadata": {},
     "outputs": [],
     "prompt_number": 260
    },
    {
     "cell_type": "code",
     "collapsed": false,
     "input": [
      "#Get all (<1000) users who favour this track (takes 20 seconds)\n",
      "\n",
      "print 'Track ID: %d' % tid\n",
      "\n",
      "fans = [ (fan.id, fan.username)\n",
      "    #for fan in client.get('/tracks/%d/favoriters' % tid) ]\n",
      "    for fan in getAll('/tracks/%d/favoriters' % tid,50,1000)]\n",
      "\n",
      "print '%d Fans' % len(fans)\n",
      "\n",
      "from tabulate import tabulate\n",
      "print tabulate(fans[1:10], headers=['Id', 'Username'])\n",
      "print '...'\n"
     ],
     "language": "python",
     "metadata": {},
     "outputs": [
      {
       "output_type": "stream",
       "stream": "stdout",
       "text": [
        "Track ID: 37032471\n",
        "1000 Fans"
       ]
      },
      {
       "output_type": "stream",
       "stream": "stdout",
       "text": [
        "\n",
        "       Id  Username\n",
        "---------  -----------------------\n",
        " 63840159  Victor Freou\n",
        " 44526069  Jamie Joy W\n",
        "126927203  Carmela Salerno\n",
        " 33616623  Gabriel Twist\n",
        "  8775696  Sam Chisholm\n",
        " 98572685  user223944179\n",
        "101715853  Paulo Francisco Rabiega\n",
        " 16410022  Asia Susmanek\n",
        "126915459  fef31\n",
        "...\n"
       ]
      }
     ],
     "prompt_number": 261
    },
    {
     "cell_type": "code",
     "collapsed": false,
     "input": [
      "#for cacheing api results in python dict\n",
      "#cached_user_favorites={} # cached_user_favorites\n",
      "#print len(cached_user_favorites)"
     ],
     "language": "python",
     "metadata": {},
     "outputs": [],
     "prompt_number": 132
    },
    {
     "cell_type": "heading",
     "level": 2,
     "metadata": {},
     "source": [
      "Storing users in mongodb for faster recos"
     ]
    },
    {
     "cell_type": "code",
     "collapsed": false,
     "input": [
      "#http://api.mongodb.org/python/current/tutorial.html\n",
      "#in aws: mongod --fork --logpath ~/mongodb.log\n",
      "\n",
      "import json\n",
      "import pymongo # pip install pymongo\n",
      "from bson import json_util # Comes with pymongo\n",
      "from datetime import datetime as dt\n",
      "\n",
      "mongo_client = pymongo.MongoClient()\n",
      "db = mongo_client.soundcloud\n",
      "collection = db.user_favorites"
     ],
     "language": "python",
     "metadata": {},
     "outputs": [],
     "prompt_number": 262
    },
    {
     "cell_type": "code",
     "collapsed": false,
     "input": [
      "#Setup: Only run once when mongo is empty\n",
      "\n",
      "#collection.ensure_index('uid', unique= True, drop_dups=True)\n",
      "\n",
      "#user = { \"uid\": \"6940695\",\n",
      "#        \"favorites\": \"[83290142, u'spazieren gehen im Traumland 5 @ Systemfeind'], [ 69311911, u'Spazieren gehen im Traumland part 4']\",\n",
      "#        }\n",
      "\n",
      "#o = collection.insert(user)\n"
     ],
     "language": "python",
     "metadata": {},
     "outputs": [],
     "prompt_number": 206
    },
    {
     "cell_type": "code",
     "collapsed": false,
     "input": [
      "#print collection\n",
      "\n",
      "print db.collection_names()\n",
      "print \n",
      "\n",
      "results = [doc for doc in collection.find()]\n",
      "\n",
      "def pp(o, indent=1):\n",
      "    print json.dumps(o, indent=indent, default=json_util.default)\n",
      "\n",
      "pp(results[1:5])"
     ],
     "language": "python",
     "metadata": {},
     "outputs": [
      {
       "output_type": "stream",
       "stream": "stdout",
       "text": [
        "[u'posts', u'system.indexes', u'user_favorites']\n",
        "\n",
        "[\n",
        " {\n",
        "  \"_id\": {\n",
        "   \"$oid\": \"548493fd5cab4d0a76405ea9\"\n",
        "  }, \n",
        "  \"uid\": 12253216, \n",
        "  \"favorites\": [\n",
        "   [\n",
        "    112088656, \n",
        "    \"Tale Of Us - Another Earth\"\n",
        "   ], \n",
        "   [\n",
        "    85006882, \n",
        "    \"Ten Walls - Gotham\"\n",
        "   ], \n",
        "   [\n",
        "    57074220, \n",
        "    \"FlicFlac - Dope\"\n",
        "   ], \n",
        "   [\n",
        "    151641960, \n",
        "    \"Diynamic Radio Show May 2014 by Kollektiv Turmstrasse\"\n",
        "   ], \n",
        "   [\n",
        "    73344520, \n",
        "    \"taste my sad x changes\"\n",
        "   ], \n",
        "   [\n",
        "    63788365, \n",
        "    \"Fire Arrow\"\n",
        "   ], \n",
        "   [\n",
        "    9353144, \n",
        "    \"Benoit & Sergio - Full Grown Man\"\n",
        "   ], \n",
        "   [\n",
        "    55469833, \n",
        "    \"Alle Farben - 38 (Gentian Blue) \\\"Familiar Traveler\\\"\"\n",
        "   ], \n",
        "   [\n",
        "    15129623, \n",
        "    \"Chemin des figons - Sascha Funke\"\n",
        "   ], \n",
        "   [\n",
        "    38180130, \n",
        "    \"Sascha Funke - Mango\"\n",
        "   ], \n",
        "   [\n",
        "    10026984, \n",
        "    \"Since 77 mix\"\n",
        "   ], \n",
        "   [\n",
        "    13872724, \n",
        "    \"Paul Kalkbrenner - Dockyard (Pitch Edit)\"\n",
        "   ], \n",
        "   [\n",
        "    7598447, \n",
        "    \"Basti grub - Pequeno\"\n",
        "   ], \n",
        "   [\n",
        "    43226100, \n",
        "    \"Solomun - Feuervogel\"\n",
        "   ], \n",
        "   [\n",
        "    20908086, \n",
        "    \"Stimming & Solomun Ghostdog\"\n",
        "   ], \n",
        "   [\n",
        "    33615547, \n",
        "    \"Stimming-Melodica (Aerohead Remix)\"\n",
        "   ], \n",
        "   [\n",
        "    40606760, \n",
        "    \"Diy056 The Song\"\n",
        "   ], \n",
        "   [\n",
        "    668701, \n",
        "    \"Stormdrum\"\n",
        "   ], \n",
        "   [\n",
        "    1588981, \n",
        "    \"Melodica\"\n",
        "   ], \n",
        "   [\n",
        "    46050379, \n",
        "    \"ANJA SCHNEIDER - MAKI\"\n",
        "   ], \n",
        "   [\n",
        "    13144836, \n",
        "    \"Anja Schneider - Belize\"\n",
        "   ], \n",
        "   [\n",
        "    38872947, \n",
        "    \"Kollektiv Turmstrasse - Schwindelig ( Synteck Remix )\"\n",
        "   ], \n",
        "   [\n",
        "    55000112, \n",
        "    \"Bass Coast Artist Radio Hosted by Woodhead & Crystal Precious 99.1fm\"\n",
        "   ], \n",
        "   [\n",
        "    50521059, \n",
        "    \"Shemian - classical symphony (Alle Farben Remix) Snip\"\n",
        "   ], \n",
        "   [\n",
        "    52359007, \n",
        "    \"Alfred Heinrichs - Love Berlin! [FOTM001] FREE DOWNLOAD\"\n",
        "   ], \n",
        "   [\n",
        "    47214177, \n",
        "    \"Maayan Nidam - The Great Suspenders\"\n",
        "   ], \n",
        "   [\n",
        "    54938733, \n",
        "    \"Bturn Podcast #007 - George Michael Jackson (Aug 2012)\"\n",
        "   ]\n",
        "  ]\n",
        " }, \n",
        " {\n",
        "  \"_id\": {\n",
        "   \"$oid\": \"548494035cab4d0a76405eaf\"\n",
        "  }, \n",
        "  \"uid\": 68831272, \n",
        "  \"favorites\": [\n",
        "   [\n",
        "    134668136, \n",
        "    \"Much Too Much\"\n",
        "   ], \n",
        "   [\n",
        "    68557140, \n",
        "    \"Nicolas Jaar & Theatre Roosevelt - The Ego\"\n",
        "   ], \n",
        "   [\n",
        "    15129623, \n",
        "    \"Chemin des figons - Sascha Funke\"\n",
        "   ], \n",
        "   [\n",
        "    38180130, \n",
        "    \"Sascha Funke - Mango\"\n",
        "   ], \n",
        "   [\n",
        "    156441339, \n",
        "    \"Pizeta - Remedios (Ramon Tapia & Stavroz Remix)\"\n",
        "   ], \n",
        "   [\n",
        "    94301394, \n",
        "    \"Stavroz - The Ginning\"\n",
        "   ], \n",
        "   [\n",
        "    94302200, \n",
        "    \"Stavroz - The Finishing\"\n",
        "   ]\n",
        "  ]\n",
        " }, \n",
        " {\n",
        "  \"_id\": {\n",
        "   \"$oid\": \"548494135cab4d0a76405ec1\"\n",
        "  }, \n",
        "  \"uid\": 90459800, \n",
        "  \"favorites\": [\n",
        "   [\n",
        "    38180130, \n",
        "    \"Sascha Funke - Mango\"\n",
        "   ], \n",
        "   [\n",
        "    102103872, \n",
        "    \"Robin Schulz & Alligatoah - Willst du (Release date 05.09.2014)\"\n",
        "   ], \n",
        "   [\n",
        "    122322054, \n",
        "    \"Mashup-Germany - Top Of The Pops 2013 (Hey Brother)\"\n",
        "   ]\n",
        "  ]\n",
        " }, \n",
        " {\n",
        "  \"_id\": {\n",
        "   \"$oid\": \"5484942e5cab4d0a76405edd\"\n",
        "  }, \n",
        "  \"uid\": 25737364, \n",
        "  \"favorites\": [\n",
        "   [\n",
        "    135630006, \n",
        "    \"Punch The Sky Vol.2\"\n",
        "   ], \n",
        "   [\n",
        "    24896722, \n",
        "    \"Ane Brun feat. First Aid Kit - Do You Remember (Live)\"\n",
        "   ], \n",
        "   [\n",
        "    64209163, \n",
        "    \"First Aid Kit - America at Neptune Theatre\"\n",
        "   ], \n",
        "   [\n",
        "    24683074, \n",
        "    \"02 Daphni - Yes, I Know\"\n",
        "   ], \n",
        "   [\n",
        "    23828288, \n",
        "    \"Noze - You have to dance\"\n",
        "   ], \n",
        "   [\n",
        "    38180130, \n",
        "    \"Sascha Funke - Mango\"\n",
        "   ]\n",
        "  ]\n",
        " }\n",
        "]"
       ]
      },
      {
       "output_type": "stream",
       "stream": "stdout",
       "text": [
        "\n"
       ]
      }
     ],
     "prompt_number": 266
    },
    {
     "cell_type": "code",
     "collapsed": false,
     "input": [
      "# helper function that inserts user favourites to mongo\n",
      "\n",
      "def writeUserToMongo(uid, ufavs, db):\n",
      "    try:\n",
      "        collection = db.user_favorites  # adds collection soundcloud.user_favourites\n",
      "\n",
      "        user = { \"uid\": uid,\n",
      "                 \"favorites\": ufavs #TODO: format properly as json\n",
      "                }\n",
      "\n",
      "        o = collection.insert(user)\n",
      "    \n",
      "    except pymongo.errors.DuplicateKeyError, e:\n",
      "        print e"
     ],
     "language": "python",
     "metadata": {},
     "outputs": [],
     "prompt_number": 210
    },
    {
     "cell_type": "code",
     "collapsed": false,
     "input": [
      "import requests\n",
      "# get all songs from all followers\n",
      "\n",
      "#TODO get all song where they commented on /users/{id}/comments\n",
      "#TODO get all songs with same tags\n",
      "#IDEA check for users that are similar based on comments?\n",
      "\n",
      "fan_ids =  [x[0] for x in fans]\n",
      "\n",
      "\n",
      "followers = fan_ids #just using fans for now\n",
      "myset = set(followers) # unique ids\n",
      "followers = list(myset)\n",
      "\n",
      "\n",
      "print '%d Followers' % len(followers)  \n",
      " "
     ],
     "language": "python",
     "metadata": {},
     "outputs": [
      {
       "output_type": "stream",
       "stream": "stdout",
       "text": [
        "1000 Followers\n"
       ]
      }
     ],
     "prompt_number": 211
    },
    {
     "cell_type": "code",
     "collapsed": false,
     "input": [
      "# Get all favorites for all users that like the seed song\n",
      "# Bottleneck! Takes up to 1 second per user. \n",
      "# Assuming this is done offline and results are cached e.g. in mongodb\n",
      "\n",
      "songs = []\n",
      "i=0\n",
      "stored = 0\n",
      "for uid in followers:   # 1.2 seconds per user  = 25 mins\n",
      "    i=i+1\n",
      "    a = datetime.datetime.now()    \n",
      "    try:\n",
      "        user =  [u['favorites'] for u in db.user_favorites.find({\"uid\" : uid})] # does user exist in cache?\n",
      "        #if uid in cached_user_favorites:\n",
      "        if len(user)>0:\n",
      "            #ufavs = cached_user_favorites[uid]\n",
      "            ufavs = user[0]\n",
      "            #print \"got it from mongo\"\n",
      "        else:\n",
      "            #print '/users/%d/favorites' % uid\n",
      "            ufavs = [[track.id, track.title] for track in client.get('/users/%d/favorites' % uid)] \n",
      "            #ufavs = [[track.id, track.title] for track in getAllHighPageSize('/users/%d/favorites' % uid,200,1000)] \n",
      "            #cached_user_favorites[uid]=ufavs\n",
      "            writeUserToMongo(uid, ufavs, db) #TODO: probably better to store just the id and have a lookup table in mongo\n",
      "            stored = stored +1\n",
      "        songs=songs+[track for track in ufavs]\n",
      "        #print 'Track ID: %d, Title: \"%s\"' % (track.id, track.title)\n",
      "    except requests.HTTPError, e:\n",
      "      print 'HTTP ERROR occured for user %d: %s' %(uid, e)\n",
      "\n",
      "    b = datetime.datetime.now()\n",
      "    c = b - a\n",
      "\n",
      "    # print average time taken once in a while to see it's still active\n",
      "    if i % 20 == 0:  \n",
      "        print '%d followers processed, %s seconds per user, %d inserted in mongo' % (i, str(c.total_seconds()), stored)\n",
      "        \n"
     ],
     "language": "python",
     "metadata": {},
     "outputs": [
      {
       "output_type": "stream",
       "stream": "stdout",
       "text": [
        "20 followers processed, 0.000445 seconds per user, 0 inserted in mongo\n",
        "40 followers processed, 0.000539 seconds per user, 0 inserted in mongo\n",
        "60 followers processed, 0.000673 seconds per user, 0 inserted in mongo\n",
        "80 followers processed, 0.750846 seconds per user, 18 inserted in mongo"
       ]
      },
      {
       "output_type": "stream",
       "stream": "stdout",
       "text": [
        "\n",
        "100 followers processed, 0.277589 seconds per user, 38 inserted in mongo"
       ]
      },
      {
       "output_type": "stream",
       "stream": "stdout",
       "text": [
        "\n",
        "120 followers processed, 1.05881 seconds per user, 58 inserted in mongo"
       ]
      },
      {
       "output_type": "stream",
       "stream": "stdout",
       "text": [
        "\n",
        "140 followers processed, 0.277043 seconds per user, 78 inserted in mongo"
       ]
      },
      {
       "output_type": "stream",
       "stream": "stdout",
       "text": [
        "\n",
        "160 followers processed, 1.083368 seconds per user, 97 inserted in mongo"
       ]
      },
      {
       "output_type": "stream",
       "stream": "stdout",
       "text": [
        "\n",
        "180 followers processed, 0.96922 seconds per user, 117 inserted in mongo"
       ]
      },
      {
       "output_type": "stream",
       "stream": "stdout",
       "text": [
        "\n",
        "200 followers processed, 1.137453 seconds per user, 137 inserted in mongo"
       ]
      },
      {
       "output_type": "stream",
       "stream": "stdout",
       "text": [
        "\n",
        "220 followers processed, 0.893109 seconds per user, 157 inserted in mongo"
       ]
      },
      {
       "output_type": "stream",
       "stream": "stdout",
       "text": [
        "\n",
        "240 followers processed, 0.291826 seconds per user, 177 inserted in mongo"
       ]
      },
      {
       "output_type": "stream",
       "stream": "stdout",
       "text": [
        "\n",
        "260 followers processed, 0.266825 seconds per user, 197 inserted in mongo"
       ]
      },
      {
       "output_type": "stream",
       "stream": "stdout",
       "text": [
        "\n",
        "280 followers processed, 0.677301 seconds per user, 217 inserted in mongo"
       ]
      },
      {
       "output_type": "stream",
       "stream": "stdout",
       "text": [
        "\n",
        "300 followers processed, 1.349357 seconds per user, 237 inserted in mongo"
       ]
      },
      {
       "output_type": "stream",
       "stream": "stdout",
       "text": [
        "\n",
        "320 followers processed, 1.002297 seconds per user, 257 inserted in mongo"
       ]
      },
      {
       "output_type": "stream",
       "stream": "stdout",
       "text": [
        "\n",
        "340 followers processed, 1.019247 seconds per user, 277 inserted in mongo"
       ]
      },
      {
       "output_type": "stream",
       "stream": "stdout",
       "text": [
        "\n",
        "360 followers processed, 0.36343 seconds per user, 297 inserted in mongo"
       ]
      },
      {
       "output_type": "stream",
       "stream": "stdout",
       "text": [
        "\n",
        "380 followers processed, 0.834669 seconds per user, 317 inserted in mongo"
       ]
      },
      {
       "output_type": "stream",
       "stream": "stdout",
       "text": [
        "\n",
        "400 followers processed, 0.484511 seconds per user, 337 inserted in mongo"
       ]
      },
      {
       "output_type": "stream",
       "stream": "stdout",
       "text": [
        "\n",
        "420 followers processed, 0.728889 seconds per user, 357 inserted in mongo"
       ]
      },
      {
       "output_type": "stream",
       "stream": "stdout",
       "text": [
        "\n",
        "440 followers processed, 1.225672 seconds per user, 377 inserted in mongo"
       ]
      },
      {
       "output_type": "stream",
       "stream": "stdout",
       "text": [
        "\n",
        "460 followers processed, 1.40904 seconds per user, 397 inserted in mongo"
       ]
      },
      {
       "output_type": "stream",
       "stream": "stdout",
       "text": [
        "\n",
        "480 followers processed, 0.696679 seconds per user, 417 inserted in mongo"
       ]
      },
      {
       "output_type": "stream",
       "stream": "stdout",
       "text": [
        "\n",
        "500 followers processed, 0.394232 seconds per user, 437 inserted in mongo"
       ]
      },
      {
       "output_type": "stream",
       "stream": "stdout",
       "text": [
        "\n",
        "520 followers processed, 1.693707 seconds per user, 457 inserted in mongo"
       ]
      },
      {
       "output_type": "stream",
       "stream": "stdout",
       "text": [
        "\n",
        "540 followers processed, 0.993849 seconds per user, 477 inserted in mongo"
       ]
      },
      {
       "output_type": "stream",
       "stream": "stdout",
       "text": [
        "\n",
        "560 followers processed, 1.065227 seconds per user, 497 inserted in mongo"
       ]
      },
      {
       "output_type": "stream",
       "stream": "stdout",
       "text": [
        "\n",
        "580 followers processed, 1.07251 seconds per user, 517 inserted in mongo"
       ]
      },
      {
       "output_type": "stream",
       "stream": "stdout",
       "text": [
        "\n",
        "600 followers processed, 0.991936 seconds per user, 537 inserted in mongo"
       ]
      },
      {
       "output_type": "stream",
       "stream": "stdout",
       "text": [
        "\n",
        "620 followers processed, 0.504624 seconds per user, 557 inserted in mongo"
       ]
      },
      {
       "output_type": "stream",
       "stream": "stdout",
       "text": [
        "\n",
        "640 followers processed, 1.615066 seconds per user, 577 inserted in mongo"
       ]
      },
      {
       "output_type": "stream",
       "stream": "stdout",
       "text": [
        "\n",
        "660 followers processed, 0.667139 seconds per user, 597 inserted in mongo"
       ]
      },
      {
       "output_type": "stream",
       "stream": "stdout",
       "text": [
        "\n",
        "680 followers processed, 1.381709 seconds per user, 617 inserted in mongo"
       ]
      },
      {
       "output_type": "stream",
       "stream": "stdout",
       "text": [
        "\n",
        "700 followers processed, 0.583907 seconds per user, 637 inserted in mongo"
       ]
      },
      {
       "output_type": "stream",
       "stream": "stdout",
       "text": [
        "\n",
        "720 followers processed, 0.909686 seconds per user, 657 inserted in mongo"
       ]
      },
      {
       "output_type": "stream",
       "stream": "stdout",
       "text": [
        "\n",
        "740 followers processed, 0.77733 seconds per user, 677 inserted in mongo"
       ]
      },
      {
       "output_type": "stream",
       "stream": "stdout",
       "text": [
        "\n",
        "760 followers processed, 0.695217 seconds per user, 697 inserted in mongo"
       ]
      },
      {
       "output_type": "stream",
       "stream": "stdout",
       "text": [
        "\n",
        "HTTP ERROR occured for user 121359891: 500 Server Error: Internal Server Error"
       ]
      },
      {
       "output_type": "stream",
       "stream": "stdout",
       "text": [
        "\n",
        "780 followers processed, 1.079773 seconds per user, 716 inserted in mongo"
       ]
      },
      {
       "output_type": "stream",
       "stream": "stdout",
       "text": [
        "\n",
        "800 followers processed, 0.989923 seconds per user, 736 inserted in mongo"
       ]
      },
      {
       "output_type": "stream",
       "stream": "stdout",
       "text": [
        "\n",
        "820 followers processed, 0.532749 seconds per user, 756 inserted in mongo"
       ]
      },
      {
       "output_type": "stream",
       "stream": "stdout",
       "text": [
        "\n",
        "840 followers processed, 0.868567 seconds per user, 776 inserted in mongo"
       ]
      },
      {
       "output_type": "stream",
       "stream": "stdout",
       "text": [
        "\n",
        "860 followers processed, 0.307495 seconds per user, 796 inserted in mongo"
       ]
      },
      {
       "output_type": "stream",
       "stream": "stdout",
       "text": [
        "\n",
        "880 followers processed, 0.594503 seconds per user, 816 inserted in mongo"
       ]
      },
      {
       "output_type": "stream",
       "stream": "stdout",
       "text": [
        "\n",
        "900 followers processed, 1.256593 seconds per user, 836 inserted in mongo"
       ]
      },
      {
       "output_type": "stream",
       "stream": "stdout",
       "text": [
        "\n",
        "920 followers processed, 0.295 seconds per user, 856 inserted in mongo"
       ]
      },
      {
       "output_type": "stream",
       "stream": "stdout",
       "text": [
        "\n",
        "940 followers processed, 0.918351 seconds per user, 876 inserted in mongo"
       ]
      },
      {
       "output_type": "stream",
       "stream": "stdout",
       "text": [
        "\n",
        "960 followers processed, 0.973225 seconds per user, 896 inserted in mongo"
       ]
      },
      {
       "output_type": "stream",
       "stream": "stdout",
       "text": [
        "\n",
        "980 followers processed, 0.363622 seconds per user, 916 inserted in mongo"
       ]
      },
      {
       "output_type": "stream",
       "stream": "stdout",
       "text": [
        "\n",
        "1000 followers processed, 0.81416 seconds per user, 936 inserted in mongo"
       ]
      },
      {
       "output_type": "stream",
       "stream": "stdout",
       "text": [
        "\n"
       ]
      }
     ],
     "prompt_number": 214
    },
    {
     "cell_type": "code",
     "collapsed": false,
     "input": [
      "print \"Number of users in MongoDB soundcloud.user_favorites:\"\n",
      "print db.user_favorites.count()"
     ],
     "language": "python",
     "metadata": {},
     "outputs": [
      {
       "output_type": "stream",
       "stream": "stdout",
       "text": [
        "Number of users in MongoDB soundcloud.user_favorites:\n",
        "1871\n"
       ]
      }
     ],
     "prompt_number": 215
    },
    {
     "cell_type": "code",
     "collapsed": false,
     "input": [
      "#Find user in mongodb\n",
      "uid = 6940695\n",
      "user =  [u for u in db.user_favorites.find({\"uid\" : uid})]\n",
      "print len(user)\n",
      "\n",
      "def pp(o, indent=1):\n",
      "    print json.dumps(o, indent=indent, default=json_util.default)\n",
      "\n",
      "print \"All the users favorites:\"\n",
      "pp(user)"
     ],
     "language": "python",
     "metadata": {},
     "outputs": [
      {
       "output_type": "stream",
       "stream": "stdout",
       "text": [
        "1\n",
        "All the users favorites:\n",
        "[\n",
        " {\n",
        "  \"_id\": {\n",
        "   \"$oid\": \"548493ca5cab4d0a76405ea5\"\n",
        "  }, \n",
        "  \"uid\": 6940695, \n",
        "  \"favorites\": [\n",
        "   [\n",
        "    83290142, \n",
        "    \"spazieren gehen im Traumland 5 @ Systemfeind\"\n",
        "   ], \n",
        "   [\n",
        "    69311911, \n",
        "    \"Spazieren gehen im Traumland part 4\"\n",
        "   ], \n",
        "   [\n",
        "    58075576, \n",
        "    \"Spazieren gehen im Traumland part 3\"\n",
        "   ], \n",
        "   [\n",
        "    51422388, \n",
        "    \"Spazieren gehen im Traumland part 1\"\n",
        "   ], \n",
        "   [\n",
        "    95684467, \n",
        "    \"Help Me Lose My Mind ft. London Grammar\"\n",
        "   ], \n",
        "   [\n",
        "    95224532, \n",
        "    \"SVT\\u2013Podcast028  \\u2013 Marlon Hoffstadt & HRRSN -liveset-\"\n",
        "   ], \n",
        "   [\n",
        "    94803730, \n",
        "    \"Robin Schulz - Cheating (Bootleg)\"\n",
        "   ], \n",
        "   [\n",
        "    64515659, \n",
        "    \"Chris Malinchak - So Good To Me\"\n",
        "   ], \n",
        "   [\n",
        "    90968750, \n",
        "    \"#Beautiful\"\n",
        "   ], \n",
        "   [\n",
        "    24300049, \n",
        "    \"Missing Love (Original Mix) 12\\\" [Needwant]\"\n",
        "   ], \n",
        "   [\n",
        "    38180130, \n",
        "    \"Sascha Funke - Mango\"\n",
        "   ], \n",
        "   [\n",
        "    29552513, \n",
        "    \"Theophilus London - Wine & Chocolates (andhim rmx)\"\n",
        "   ], \n",
        "   [\n",
        "    46668013, \n",
        "    \"BW001 - Julio Bashmore - Au Seve\"\n",
        "   ], \n",
        "   [\n",
        "    90149562, \n",
        "    \"KlangKuenstler - Barfuss Auf Wolken [Stil vor Talent]\"\n",
        "   ], \n",
        "   [\n",
        "    81942585, \n",
        "    \"FM Laeti - Show me the way (David Keller Remix)\"\n",
        "   ], \n",
        "   [\n",
        "    89837612, \n",
        "    \"Mr. Probz - Waves (Robin Schulz Remix) OUT NOW!!! on Ultra Music\"\n",
        "   ], \n",
        "   [\n",
        "    51230423, \n",
        "    \"Nicon\\u00e9 & Sascha Braemer - Caje (album edit)\"\n",
        "   ], \n",
        "   [\n",
        "    65641283, \n",
        "    \"Ludacris \\\"Rest Of My Life\\\" feat. Usher & David Guetta\"\n",
        "   ], \n",
        "   [\n",
        "    16683323, \n",
        "    \"Noir and Haze - Around (Solomun Vox) 128kbit - Noir Music\"\n",
        "   ], \n",
        "   [\n",
        "    22975333, \n",
        "    \"LAING - Morgens immer m\\u00fcde\"\n",
        "   ], \n",
        "   [\n",
        "    57443865, \n",
        "    \"Redlight - Lost In Your Love Lyrics.\"\n",
        "   ], \n",
        "   [\n",
        "    75868018, \n",
        "    \"White Noise ft. AlunaGeorge\"\n",
        "   ], \n",
        "   [\n",
        "    59051244, \n",
        "    \"Latch ft. Sam Smith\"\n",
        "   ], \n",
        "   [\n",
        "    89585394, \n",
        "    \"HVOB \\u2013 Always like this (Oliver Koletzki Remix) [Full Track]\"\n",
        "   ], \n",
        "   [\n",
        "    66254854, \n",
        "    \"K Koke Ft Maverick Sabre - Turn Back (Tough Love Remix)\"\n",
        "   ], \n",
        "   [\n",
        "    61423202, \n",
        "    \"AIN'T NO USE [DOWNLOAD]\"\n",
        "   ], \n",
        "   [\n",
        "    78758801, \n",
        "    \"Rihanna - Stay (Marius H\\u00f6rsturz Edit)\"\n",
        "   ], \n",
        "   [\n",
        "    69320059, \n",
        "    \"Stephan Funkmann - Zeit f\\u00fcr Liebe (Wintermixtape 2012)\"\n",
        "   ], \n",
        "   [\n",
        "    55469833, \n",
        "    \"Alle Farben - 38 (Gentian Blue) \\\"Familiar Traveler\\\"\"\n",
        "   ], \n",
        "   [\n",
        "    56738298, \n",
        "    \"Ron Flatters - Herr Lonnert (Alle Farben Remix) Snip\"\n",
        "   ], \n",
        "   [\n",
        "    7507955, \n",
        "    \"Waulking Song\"\n",
        "   ], \n",
        "   [\n",
        "    5493752, \n",
        "    \"Totally Extinct Enormous Dinosaurs 'Garden'\"\n",
        "   ], \n",
        "   [\n",
        "    34405900, \n",
        "    \"Mumford & Sons - Little Lion Man\"\n",
        "   ], \n",
        "   [\n",
        "    29779331, \n",
        "    \"Nero - Must Be The Feeling\"\n",
        "   ]\n",
        "  ]\n",
        " }\n",
        "]\n"
       ]
      }
     ],
     "prompt_number": 216
    },
    {
     "cell_type": "heading",
     "level": 2,
     "metadata": {},
     "source": [
      "Now we have all favorites from all fans of the seed"
     ]
    },
    {
     "cell_type": "code",
     "collapsed": false,
     "input": [
      "print '%d Songs' % len(songs) \n",
      "print \n",
      "for song in songs[1:10]: \n",
      "     print song[1]\n",
      "\n",
      "print '...'\n"
     ],
     "language": "python",
     "metadata": {},
     "outputs": [
      {
       "output_type": "stream",
       "stream": "stdout",
       "text": [
        "34530 Songs\n",
        "\n",
        "J Jean & Lace - I Don't Mind\n",
        "You Could Be Happy - Snow Patrol\n",
        "Snow Patrol - Chasing Cars\n",
        "Trey Songz & Chris Brown - 24 Hours (Remix)\n",
        "Chris Brown - Songs On 12 Play feat. Trey Songz\n",
        "Drake - 0 To 100 / The Catch Up (T-Town Refix feat. IDEH)\n",
        "The Worst - Jhen\u00e9 Aiko\n",
        "Our Love\n",
        "Thijs Bos - Cloudless\n",
        "...\n"
       ]
      }
     ],
     "prompt_number": 217
    },
    {
     "cell_type": "heading",
     "level": 2,
     "metadata": {},
     "source": [
      "Counting frequencies:"
     ]
    },
    {
     "cell_type": "code",
     "collapsed": false,
     "input": [
      "song_map = [(song[0],song[1]) for song in songs] \n",
      "\n",
      "print song_map[1:15]"
     ],
     "language": "python",
     "metadata": {},
     "outputs": [
      {
       "output_type": "stream",
       "stream": "stdout",
       "text": [
        "[(178288324, u\"J Jean & Lace - I Don't Mind\"), (46384188, u'You Could Be Happy - Snow Patrol'), (54430683, u'Snow Patrol - Chasing Cars'), (171572341, u'Trey Songz & Chris Brown - 24 Hours (Remix)'), (167406244, u'Chris Brown - Songs On 12 Play feat. Trey Songz'), (177700559, u'Drake - 0 To 100 / The Catch Up (T-Town Refix feat. IDEH)'), (119810096, u'The Worst - Jhen\\xe9 Aiko'), (162983976, u'Our Love'), (174564528, u'Thijs Bos - Cloudless'), (173513290, u'Jason Burns - Freak You'), (120932141, u'Mindkraft - Lib\\xe9ri Fatali ( Work in progress )'), (139889529, u'Good Bye From Far Away      [Soon on beatport]'), (143177579, u'Mindkraft - FULL E.P MELANCHOLIA  // Little Genius record . OUT NOW'), (152345931, u'MELODAYS 31.05.+01.06. White Channel MINDKRAFT')]\n"
       ]
      }
     ],
     "prompt_number": 218
    },
    {
     "cell_type": "code",
     "collapsed": false,
     "input": [
      "agg =  [ Counter(song).items()\n",
      "    for song in [song_map]][0]\n",
      "\n",
      "#print agg[1:10]\n",
      "\n",
      "top_songs = sorted(agg, key=lambda tup: tup[1], reverse=True)\n",
      "\n",
      "print '%d Songs' % len(top_songs)\n",
      "\n",
      "for x in top_songs[1:10]:\n",
      "    print x\n",
      "#from tabulate import tabulate\n",
      "#print tabulate( ?????, headers=['user_id', '#comments'])\n"
     ],
     "language": "python",
     "metadata": {},
     "outputs": [
      {
       "output_type": "stream",
       "stream": "stdout",
       "text": [
        "22477 Songs\n",
        "((3896406, u'Paul Kalkbrenner- Aaron'), 83)\n",
        "((123406633, u'Lilly Wood & the Prick & Robin Schulz - Prayer In C (Robin Schulz Remix) BUY ON I TUNES NOW !!!'), 79)\n",
        "((7474908, u'Paul Kalkbrenner - Square 1 (Original Mix)'), 78)\n",
        "((7475138, u'Paul Kalkbrenner - Gebrunn Gebrunn (Original Mix)'), 66)\n",
        "((5724545, u'Fritz Kalkbrenner - Facing The Sun'), 61)\n",
        "((167810531, u'Robin Schulz Feat. Jasmine Thompson - Sun Goes Down (available on iTunes now)'), 61)\n",
        "((138712428, u'ZHU - Faded.'), 50)\n",
        "((7474761, u'Paul Kalkbrenner - Bengang (Original Mix)'), 49)\n",
        "((89837612, u'Mr. Probz - Waves (Robin Schulz Remix) OUT NOW!!! on Ultra Music'), 47)\n"
       ]
      }
     ],
     "prompt_number": 219
    },
    {
     "cell_type": "code",
     "collapsed": false,
     "input": [
      "# cacheing tracks in python dict\n",
      "cached_tracks = {}\n",
      "# print len(cached_tracks)"
     ],
     "language": "python",
     "metadata": {},
     "outputs": [],
     "prompt_number": 188
    },
    {
     "cell_type": "heading",
     "level": 2,
     "metadata": {},
     "source": [
      "Now we create the normalized candidate list based on co-occurences "
     ]
    },
    {
     "cell_type": "code",
     "collapsed": false,
     "input": [
      "related_tracks = []  # ~1 second per track: only 700 tracks out of 22K are co-occuring\n",
      "i=0\n",
      "\n",
      "for song in top_songs:\n",
      "    a = datetime.datetime.now()\n",
      "    i=i+1\n",
      "    freq = song[1]\n",
      "    if freq >= 5: # only for high enough intersections to save time (top_songs are sorted by intersections)\n",
      "        a = datetime.datetime.now()\n",
      "        tid = song[0][0]\n",
      "        \n",
      "        try:\n",
      "            if tid in cached_tracks:\n",
      "                track_stats = cached_tracks[tid]\n",
      "            else:\n",
      "                track = client.get('/tracks/%d' %tid)\n",
      "                track_stats = [track.id, freq, freq*1000/float(track.favoritings_count), track.title, track.favoritings_count, track.comment_count, track.playback_count] \n",
      "                cached_tracks[tid]=track_stats \n",
      "            related_tracks = related_tracks + [track_stats]\n",
      "        except AttributeError, e:\n",
      "            print 'Attribute Error occured for track %d: %s' %(tid, e)\n",
      "        except requests.HTTPError, e:\n",
      "            print 'HTTPError occured for track %d: %s' %(tid, e)\n",
      "        b = datetime.datetime.now()\n",
      "        c = b - a\n",
      "    \n",
      "    if (i % 10 == 0) & (freq >= 5):  \n",
      "        print '%d tracks processed, %s seconds per track' % (i, str(c.total_seconds()))\n",
      "    \n",
      "print\n",
      "print '%d tracks found with >5 co-occurences' %len(related_tracks)\n",
      "        \n"
     ],
     "language": "python",
     "metadata": {},
     "outputs": [
      {
       "output_type": "stream",
       "stream": "stdout",
       "text": [
        "10 tracks processed, 1.7e-05 seconds per track\n",
        "20 tracks processed, 1.8e-05 seconds per track\n",
        "30 tracks processed, 1.8e-05 seconds per track\n",
        "40 tracks processed, 1.5e-05 seconds per track\n",
        "50 tracks processed, 1.1e-05 seconds per track"
       ]
      },
      {
       "output_type": "stream",
       "stream": "stdout",
       "text": [
        "\n",
        "60 tracks processed, 1e-05 seconds per track"
       ]
      },
      {
       "output_type": "stream",
       "stream": "stdout",
       "text": [
        "\n",
        "70 tracks processed, 1e-05 seconds per track"
       ]
      },
      {
       "output_type": "stream",
       "stream": "stdout",
       "text": [
        "\n",
        "80 tracks processed, 1.3e-05 seconds per track"
       ]
      },
      {
       "output_type": "stream",
       "stream": "stdout",
       "text": [
        "\n",
        "90 tracks processed, 1.1e-05 seconds per track"
       ]
      },
      {
       "output_type": "stream",
       "stream": "stdout",
       "text": [
        "\n",
        "100 tracks processed, 1.2e-05 seconds per track"
       ]
      },
      {
       "output_type": "stream",
       "stream": "stdout",
       "text": [
        "\n",
        "110 tracks processed, 0.66945 seconds per track"
       ]
      },
      {
       "output_type": "stream",
       "stream": "stdout",
       "text": [
        "\n",
        "Attribute Error occured for track 142370360: "
       ]
      },
      {
       "output_type": "stream",
       "stream": "stdout",
       "text": [
        "\n",
        "120 tracks processed, 2.1e-05 seconds per track\n",
        "130 tracks processed, 0.277563 seconds per track"
       ]
      },
      {
       "output_type": "stream",
       "stream": "stdout",
       "text": [
        "\n",
        "140 tracks processed, 0.240682 seconds per track"
       ]
      },
      {
       "output_type": "stream",
       "stream": "stdout",
       "text": [
        "\n",
        "150 tracks processed, 1.1e-05 seconds per track"
       ]
      },
      {
       "output_type": "stream",
       "stream": "stdout",
       "text": [
        "\n",
        "160 tracks processed, 0.254238 seconds per track"
       ]
      },
      {
       "output_type": "stream",
       "stream": "stdout",
       "text": [
        "\n",
        "170 tracks processed, 1.2e-05 seconds per track"
       ]
      },
      {
       "output_type": "stream",
       "stream": "stdout",
       "text": [
        "\n",
        "180 tracks processed, 6e-05 seconds per track"
       ]
      },
      {
       "output_type": "stream",
       "stream": "stdout",
       "text": [
        "\n",
        "Attribute Error occured for track 165130340: "
       ]
      },
      {
       "output_type": "stream",
       "stream": "stdout",
       "text": [
        "\n",
        "190 tracks processed, 0.247402 seconds per track"
       ]
      },
      {
       "output_type": "stream",
       "stream": "stdout",
       "text": [
        "\n",
        "200 tracks processed, 0.256021 seconds per track"
       ]
      },
      {
       "output_type": "stream",
       "stream": "stdout",
       "text": [
        "\n",
        "210 tracks processed, 5.8e-05 seconds per track"
       ]
      },
      {
       "output_type": "stream",
       "stream": "stdout",
       "text": [
        "\n",
        "Attribute Error occured for track 165018741: "
       ]
      },
      {
       "output_type": "stream",
       "stream": "stdout",
       "text": [
        "\n",
        "220 tracks processed, 1.3e-05 seconds per track\n",
        "230 tracks processed, 0.248166 seconds per track"
       ]
      },
      {
       "output_type": "stream",
       "stream": "stdout",
       "text": [
        "\n",
        "240 tracks processed, 0.249447 seconds per track"
       ]
      },
      {
       "output_type": "stream",
       "stream": "stdout",
       "text": [
        "\n",
        "250 tracks processed, 1.2e-05 seconds per track"
       ]
      },
      {
       "output_type": "stream",
       "stream": "stdout",
       "text": [
        "\n",
        "260 tracks processed, 1.2e-05 seconds per track"
       ]
      },
      {
       "output_type": "stream",
       "stream": "stdout",
       "text": [
        "\n",
        "270 tracks processed, 1.3e-05 seconds per track"
       ]
      },
      {
       "output_type": "stream",
       "stream": "stdout",
       "text": [
        "\n",
        "280 tracks processed, 6.3e-05 seconds per track"
       ]
      },
      {
       "output_type": "stream",
       "stream": "stdout",
       "text": [
        "\n",
        "290 tracks processed, 0.316176 seconds per track"
       ]
      },
      {
       "output_type": "stream",
       "stream": "stdout",
       "text": [
        "\n",
        "300 tracks processed, 0.709002 seconds per track"
       ]
      },
      {
       "output_type": "stream",
       "stream": "stdout",
       "text": [
        "\n",
        "310 tracks processed, 0.289046 seconds per track"
       ]
      },
      {
       "output_type": "stream",
       "stream": "stdout",
       "text": [
        "\n",
        "320 tracks processed, 0.734385 seconds per track"
       ]
      },
      {
       "output_type": "stream",
       "stream": "stdout",
       "text": [
        "\n",
        "330 tracks processed, 0.25365 seconds per track"
       ]
      },
      {
       "output_type": "stream",
       "stream": "stdout",
       "text": [
        "\n",
        "340 tracks processed, 0.269892 seconds per track"
       ]
      },
      {
       "output_type": "stream",
       "stream": "stdout",
       "text": [
        "\n",
        "350 tracks processed, 5.8e-05 seconds per track"
       ]
      },
      {
       "output_type": "stream",
       "stream": "stdout",
       "text": [
        "\n",
        "360 tracks processed, 5.6e-05 seconds per track"
       ]
      },
      {
       "output_type": "stream",
       "stream": "stdout",
       "text": [
        "\n",
        "370 tracks processed, 0.233265 seconds per track"
       ]
      },
      {
       "output_type": "stream",
       "stream": "stdout",
       "text": [
        "\n",
        "Attribute Error occured for track 165128143: "
       ]
      },
      {
       "output_type": "stream",
       "stream": "stdout",
       "text": [
        "\n",
        "380 tracks processed, 0.266613 seconds per track"
       ]
      },
      {
       "output_type": "stream",
       "stream": "stdout",
       "text": [
        "\n",
        "390 tracks processed, 2.3e-05 seconds per track"
       ]
      },
      {
       "output_type": "stream",
       "stream": "stdout",
       "text": [
        "\n",
        "400 tracks processed, 0.235978 seconds per track"
       ]
      },
      {
       "output_type": "stream",
       "stream": "stdout",
       "text": [
        "\n",
        "410 tracks processed, 0.236275 seconds per track"
       ]
      },
      {
       "output_type": "stream",
       "stream": "stdout",
       "text": [
        "\n",
        "420 tracks processed, 0.25389 seconds per track"
       ]
      },
      {
       "output_type": "stream",
       "stream": "stdout",
       "text": [
        "\n",
        "430 tracks processed, 0.312076 seconds per track"
       ]
      },
      {
       "output_type": "stream",
       "stream": "stdout",
       "text": [
        "\n",
        "440 tracks processed, 0.762206 seconds per track"
       ]
      },
      {
       "output_type": "stream",
       "stream": "stdout",
       "text": [
        "\n",
        "450 tracks processed, 0.253485 seconds per track"
       ]
      },
      {
       "output_type": "stream",
       "stream": "stdout",
       "text": [
        "\n",
        "460 tracks processed, 1.4e-05 seconds per track"
       ]
      },
      {
       "output_type": "stream",
       "stream": "stdout",
       "text": [
        "\n",
        "470 tracks processed, 0.251711 seconds per track"
       ]
      },
      {
       "output_type": "stream",
       "stream": "stdout",
       "text": [
        "\n",
        "480 tracks processed, 1.6e-05 seconds per track"
       ]
      },
      {
       "output_type": "stream",
       "stream": "stdout",
       "text": [
        "\n",
        "490 tracks processed, 0.271427 seconds per track"
       ]
      },
      {
       "output_type": "stream",
       "stream": "stdout",
       "text": [
        "\n",
        "Attribute Error occured for track 168172215: "
       ]
      },
      {
       "output_type": "stream",
       "stream": "stdout",
       "text": [
        "\n",
        "500 tracks processed, 0.697952 seconds per track"
       ]
      },
      {
       "output_type": "stream",
       "stream": "stdout",
       "text": [
        "\n",
        "510 tracks processed, 6.1e-05 seconds per track"
       ]
      },
      {
       "output_type": "stream",
       "stream": "stdout",
       "text": [
        "\n",
        "520 tracks processed, 0.284284 seconds per track"
       ]
      },
      {
       "output_type": "stream",
       "stream": "stdout",
       "text": [
        "\n",
        "530 tracks processed, 0.242896 seconds per track"
       ]
      },
      {
       "output_type": "stream",
       "stream": "stdout",
       "text": [
        "\n",
        "540 tracks processed, 0.278236 seconds per track"
       ]
      },
      {
       "output_type": "stream",
       "stream": "stdout",
       "text": [
        "\n",
        "550 tracks processed, 0.813561 seconds per track"
       ]
      },
      {
       "output_type": "stream",
       "stream": "stdout",
       "text": [
        "\n",
        "560 tracks processed, 0.279224 seconds per track"
       ]
      },
      {
       "output_type": "stream",
       "stream": "stdout",
       "text": [
        "\n",
        "Attribute Error occured for track 123174830: "
       ]
      },
      {
       "output_type": "stream",
       "stream": "stdout",
       "text": [
        "\n",
        "570 tracks processed, 0.2336 seconds per track\n",
        "580 tracks processed, 0.263399 seconds per track"
       ]
      },
      {
       "output_type": "stream",
       "stream": "stdout",
       "text": [
        "\n",
        "Attribute Error occured for track 140364012: "
       ]
      },
      {
       "output_type": "stream",
       "stream": "stdout",
       "text": [
        "\n",
        "590 tracks processed, 0.73517 seconds per track"
       ]
      },
      {
       "output_type": "stream",
       "stream": "stdout",
       "text": [
        "\n",
        "600 tracks processed, 0.257123 seconds per track"
       ]
      },
      {
       "output_type": "stream",
       "stream": "stdout",
       "text": [
        "\n",
        "610 tracks processed, 0.261299 seconds per track"
       ]
      },
      {
       "output_type": "stream",
       "stream": "stdout",
       "text": [
        "\n",
        "Attribute Error occured for track 178406278: "
       ]
      },
      {
       "output_type": "stream",
       "stream": "stdout",
       "text": [
        "\n",
        "620 tracks processed, 0.255782 seconds per track"
       ]
      },
      {
       "output_type": "stream",
       "stream": "stdout",
       "text": [
        "\n",
        "Attribute Error occured for track 172254586: "
       ]
      },
      {
       "output_type": "stream",
       "stream": "stdout",
       "text": [
        "\n",
        "630 tracks processed, 0.240685 seconds per track"
       ]
      },
      {
       "output_type": "stream",
       "stream": "stdout",
       "text": [
        "\n",
        "640 tracks processed, 6.3e-05 seconds per track"
       ]
      },
      {
       "output_type": "stream",
       "stream": "stdout",
       "text": [
        "\n",
        "650 tracks processed, 0.2918 seconds per track"
       ]
      },
      {
       "output_type": "stream",
       "stream": "stdout",
       "text": [
        "\n",
        "660 tracks processed, 5.9e-05 seconds per track"
       ]
      },
      {
       "output_type": "stream",
       "stream": "stdout",
       "text": [
        "\n",
        "670 tracks processed, 0.247847 seconds per track"
       ]
      },
      {
       "output_type": "stream",
       "stream": "stdout",
       "text": [
        "\n",
        "680 tracks processed, 0.409806 seconds per track"
       ]
      },
      {
       "output_type": "stream",
       "stream": "stdout",
       "text": [
        "\n",
        "690 tracks processed, 9.6e-05 seconds per track"
       ]
      },
      {
       "output_type": "stream",
       "stream": "stdout",
       "text": [
        "\n",
        "700 tracks processed, 0.265785 seconds per track"
       ]
      },
      {
       "output_type": "stream",
       "stream": "stdout",
       "text": [
        "\n",
        "710 tracks processed, 0.292302 seconds per track"
       ]
      },
      {
       "output_type": "stream",
       "stream": "stdout",
       "text": [
        "\n",
        "720 tracks processed, 0.273351 seconds per track"
       ]
      },
      {
       "output_type": "stream",
       "stream": "stdout",
       "text": [
        "\n",
        "Attribute Error occured for track 106484632: "
       ]
      },
      {
       "output_type": "stream",
       "stream": "stdout",
       "text": [
        "\n",
        "730 tracks processed, 0.306169 seconds per track"
       ]
      },
      {
       "output_type": "stream",
       "stream": "stdout",
       "text": [
        "\n",
        "740 tracks processed, 0.25384 seconds per track"
       ]
      },
      {
       "output_type": "stream",
       "stream": "stdout",
       "text": [
        "\n",
        "750 tracks processed, 6.9e-05 seconds per track"
       ]
      },
      {
       "output_type": "stream",
       "stream": "stdout",
       "text": [
        "\n",
        "760 tracks processed, 0.25006 seconds per track"
       ]
      },
      {
       "output_type": "stream",
       "stream": "stdout",
       "text": [
        "\n",
        "\n"
       ]
      },
      {
       "output_type": "stream",
       "stream": "stdout",
       "text": [
        "755 tracks found\n"
       ]
      }
     ],
     "prompt_number": 223
    },
    {
     "cell_type": "code",
     "collapsed": false,
     "input": [
      "#Normalization happens by favs of top songs    \n",
      "recos = sorted(related_tracks, key=lambda x: x[2], reverse=True)\n",
      "\n",
      "#print tabulate( [ track[1:5] for track in filtered_recos], headers=[ 'common', 'score', 'title', 'favs'])\n",
      "print 'related_score \\ttitle,  common favoriters, total favoriters, title '\n",
      "for candidate in recos:\n",
      "    if candidate[1]>=5:\n",
      "        print \"%.2f \\t\\t\"  % candidate[2], candidate[3], candidate[1], candidate[4]\n",
      "    "
     ],
     "language": "python",
     "metadata": {},
     "outputs": [
      {
       "output_type": "stream",
       "stream": "stdout",
       "text": [
        "related_score \ttitle,  common favoriters, total favoriters, title \n",
        "11.26 \t\tPaul Kalkbrenner - Revolte (Original Mix) 9 799\n",
        "8.60 \t\tPaul Kalkbrenner - Altes Kamuffel (Special Berlin Calling Edit) 9 1046\n",
        "7.12 \t\tFritz Kalkbrenner - Little by Little 6 843\n",
        "4.74 \t\t96Mixtape #4 : The Avener 5 1055\n",
        "4.18 \t\tPaul Kalkbrenner - Train 6 1434\n",
        "4.12 \t\tHVOB - Window (Gui Boratto Remix) 17 4128\n",
        "3.90 \t\tB.o.B., Owl City and Tupac - Smile For Airplanes And Fireflies (Nedu Serenity Mix) 5 1282\n",
        "3.87 \t\tPremiere: Royksopp 'Sordid Affair' (Maceo Plex Remix) 19 4914\n",
        "3.75 \t\tLouisahhh!!!: Music To... Get You From Here To There And Further 5 1333\n",
        "3.50 \t\tJoris Delacroix - DHA Valhalla Festival Podcast #001 7 1998\n",
        "3.32 \t\tBrooke Fraser - Je Suis Pret (Joris Delacroix Remix) 7 2110\n",
        "3.26 \t\tFritz Kalkbrenner - Back Home (Original Mix) 5 1535\n",
        "3.14 \t\tThe Avener - Fade Out Lines (Synapson Remix) 6 1909\n",
        "3.07 \t\tKwabs -  Walk 17 5541\n",
        "2.95 \t\tPaul Kalkbrenner - Azure (Original Mix) 10 3395\n",
        "2.81 \t\tHozier - Take Me To Church (Bellville Edit)[FREE DOWNLOAD] 5 1782\n",
        "2.79 \t\tAndreas Bourani - Auf Anderen Wegen (Official Video) 5 1794\n",
        "2.74 \t\tFlorence + The Machine - You've Got the Love (Antis & Le Croquant Remix) 5 1826\n",
        "2.65 \t\tHashtag My Ass 5 1889\n",
        "2.62 \t\tN'to & Grant Lazlo (feat. Cab Canavaral) - Minor Swag (snippet Sc) 6 2289\n",
        "2.57 \t\tSeinabo Sey & Lexer - Hard Time 8 3113\n",
        "2.44 \t\tN'to - Blind Birds (Snippet) 5 2051\n",
        "2.33 \t\tChambray 'Untitled (Len Faki Untitled Mix)' - Boiler Room Debuts 5 2142\n",
        "2.27 \t\tAlle Farben - Sometimes Feat. Graham Candy ( LCAW Remix ) [Snippet] 8 3527\n",
        "2.24 \t\tDavid Guetta - Dangerous (feat. Sam Martin) [Robin Schulz Remix] OUT NOW!!! 14 6240\n",
        "2.19 \t\tJust Kiddin - Thinking About It (ASDEK Remix) 6 2740\n",
        "2.05 \t\tJabberwocky ft Cappagli - POLA 6 2922\n",
        "1.99 \t\tN'to - 1825 (Snippet) 7 3513\n",
        "1.98 \t\tJoachim Pastor - Fever [FREE DOWNLOAD] 16 8093\n",
        "1.98 \t\tMaytrixx - Dies Ist Seine Legende 5 2530\n",
        "1.93 \t\tLucas & Steve - Craving (Original Mix) OUT NOW! 5 2590\n",
        "1.91 \t\tJoel Brandenstein & Chrisoula Botsika - Keine Ist Wie Du (Gest\u00f6rt Aber GeiL Unofficial Remix) 13 6820\n",
        "1.85 \t\tPaul Kalkbrenner - Gebrunn Gebrunn (Original Mix) 22 11891\n",
        "1.83 \t\tSometimes feat. Graham Candy (Zwette Remix) 6 3278\n",
        "1.82 \t\tBakermat - Teach Me (Original Mix) 19 10438\n",
        "1.81 \t\tFr\u00e0n\u00e7ois & The Atlas Mountains - La Fille Aux Cheveux de Soie (Isaac Delusion Remix) 5 2758\n",
        "1.77 \t\tNaxsy - Riptide (Feat. Jasmine Thompson) 5 2828\n",
        "1.77 \t\tCheese Naan feat. Fakear - La Boulangerie 3 6 3397\n",
        "1.76 \t\tPaul Kalkbrenner - Dockyard (Pitch Edit) 5 2840\n",
        "1.64 \t\tKollegah - K\u00f6nigsaura 5 3047\n",
        "1.59 \t\tPaul Kalkbrenner - Bengang (Original Mix) 14 8819\n",
        "1.56 \t\tPaul Kalkbrenner - Essential mix 6 3846\n",
        "1.54 \t\tSia - Breath Me (Sebastien Edit) 5 3244\n",
        "1.53 \t\tFlicFlac - We Go Home /// Bootleg 6 3913\n",
        "1.53 \t\tTom Misch & Carmody - Paper Planes 5 3268\n",
        "1.50 \t\tPaul Kalkbrenner - Dockyard 6 3996\n",
        "1.48 \t\tPaul Kalkbrenner - Square 1 (Original Mix) 19 12797\n",
        "1.46 \t\tPaul Kalkbrenner - Mad World [ HQ ] 6 4120\n",
        "1.45 \t\tThe Acid - Ghost (Maya Jane Coles Remix) 8 5503\n",
        "1.43 \t\tJabberwocky - POLA (THE GEEK x VRV Remix) (PREVIEW) 6 4187\n",
        "1.41 \t\tCLAPCAST #5 5 3552\n",
        "1.39 \t\tFritz Kalkbrenner - Right In The Dark (Original Mix) 5 3595\n",
        "1.34 \t\tMonkeyneck - Brown Skin // FREE DL 6 4475\n",
        "1.33 \t\tEddie Amador - \"House Music\" (Robosonic Remix) - Yoshitoshi 9 6753\n",
        "1.32 \t\tJake Isaac - Waiting Here // Niklas Ibach ClubMix 7 5316\n",
        "1.31 \t\t01.Les Pens\u00e9es 5 3808\n",
        "1.31 \t\tZella Day - 1965 (FDVM Remix) 6 4589\n",
        "1.30 \t\tPaul Kalkbrenner- Aaron 15 11570\n",
        "1.29 \t\tOliver Schories & Joris Delacroix - Palm Tree Memories (N'to Remix) 11 8512\n",
        "1.29 \t\tFritz Kalkbrenner - Facing The Sun 19 14703\n",
        "1.26 \t\tGest\u00f6rt Aber GeiL - Unter Meiner Haut ( Koby Funk Rework 2014 ) 9 7156\n",
        "1.25 \t\tWorakls - Far Far Away 5 3991\n",
        "1.22 \t\tBrooke Fraser - Kings & Queens (Zimmer remix) 5 4088\n",
        "1.20 \t\tGest\u00f6rt aber GeiL - Richtung Sonne (Original Mix) // Cut Version 8 6647\n",
        "1.20 \t\tFritz Kalkbrenner - Layer Cake (Original Mix) 5 4157\n",
        "1.19 \t\tHappiest Man On Earth 8 6724\n",
        "1.16 \t\tKaizen & Yoe Mase - Impurity 5 4307\n",
        "1.14 \t\tPaul Ritch - Run Baby Run (Original Mix) 6 5242\n",
        "1.14 \t\tOxia - Domino 7 6124\n",
        "1.14 \t\tElectro Pos\u00e9 X Saint T X Neird.a 6 5285\n",
        "1.13 \t\tLondon Grammar - Metal & Dust (Unique Remix) 5 4410\n",
        "1.12 \t\tCould 8 7121\n",
        "1.12 \t\tCaribou - Can't Do Without You (Tale Of Us & Mano Le Tough Remix) 36 32266\n",
        "1.11 \t\tWorakls - Salzburg 10 9000\n",
        "1.10 \t\tPaul Kalkbrenner at Sonar Festival 2013 - Barcelona, Spain 5 4532\n",
        "1.09 \t\tFade Out Lines 20 18304\n",
        "1.09 \t\tKay One - Tag des j\u00fcngsten Gerichts 5 4598\n",
        "1.08 \t\tJulian le Play - Rollercoaster (filous Remix) 15 13832\n",
        "1.08 \t\tA.N.A.L. @ 1 Jahr Dance & Smile meets Magdalena MALZFABRIK -Berlin- (09.08.2014) 9 8331\n",
        "1.08 \t\tYann Tiersen - Comptine d\u2019un autre \u00e9t\u00e9 - L\u2019apr\u00e8s midi 5 4639\n",
        "1.08 \t\tStonefox - Heart (Samuraii Remix)NOW ON SPOTIFY 5 4641\n",
        "1.07 \t\tKontra K - W\u00f6lfe 5 4675\n",
        "1.06 \t\tMattafix - Big City Life (LEEX Remix) 10 9394\n",
        "1.06 \t\tSleeping At Last - Total Eclipse Of The Heart (Addal Edit)  ***FREE DOWNLOAD*** 7 6576\n",
        "1.06 \t\tMarek Hemmann - Gemini 12 11301\n",
        "1.05 \t\tJulian le Play - Mein Anker (filous Remix) 7 6639\n",
        "1.03 \t\tTenru - The Way She Moves 5 4841\n",
        "1.02 \t\tLana Del Dre 6 5861\n",
        "1.02 \t\tGorillaz - Feel Good Inc (The SAME X Lalitia Cover) 5 4891\n",
        "1.01 \t\tTinush - You & Me (Original) // Free Download 5 4937\n",
        "1.01 \t\tGest\u00f6rt aber GeiL - Heartbeat (Radio Mix) 6 5970\n",
        "1.00 \t\tKarlK & Ofenbach - What I Want (Original Mix) 6 5990\n",
        "1.00 \t\tSPADA & ELEN LEVON - Cool Enough (Extended Mix) 7 7028\n",
        "0.98 \t\tAll We Do 5 5083\n",
        "0.97 \t\tRobin Schulz - Sun Goes Down /// FlicFlac Remix 6 6191\n",
        "0.97 \t\tMidside - Le Grand Jacques (Original Mix) 8 8264\n",
        "0.96 \t\tWhen The Beat Drops Out (Calvo Mix) 5 5213\n",
        "0.96 \t\tLexer - My Princess (Original Mix) 10 10447\n",
        "0.95 \t\tFritz Kalkbrenner - Wes (Original Mix) 8 8387\n",
        "0.95 \t\tHashtag - Boris Brejcha (Original Mix) FREE 11 11534\n",
        "0.94 \t\t\"Flowers and Dust\" // [DJ-Mix] By Dennis Kruissen - 07/2014 7 7439\n",
        "0.93 \t\tBrodinski feat. SD - Can't Help Myself [explicit] 6 6471\n",
        "0.92 \t\tRobin Schulz - Prayer (Album Minimix)- order album now! 5 5461\n",
        "0.91 \t\tBloes Brothers #29 - Bakermat (Movember Moustache Mixtape) 8 8806\n",
        "0.88 \t\tOrnette \u2013 Crazy (Noze remix) 7 7928\n",
        "0.87 \t\tBen Klock - Subzero (Original Mix) 8 9186\n",
        "0.86 \t\tLa Lune Rousse 10 11639\n",
        "0.86 \t\tTove Lo - Stay High (ft. Hippie Sabotage) [Habits Remix] 7 8184\n",
        "0.85 \t\tLotus - Good People (Zwette Remix) 5 5908\n",
        "0.81 \t\tStraight Outta Line (Radio Edit) 5 6163\n",
        "0.80 \t\tDe Hofnar & Dennis Kruissen - Ayo Technology (Bootleg) 11 13679\n",
        "0.80 \t\tSublab - Last Time I Saw U 7 8802\n",
        "0.79 \t\tOxford & Co - Love Is Gone (Nicolas Haelg Remix) 6 7553\n",
        "0.78 \t\tI'm an Albatraoz (Extended Mix) 5 6397\n",
        "0.77 \t\tThinking Out Loud (20syl Remix) 9 11702\n",
        "0.76 \t\tThe Avener - Fade Out Lines (Marcapasos Remix) Snippet 10 13153\n",
        "0.75 \t\tCherry Funk Ft. KAYTRANADA 5 6639\n",
        "0.75 \t\tRedondo & Boiler - Sunshine (Brighten Up My Days) 5 6641\n",
        "0.75 \t\tMax Manie - Claudius (Original Mix) 7 9316\n",
        "0.75 \t\tMoriarty - Jimmy (Joachim Pastor & Romain Dalman remix)  // FREE DOWNLOAD 6 8006\n",
        "0.75 \t\tCAZZETTE  Blind Heart  (Prince Fox Remix) [Thissongissick.com Premiere] 6 8048\n",
        "0.74 \t\tDiamonds ft. Solomon Grey 9 12117\n",
        "0.74 \t\tNora En Pure - True (Lexer Remix) 8 10809\n",
        "0.74 \t\tThe Night 6 8145\n",
        "0.73 \t\tModerat - A New Error (BPC200) 8 10890\n",
        "0.73 \t\tMoby - Almost Home (Sebastien Edit) 11 15103\n",
        "0.72 \t\tSomething New (Original mix) 10 13855\n",
        "0.72 \t\tCirez D - Ruby (OUT NOW) 5 6960\n",
        "0.71 \t\tFabich & Ferdinand Weber - What 7 9815\n",
        "0.70 \t\tSirens Of Lesbos - Long Days Hot Nights (Claptone Remix) 5 7136\n",
        "0.70 \t\tPostcards - Niklas Ibach Remix 6 8567\n",
        "0.70 \t\tGest\u00f6rt aber GeiL - Say Something (Bootleg) 8 11476\n",
        "0.67 \t\tDamian Marley - Road To Zion ( EFIX & XKAEM Cover ) 8 11911\n",
        "0.67 \t\tBrain Bug - Nightmare (Si-Moon RMX) 7 10513\n",
        "0.66 \t\tParov Stelar -  Catgroove 7 10625\n",
        "0.66 \t\tAOSOON - Under (M\u00d6WE - Remix) 6 9109\n",
        "0.65 \t\tPaul Kalkbrenner - Sky And Sand (Feat. Fritz Kalkbrenner) 26 39840\n",
        "0.63 \t\tUlf Nilsson - Little By Little (Lulleaux & George Whyman Remix) 7 11044\n",
        "0.63 \t\tDubVision - Broken (Available January 12) 6 9555\n",
        "0.63 \t\tMano Le Tough - Primative People (Tale Of Us Remix) 10 15964\n",
        "0.62 \t\tKings of Leon & Craaze - Sex on Fire (Vijay & Sofia Zlatko Edit) 6 9632\n",
        "0.62 \t\tSeve 5 8083\n",
        "0.62 \t\tGorillaz - Feel Good (Dj Mandraks & R3ckzet - Bootleg RMX) // free download ! 10 16183\n",
        "0.62 \t\tKollegah & Majoe - Wat Is Denn Los Mit Dir (Single) 5 8107\n",
        "0.61 \t\tThe Jackson 5 - I Want You Back (Shaparder & LRX Remix) 7 11518\n",
        "0.61 \t\tTez Cadey - Seve 7 11526\n",
        "0.60 \t\tAbove & Beyond - Robot Heart Yoga - Burning Man 2014 7 11671\n",
        "0.60 \t\tCasper x Cro feat. Timid Tiger - Nie Auf (prod. Steddy & Keshav) 5 8374\n",
        "0.59 \t\tJasmine Thompson - Ain't Nobody (beatsession Edit) 5 8473\n",
        "0.58 \t\tCleavage - Prove OUT NOW!! 5 8654\n",
        "0.57 \t\tDeep & Sexy Podcast #15 - November 2014 6 10537\n",
        "0.57 \t\tKlangkarussell - Moments (feat. Will Heard) KB 5 8793\n",
        "0.57 \t\tChristina Perri - Burning Gold (Addal Remix) 7 12356\n",
        "0.57 \t\tFerdinand Dreyssig & Marvin Hey - Coeur De La Nuit (Worakls Remix) 8 14144\n",
        "0.57 \t\tTegan and Sara - Walking With A Ghost (Manila Killa Remix) 5 8844\n",
        "0.56 \t\tWankelmut - Wasted So Much Time Feat. John La Monica (N'to Remix) 6 10624\n",
        "0.56 \t\tBon Iver - Blood Bank /// FlicFlac Edit 7 12514\n",
        "0.56 \t\tElephante - Shake The Earth ft. Lyon Hart 7 12554\n",
        "0.55 \t\tSaje - Take Care Of You 7 12616\n",
        "0.55 \t\tJose Gonzalez - Stay Alive (Sam Feldt & Chris Meid Remix) [FREE DOWNLOAD] 5 9071\n",
        "0.55 \t\tRobin Schulz - Exclusive for Fader [DJ-Mix] 6 10934\n",
        "0.55 \t\tLuciano - Rise Of Angel (Andrea Oliva Remix) 7 12773\n",
        "0.54 \t\tDamien Jurado - Ohio (filous Remix) 6 11031\n",
        "0.54 \t\tN'to - Trauma (Worakls Remix) 16 29436\n",
        "0.54 \t\tDirty South - With You (Jai Wolf Remix) [Thissongissick.com Premiere] [Free Download] 5 9233\n",
        "0.54 \t\tBasic Instinct 6 11131\n",
        "0.54 \t\tSaje - Take Care Of You 5 9284\n",
        "0.54 \t\tN'to Live November 2013 (WeAre Together) FREE DOWNLOAD 6 11202\n",
        "0.53 \t\tLouie Cut - Drop That (Original Mix) 5 9354\n",
        "0.53 \t\tMr. Probz - Nothing Really Matters (Boehm Remix) 6 11342\n",
        "0.52 \t\tZHU - Paradise Awaits ( LCAW Remix ) 7 13344\n",
        "0.52 \t\tWu-Tang Clan - \"Back In The Game\" (Phoniks Remix) 6 11519\n",
        "0.52 \t\tJohn Legend - All Of Me (De Hofnar Bootleg) 6 11567\n",
        "0.51 \t\tCharlie Boulala - Sonnenkind (M\u00d6WE Remix) 9 17538\n",
        "0.50 \t\tCro - Bad Chick (Official Lyrics Version) 7 13871\n",
        "0.50 \t\tDizzy - DIMMI [Availble on iTunes!] 5 9949\n",
        "0.50 \t\tSolomun - Friends - 2DIY4 7 13989\n",
        "0.50 \t\tMax Manie - The Ocean (Original Mix) 6 12010\n",
        "0.50 \t\tBromance #11 : Brodinski ft Theophilus London - Gimme Back The Night 5 10030\n",
        "0.50 \t\tBreakdlaw feat. the Glitchfox - Paint Me Like A French Girl (ManiezzL Remix) 6 12072\n",
        "0.50 \t\tNicolas Jaar - El Bandido 7 14136\n",
        "0.49 \t\tGetter - Stay A While [Thissongissick.com Premiere] 6 12181\n",
        "0.49 \t\tMary Mary - Shackles [Praise You] (Dennis Kruissen Remix) 6 12190\n",
        "0.49 \t\tRHCP - Snow (Lost Frequencies Remix) 6 12231\n",
        "0.48 \t\tTube & Berger - Imprint Of Pleasure [SUARA072] 13 26886\n",
        "0.47 \t\tSam Feldt - Noorderlicht (Mixtape) 6 12673\n",
        "0.47 \t\tNovo Amor - From Gold (Henri Pfr Remix) [FREE DOWNLOAD] 7 15016\n",
        "0.47 \t\tAlex Cruz-Follow The Sun ft. Xavier Rudd (Bootleg) 9 19352\n",
        "0.46 \t\tPump Up The Jam (M\u00d6WE Cover) 7 15221\n",
        "0.46 \t\tNina Simone - Feeling Good - Jazz Edition 6 13179\n",
        "0.45 \t\tNicon\u00e9 & Sascha Braemer - Caje (album edit) 11 24227\n",
        "0.45 \t\tBrigitte Bardot - La Madrague (Antis Remix) 6 13460\n",
        "0.44 \t\tDeep & Sexy Podcast #13 - September 2014 5 11386\n",
        "0.44 \t\tScheinizzl - One More (Original Mix) 5 11426\n",
        "0.44 \t\tAngel In Blue Jeans 5 11438\n",
        "0.44 \t\tGENETIKK feat. Sido - Liebs oder lass es (D.N.A.) 5 11444\n",
        "0.44 \t\tLexer - Thoughtful (Original Mix) 6 13774\n",
        "0.44 \t\tCalvin Harris Feat. John Newman - Blame (Original) 9 20674\n",
        "0.43 \t\tKayliox vs. OptionAvailable - Von Deeper 6 13826\n",
        "0.43 \t\tBaby Bash - Suga Suga (Jerry Folk Remix) 6 13987\n",
        "0.43 \t\tBonga - mona ki ngi xica (Synapson remix) 7 16354\n",
        "0.43 \t\tGeorge Ezra - Budapest (Official A2A RMX) Columbia out on iTunes! 6 14034\n",
        "0.42 \t\tAaron Smith - Dancin (Linier Remix) 13 30611\n",
        "0.42 \t\tSHAKKA - WHEN WILL I SEE YOU AGAIN(AMTRAC REMIX) 8 18883\n",
        "0.42 \t\tWork With Me 7 16526\n",
        "0.42 \t\tBob Marley - No Women No Cry (Lost Frequencies Bootleg) 13 30994\n",
        "0.42 \t\tSam Feldt & Kav Verhouzer - Hot Skin (Original Mix) [OUT NOW] 5 11956\n",
        "0.42 \t\tKiesza \"Hideaway\" (Radio Edit) 6 14370\n",
        "0.42 \t\tJealous (Bakermat Remix) 7 16800\n",
        "0.42 \t\tTwo Bodies feat. Emma Louise (Extended Version) 14 33723\n",
        "0.41 \t\tWaterm\u00e4t - Bullit (Original Mix) 22 53586\n",
        "0.41 \t\tN'to - Petite 6 14617\n",
        "0.41 \t\tAlle Farben feat. Graham Candy - She Moves (Far Away) (Radio Mix) 5 12263\n",
        "0.40 \t\tSpada feat. Hosie Neal - Feels Like Home (Red Velvet Dress) [Bakermat Remix] Preview 8 19944\n",
        "0.40 \t\tWorakls - Live act 2013 8 20010\n",
        "0.40 \t\tThe Weeknd - Devil May Cry (Fabich & Ferdinand Weber Edit) 9 22633\n",
        "0.39 \t\tArrows (feat. Macklemore & Ryan Lewis) 14 35666\n",
        "0.39 \t\tEllen Allien - Flashy Flashy (Nicolas Jaar Remix) 9 23003\n",
        "0.39 \t\tJoris Delacroix - Air France (SYNAPSON Remix) 6 15448\n",
        "0.39 \t\tAngus & Julia Stone - \"Grizzly Bear\" Synapson Remix 8 20656\n",
        "0.39 \t\tSophie Hunger - Le Vent Nous Portera (De Hofnar Edit) 5 12958\n",
        "0.39 \t\tMaroon 5 - Animals (Gryffin Remix) 11 28534\n",
        "0.38 \t\tMr. Probz - Nothing Really Matters 6 15594\n",
        "0.38 \t\tThinking Out Loud (Alex Adair Remix) 8 20806\n",
        "0.38 \t\tMixtape N\u00b013 X TEEMID (Free Download) 6 15706\n",
        "0.38 \t\tKlangkarussell - Netzwerk 13 34548\n",
        "0.38 \t\tTracy Chapman - Talkin bout a revolution (Stefan Biniak Private Edit) 5 13296\n",
        "0.37 \t\tTen Walls - Requiem 9 24368\n",
        "0.36 \t\tEchosmith - Cool Kids (RAC Mix) 5 13721\n",
        "0.36 \t\tMax Manie - Sunday (Original Mix) 8 21987\n",
        "0.36 \t\tLa Belle Mixtape | Sunny Days | Henri Pfr 6 16735\n",
        "0.36 \t\tYellow Claw - Till It Hurts Ft. Ayden 7 19545\n",
        "0.36 \t\tBreakThe Rules(ODESZA Remix) 5 13964\n",
        "0.36 \t\tAlle Farben - She Moves (Far Away)feat Graham Candy (Lexer Remix) 7 19690\n",
        "0.36 \t\tOliver Koletzki - Deep House Amsterdam DGTL Podcast #007 5 14069\n",
        "0.35 \t\tDisclosure - Latch (Mozambo Remix) 5 14156\n",
        "0.35 \t\tKungs ft. Molly - West Coast 12 34025\n",
        "0.35 \t\tFuture - I Won ft. Kanye West (Louis Futon Remix) 5 14184\n",
        "0.35 \t\tBakermat - Brighter Days (Bootleg) 11 31311\n",
        "0.35 \t\tTiga - Bugatti (Original mix) 5 14256\n",
        "0.35 \t\tChristina Perri - Burning Gold (Autograf Remix) 6 17118\n",
        "0.35 \t\tChocolate Puma & Firebeatz - I Can't Understand (Original Mix) [OUT NOW] 11 31386\n",
        "0.35 \t\tKungs - Candy (feat. Jasmine Thompson) 8 22833\n",
        "0.35 \t\tJohn Legend - All Of Me (Kungs & Noah Cover) 5 14282\n",
        "0.35 \t\tOutKast - Ms. Jackson (Jean Tonique Remix) 5 14339\n",
        "0.35 \t\tHello Vs. Party & Bullshit (Matoma Remix) 5 14347\n",
        "0.35 \t\tChanges_ Faul feat. WadAd 5 14374\n",
        "0.35 \t\tDangerous - David Guetta ft Sam Martin 9 25875\n",
        "0.35 \t\tGest\u00f6rt aber Geil - Official Promo June 2013 6 17374\n",
        "0.34 \t\tDiddy, Dirty Money & Skylar Grey - Coming Home (GAMPER & DADONI Remix) 8 23584\n",
        "0.34 \t\tKiesza - Hideaway (Ben Howard Cover) Vijay & Sofia Zlatko Remix 7 20812\n",
        "0.34 \t\tSander Van Doorn & Oliver Heldens - THIS (Original Mix)[OUT NOW] 7 20894\n",
        "0.33 \t\tTake Me Over ft. SAFIA 5 14927\n",
        "0.33 \t\tKodaline - High Hopes (filous Remix) 13 38878\n",
        "0.33 \t\tDe Hofnar - De Nacht (Original Mix) 6 18074\n",
        "0.33 \t\tTom Odell - Another Love (Dimitri Vangelis & Wyman Remix) 5 15127\n",
        "0.33 \t\tMas Que Nada (Bakermat Remix) 5 15320\n",
        "0.32 \t\tJos\u00e9 Gonz\u00e1lez - Heartbeats (filous & MOUNT Remix) 8 24855\n",
        "0.32 \t\tCan't Do Without You 17 53335\n",
        "0.32 \t\tSRTW - We Were Young (Sascha Kloeber Remix) 8 25273\n",
        "0.32 \t\tPassenger - Circles (Elkoe Remix) 5 15847\n",
        "0.31 \t\tExtraordinary (Klingande Remix) 5 15923\n",
        "0.31 \t\tVacant Space 8 25645\n",
        "0.31 \t\tTiesto Ft. DBX - Light Years Away (Oliver Heldens Remix) 5 16352\n",
        "0.31 \t\tLorde -  Yellow Flicker Beat 5 16354\n",
        "0.30 \t\tSecondCity & Tyler Rowe - I Enter 8 26272\n",
        "0.30 \t\tMichael Bubl\u00e9 - It's Beginning To Look A Lot Like Christmas 5 16488\n",
        "0.30 \t\tKungs & Mozambo ft. Molly - To Describe You 5 16597\n",
        "0.30 \t\tKlingande - Punga (Original Mix) Available On Itunes HQ 17 56706\n",
        "0.30 \t\tHATE OR GLORY 5 16701\n",
        "0.30 \t\tParov Stelar - All Night (Nico Pusch Bootleg Remix) 8 26834\n",
        "0.29 \t\tStay High (Habits Remix) Tove Lo Ft. Hippie Sabotage X Vigilante 6 20368\n",
        "0.29 \t\tJames Vincent McMorrow - Cavalier (Samuraii Remix) 7 23772\n",
        "0.29 \t\tPURSUIT 7 23987\n",
        "0.29 \t\tJohn Newman - Losing Sleep (Disciples remix) 6 20569\n",
        "0.29 \t\tFlicFlac - Hope 5 17197\n",
        "0.29 \t\tRobin Schulz - Summerbreeze [DJ-Mix] 6 20703\n",
        "0.29 \t\tKaren Harding - Say Something (Zac Samuel Remix) 22 76266\n",
        "0.29 \t\tManiezzL - Long Story Short (Original Mix) 6 20853\n",
        "0.29 \t\tBangui 5 17442\n",
        "0.29 \t\tMercer - Turn It Up (Tchami Remix) [Available January 6] 5 17518\n",
        "0.28 \t\tJames Bay - Let It Go (Bearson Remix) 6 21138\n",
        "0.28 \t\tBeautiful Pain - Eminem ft. Sia (with Lyrics) 5 18003\n",
        "0.28 \t\tVance Joy - Riptide (FlicFlac Edit) 5 18031\n",
        "0.28 \t\tNo Eyes ft. Jaw | Exploited 5 18063\n",
        "0.28 \t\tFalscher Hase - Lebensl\u00e4nglich (Dezember 2011) 10 36151\n",
        "0.28 \t\tMYNGA feat. Cosmo Klein - Back Home (Original Mix) [OUT NOW] 5 18108\n",
        "0.28 \t\tSam Smith - Like I Can (Artful Remix) 7 25369\n",
        "0.28 \t\tTinush - Sandburg (Original)// OUT NOW 11 39866\n",
        "0.28 \t\tEminem - Till I Collapse 5 18164\n",
        "0.27 \t\tThe Script - Superheroes 5 18230\n",
        "0.27 \t\tKlangKuenstler - Barfuss Auf Wolken [Stil vor Talent] 7 25540\n",
        "0.27 \t\tZHU - Paradise Awaits (FKJ Remix) [Thissongissick.com Premiere] [Free Download] 5 18470\n",
        "0.27 \t\tPretty Ricky ft. 50 Cent - Grind With Me (SNBRN Remix) 6 22240\n",
        "0.27 \t\tNaxxos - New Orleans (Sam Feldt Remix) [OUT NOW] 5 18661\n",
        "0.27 \t\tHungry - Niklas Ibach Remix 11 41212\n",
        "0.27 \t\tAfrojack & Martin Garrix - Turn Up The Speakers (OUT NOW) 7 26295\n",
        "0.27 \t\tClaptone - No Eyes feat. Jaw (GAMPER & DADONI Remix) 10 37693\n",
        "0.26 \t\t\"Sax On The Beach\" Mixtape Part 1 (Melodic Saxophone Deephouse 2013) (FREE DOWNLOAD) 9 34089\n",
        "0.26 \t\tRobin Schulz - Lady of the Sunshine (Bootleg) 5 19028\n",
        "0.26 \t\tGregory Porter - Liquid Spirit (20syl Remix) 8 30475\n",
        "0.26 \t\tJulia Stone - This Love (Egokind Edit) FREE DOWNLOAD 8 30836\n",
        "0.26 \t\tSing To The Moon - Laura Mvula (Klangkarussell Remix) 6 23140\n",
        "0.26 \t\tStevie Wonder - Superstition (C2C Remix) 10 38722\n",
        "0.26 \t\tTake Shelter 5 19576\n",
        "0.25 \t\tWOODKID - Iron 5 19781\n",
        "0.25 \t\tNightcall (feat. Lovefoxxx) 10 40132\n",
        "0.25 \t\tBaby Bash - Suga Suga 6 24122\n",
        "0.25 \t\tLa Belle Mixtape | Summer Memories | Henri Pfr 6 24301\n",
        "0.25 \t\tMacklemore ft. Ed Sheeran - Same Love (De Hofnar Bootleg) 11 44737\n",
        "0.24 \t\tDaughter - Youth 6 24519\n",
        "0.24 \t\tFelix Jaehn - Shine (feat. Freddy Verano & Linying) 8 32866\n",
        "0.24 \t\tGest\u00f6rt Aber GeiL @ Sonne Mond Sterne Festival X8 (09.08.2014) 5 20563\n",
        "0.24 \t\tWafia - Let Me Love You (prod. Thrupence) 5 20669\n",
        "0.24 \t\tMike Mago & Dragonette - Outlines [Out Now @ Beatport] 5 20887\n",
        "0.24 \t\tNightmare - Timmy Trumpet [OUT NOW] 6 25481\n",
        "0.23 \t\tLykke Li - No Rest For The Wicked (Joris Voorn Remix) 6 25592\n",
        "0.23 \t\tTiesto & Hardwell - Zero 76 (twoloud Remix) - FREE DOWNLOAD 8 34177\n",
        "0.23 \t\tMax Manie - Sunday (KlangTherapeuten `Looking For Summer\u00b4 Remix)!!!! OUT NOW !!!! 6 25868\n",
        "0.23 \t\tGAMPER & DADONI feat. DNKR - The La La La Remix 9 39213\n",
        "0.23 \t\tDavid Guetta - Lovers On The Sun feat. Sam Martin (Blasterjaxx Remix) (Teaser) 5 21961\n",
        "0.23 \t\tWalking With Elephants 27 119496\n",
        "0.23 \t\tLondon Grammar - Strong (Manila Killa Remix) 5 22134\n",
        "0.22 \t\tMax Manie - Sunday (Klangkarussell Remix) 9 40080\n",
        "0.22 \t\tRihanna - Stay /// 20Syl you can't be serious Remix 6 26779\n",
        "0.22 \t\tWild Child 6 26818\n",
        "0.22 \t\tLondon Grammar - Nightcall (LG re-edit) 5 22358\n",
        "0.22 \t\tI Am Oak - On Trees and Birds and Fire (Sam Feldt & Bloombox Remix) [OUT NOW!] 6 26876\n",
        "0.22 \t\tBakermat - Zomer (Original Mix) 9 40490\n",
        "0.22 \t\tSam Feldt & Kav Verhouzer - Hot Skin (Original Mix)[OUT NOW] 8 36508\n",
        "0.22 \t\tOutside - Calvin Harris ft Ellie Goulding 15 68798\n",
        "0.22 \t\tKlangkarussell - Sonnentanz 20 91763\n",
        "0.22 \t\tAll My Love (feat. Ariana Grande) 5 22977\n",
        "0.22 \t\tThomas Jack ft. Adrian Symes - The Final Speech (Original Mix) 6 27611\n",
        "0.22 \t\tAlesso - Heroes (Grandtheft Remix) 5 23196\n",
        "0.22 \t\tZHU - Superfriends. 6 27838\n",
        "0.21 \t\tFreaks (feat. Savage) Timmy Trumpet - FULL VERSION 7 32985\n",
        "0.21 \t\tHigher Self ft. Lauren Mason - Ghosts (Original Mix) 8 37973\n",
        "0.21 \t\tDisclosure - Latch (TEEMID X Daniela Andrade Edition) 5 23747\n",
        "0.21 \t\tRobin Schulz - Shyer (Bootleg) 8 38054\n",
        "0.21 \t\tBANKS - Drowning (Stwo Remix) 8 38190\n",
        "0.21 \t\tSander Kleinenberg ft Gwen McCrae - Can You Feel It (Original Mix) 6 28744\n",
        "0.21 \t\tLeague of Legends - Warriors (Imagine Dragons) 5 24122\n",
        "0.21 \t\tJessie Ware - Say You Love Me (Alex Adair Remix) 5 24273\n",
        "0.21 \t\tShower - Becky G 10 48666\n",
        "0.21 \t\tThe Fray - How To Save A Life (Jiggers Bootleg) 22 107132\n",
        "0.20 \t\tLeft Hand Free (Lido Remix) 6 29326\n",
        "0.20 \t\tSynapson feat. Victor D\u00e9m\u00e9 - Djon Maya Ma\u00ef 8 39496\n",
        "0.20 \t\tRobin Schulz Feat. Jasmine Thompson - Sun Goes Down (available on iTunes now) 14 69301\n",
        "0.20 \t\tBondax - All I See (Darius Remix) 9 44683\n",
        "0.20 \t\tkaaris - charge (carmack remix) 5 24950\n",
        "0.20 \t\tHozier - Take Me To Church 17 85115\n",
        "0.20 \t\tFirestone (Ft. Conrad) 11 55081\n",
        "0.20 \t\tLana Del Rey - Dark Paradise (Parov Stelar Official Remix) 5 25104\n",
        "0.20 \t\tRobin Schulz & Alligatoah - Willst du (Release date 05.09.2014) 11 55388\n",
        "0.20 \t\tBusta Rhymes - I'll Hurt You (feat. Eminem) 7 35290\n",
        "0.20 \t\tBakermat - Black Cat John Brown (Original Mix) 7 35351\n",
        "0.20 \t\tMistakes Like This 5 25360\n",
        "0.20 \t\tRobin Schulz - Wenn Tr\u00e4ume fliegen lernen [DJ-Mix] 5 25410\n",
        "0.20 \t\tLorde - Team (Autograf Remix) 6 30525\n",
        "0.20 \t\tOn Top feat. T.Shirt 12 61167\n",
        "0.19 \t\tBand of Horses-The Funeral (Lexer Remix) 5 25854\n",
        "0.19 \t\tJaymes Young - What Is Love (Lost Frequencies Bootleg) 7 36458\n",
        "0.19 \t\tNicolas Jaar - Mi Mujer 6 31417\n",
        "0.19 \t\tGive Me Sunshine - Santa Maradona F.C // Niklas Ibach Official Remix 6 31499\n",
        "0.19 \t\tMario - Let Me Love You (Sllash Remix) 6 31885\n",
        "0.19 \t\tRobin Schulz - Sunset (Original Mix) OUT NOW!!! 5 26919\n",
        "0.19 \t\t50 Cent - 21 Questions (SNBRN Remix) 7 37768\n",
        "0.18 \t\tStan - Eminem ft.Dido (Explicit) 8 43680\n",
        "0.18 \t\tB.o.B - Airplanes ft. Hayley Williams of Paramore [Explicit] 6 33117\n",
        "0.18 \t\tOliver Heldens - Last All Night (Koala) feat. KStewart 10 55216\n",
        "0.18 \t\tJohn Legend - All Of Me (Addal Edit)  ***FREE DOWNLOAD*** 5 27655\n",
        "0.18 \t\tRobin Schulz - Cheating (Bootleg) 7 38727\n",
        "0.18 \t\tMike Mago & Dragonette - Outlines (Original Mix) 7 39033\n",
        "0.18 \t\tThe Tallest Man On Earth - The Dreamer (SAMURAII Edit)[Supported on Ti\u00ebsto's Club Life Podcast 393] 5 27889\n",
        "0.18 \t\tNicky Romero & Vicetone - Let Me Feel (ft. When We Are Wild) (OUT NOW) 9 50308\n",
        "0.18 \t\tCan't Stop Playing (Oliver Heldens & Gregor Salto Remix) [OUT NOW] 9 50411\n",
        "0.18 \t\tStwo - Lovin U 7 39222\n",
        "0.18 \t\tALESSO - HEROES FT. TOVE LO (AMTRAC REMIX) 7 39419\n",
        "0.18 \t\tJosh Butler - Got A Feeling (Bontan Remix/Pleasurekraft Edit) [Kraftek] 16 90116\n",
        "0.17 \t\tSigma - Nobody to Love (clip) 13 74926\n",
        "0.17 \t\tNinetoes - Finder (Original) 5 28947\n",
        "0.17 \t\tTracy chapman - Give me one reason (The Tailors Remix) 8 46781\n",
        "0.17 \t\tSigma - Nobody To Love 10 58553\n",
        "0.17 \t\tChet Faker x WKND - Lover 5 29379\n",
        "0.17 \t\tBenjamin Francis Leftwich - Shine (Kygo Remix) 14 82291\n",
        "0.17 \t\tTa-ku - Higher (Flume Remix) [FREE DOWNLOAD] 11 64752\n",
        "0.17 \t\tRobin Schulz - Shape of my Heart (Bootleg) 5 29526\n",
        "0.17 \t\tTove Lo - Habits (Oliver Nelson Remix) 7 41763\n",
        "0.17 \t\tColdplay - Midnight (Kygo Remix)//Pete Tong BBC Radio 1 Snippet 15 90077\n",
        "0.16 \t\tDisclosure - Help Me Lose My Mind (Mazde Remix) 6 36873\n",
        "0.16 \t\tKlangkarussell - Sonnentanz (Sun Don T Shine) [feat. Will Heard] 6 36980\n",
        "0.16 \t\tLeave Me Alone (feat. Shay Lia) 5 30827\n",
        "0.16 \t\tBakermat - Uitzicht (Unmastered preview, forthcoming on Soundplate Records) 5 31405\n",
        "0.16 \t\tLa Roux - Bulletproof (GAMPER & DADONI Remix) 7 44479\n",
        "0.16 \t\tChris Malinchak - So Good To Me 12 76269\n",
        "0.16 \t\tOliver Heldens, Mr. Belt & Wezol - Pikachu 5 31942\n",
        "0.16 \t\tColdplay: A Sky Full Of Stars (visit ProMotionMusicNews.com) 9 57519\n",
        "0.16 \t\tSlow Magic - Waited 4 U (ODESZA Remix) [Thissongissick.com Premiere] [Free Download] 5 32185\n",
        "0.15 \t\tIggy Azalea - Black Widow Feat. Rita Ora 7 45325\n",
        "0.15 \t\tCrystallize 5 32421\n",
        "0.15 \t\tAnna Naklab - Wicked Games ( Original Mix ) 7 46164\n",
        "0.15 \t\tLondon Grammar - Darling Are You Gonna Leave Me (LCAW Remix) 5 33009\n",
        "0.15 \t\tSia - Chandelier (Piano Version) 6 39990\n",
        "0.15 \t\tOliver $ & Jimi Jules - Pushing On (Tchami Remix) 12 80329\n",
        "0.15 \t\tArcade Fire - Afterlife (Flume Remix) 7 46912\n",
        "0.15 \t\tCan't Hold Us Down 5 33841\n",
        "0.15 \t\tNo Angels - Bastille feat. Ella 5 33951\n",
        "0.15 \t\tDubVision - Backlash (Martin Garrix Edit) 5 34145\n",
        "0.15 \t\tBlonde - I Loved You (feat. Melissa Steel) 6 41047\n",
        "0.14 \t\tYeah Yeah Yeahs - Heads Will Roll (A-Trak Remix) club edit 8 56389\n",
        "0.14 \t\tThe Notorious BIG - Back To Cali (Yinyues Remix) 5 35366\n",
        "0.14 \t\tAaron Smith - Dancin (Remix by KRONO) 9 63824\n",
        "0.14 \t\tBudapest  [clip] 5 35512\n",
        "0.14 \t\tTom Odell - Another Love (Zwette Edit) 13 92514\n",
        "0.14 \t\tSkinny Love 6 43031\n",
        "0.14 \t\tDo I Wanna Know - Arctic Monkeys 6 43140\n",
        "0.14 \t\tMr. Probz - Waves (Roter & Lewis Edit) ***FREE Download*** 10 71976\n",
        "0.14 \t\tBirdy - People Help The People 5 36215\n",
        "0.14 \t\tAce of Base - All She Wants (SNBRN X KLATCH Remix) 5 36292\n",
        "0.14 \t\tMariah Carey - All I Want For Christmas Is You 5 36464\n",
        "0.13 \t\tThe XX - Angels (Kygo Edit) 6 44445\n",
        "0.13 \t\tSyn Cole - Miami 82 (Kygo Remix) 12 89683\n",
        "0.13 \t\tHoldin On 7 52928\n",
        "0.13 \t\tHome 5 37813\n",
        "0.13 \t\tPhilip George - Wish You Were Mine (Pre-Order Now) 7 53265\n",
        "0.13 \t\tLike toy soldiers - Eminem 5 38076\n",
        "0.13 \t\tMartin Garrix & MOTi - Virus (How About Now) (OUT NOW) 10 76801\n",
        "0.13 \t\tDeep House Mix 2013 *Free Download* 5 38447\n",
        "0.13 \t\tFeeling Myself (feat. will.iam, French Montana & Wiz Khalifa) 5 38518\n",
        "0.13 \t\tLilly Wood & the Prick & Robin Schulz - Prayer In C (Robin Schulz Remix) BUY ON I TUNES NOW !!! 38 293201\n",
        "0.13 \t\tBob Marley - Jammin' (Kungs Remix) 6 46401\n",
        "0.13 \t\tAin't No Sunshine (Lido Remix) 6 46664\n",
        "0.13 \t\tOliver Heldens - Koala (Original Mix) 8 62421\n",
        "0.13 \t\tVance Joy - Riptide /// FlicFlac [REMASTERED VERSION OUT NOW on iTunes] 11 86807\n",
        "0.13 \t\tBloes Brothers #4 - Bakermat 7 55579\n",
        "0.13 \t\tDuke Dumont - The Giver 8 63543\n",
        "0.13 \t\tRagga Bomb (Skrillex & Zomboy Remix) 5 39835\n",
        "0.12 \t\tOliver Heldens - Koala [OUT NOW] 8 64551\n",
        "0.12 \t\tSteve Aoki, Diplo, & Deorro - Freak (feat. Steve Bays) 5 40424\n",
        "0.12 \t\tEminem - Business (Matoma Remix) 5 40646\n",
        "0.12 \t\tDavid Guetta - Lovers On The Sun ft. Sam Martin (Showtek Remix) 13 106187\n",
        "0.12 \t\tEminem- When I'm Gone 7 57240\n",
        "0.12 \t\tBenjamin Francis Leftwich - Atlas Hands (Thomas Jack Remix) 6 49276\n",
        "0.12 \t\tGalantis - Runaway (U & I) 8 66373\n",
        "0.12 \t\tHardwell feat. Chris Jones - Young Again 7 58468\n",
        "0.12 \t\tThomas Jack Presents: Klingande - Tropical House Vol.4 6 50358\n",
        "0.12 \t\t20syl - Ongoing Thing Feat Oddisee 5 42205\n",
        "0.12 \t\tThomas Jack Presents: Kygo - Tropical House Vol.6 6 51157\n",
        "0.12 \t\t-2pac- Changes- 7 60391\n",
        "0.11 \t\tThe Voyagers Ft. Haris - A Lot Like Love (Oliver Heldens Edit)[OUT NOW] 5 43607\n",
        "0.11 \t\tHot Hands 6 52367\n",
        "0.11 \t\tJames Hersey - Coming Over (filous Remix) 5 44687\n",
        "0.11 \t\t50 Cent, Eminem, Dr. Dre & Tupac - Ready For War HQ (Remix) 5 44752\n",
        "0.11 \t\tChet Faker - 1998 7 62789\n",
        "0.11 \t\tKid Cudi - The Prayer 8 72051\n",
        "0.11 \t\tFAUL & Wad Ad vs Pnau - Changes 21 191043\n",
        "0.11 \t\tCrystallize by Lindsey Stirling 5 45529\n",
        "0.11 \t\tChet Faker - Gold (Flume Re-work) 8 73921\n",
        "0.11 \t\tEminem - The Real Slim Shady 7 64747\n",
        "0.11 \t\tEminem - Mockingbird 7 66029\n",
        "0.11 \t\tTEEMID feat. Joie Tan - Crazy 7 66062\n",
        "0.10 \t\tInsane feat. Moon Holiday 6 57197\n",
        "0.10 \t\tDeorro - Yee (Original Mix) 6 57236\n",
        "0.10 \t\tThe Notorious B.I.G ft. Ja Rule - Old Thing Back (Matoma Remix) 9 86033\n",
        "0.10 \t\tODESZA - Say My Name (feat. Zyra) 8 77532\n",
        "0.10 \t\tSchoolboy Q - The Purge / Rapfix Cypher (20syl Remix) 8 78001\n",
        "0.10 \t\tAll About That Bass(2014) 16 158594\n",
        "0.10 \t\tDimitri Vegas, Martin Garrix & Like Mike - Tremor - OUT NOW - BEATPORT #1 7 69942\n",
        "0.10 \t\tAwolnation - Sail (Unlimited Gravity Remix) 6 60086\n",
        "0.10 \t\tAriana Grande - Break Free Ft Zedd (Radio Edit) 7 70539\n",
        "0.10 \t\tMilky Chance - Down By The River /// FlicFlac Edit [OUT NOW on iTunes] 6 60789\n",
        "0.10 \t\tEminem - Without Me 9 91922\n",
        "0.10 \t\tSam Smith - I'm Not The Only One 6 61350\n",
        "0.10 \t\tCalvin Harris & John Newman - Blame (R3hab Remix) 18 184127\n",
        "0.10 \t\tBullet Train by Stephen Swartz ft. Joni Fatora 7 72030\n",
        "0.10 \t\twiz khalifa - promises 7 72040\n",
        "0.10 \t\tBen Pearce - What I Might Do 10 103350\n",
        "0.10 \t\tAnimals - Maroon 5 14 144948\n",
        "0.10 \t\tRiptide 11 114094\n",
        "0.10 \t\tNo Guns Allowed (feat. Drake & Cori B.) 5 52125\n",
        "0.10 \t\tThinking Out Loud - Ed Sheeran 8 83453\n",
        "0.10 \t\tYellow Claw - Shotgun Ft. Rochelle 7 73367\n",
        "0.09 \t\tZHU - Faded. 26 279047\n",
        "0.09 \t\tODESZA - Say My Name (RAC Mix) 6 64782\n",
        "0.09 \t\tDestiny's Child - Say My Name (Cyril Hahn Remix) 11 121100\n",
        "0.09 \t\tDon't Wait 6 66630\n",
        "0.09 \t\tBob Marley No Woman No Cry 6 66758\n",
        "0.09 \t\tPassenger - Let Her Go (Kygo Remix) 7 78094\n",
        "0.09 \t\tStolen Dance 9 100665\n",
        "0.09 \t\tArmin van Buuren - Ping Pong (Hardwell Remix) - PREVIEW - OUT NOW! 5 56076\n",
        "0.09 \t\tFuse ODG - Dangerous Love feat Sean Paul 5 56268\n",
        "0.09 \t\tStrong 5 56308\n",
        "0.09 \t\tKygo - BBC Guest Mix For Diplo&Friends 6 68147\n",
        "0.09 \t\tMr. Probz - Waves (Robin Schulz Radio Edit) 5 56811\n",
        "0.09 \t\tDaft Punk - Random Access Memories (Vanderway Edit) 5 56839\n",
        "0.09 \t\tEd Sheeran - I See Fire 7 79580\n",
        "0.09 \t\tHardwell Live @ Tomorrowland 2014 5 56946\n",
        "0.09 \t\tdeadmau5 - Some Chords (Dillon Francis Remix) 5 57298\n",
        "0.09 \t\tTchami x Janet Jackson - Go Deep (remix) 5 57883\n",
        "0.09 \t\tEllie Goulding - High For This (Kygo Remix) 5 58141\n",
        "0.08 \t\tM I A - Paper Planes 5 58960\n",
        "0.08 \t\tODESZA - Sun Models (feat. Madelyn Grant) 6 71209\n",
        "0.08 \t\tEminem - Cinderella Man 5 59499\n",
        "0.08 \t\tAfrojack & Martin Garrix - Turn Up The Speakers (Original Mix) 6 71642\n",
        "0.08 \t\tPorter Robinson - Divinity (feat Amy Millan) 5 59887\n",
        "0.08 \t\tMr. Probz - Waves 14 167868\n",
        "0.08 \t\tHelp Me Lose My Mind ft. London Grammar 9 108969\n",
        "0.08 \t\tStefan Biniak - The Read All About It Bootleg 5 60939\n",
        "0.08 \t\tKyla La Grange - Cut Your Teeth (Kygo Remix) 8 98055\n",
        "0.08 \t\tWaze & Odyssey vs R Kelly - Bump & Grind 2014 5 62035\n",
        "0.08 \t\tClean Bandit \"Rather Be\" (The Magician Remix) 9 111819\n",
        "0.08 \t\tUltraviolence (Datsik Remix) 5 62294\n",
        "0.08 \t\tDavid Guetta - Memories (Featuring Kid Cudi) 6 75116\n",
        "0.08 \t\tZHU - Faded (ODESZA Remix) - Out June 29 on Mind of a Genius 5 63500\n",
        "0.08 \t\tSteve Aoki, Chris Lake & Tujamo \u2013 Delirious (Boneless) feat Kid Ink 9 114366\n",
        "0.08 \t\tThe Game - Ali Bomaye (feat. 2 Chainz & Rick Ross) 5 63552\n",
        "0.08 \t\tDavid Guetta - Sexy Bitch (Featuring Akon) 5 63687\n",
        "0.08 \t\tA Place Like This 6 76975\n",
        "0.08 \t\tSecondcity - I Wanna Feel (Radio Edit) (Out Now) 6 77619\n",
        "0.08 \t\tSeinabo Sey - Younger (Kygo Remix) 12 155785\n",
        "0.08 \t\tShowtek - We Like To Party (Original Mix) 7 91298\n",
        "0.08 \t\tMacklemore X Ryan Lewis - Wings 5 65694\n",
        "0.08 \t\tKlingande - Jubel (Original mix) Available On Itunes 15 199389\n",
        "0.07 \t\tFlume & Chet Faker - Drop The Game 13 175911\n",
        "0.07 \t\tMilky Chance - Stolen Dance /// FlicFlac Edit [OUT NOW on iTunes] 7 96203\n",
        "0.07 \t\tFireball ft. John Ryan 8 110556\n",
        "0.07 \t\tFatboy Slim VS Dimitri Vegas, Like Mike & Ummet Ozcan - Eat Sleep Rave Repeat ( Tomorrowland Mix ) 7 96984\n",
        "0.07 \t\tWhat So Not - Touched (Original) 6 83850\n",
        "0.07 \t\tJohn Legend - You And I (R3hab Remix) 5 70362\n",
        "0.07 \t\tSleepless feat. Jezzabell Doran 5 70738\n",
        "0.07 \t\tRap God - Eminem 9 128339\n",
        "0.07 \t\tAfrojack & Steve Aoki - No Beef feat. Miss Palmer 6 85656\n",
        "0.07 \t\tJeremih - Fuck U All The Time (Shlohmo Remix) 6 85893\n",
        "0.07 \t\tDillon Francis & Martin Garrix - Set Me Free 5 74129\n",
        "0.07 \t\tMeghan Trainor - All About that Bass (MAEJOR REMIX) ft. Justin Bieber 5 75137\n",
        "0.07 \t\tAm I Wrong - Nico & Vinz 15 230262\n",
        "0.06 \t\tDisclosure - You & Me (Flume Remix) 27 425178\n",
        "0.06 \t\tSam Smith - Money On My Mind (MK Remix) 5 80199\n",
        "0.06 \t\tDavid Guetta ft. Sam Martin - Dangerous (Robin Schulz Remix Radio Edit) 8 128435\n",
        "0.06 \t\tAfrojack (feat. Wrabel) - Ten Feet Tall 7 113026\n",
        "0.06 \t\tM83 - Wait (Kygo Remix) 6 98724\n",
        "0.06 \t\t2pac-Hail Mary 5 82359\n",
        "0.06 \t\tAdventure Club - Wonder (The Chainsmokers Remix) 5 82826\n",
        "0.06 \t\tSnoop Dog & Wiz Khalifa - Young, Wild and Free Ft. Bruno Mars & Siloet 5 83287\n",
        "0.06 \t\tThe Heart Wants What It Wants 6 102197\n",
        "0.06 \t\tBest Day of My Life 6 104543\n",
        "0.06 \t\tEd Sheeran - I See Fire (Kygo Remix) 17 297955\n",
        "0.06 \t\tClean Bandit & Jess Glynne - Real Love 6 105703\n",
        "0.06 \t\tEnrique Iglesias - Bailando Ft. Sean Paul, Descemer, Gente De Zona 11 196494\n",
        "0.06 \t\tShowtek Feat We Are Loud & Sonny Wilson - Booyah (Original Mix) 8 143592\n",
        "0.06 \t\tHeroes (We Could Be) 11 198966\n",
        "0.06 \t\tSander van Doorn, Martin Garrix, DVBBS ft Aleesia - Gold Skies (Preview) [Available June 2] 6 108999\n",
        "0.05 \t\tDr. Dre \"I Need A Doctor\" feat. Eminem and Skylar Grey 6 110477\n",
        "0.05 \t\tDimitri Vegas & Like Mike vs Sander van Doorn - Project T (Martin Garrix Remix) 5 93274\n",
        "0.05 \t\tInfinite Daps - Baauer & RL Grime 5 93566\n",
        "0.05 \t\tMartin Garrix & MOTi - Virus (How About Now) [OUT NOW] 6 112420\n",
        "0.05 \t\tAkon feat. Eminem - Smack That 5 94820\n",
        "0.05 \t\tBirdy - Skinny Love 5 95058\n",
        "0.05 \t\tEd Sheeran & Passenger - No Diggity vs. Thrift Shop (Kygo Remix) 9 171308\n",
        "0.05 \t\tArmin van Buuren feat. Trevor Guthrie - This Is What It Feels Like (W&W Remix) 6 114318\n",
        "0.05 \t\tAVICII - PROMO MIX 2013 - INCLUDING NEW ALBUM TRACKS 8 153893\n",
        "0.05 \t\tDimitri Vegas, Martin Garrix, Like Mike - Tremor (Sensation 2014 Anthem) OUT NOW 8 155044\n",
        "0.05 \t\tDillon Francis & DJ Snake - Get Low 7 135952\n",
        "0.05 \t\tMercy (Kanye West feat. Big Sean, Pusha T, 2 Chainz)- explicit 7 141249\n",
        "0.05 \t\tBakermat - One Day (Vandaag) (Original Mix) 6 121396\n",
        "0.05 \t\tDeorro ft. DyCy - Five Hours (Don't Hold Me Back) [EDM.com Premiere] 5 101759\n",
        "0.05 \t\tWhite Noise ft. AlunaGeorge 7 144789\n",
        "0.05 \t\tT.I. - About The Money Feat. Young Thug 11 228538\n",
        "0.05 \t\tKid Cudi - Pursuit of Happiness (Steve Aoki Remix) 8 166483\n",
        "0.05 \t\tAlunaGeorge - Best Be Believing (Shadow Child remix) 5 104764\n",
        "0.05 \t\tJAGUAR (Original Mix) 7 146949\n",
        "0.05 \t\tMarvin Gaye - Sexual Healing (Kygo Remix) 9 190580\n",
        "0.05 \t\tFrontin' - Pharrell ft. Jay Z (Disclosure Re-Work) 6 127450\n",
        "0.05 \t\tDUM DEE DUM 5 108464\n",
        "0.04 \t\tWhat So Not - High You Are (Branchez Remix) 7 158828\n",
        "0.04 \t\tWhen A Fire Starts To Burn 6 138639\n",
        "0.04 \t\tTURN DOWN FOR WHAT - DJ SNAKE & LIL JON 12 279389\n",
        "0.04 \t\tEminem - Superman 5 117198\n",
        "0.04 \t\tMr. Probz - Waves (Robin Schulz Remix) OUT NOW!!! on Ultra Music 13 307899\n",
        "0.04 \t\tWon't Look Back 7 165898\n",
        "0.04 \t\tKid Ink - Show Me (Remix) Featuring 2 Chainz, Juicy J, Chris Brown & Trey Songz 7 169044\n",
        "0.04 \t\tDavid Guetta & Showtek ft. Vassy - BAD (Original Mix) [OUT NOW] 10 247200\n",
        "0.04 \t\tCoCo 8 200224\n",
        "0.04 \t\tHardwell - Spaceman (Carnage Festival Trap Remix) 8 203745\n",
        "0.04 \t\tWankelmut & Emma Louise - My Head Is A Jungle (MK Remix) 6 155601\n",
        "0.04 \t\tMacklemore X Ryan Lewis - Same Love feat. Mary Lambert 5 131720\n",
        "0.04 \t\tSkrillex - Bangarang feat Sirah 5 132542\n",
        "0.04 \t\tBoom Clap 5 133459\n",
        "0.04 \t\tDiamonds Remix f/ Kanye West 6 170145\n",
        "0.03 \t\tKid Ink - Body Language ft. Usher & Tinashe 10 288822\n",
        "0.03 \t\tPharrell Williams - Happy (NEUS Remix) 5 157239\n",
        "0.03 \t\tLil Wayne ~ She Will Feat. Drake (Rick Ross Remix) 5 161241\n",
        "0.03 \t\tMartin Garrix & Jay Hardway - Wizard (Original Mix) 5 164966\n",
        "0.03 \t\tDVBBS & Borgeous - TSUNAMI (Original Mix) 5 171923\n",
        "0.03 \t\tKid Ink - Main Chick featuring Chris Brown 6 212984\n",
        "0.03 \t\tTyga Ft. Young Thug - HOOKAH 8 308212\n",
        "0.03 \t\tDuke Dumont feat. Jax Jones - I Got U 6 237767\n",
        "0.02 \t\tSam Smith - I'm Not The Only One feat. A$AP Rocky 7 290077\n",
        "0.02 \t\tBed Peace ( Feat. Childish Gambino ) 5 210232\n",
        "0.02 \t\tLorde - Tennis Court (Flume Remix) 8 340516\n",
        "0.02 \t\tLatch ft. Sam Smith 13 560932\n",
        "0.02 \t\tKendrick Lamar - Swimming Pools (Drank) [prod. by T-Minus] - Dirty 5 216512\n",
        "0.02 \t\tDnF P Reign Ft. DRAKE & FUTURE 7 316549\n",
        "0.02 \t\tShow Me feat. Chris Brown (Produced by DJ Mustard) 6 276484\n",
        "0.02 \t\tT.I. - No Mediocre Feat. Iggy Azalea 5 246867\n",
        "0.02 \t\tBurn 5 267240\n",
        "0.02 \t\tPitbull - Timber Featuring Ke$ha 5 278762\n",
        "0.02 \t\tRather Be Feat. Jess Glynne 9 506947\n",
        "0.02 \t\tScHoolboy Q - Man Of THe Year 5 303502\n",
        "0.02 \t\tWiggle Jason Derulo Ft. Snoop Dogg 7 432881\n",
        "0.02 \t\tI Don't Fuck With You (Ft. E-40)(Prod. DJ Mustard & Kanye West / Co-Prod. DJ Dahi & keY Wane) 8 498121\n",
        "0.02 \t\tOr Nah (Remix Feat. The Weeknd) 8 507532\n",
        "0.01 \t\tChris Brown - Loyal featuring Lil Wayne & Tyga 5 339262\n",
        "0.01 \t\tDeJ Loaf - Try Me (prod.by DDS) 5 347786\n",
        "0.01 \t\tSia - Chandelier 6 419032\n",
        "0.01 \t\tChris Brown - New Flame Featuring Usher & Rick Ross 6 471798\n",
        "0.01 \t\tCalvin Harris - Summer (Extended) 6 475520\n",
        "0.01 \t\tMartin Garrix - Animals (Original Mix) OUT NOW! 5 403051\n",
        "0.01 \t\tDrake ~ Hold On, We're Going Home feat. Majid Jordan 5 431562\n",
        "0.01 \t\tILOVEMAKONNEN ~ Tuesday Feat. Drake 6 605546\n",
        "0.01 \t\tAll Of Me 6 674019\n"
       ]
      }
     ],
     "prompt_number": 252
    },
    {
     "cell_type": "code",
     "collapsed": false,
     "input": [
      "import pandas as pd\n",
      "\n",
      "df = pd.DataFrame(recos, columns=['track_id','intersection','related_score', 'title', 'total favoriters', 'comments', 'plays'])\n",
      "\n"
     ],
     "language": "python",
     "metadata": {},
     "outputs": [],
     "prompt_number": 227
    },
    {
     "cell_type": "code",
     "collapsed": false,
     "input": [
      "print df[df.columns[2:4]][0:10]\n",
      "\n"
     ],
     "language": "python",
     "metadata": {},
     "outputs": [
      {
       "output_type": "stream",
       "stream": "stdout",
       "text": [
        "   related_score                                              title\n",
        "0      11.264080          Paul Kalkbrenner - Revolte (Original Mix)\n",
        "1       8.604207  Paul Kalkbrenner - Altes Kamuffel (Special Ber...\n",
        "2       7.117438               Fritz Kalkbrenner - Little by Little\n",
        "3       4.739336                          96Mixtape #4 : The Avener\n",
        "4       4.184100                           Paul Kalkbrenner - Train\n",
        "5       4.118217                  HVOB - Window (Gui Boratto Remix)\n",
        "6       3.900156  B.o.B., Owl City and Tupac - Smile For Airplan...\n",
        "7       3.866504  Premiere: Royksopp 'Sordid Affair' (Maceo Plex...\n",
        "8       3.750938  Louisahhh!!!: Music To... Get You From Here To...\n",
        "9       3.503504  Joris Delacroix - DHA Valhalla Festival Podcas...\n",
        "\n",
        "[10 rows x 2 columns]\n"
       ]
      }
     ],
     "prompt_number": 238
    },
    {
     "cell_type": "heading",
     "level": 2,
     "metadata": {},
     "source": [
      "<a id='recos'>2. Other stuff</a>"
     ]
    },
    {
     "cell_type": "code",
     "collapsed": false,
     "input": [
      "upls = client.get('/users/%d/playlists' %uid )\n",
      "\n",
      "for pl in upls:\n",
      "    print 'pl ID: %d, Title: \"%s\"' % (pl.id, pl.title)\n",
      "\n",
      "#http://api.soundcloud.com/playlists/56964368.json?client_id=17089d3c7d05cb2cfdffe46c2e486ff0\n",
      "plid = 62070993\n",
      "\n",
      "pl_tracks = client.get('/playlists/%d/tracks' %plid)\n",
      "for track in pl_tracks:\n",
      "    print 'Track ID: %d, Title: \"%s\"' % (track.id, track.title)"
     ],
     "language": "python",
     "metadata": {},
     "outputs": [
      {
       "output_type": "stream",
       "stream": "stdout",
       "text": [
        "pl ID: 56964368, Title: \"Likes\"\n",
        "Track ID: 143501087, Title: \"Out Of My Head (Naughty Boy Remix)\""
       ]
      },
      {
       "output_type": "stream",
       "stream": "stdout",
       "text": [
        "\n",
        "Track ID: 174365478, Title: \"Jay Rock - Pay for It (Ft. Kendrick Lamar & Chantal)\"\n"
       ]
      }
     ],
     "prompt_number": 16
    },
    {
     "cell_type": "code",
     "collapsed": false,
     "input": [
      "#http://api.soundcloud.com/resolve.json?url=http://soundcloud.com/johannesbraun&client_id=17089d3c7d05cb2cfdffe46c2e486ff0\n",
      "uid = 5506106 # Johannes Braun\n",
      "#uid2 = 3207 # some soundcloud guy\n",
      "#uid = 125862450 # jobraun2\n",
      "\n",
      "ufavs = client.get('/users/%d/favorites' %uid )\n",
      "utracks = client.get('/users/%d/tracks' %uid ) # menaing songs that i uploaded\n",
      "\n",
      "for track in ufavs:\n",
      "        print 'Track ID: %d, Title: \"%s\"' % (track.id, track.title)"
     ],
     "language": "python",
     "metadata": {},
     "outputs": [
      {
       "output_type": "stream",
       "stream": "stdout",
       "text": [
        "Track ID: 1858438, Title: \"Moderat - Rusty Nails\"\n",
        "Track ID: 174365478, Title: \"Jay Rock - Pay for It (Ft. Kendrick Lamar & Chantal)\"\n",
        "Track ID: 29214963, Title: \"Tricky Tricky - Royksop - McTwist remix\"\n",
        "Track ID: 8079022, Title: \"booka shade-outskirts (trentemoeller remix)\"\n",
        "Track ID: 83930667, Title: \"Siriusmo \"Itchy\" taken from the forthcoming album \"Enthusiast\" (MONKEYTOWN033) Out June 14\"\n",
        "Track ID: 99297925, Title: \"Beck - I Wont Be Long\"\n",
        "Track ID: 157952374, Title: \"Can't Do Without You (Extended Mix)\"\n",
        "Track ID: 37032471, Title: \"Paul Kalkbrenner - Sky And Sand (Feat. Fritz Kalkbrenner)\"\n",
        "Track ID: 174218218, Title: \"Kygo Special - Mixtaped by Freuron [FREE DOWNLOAD]\"\n",
        "Track ID: 94686925, Title: \"Milky Chance - Stolen Dance /// FlicFlac Edit [OUT NOW on iTunes]\"\n",
        "Track ID: 170355836, Title: \"Moderat - Bad Kingdom (Lambert Rework)  Jacob Groening's Sunday Juno Remix\"\n",
        "Track ID: 147992070, Title: \"Moderat \"Bad Kingdom - Robag Wruhme Remix\" (MKTXTR001) Out May 16, 2014\"\n",
        "Track ID: 10213834, Title: \"Moderat - A New Error\"\n",
        "Track ID: 172894209, Title: \"Above & Beyond Live at Madison Square Garden (ABGT100 - Main Set)\"\n",
        "Track ID: 612340, Title: \"Keep The Secrets Empty For Me\"\n"
       ]
      }
     ],
     "prompt_number": 15
    },
    {
     "cell_type": "code",
     "collapsed": false,
     "input": [
      "# all comments in a list\n",
      "\n",
      "print 'Track ID: %d, Title: \"%s\"' % (track.id, track.title)\n",
      "    \n",
      "comments = [ comment     \n",
      "    #for comment in client.get('/tracks/%d/comments' %tid) ]\n",
      "    for comment in getAll('/tracks/%d/comments' % tid, 200, 1000)]\n",
      "\n",
      "print '%d Comments' % len(comments)\n",
      "\n",
      "print \n",
      "for comment in comments[1:10]:\n",
      "    print comment.body\n",
      "    "
     ],
     "language": "python",
     "metadata": {},
     "outputs": [
      {
       "output_type": "stream",
       "stream": "stdout",
       "text": [
        "Track ID: 38180130, Title: \"Sascha Funke - Mango\"\n",
        "22 Comments"
       ]
      },
      {
       "output_type": "stream",
       "stream": "stdout",
       "text": [
        "\n",
        "\n",
        "nice tech house-awesome+timeless-love it so much loud !!!\n",
        "Thanks berlin calling movie for this song !\n",
        "Deepsisimo bailotin\n",
        "Einfach nur super! Der Aufbau, die Melodien, die Atmosph\u00e4re! Meine Nummer 1 von ihm!\n",
        "WOOHOOOOO!!! Forever love this song\n",
        "One of the best songs out there!! Perfect Work!\n",
        "Auch nach dem 1000. mal h\u00f6ren eine absolute \u00fcbernummer! <3\n",
        "im totally addicted to this track. amazing stuff\n",
        "one in a million since years!\n"
       ]
      }
     ],
     "prompt_number": 105
    },
    {
     "cell_type": "code",
     "collapsed": false,
     "input": [
      "#All users that commented\n",
      "\n",
      "commenters  = [ (comment.user_id, comment.user['username'])\n",
      "                 for comment in comments ]        \n",
      "agg =  [ Counter(comment).items()\n",
      "    for comment in [commenters]][0]\n",
      "\n",
      "sorted_commenters = sorted(agg, key=lambda tup: tup[1], reverse=True)\n",
      "\n",
      "print '%d Commenters' % len(sorted_commenters)\n",
      "\n",
      "from tabulate import tabulate\n",
      "print tabulate(sorted_commenters[1:20], headers=['user_id', '#comments'])\n",
      "\n",
      "        "
     ],
     "language": "python",
     "metadata": {},
     "outputs": [
      {
       "output_type": "stream",
       "stream": "stdout",
       "text": [
        "22 Commenters\n",
        "user_id                                #comments\n",
        "-----------------------------------  -----------\n",
        "(6253410, u'**Blanche*neigE**')                1\n",
        "(47292789, u'Oly_S')                           1\n",
        "(382684, u'Ben van Flijken')                   1\n",
        "(29061634, u'rixcs')                           1\n",
        "(7467342, u'Ma&Mo')                            1\n",
        "(11338590, u'Malaika Wolter')                  1\n",
        "(57292200, u'Mateo Garofuli\\u0107')            1\n",
        "(4269902, u'stephanessity (foxxy)')            1\n",
        "(43369501, u'Der St\\xe4ppke')                  1\n",
        "(55453455, u'Maximilian Milan')                1\n",
        "(102631130, u'Alexandre Tssr')                 1\n",
        "(16939783, u'La Iz Plemena Na')                1\n",
        "(68040952, u'Giulio Scuderi 1')                1\n",
        "(2200403, u'Marc David - Krefeld')             1\n",
        "(7603753, u'user6151145')                      1\n",
        "(15036952, u'bigballs69')                      1\n",
        "(34057129, u'Manuel Balderas')                 1\n",
        "(12963341, u'Volker.Scherz')                   1\n",
        "(122410702, u'Curt Coolbein')                  1\n"
       ]
      }
     ],
     "prompt_number": 107
    },
    {
     "cell_type": "code",
     "collapsed": false,
     "input": [
      "# all words from comments\n",
      "words = [ w \n",
      "          for c in comments\n",
      "              for w in c.body.split() ]\n",
      "\n",
      "from collections import Counter\n",
      "    \n",
      "agg =  [ Counter(w).items()\n",
      "    for w in [words]][0]    \n",
      "    \n",
      "sorted_words = sorted(agg, key=lambda tup: tup[1], reverse=True)\n",
      "\n",
      "print '%d Words' % len(sorted_words)\n",
      "\n",
      "from tabulate import tabulate\n",
      "print tabulate(sorted_words[1:20], headers=['word', '#occurences'])"
     ],
     "language": "python",
     "metadata": {},
     "outputs": [
      {
       "output_type": "stream",
       "stream": "stdout",
       "text": [
        "104 Words\n",
        "word               #occurences\n",
        "---------------  -------------\n",
        "song                         2\n",
        "die                          2\n",
        "of                           2\n",
        "love                         2\n",
        "geil                         2\n",
        "it                           2\n",
        "so                           2\n",
        "Perfect                      1\n",
        ":)                           1\n",
        "Work!                        1\n",
        "ihm!                         1\n",
        "WOOHOOOOO!!!                 1\n",
        "@volker-scherz:              1\n",
        "Chill!!!!                    1\n",
        "h\u00f6ren                        1\n",
        "track!!!!!                   1\n",
        "to                           1\n",
        "only                         1\n",
        "\u00fcbernummer!                  1\n"
       ]
      }
     ],
     "prompt_number": 106
    },
    {
     "cell_type": "code",
     "collapsed": false,
     "input": [
      "upls = client.get('/users/%d/playlists' %uid )\n",
      "\n",
      "for pl in upls:\n",
      "    print 'pl ID: %d, Title: \"%s\"' % (pl.id, pl.title)\n",
      "\n",
      "#http://api.soundcloud.com/playlists/56964368.json?client_id=17089d3c7d05cb2cfdffe46c2e486ff0\n",
      "plid = 62070993\n",
      "\n",
      "pl_tracks = client.get('/playlists/%d/tracks' %plid)\n",
      "for track in pl_tracks:\n",
      "    print 'Track ID: %d, Title: \"%s\"' % (track.id, track.title)\n",
      "    "
     ],
     "language": "python",
     "metadata": {},
     "outputs": [
      {
       "output_type": "stream",
       "stream": "stdout",
       "text": [
        "Track ID: 143501087, Title: \"Out Of My Head (Naughty Boy Remix)\"\n",
        "Track ID: 174365478, Title: \"Jay Rock - Pay for It (Ft. Kendrick Lamar & Chantal)\"\n"
       ]
      }
     ],
     "prompt_number": 67
    },
    {
     "cell_type": "code",
     "collapsed": false,
     "input": [],
     "language": "python",
     "metadata": {},
     "outputs": [],
     "prompt_number": 60
    },
    {
     "cell_type": "code",
     "collapsed": false,
     "input": [],
     "language": "python",
     "metadata": {},
     "outputs": []
    }
   ],
   "metadata": {}
  }
 ]
}