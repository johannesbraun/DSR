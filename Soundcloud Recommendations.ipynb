{
 "metadata": {
  "name": "",
  "signature": "sha256:6f2fb306e88a3438ad9576f19bdf8435c7342be894294e00207f46aefcb903d8"
 },
 "nbformat": 3,
 "nbformat_minor": 0,
 "worksheets": [
  {
   "cells": [
    {
     "cell_type": "heading",
     "level": 1,
     "metadata": {},
     "source": [
      "Soundcloud API"
     ]
    },
    {
     "cell_type": "markdown",
     "metadata": {},
     "source": [
      "Table of contents:\n",
      "<dl>\n",
      "    <dt><a href='#recos'>1. Recommendations</a></dt>\n",
      "    <dt><a href='#other'>2. More functionality</a></dt>\n",
      "</dl>"
     ]
    },
    {
     "cell_type": "heading",
     "level": 2,
     "metadata": {},
     "source": [
      "<a id='recos'>1. Recommendations</a>"
     ]
    },
    {
     "cell_type": "code",
     "collapsed": false,
     "input": [
      "import soundcloud\n",
      "import urllib2"
     ],
     "language": "python",
     "metadata": {},
     "outputs": [],
     "prompt_number": 98
    },
    {
     "cell_type": "code",
     "collapsed": false,
     "input": [
      "# create a client object with your app credentials\n",
      "clientid= '17089d3c7d05cb2cfdffe46c2e486ff0'\n",
      "client = soundcloud.Client(client_id='17089d3c7d05cb2cfdffe46c2e486ff0') # 'YOUR_CLIENT_ID'\n",
      "\n",
      "# find all sounds of buskers licensed under 'creative commons share alike'\n",
      "tracks = client.get('/tracks', q='buskers', license='cc-by-sa')"
     ],
     "language": "python",
     "metadata": {},
     "outputs": [],
     "prompt_number": 99
    },
    {
     "cell_type": "code",
     "collapsed": false,
     "input": [
      "tracks = client.get('/tracks', q='sascha funke')"
     ],
     "language": "python",
     "metadata": {},
     "outputs": [],
     "prompt_number": 100
    },
    {
     "cell_type": "code",
     "collapsed": false,
     "input": [
      "print len(tracks)\n",
      "songs = [ [track.id,track.title] for track in tracks]"
     ],
     "language": "python",
     "metadata": {},
     "outputs": [
      {
       "output_type": "stream",
       "stream": "stdout",
       "text": [
        "50\n"
       ]
      }
     ],
     "prompt_number": 101
    },
    {
     "cell_type": "code",
     "collapsed": false,
     "input": [
      "# http://api.soundcloud.com/tracks/174365478.json?client_id=17089d3c7d05cb2cfdffe46c2e486ff0\"\n",
      "for track in songs[1:5]:\n",
      "    print 'Track ID: %d, Title: \"%s\"' % (track[0], track[1])    "
     ],
     "language": "python",
     "metadata": {},
     "outputs": [
      {
       "output_type": "stream",
       "stream": "stdout",
       "text": [
        "Track ID: 38180130, Title: \"Sascha Funke - Mango\"\n",
        "Track ID: 4038069, Title: \"sascha funke vs nina kraviz - moses ( stimming remix )\"\n",
        "Track ID: 9803642, Title: \"PAUL KALKBRENNER  Sascha Funke Mango VS Fritz Kalkbrenner   Wichita Lineman\"\n",
        "Track ID: 17840488, Title: \"sascha funke @ bpitch control night -2010 new york\"\n"
       ]
      }
     ],
     "prompt_number": 102
    },
    {
     "cell_type": "markdown",
     "metadata": {},
     "source": [
      "<img src=\"https://i1.sndcdn.com/artworks-000019150575-g6xzgx-large.jpg\" alt=\"Accuracy graph\" align=\"left\" >"
     ]
    },
    {
     "cell_type": "code",
     "collapsed": false,
     "input": [
      "#tid = 174365478\n",
      "#Task is to be better than recos at https://soundcloud.com/paulkalkbrenner/paul-kalkbrenner-sky-and/recommended\n",
      "\n",
      "#tid = 37032471\n",
      "tid = 38180130\n",
      "\n",
      "track = client.get('/tracks/%d' %tid)\n",
      "\n",
      "print 'Track ID: %d, Title: \"%s' % (track.id, track.title)\n",
      "print 'Username: %s, Popularity: %d, %d, %d' % (track.user['username'], track.playback_count, track.favoritings_count, track.comment_count)\n",
      "print 'Tags: %s' % track.tag_list\n",
      "print 'Description: %s' % track.description    "
     ],
     "language": "python",
     "metadata": {},
     "outputs": [
      {
       "output_type": "stream",
       "stream": "stdout",
       "text": [
        "Track ID: 38180130, Title: \"Sascha Funke - Mango\n",
        "Username: Journeyofsound, Popularity: 55856, 878, 22\n",
        "Tags: \n",
        "Description: \n"
       ]
      }
     ],
     "prompt_number": 103
    },
    {
     "cell_type": "code",
     "collapsed": false,
     "input": [
      "import urllib2\n",
      "import simplejson\n",
      "url = 'http://api.soundcloud.com/tracks/%d.json?client_id=%s' %(tid,clientid)\n",
      "print url\n",
      "\n",
      "import urllib2\n",
      "import simplejson\n",
      "req = urllib2.Request(url)\n",
      "opener = urllib2.build_opener()\n",
      "f = opener.open(req)\n",
      "simplejson.load(f)"
     ],
     "language": "python",
     "metadata": {},
     "outputs": [
      {
       "output_type": "stream",
       "stream": "stdout",
       "text": [
        "http://api.soundcloud.com/tracks/38180130.json?client_id=17089d3c7d05cb2cfdffe46c2e486ff0\n"
       ]
      },
      {
       "metadata": {},
       "output_type": "pyout",
       "prompt_number": 63,
       "text": [
        "{'artwork_url': 'https://i1.sndcdn.com/artworks-000019150575-g6xzgx-large.jpg',\n",
        " 'attachments_uri': 'https://api.soundcloud.com/tracks/38180130/attachments',\n",
        " 'bpm': 125.0,\n",
        " 'comment_count': 22,\n",
        " 'commentable': True,\n",
        " 'created_at': '2012/02/29 02:13:08 +0000',\n",
        " 'description': u'',\n",
        " 'download_count': 0,\n",
        " 'downloadable': False,\n",
        " 'duration': 421200,\n",
        " 'embeddable_by': 'all',\n",
        " 'favoritings_count': 878,\n",
        " 'genre': 'Tech House',\n",
        " 'id': 38180130,\n",
        " 'isrc': u'',\n",
        " 'key_signature': u'',\n",
        " 'kind': 'track',\n",
        " 'label_id': None,\n",
        " 'label_name': u'',\n",
        " 'last_modified': '2014/12/07 13:04:00 +0000',\n",
        " 'license': 'all-rights-reserved',\n",
        " 'original_content_size': 11367874,\n",
        " 'original_format': 'mp3',\n",
        " 'permalink': 'sascha-funke-mango',\n",
        " 'permalink_url': 'http://soundcloud.com/journeyofsound/sascha-funke-mango',\n",
        " 'playback_count': 55854,\n",
        " 'policy': 'ALLOW',\n",
        " 'purchase_title': None,\n",
        " 'purchase_url': 'http://www.beatport.com/track/mango-original-mix/495053',\n",
        " 'release': u'',\n",
        " 'release_day': None,\n",
        " 'release_month': None,\n",
        " 'release_year': None,\n",
        " 'sharing': 'public',\n",
        " 'state': 'finished',\n",
        " 'stream_url': 'https://api.soundcloud.com/tracks/38180130/stream',\n",
        " 'streamable': True,\n",
        " 'tag_list': u'',\n",
        " 'title': 'Sascha Funke - Mango',\n",
        " 'track_type': 'original',\n",
        " 'uri': 'https://api.soundcloud.com/tracks/38180130',\n",
        " 'user': {'avatar_url': 'https://i1.sndcdn.com/avatars-000011802028-r2ud3p-large.jpg',\n",
        "  'id': 5438139,\n",
        "  'kind': 'user',\n",
        "  'last_modified': '2014/07/05 14:49:00 +0000',\n",
        "  'permalink': 'journeyofsound',\n",
        "  'permalink_url': 'http://soundcloud.com/journeyofsound',\n",
        "  'uri': 'https://api.soundcloud.com/users/5438139',\n",
        "  'username': 'Journeyofsound'},\n",
        " 'user_id': 5438139,\n",
        " 'video_url': None,\n",
        " 'waveform_url': 'https://w1.sndcdn.com/rEkDzcqjfGOO_m.png'}"
       ]
      }
     ],
     "prompt_number": 63
    },
    {
     "cell_type": "code",
     "collapsed": false,
     "input": [
      "def getAll(path,default,at_most):\n",
      "    \n",
      "    items=[]\n",
      "    offset=0\n",
      "\n",
      "    page = client.get(path)    \n",
      "    \n",
      "    while (len(page) != 0): \n",
      "        items = items + [item for item in page]\n",
      "        if len(items) >= at_most: \n",
      "            break\n",
      "            \n",
      "        if len(page)>(default-1):          \n",
      "            offset = offset + len(page)\n",
      "            page = client.get(path, page_size = default,  offset=offset)\n",
      "        else: \n",
      "            page = []\n",
      "        \n",
      "        #while (offset<=(at_most-page_size)):\n",
      "        #items = items + [ item for item in page]           \n",
      "            \n",
      "    return items\n"
     ],
     "language": "python",
     "metadata": {},
     "outputs": [],
     "prompt_number": 104
    },
    {
     "cell_type": "code",
     "collapsed": false,
     "input": [
      "# all comments in a list\n",
      "\n",
      "print 'Track ID: %d, Title: \"%s\"' % (track.id, track.title)\n",
      "    \n",
      "comments = [ comment     \n",
      "    #for comment in client.get('/tracks/%d/comments' %tid) ]\n",
      "    for comment in getAll('/tracks/%d/comments' % tid, 200, 1000)]\n",
      "\n",
      "print '%d Comments' % len(comments)\n",
      "\n",
      "print \n",
      "for comment in comments[1:10]:\n",
      "    print comment.body\n",
      "    "
     ],
     "language": "python",
     "metadata": {},
     "outputs": [
      {
       "output_type": "stream",
       "stream": "stdout",
       "text": [
        "Track ID: 38180130, Title: \"Sascha Funke - Mango\"\n",
        "22 Comments"
       ]
      },
      {
       "output_type": "stream",
       "stream": "stdout",
       "text": [
        "\n",
        "\n",
        "nice tech house-awesome+timeless-love it so much loud !!!\n",
        "Thanks berlin calling movie for this song !\n",
        "Deepsisimo bailotin\n",
        "Einfach nur super! Der Aufbau, die Melodien, die Atmosph\u00e4re! Meine Nummer 1 von ihm!\n",
        "WOOHOOOOO!!! Forever love this song\n",
        "One of the best songs out there!! Perfect Work!\n",
        "Auch nach dem 1000. mal h\u00f6ren eine absolute \u00fcbernummer! <3\n",
        "im totally addicted to this track. amazing stuff\n",
        "one in a million since years!\n"
       ]
      }
     ],
     "prompt_number": 105
    },
    {
     "cell_type": "code",
     "collapsed": false,
     "input": [
      "# all words from comments\n",
      "words = [ w \n",
      "          for c in comments\n",
      "              for w in c.body.split() ]\n",
      "\n",
      "from collections import Counter\n",
      "    \n",
      "agg =  [ Counter(w).items()\n",
      "    for w in [words]][0]    \n",
      "    \n",
      "sorted_words = sorted(agg, key=lambda tup: tup[1], reverse=True)\n",
      "\n",
      "print '%d Words' % len(sorted_words)\n",
      "\n",
      "from tabulate import tabulate\n",
      "print tabulate(sorted_words[1:20], headers=['word', '#occurences'])"
     ],
     "language": "python",
     "metadata": {},
     "outputs": [
      {
       "output_type": "stream",
       "stream": "stdout",
       "text": [
        "104 Words\n",
        "word               #occurences\n",
        "---------------  -------------\n",
        "song                         2\n",
        "die                          2\n",
        "of                           2\n",
        "love                         2\n",
        "geil                         2\n",
        "it                           2\n",
        "so                           2\n",
        "Perfect                      1\n",
        ":)                           1\n",
        "Work!                        1\n",
        "ihm!                         1\n",
        "WOOHOOOOO!!!                 1\n",
        "@volker-scherz:              1\n",
        "Chill!!!!                    1\n",
        "h\u00f6ren                        1\n",
        "track!!!!!                   1\n",
        "to                           1\n",
        "only                         1\n",
        "\u00fcbernummer!                  1\n"
       ]
      }
     ],
     "prompt_number": 106
    },
    {
     "cell_type": "code",
     "collapsed": false,
     "input": [
      "#All users that commented\n",
      "\n",
      "commenters  = [ (comment.user_id, comment.user['username'])\n",
      "                 for comment in comments ]        \n",
      "agg =  [ Counter(comment).items()\n",
      "    for comment in [commenters]][0]\n",
      "\n",
      "sorted_commenters = sorted(agg, key=lambda tup: tup[1], reverse=True)\n",
      "\n",
      "print '%d Commenters' % len(sorted_commenters)\n",
      "\n",
      "from tabulate import tabulate\n",
      "print tabulate(sorted_commenters[1:20], headers=['user_id', '#comments'])\n",
      "\n",
      "        "
     ],
     "language": "python",
     "metadata": {},
     "outputs": [
      {
       "output_type": "stream",
       "stream": "stdout",
       "text": [
        "22 Commenters\n",
        "user_id                                #comments\n",
        "-----------------------------------  -----------\n",
        "(6253410, u'**Blanche*neigE**')                1\n",
        "(47292789, u'Oly_S')                           1\n",
        "(382684, u'Ben van Flijken')                   1\n",
        "(29061634, u'rixcs')                           1\n",
        "(7467342, u'Ma&Mo')                            1\n",
        "(11338590, u'Malaika Wolter')                  1\n",
        "(57292200, u'Mateo Garofuli\\u0107')            1\n",
        "(4269902, u'stephanessity (foxxy)')            1\n",
        "(43369501, u'Der St\\xe4ppke')                  1\n",
        "(55453455, u'Maximilian Milan')                1\n",
        "(102631130, u'Alexandre Tssr')                 1\n",
        "(16939783, u'La Iz Plemena Na')                1\n",
        "(68040952, u'Giulio Scuderi 1')                1\n",
        "(2200403, u'Marc David - Krefeld')             1\n",
        "(7603753, u'user6151145')                      1\n",
        "(15036952, u'bigballs69')                      1\n",
        "(34057129, u'Manuel Balderas')                 1\n",
        "(12963341, u'Volker.Scherz')                   1\n",
        "(122410702, u'Curt Coolbein')                  1\n"
       ]
      }
     ],
     "prompt_number": 107
    },
    {
     "cell_type": "code",
     "collapsed": false,
     "input": [
      "#Get all users who favour this track\n",
      "print 'Track ID: %d' % tid\n",
      "\n",
      "fans = [ (fan.id, fan.username)\n",
      "    #for fan in client.get('/tracks/%d/favoriters' % tid) ]\n",
      "    for fan in getAll('/tracks/%d/favoriters' % tid,50,1000)]\n",
      "\n",
      "print '%d Fans' % len(fans)\n",
      "\n",
      "from tabulate import tabulate\n",
      "print tabulate(fans[1:20], headers=['Id', 'Username'])\n",
      "print '...'\n",
      "print tabulate(fans[510:550], headers=['Id', 'Username'])\n"
     ],
     "language": "python",
     "metadata": {},
     "outputs": [
      {
       "output_type": "stream",
       "stream": "stdout",
       "text": [
        "Track ID: 38180130\n",
        "878 Fans"
       ]
      },
      {
       "output_type": "stream",
       "stream": "stdout",
       "text": [
        "\n",
        "       Id  Username\n",
        "---------  -------------------\n",
        " 67392474  Johannes P. Maurer\n",
        " 37860817  Gaelle Khalife\n",
        "123219768  Deschamps Arthur\n",
        "103002120  user932296708\n",
        "   602148  Linoa\n",
        " 15070102  Gunnar-\n",
        " 16463893  Marco Bartl\n",
        " 30743393  Andrea Urja\n",
        " 49470277  Dj Fabolou$\n",
        " 12717686  dr.sampler\n",
        "  3748667  Psyc' (Distorsong)\n",
        " 71499456  Streetwalker\n",
        " 44434186  millibanani\n",
        "  2240121  Merysz M\n",
        " 86743571  Harald Breidenbach\n",
        " 62353501  Thom Pem's Lachaume\n",
        " 20222537  Melek Ha\n",
        " 13816846  Britta Felzmann\n",
        " 13571911  Finn Job\n",
        "...\n",
        "      Id  Username\n",
        "--------  -------------------------\n",
        "51324092  PKSA\n",
        "56395358  DeeperBeat\n",
        " 5493556  user5919893\n",
        "24254323  Aldy Amali\n",
        " 4452400  Liora Gu\n",
        "27675961  lukas.lobeck\n",
        "  450949  The-Diggin\n",
        "18791213  Roman Condratiuc\n",
        "48468707  MI KA 24\n",
        "16651233  Karoliina P\u00e4rn\u00e4nen\n",
        "27309637  laurascls\n",
        " 9360441  Oscar Aguilar BETA3\n",
        "19584426  Kiki4\n",
        "60353795  stefan ak -Soulz-\n",
        "51055826  Aequilibrist\n",
        " 6253410  **Blanche*neigE**\n",
        "15049021  Ferdl Heinz\n",
        "67294901  Ece Yava\u015fca\n",
        "57697091  W4nja\n",
        "22178183  jeffrigerator\n",
        " 7249358  Jackie Bl\n",
        " 5273348  Tan Jaa\n",
        "46420322  Mc Reen\n",
        "25737364  Linn Hanna\n",
        " 5091598  Giodinapoli\n",
        "53163503  aunt13\n",
        "22617874  vandaseve\n",
        "15633789  mantralicious\n",
        "21570177  Niklas Siegmund\n",
        "40137899  P\u00e2t\u00e9&Bullshit\n",
        "33143380  st\u00f3\u0142zpowy\u0142amywanyminogami\n",
        "53139293  2bell\n",
        "24733458  DDyrka\n",
        "20159294  Arne Maa\u00df\n",
        " 1582327  Flauschinator\n",
        "24299801  Christopher Parmer\n",
        " 6543321  tryptic\n",
        "48969034  Utku Namlises\n",
        "   26033  Zero Style\n",
        "12127189  Mark Peacock\n"
       ]
      }
     ],
     "prompt_number": 108
    },
    {
     "cell_type": "code",
     "collapsed": false,
     "input": [
      "#http://api.soundcloud.com/resolve.json?url=http://soundcloud.com/johannesbraun&client_id=17089d3c7d05cb2cfdffe46c2e486ff0\n",
      "uid = 5506106 # Johannes Braun\n",
      "#uid2 = 3207 # some soundcloud guy\n",
      "#uid = 125862450 # jobraun2\n",
      "\n",
      "ufavs = client.get('/users/%d/favorites' %uid )\n",
      "utracks = client.get('/users/%d/tracks' %uid ) # menaing songs that i uploaded\n",
      "\n",
      "for track in ufavs:\n",
      "        print 'Track ID: %d, Title: \"%s\"' % (track.id, track.title)"
     ],
     "language": "python",
     "metadata": {},
     "outputs": [
      {
       "output_type": "stream",
       "stream": "stdout",
       "text": [
        "Track ID: 1858438, Title: \"Moderat - Rusty Nails\"\n",
        "Track ID: 174365478, Title: \"Jay Rock - Pay for It (Ft. Kendrick Lamar & Chantal)\"\n",
        "Track ID: 29214963, Title: \"Tricky Tricky - Royksop - McTwist remix\"\n",
        "Track ID: 8079022, Title: \"booka shade-outskirts (trentemoeller remix)\"\n",
        "Track ID: 83930667, Title: \"Siriusmo \"Itchy\" taken from the forthcoming album \"Enthusiast\" (MONKEYTOWN033) Out June 14\"\n",
        "Track ID: 99297925, Title: \"Beck - I Wont Be Long\"\n",
        "Track ID: 157952374, Title: \"Can't Do Without You (Extended Mix)\"\n",
        "Track ID: 37032471, Title: \"Paul Kalkbrenner - Sky And Sand (Feat. Fritz Kalkbrenner)\"\n",
        "Track ID: 174218218, Title: \"Kygo Special - Mixtaped by Freuron [FREE DOWNLOAD]\"\n",
        "Track ID: 94686925, Title: \"Milky Chance - Stolen Dance /// FlicFlac Edit [OUT NOW on iTunes]\"\n",
        "Track ID: 170355836, Title: \"Moderat - Bad Kingdom (Lambert Rework)  Jacob Groening's Sunday Juno Remix\"\n",
        "Track ID: 147992070, Title: \"Moderat \"Bad Kingdom - Robag Wruhme Remix\" (MKTXTR001) Out May 16, 2014\"\n",
        "Track ID: 10213834, Title: \"Moderat - A New Error\"\n",
        "Track ID: 172894209, Title: \"Above & Beyond Live at Madison Square Garden (ABGT100 - Main Set)\"\n",
        "Track ID: 612340, Title: \"Keep The Secrets Empty For Me\"\n"
       ]
      }
     ],
     "prompt_number": 15
    },
    {
     "cell_type": "code",
     "collapsed": false,
     "input": [
      "upls = client.get('/users/%d/playlists' %uid )\n",
      "\n",
      "for pl in upls:\n",
      "    print 'pl ID: %d, Title: \"%s\"' % (pl.id, pl.title)\n",
      "\n",
      "#http://api.soundcloud.com/playlists/56964368.json?client_id=17089d3c7d05cb2cfdffe46c2e486ff0\n",
      "plid = 62070993\n",
      "\n",
      "pl_tracks = client.get('/playlists/%d/tracks' %plid)\n",
      "for track in pl_tracks:\n",
      "    print 'Track ID: %d, Title: \"%s\"' % (track.id, track.title)"
     ],
     "language": "python",
     "metadata": {},
     "outputs": [
      {
       "output_type": "stream",
       "stream": "stdout",
       "text": [
        "pl ID: 56964368, Title: \"Likes\"\n",
        "Track ID: 143501087, Title: \"Out Of My Head (Naughty Boy Remix)\""
       ]
      },
      {
       "output_type": "stream",
       "stream": "stdout",
       "text": [
        "\n",
        "Track ID: 174365478, Title: \"Jay Rock - Pay for It (Ft. Kendrick Lamar & Chantal)\"\n"
       ]
      }
     ],
     "prompt_number": 16
    },
    {
     "cell_type": "code",
     "collapsed": false,
     "input": [
      "#for cacheing api results\n",
      "\n",
      "cached_user_favorites={} # cached_user_favorites"
     ],
     "language": "python",
     "metadata": {},
     "outputs": [],
     "prompt_number": 132
    },
    {
     "cell_type": "code",
     "collapsed": false,
     "input": [
      "print len(cached_user_favorites)"
     ],
     "language": "python",
     "metadata": {},
     "outputs": [
      {
       "output_type": "stream",
       "stream": "stdout",
       "text": [
        "0\n"
       ]
      }
     ],
     "prompt_number": 133
    },
    {
     "cell_type": "code",
     "collapsed": false,
     "input": [
      "#http://api.mongodb.org/python/current/tutorial.html\n",
      "\n",
      "import json\n",
      "import pymongo # pip install pymongo\n",
      "from bson import json_util # Comes with pymongo\n",
      "from datetime import datetime as dt\n",
      "\n",
      "mongo_client = pymongo.MongoClient()\n",
      "db = mongo_client.soundcloud\n",
      "\n"
     ],
     "language": "python",
     "metadata": {},
     "outputs": [],
     "prompt_number": 111
    },
    {
     "cell_type": "code",
     "collapsed": false,
     "input": [
      "collection = db.user_favorites  # adds collection soundcloud.user_favourites\n",
      "collection.ensure_index('uid', unique= True, drop_dups=True)\n",
      "\n",
      "\n",
      "user = { \"uid\": \"6940695\",\n",
      "        \"favorites\": \"[83290142, u'spazieren gehen im Traumland 5 @ Systemfeind'], [ 69311911, u'Spazieren gehen im Traumland part 4']\",\n",
      "        }\n",
      "\n",
      "o = collection.insert(user)\n"
     ],
     "language": "python",
     "metadata": {},
     "outputs": []
    },
    {
     "cell_type": "code",
     "collapsed": false,
     "input": [
      "#print collection\n",
      "\n",
      "print db.collection_names()\n",
      "\n",
      "results = [doc for doc in collection.find()]\n",
      "\n",
      "def pp(o, indent=1):\n",
      "    print json.dumps(o, indent=indent, default=json_util.default)\n",
      "\n",
      "pp(results)"
     ],
     "language": "python",
     "metadata": {},
     "outputs": [
      {
       "output_type": "stream",
       "stream": "stdout",
       "text": [
        "[u'posts', u'system.indexes', u'user_favorites']\n",
        "[\n",
        " {\n",
        "  \"favourites\": \"[83290142, u'spazieren gehen im Traumland 5 @ Systemfeind'], [ 69311911, u'Spazieren gehen im Traumland part 4']\", \n",
        "  \"_id\": {\n",
        "   \"$oid\": \"5484817f5cab4d0a76405e67\"\n",
        "  }, \n",
        "  \"uid\": \"6940695\"\n",
        " }, \n",
        " {\n",
        "  \"favourites\": \"[[38180130, u'Sascha Funke - Mango'], [162777996, u'ILOVEMAKONNEN ~ Tuesday Feat. Drake'], [156960052, u'Alice Jemima - Breezeblocks (Alt-J Cover)'], [160787266, u'Qtier - Set Me On (David August Remix)'], [25424047, u'Just Jack - Disco Friends (madstarbase RMX)'], [166610616, u'TC & IVO - Liquid Crystals ( Original Mix )'], [89307414, u'Patrick Ebert - She Will Be Loved Bootleg'], [163835477, u'NEWMIX'], [56932462, u'Clams Casino - Im God'], [136896081, u'I Live In A Van'], [83416112, u'HVOB - Moon'], [151126215, u'SoMo - Am I Wrong'], [28622604, u'The Morning-The weekend'], [97697192, u\\\"Damien Saez - Putains vous m'aurez plus\\\"], [36990207, u'Take Care (Drake Medley)'], [135916667, u'Or Nah (Remix Feat. The Weeknd)'], [41709803, u'Mariah Carey - Touch My Body (Cyril Hahn Remix)'], [160077004, u'Jetlag feat. Esther - Walk With Me (Original Mix)'], [151296123, u'Wiz Khalifa - LetR (28 Grams)'], [161263005, u'Loyal - The Frat Remix'], [154675494, u'Maroon5 - maps'], [80918131, u'Dogs | Original Mix | Full Length'], [96771864, u'The Drums- Days (Trentemoller Remix)'], [2469309, u'Boozebus - Wasser (Original Mix)'], [158259918, u'Naaz - Nobody Said (ConquestBeatz Drums Rework) [Free Download]'], [67140619, u'Be Major - Miss Words [Patty Kay Remix] free download'], [65889985, u'KMLN / Be Major - Platonic Love (KMLN Records)'], [123022564, u'Ben Khan - Savage'], [65190199, u'4. The Way We Live feat Navid Izadi'], [147028352, u'Cocoon - Cathedral (Dinnerdate Remix)'], [154324763, u'Acoustic Cuts - Show Me Love (Samuel Remix)'], [106673725, u\\\"Winter's Song\\\"], [24070109, u'Thirteen Thirtyfive'], [145428506, u'ZHU - Cocaine Model.'], [30205514, u'The Weekend Trust Issues'], [113200327, u'Sorcha Richardson - Last Train (Lexer Remix)'], [146599534, u'Jan Blomqvist - Big Jet Plane (Original Mix)'], [95269375, u'Wale ft Rihanna - Bad Remix'], [100436636, u'Clean Bandit - Rihanna feat. Noonie Bao'], [111244653, u'Bob Moses (Live) - Robot Heart Burning Man 2013'], [146885955, u'Chillout Mixtape #13 \\\"When I met you in the summer\\\"'], [4708762, u'jewel kid-r dalam - original mix'], [74914066, u'Tube & Berger - Imprint Of Pleasure [SUARA072]'], [82096240, u'R\\\\xdcF\\\\xdcS - Take Me'], [144365852, u'Milky Chance - Down By The River (Vijay & Sofia Zlatko Edit)'], [100741696, u'Maverick Sabre - I Need (Luis Leon Blue Sky Edit)'], [118870134, u'Blond:Ish Boiler Room mix'], [118728094, u'photomaton feat. elodie wildstars - jabberwocky'], [102029644, u'09-Drake Feat Lil Wayne-Uptown']]\", \n",
        "  \"_id\": {\n",
        "   \"$oid\": \"5484880a5cab4d0a76405e68\"\n",
        "  }, \n",
        "  \"uid\": \"53741571\"\n",
        " }, \n",
        " {\n",
        "  \"favourites\": \"[[111414188, u'Romeofoxtrott - Memories (Alle Farben remix)'], [179436053, u'Sometimes feat. Graham Candy (Zwette Remix)'], [166794926, u'Dark Minimal Tech House - Welcome to the Darkside'], [38180130, u'Sascha Funke - Mango'], [85809802, u'Line Hvid - Words Unsaid [Bak & Lindemann Remix]'], [117075061, u'Morild - Black and Blurry [Bak & Lindemann Remix]'], [144094341, u'Ruederich feat. Meggy - Top Of The World (Marek Hemmann Remix)'], [144471216, u'Niklas Thal - Traumwelt (Original Mix)'], [143051945, u'Alle Farben - She Moves (Far Away)feat Graham Candy (Lexer Remix)'], [101277409, u'Kollektiv Turmstrasse - Mix July 2013'], [96394239, u'Kollektiv Turmstrasse - Mix June 2013'], [163984110, u'Seelenmusik #18 - Daniele Di Martino'], [175815711, u'Kungs ft. Molly - West Coast'], [167248039, u'Weiss \\\"I Believe\\\" (Soundcloud Edit)'], [114202078, u'Pleasurekraft - Sinister Strings (Re-construction of a Classic)'], [3155361, u'Tarantula'], [93053465, u'Josh Butler - Got A Feeling (Bontan Remix/Pleasurekraft Edit) [Kraftek]'], [14638552, u'MicRoCheep & Mollo - Orgasmic (Matteo Poker Rmx)'], [165130340, u'Klangkarussell - Netzwerk (Falls Like Rain) (Zwette Remix)'], [128073633, u'What Is Love (cover)'], [173013193, u'Robin Schulz Feat. Jasmine Thompson  - Sun Goes Down (ManiezzL Remix)'], [177679939, u'Tinlicker - Nachtwerk [EDM.com Premiere]'], [161275114, u\\\"Deorro ft. DyCy - Five Hours (Don't Hold Me Back) [EDM.com Premiere]\\\"], [176859761, u'Oliver Schories - Remote Moment (Format:B Remix) - Noise Ball EP - out: 28.11.2014 - SOSO10'], [124147566, u'Tube & Berger, Juliet Sikora - Come on now (Set it Off) 128 kbps'], [124639047, u'KlangKuenstler - Hand In Hand'], [10554216, u'Miles Dyson &amp; Aaren San - Zooloo (Pleasurekraft Remix)'], [168572435, u'Sam Paganini - Rave - Drumcode - DCCD10'], [111088050, u'Rising (w/ Nicolas Haelg) | Free Download'], [146896486, u'Worldcast By Nicolas Haelg (Switzerland)'], [60417532, u'Oscar L & Rober Gaez - Bouse of Disco'], [48608428, u'Ornette \\\\u2013 Crazy (Noze remix)'], [136019926, u'Oliver Koletzki Time Warp Live Mix'], [166182959, u'Elektronic Force Podcast 195 with Marco Bailey'], [69203566, u'Oliver Koletzki - Bring me Home'], [172371701, u'Desert Hearts 2 Year Aniversery Mix Contest'], [48145420, u'Trickski @ Annecy May2012'], [128692657, u'Holger Hecler @Kater Holzig - NYE & Kater Closing - 2014-01-02'], [170208645, u'Oliver Koletzki @ Watergate 26.09.2014'], [171334287, u'LMF029 - Uone & Shades of Gray - Cosmic Galaxy feat. Bonsai'], [170000438, u'Matteo Luis - Wait Why (Bjoern Stoerig Remix)  [ WellDone! Music ]'], [89585394, u'HVOB \\\\u2013 Always like this (Oliver Koletzki Remix) [Full Track]'], [106587605, u'Ben Klock - Berghain 10th Aug 2013'], [166632422, u'Let The River In - Nicolas Haelg Remix'], [155811570, u'Ezikiel - Hive Podcast - Juni 2014'], [159548334, u'ZHU - Faded (T\\\\xc2CHES Remix)'], [150184747, u'PAJI - Children Of Love (Original Mix) [Kittball] (128 kbps)'], [161150034, u'HNQO & Dake feat. Rai Knight - Obsessed (out)'], [149405295, u'Hive Audio - Mixcast Serie Nr 5 - Fat Sushi']]\", \n",
        "  \"_id\": {\n",
        "   \"$oid\": \"5484880a5cab4d0a76405e69\"\n",
        "  }, \n",
        "  \"uid\": \"103002120\"\n",
        " }, \n",
        " {\n",
        "  \"favourites\": \"[[142859004, u'Pete Oak//NO EYES ALL EARS #1 Blindfold podcast'], [171493997, u'Pete Oak - Steyoyoke Black Podcast #002'], [134414999, u'Stefan Schleich - Chill Squad'], [166036085, u'Getting Deeper Podcast #62 Mixed By Rolandson'], [171922768, u'Animal Picnic - Steyoyoke Podcast #033'], [170540144, u'Soul Button Presents Authentic Steyoyoke #003'], [170755256, u'Patrick Podage - Take Me There (Soul Button Remix)'], [171209626, u'Wunstmukke Die Zw\\\\xf6lfte'], [107774332, u'Jonn Dark - La Libertad (August 2013)'], [165315606, u'David Dorad * Garbicz Festival 2014'], [170845063, u'Oliver Schories - Oil (Noise Ball EP - out: 28.11.2014 - SOSO10)'], [170638583, u'Marcus Meinhardt - Podcast - Heinz Music 003'], [18081804, u'Vessel'], [3330505, u'Fugazi - Waiting Room - Fugazi'], [165492023, u'Garbicz Camp Wielki Set 2014'], [167463161, u'Live@ Garbicz Festival 2014'], [163292128, u'Uone @ Alchemy Circle, BOOM Festival 2014 Part 1'], [128692214, u'MieseMusik Podcast 056 - Meister Nadel\\\\xf6hr'], [167282294, u'Schlepp Geist Live - Ploetzlich am Meer Festival 2014'], [165288330, u'Britta  Arnold - Podcast - Heinz Music 002'], [154739217, u'Love Drug feat. Fritz Helder (Mihai Popoviciu Remix)'], [157401695, u'Britta Arnold & Elliver \\\"Wo Rave zu Ruhe wird, wird Widerstand zur Pflicht\\\"'], [64629601, u'Dixon & \\\\xc2me 4 hours Boiler Room x Innervisions DJ Set at ADE 2012'], [157146898, u'Soukie & Windish - Fusion Festival 2014 @ Tanzw\\\\xfcste'], [161205916, u'Musik? Das kann ich. Podcast #028 by Federschema - Afterhour!'], [130629230, u'The Cheapers - Memories'], [158782257, u'Kalabrese | Desperate Man feat. Khan (Canson Ray Of Hope Remix)'], [157130497, u'Mira & Chris Schwarzw\\\\xe4lder Bachstelzen FUSION 2014'], [156793370, u'Super Flu @ Fusion 2014'], [112593520, u'Essential Mix September 2013  Dixon'], [152775933, u'URSL018 I Soukie & Windish - Alph'], [77508921, u'Wunstmukke die Zweite'], [151043386, u'Wunstmukke Die Zehnte'], [151045067, u'N!co Stojan & Mira | Zusammen Ist Man Weniger Allein | www.klangextase.de'], [154326858, u'Holger Hecler @Suma Beach Opening - Istanbul - 2014-06-08'], [153455165, u'Kater Blau Opening Set'], [115155467, u'Electric Religion (Out Now) [Prison Entertainment]'], [151695107, u'Acid Pauli - Robot Heart New York Spring 2014'], [150730140, u'JONN DARK / FORECAST'], [149979135, u'Getting Deeper Podcast #48 mixed by Stephan Grab'], [144812308, u'Jan Oberlaender & Schlepp Geist - Geek - Katermukke - KATER069'], [148246298, u'Dr.Marcus Meinhardt @Abrakadabra Set, Hamburg - Waagenbau'], [148341696, u'Jan Oberlaender At  |  In Bachstelzen We Trust  |  Salon Zur Wilden Renate |'], [145785543, u'Kultmucke Podcast #16 - Moritz Kaiser'], [146425339, u'Springsession ll Podcast'], [147405174, u'Oliver Schories - Sensual Pieces Of Music Podcast #4 - 2014'], [144780294, u'Solomun - Samson'], [146886240, u'Coldplay  \\\"Magic\\\"  (Dan Caster\\\\'s Little Zoe Edit) [FREE DOWNLOAD]']]\", \n",
        "  \"_id\": {\n",
        "   \"$oid\": \"5484880c5cab4d0a76405e6a\"\n",
        "  }, \n",
        "  \"uid\": \"1466378\"\n",
        " }, \n",
        " {\n",
        "  \"favourites\": \"[[26929566, u'Michael Jackson - Thriller (Sabo Moombahton Remix)'], [23670819, u'Quantic - Time Is The Enemy'], [174724606, u'ALESSO - HEROES FT. TOVE LO (AMTRAC REMIX)'], [140398600, u'Moderat - Damage Done (live)'], [163532835, u'Moderat - Damage Done [Silinder Remix] FREE DOWNLOAD'], [131643316, u'04. Therapy - Moderat'], [159699455, u'Moderat - Bad Kingdom'], [119140049, u'Let In The Light Moderat'], [12339722, u'The Heavy - Short Change Hero'], [167329443, u'Beckwith - Anjunadeep vs. THUMP Mix'], [175165424, u'Without You'], [175786725, u'Radiohead - Reckoner (Cubicolor Remix) [Free Download]'], [118809933, u'DAVI - The Bay 6 (pt. 1)'], [118809932, u'DAVI - The Bay 6 (pt. 2)'], [119168184, u\\\"Premiere: DAVI 'The Bay 6' (pt. 1)\\\"], [612335, u'Seven'], [612332, u'If I Had A Heart'], [48078376, u'Branko- Going In Hard feat. Dominique Young Unique (French Fries Remix)'], [174580476, u'Bradley P Live at Bump In The Night'], [175005194, u'Winter Sun'], [174724850, u\\\"Premiere: Bondax 'Something Good' feat Speelburg\\\"], [175804242, u'M.A.N.D.Y. - Obsessed'], [175449002, u'Russ Chimes Presents: Terraza - Baiona'], [175646557, u'Sabo - Robot Heart - Burning Man 2014'], [103086027, u'Andrew Bayer - Need Your Love (Phonat Remix)'], [13206695, u'Hybrid - Disappear Here'], [10609165, u'01 Universal on Switch'], [149578691, u'Possibilities'], [149578693, u'Panther'], [149578695, u'Light Arrives'], [2063823, u'Stimming - Melodica - GR07'], [38180130, u'Sascha Funke - Mango'], [103897060, u'Younger Brother - Train'], [64546402, u'Younger Brother \\\\u2014 Shine'], [137027975, u'Younger brother - Psychic Gibbon'], [145757891, u'atish - [043] - april 2014 - anicca'], [170906893, u'atish - [046] - october 2014 - introverted'], [83567762, u'Plantrae - Enter The Seed'], [83821397, u'Plantrae - Bristle Cone'], [135362499, u'Easy'], [20606437, u'Kollektiv Turmstrasse \\\\u2013 DJ Set for Uncivil Podcast #035 - 05-05-2010'], [170356328, u'ON DECK: Legion & Logam'], [112609088, u'Klangkarussell - Sonnentanz (Sun Don T Shine) [feat. Will Heard]'], [160233905, u\\\"Klangkarussell - Sonnentanz (Sun Don't Shine) (preview)\\\"], [131152003, u'London Grammar - Hey Now (Bassmelodie Deephouse Remix)'], [111955436, u'Foals - Out Of The Woods (Kulkid Remix)'], [166161381, u'Joe Case - RCC Monday Rainy Sunrise - Burning Man 2014'], [154763550, u'Feel Your Love'], [89300254, u'HVOB - Always Like This (andhim rmx)'], [167244318, u'Coccolino Deep - Night Drive']]\", \n",
        "  \"_id\": {\n",
        "   \"$oid\": \"5484880d5cab4d0a76405e6b\"\n",
        "  }, \n",
        "  \"uid\": \"1540109\"\n",
        " }, \n",
        " {\n",
        "  \"favourites\": \"[[178880420, u'Adam Beyer - The Nature Of Keys'], [38180130, u'Sascha Funke - Mango'], [96394239, u'Kollektiv Turmstrasse - Mix June 2013'], [174124006, u'Alex Jangle - Dirtygrooves.com Podcast 009'], [97754293, u'Stuart Hawkins & Loquace \\\"Musique\\\" Vinyl Only [VEKTON BLACK]'], [163248332, u'Nick Warren - Devils Elbow (Max Cooper Remix)'], [160937416, u'FUSE Podcast #3 - Archie Hamilton &  Dan Farserelli Live at FUSE Ibiza'], [159896133, u'Fasten Musique Podcast 056 - Scott Kemp'], [156994413, u'LIVE SET: MK Live From DJ Mag/GlobalGathering Courtyard Sessions'], [158142562, u'Vanita - Crawly (Chris Lattner Remix)'], [58097121, u'Andhim fusion 2012 cut'], [156842319, u'Mudman - Beeings (original)'], [157189151, u'Sydney Blu Presents Blu Radio Episode 062'], [156846829, u'University Of Nowhere - Little Helper 131-5 [littlehelpers131]'], [156846830, u'University Of Nowhere - Little Helper 131-6 [littlehelpers131]'], [156860386, u'H E L L O   S U M M E R'], [100454677, u'Stuart Hawkins - Dreams Of You **OUT NOW** [INFUSE]'], [104286873, u\\\"Ra.pu & Nekow - Sweepin' Over (Martin 'M Remix)\\\"], [113188959, u\\\"Jam' On - Good Feelings\\\"], [152785727, u\\\"M\\\\xd8 - Don't Wanna Dance (Zimmer Remix)\\\"], [111096928, u'Him_Self_Her - Gone Too Long (Yousef Circus Rework) CROSSTOWN REBELS'], [113838168, u'Lexer - Little Bird (Original Mix)'], [154628651, u\\\"Premiere: Green Velvet 'Bigger Than Prince' (Yousef Circus Rework)\\\"], [155103095, u\\\"Premiere: Grades 'Owe It To Yourself'\\\"], [112435436, u'Daydreamer (nikosf. Dubdreamer Remix)'], [155251543, u'MOSHImix24 - nikosf. (Special Album Release Celebration Mix)'], [149501198, u'Millok Feat. Luka - Help Me (Preview)soon on Blacksoul Music'], [76396874, u\\\"Millok - I'm Trippin (Cut Preview) WMC 2013 Sampler BLACKSOUL Music\\\"], [122899544, u'Ed Sheeran - I See Fire (Kygo Remix)'], [152031975, u'Pan-Pot - Sonar by Day 2014'], [151194314, u'Unauthorized Records Mixtape # 001     -    Thomas Godfrey'], [150561112, u'Alex Jangle & Korpex @ jaeger 02.05.2014'], [109746737, u'Adriatique - Mr. Creasy (DIYNAMIC068)'], [120884155, u'Adriatique - Rolling Stone (preview)'], [128807887, u'Seidensticker & Salour - Sally Korea feat.Rufus'], [134041962, u'Ricky Ryan & Kosmas - Lost Angeles - AKBAL MUSIC'], [141176472, u'Dee Keepers - Magical Feeling (Original Mix)'], [116059418, u'TOK 030 Debal Sommer Feel to Feel (only digital)'], [136734974, u'JUICEVERKET Feb 2014'], [136564821, u'Jeff Fontaine, Deep Spelle & Maske - Relativity (Original Mix)[Quantized  Music]'], [114436504, u'Mindaugas Jak - Persona (Preview)'], [73586988, u\\\"Nadja Lind & Paul Loraine - Making A Difference (Silicone Soul's Hypnohouse Dub) (Lucidflow) (Clip)\\\"], [123116097, u'Alexx Rubio feat. Louie Fresco - Shadows In The Night (Original Mix) PREVIEW'], [97042722, u'MAHALO!'], [51593603, u'Jamie Jones Feat. Ost & Kjex - Summertime (Amine Edge 2009 Edit)'], [149150613, u'NOIR MUSIC Mixtape By RAXON [Free Download]'], [149315293, u'RA135 - Marcel Dettmann (December 2008)'], [148530273, u\\\"1. White Lies - Big TV (Tube & Berger's work for free RMX)\\\"]]\", \n",
        "  \"_id\": {\n",
        "   \"$oid\": \"5484880e5cab4d0a76405e6c\"\n",
        "  }, \n",
        "  \"uid\": \"16017427\"\n",
        " }, \n",
        " {\n",
        "  \"favourites\": \"[[153873856, u'Addal - I See Fire (Feat. Jasmine Thompson)  ***FREE DOWNLOAD***'], [179942592, u'Makam - Live @ Bassline Party'], [161946850, u'Mixtape 3'], [29781311, u'Der Tanz der Gluehwuermchen (Kollektiv Turmstrasse  Dirt Glow  Remix) (Traum V145)'], [1589080, u'the loneliness'], [159653855, u'DVS1 - Black Russian'], [13901429, u'Azari & III - Hungry For The Power [Jamie Jones Remix]'], [140546638, u'Walking With Elephants'], [139035993, u'The Wolf Of Wall Street Chest Thump Mix'], [84686346, u'ODB ft Kelis-Baby,I Got Your Money-(Malikk edit)'], [82610947, u'Tom Demac - Dirty Honey (Original Mix)'], [169912175, u'Ludacris - Stand Up (LeMarquis Remix)'], [171012374, u'Eminem - Business (Matoma Remix)'], [171908726, u'Yoohoo'], [169176852, u'Groundation - One More Day (live it up) cover by Dub Silence'], [164286435, u'Dayne S - Fade Away (Kovary Remix)'], [163404966, u'SHUT UP (ORIGINAL MIX)'], [158794564, u\\\"Chima Anya & Clem Beat'z - After All This Time\\\"], [158799230, u'Reichelt & Raycoux Vs. Nico Pusch - Sonnenschein (Nico Pusch Mix)'], [155209489, u'Sidney Charles - 303 Love Story feat. Hector Moralez (Patrick Topping Remix)'], [155209746, u'Leon - Bloosh (Patrick Topping Remix)'], [148913652, u'Gourmandise.'], [33157538, u'Ludovico Einaudi - Una Mattina (Nico Pusch Bootleg Remix)'], [127104876, u'Oliver Heldens - Gecko (Original Mix) [OUT NOW]'], [38180130, u'Sascha Funke - Mango'], [37031912, u'Paul Kalkbrenner - Sky And Sand (Feat. Fritz Kalkbrenner)'], [7475138, u'Paul Kalkbrenner - Gebrunn Gebrunn (Original Mix)'], [7474761, u'Paul Kalkbrenner - Bengang (Original Mix)'], [94352318, u'F For You'], [108947374, u'Daniel Avery - All I Need'], [16683323, u'Noir and Haze - Around (Solomun Vox) 128kbit - Noir Music'], [112742479, u'Peppermint'], [54686949, u'08 - Believe'], [113636976, u'Seven Nation Army (Teemid Cover) - HollyHenry'], [126594518, u'Shiny Goose - Amnesia (Out Now!)'], [145337159, u'The Same - Soul Calling'], [132268963, u'Sharam Jey & Sirus Hood - Picture Picture (Original Mix)'], [139455551, u\\\"Tam'k & Curtis V - Tamara (Goshi Remix)\\\"], [145594777, u\\\"(Tough Love Remix) Donae'o Ft Carnao Beats - Gone In The Morning  ***OUT NOW***\\\"], [145180123, u'Nink - Nothing Else'], [145286670, u'Seph - Dinama (Sasha Carassi Remix) [Unique Community]'], [123836396, u'De Hofnar & Felix Jaehn - Valv\\\\xe9 (Original Mix)'], [132829984, u'LAURENT GARNIER: Boiler Room X Dekmantel Mix (August 2013)'], [90953702, u'Modern Talker - So Good feat. Patricia Edwards (Herr Vogel Remix) [Teaser]'], [78513359, u'Herr Vogel - Sexy and I know it (Edit)'], [27238983, u'Oliver Huntemann -  Magnet (Paranoia)'], [142843868, u'Ben Pearce & Black Orange Juice - Predictable (Ben Pearce Re-Work)'], [80811130, u'Storm Queen - Look Right Through (MK Dub III) Soundcloud Edit'], [7126801, u'Atlas (Gui Boratto Remix Soundcloud Edit)'], [29106837, u'Love']]\", \n",
        "  \"_id\": {\n",
        "   \"$oid\": \"5484880f5cab4d0a76405e6d\"\n",
        "  }, \n",
        "  \"uid\": \"54333460\"\n",
        " }, \n",
        " {\n",
        "  \"favourites\": \"[[43803657, u'Kollektiv Turmstrasse - Luchtoorn (Original Mix)'], [165915864, u'Kollektiv Turmstrasse - Last Day (David August Revision)'], [123675115, u\\\"Inspired By Sascha Funke & Paul Kalkbrenner's 'Mango'\\\"], [99726052, u'Minmal und so / Sascha Funke - Paul Kalkbrenner'], [26889635, u'Sascha funke - SONAR 2009 Cut'], [5471217, u'Trickski vs Sascha Funke & Nina Kraviz - Erica Rhone Remix'], [59023577, u'Sascha Funke - Double Checked'], [4038069, u'sascha funke vs nina kraviz - moses ( stimming remix )'], [38180130, u'Sascha Funke - Mango'], [8860358, u'Sascha Funke - Live @ Bpitch Control Beachparty Barcelona - 19.06.2009'], [4231383, u'HAITO_DISCONNECTED_SASCHA FUNKE MIX'], [176250296, u'Monaberry Podberry  19 - Super Flu'], [176752549, u'In Session: Bella Sarris'], [176805888, u'Robert Babicz - Soft Mix Vol.1'], [177196428, u'Ron Flatter - Traum Mix'], [173631402, u'In Session: Oskar Offermann & Edward'], [125394675, u'John Newman - Losing Sleep (Disciples REMIX)'], [174409663, u'Martin Waslewski & Ole Biege - Fiddler (Monkey Safari Remix)'], [172431543, u'Monaberry Podberry 18 - Douglas Greed'], [172961911, u'Moon Harbour Radio 54: Maximiljan, hosted by Dan Drastic'], [103970845, u'Ornette - Crazy (Julius Abel Remix)'], [169301049, u'Klangkarussell - FABRICLIVE Promo Mix'], [127151757, u'Mixtape Afterwork Electro Pos\\\\xe9 x Le Saint T x TEEMID'], [168840346, u'Kassettenrecorder Mix - September 2014'], [168914453, u'braemer\\\\xb4s pics&stones (mdr 9.2014)'], [168829283, u'Musik Gewinnt Freunde Promo Mix - Flux FM Club Sandwich'], [168271538, u'EINMUSIK :: SUXUL PODCAST 002'], [155786434, u'C\\\\u0153ur de Pirate - Wicked Games (Daniele Di Martino Remix)'], [163096626, u'M11: Chopstick & Johnjon'], [2183999, u'Laid - Punch Up (Wozsonik Vokz)'], [40401533, u'14. Laid - Punch Up [Magas min\\\\u0151s\\\\xe9g]'], [164436066, u'Yutanie @ Weitblick Open Air 16.08.2014'], [90467615, u'Colin Hay \\\\u2013 Down Under (David Bucka Edit) // FREE DOWNLOAD'], [153880545, u'Robin Schulz - Summerbreeze [DJ-Mix]'], [113821149, u'Plattenkonferenz Podcast #01 By Chris Zeitlmeier'], [99843887, u'Surfing Sunset Beach (Mixtape) // FREE DOWNLOAD'], [118240960, u'Ghostpoet -Meltdown (Parra for Cuva remix)'], [142358823, u'Claptone - No Eyes feat. Jaw feat. Leonard Bywa (MYNGA Remix) [FREE DOWNLOAD]'], [102561286, u'KlangTherapeuten - Portrait De La Nuit Mixtape - Podcast Summer 2013'], [87822868, u'PODCAST 13-1    SOMMERSEHNSUCHT'], [66115835, u'Triggerfinger - I Follow Rivers (KlangTherapeuten Bootleg) FREE DOWNLOAD'], [84826202, u'Pleasurekraft - Tarantula (KlangTherapeuten & Simon Lechner Remix) FREE DOWNLOAD'], [109263006, u'Max Manie - Sunday (Klangkarussell Remix)'], [162267422, u'Klangkarussell - All Eyes On You'], [143044008, u'Plattenkonferenz Podcast #07 By DJ CreDes'], [147568426, u'Plattenkonferenz Podcast #08 By Michal Zietara'], [153134822, u'Plattenkonferenz Podcast #09 By Jamy Wing'], [157268365, u'Plattenkonferenz Podcast #10 By Thomas Stieler'], [128170382, u'Cadenza Podcast | 098 - Sasse (Cycle)']]\", \n",
        "  \"_id\": {\n",
        "   \"$oid\": \"548488105cab4d0a76405e6e\"\n",
        "  }, \n",
        "  \"uid\": \"16463893\"\n",
        " }, \n",
        " {\n",
        "  \"favourites\": \"[[164717165, u'Sunday School Sessions  Episode 007   Sasha'], [3814408, u'Thomas Newman - Arose (Remix By Scott Tobin)'], [159238854, u'Andre Lodemann - Robot Heart - Spring - NYC -2014'], [130796309, u'Tensnake \\\\u2013 Love Sublime Ft Niles Rodgers & Fiora (Duke Dumont Remix)'], [111986060, u'IV46 Agoria - Scala EP - Scala'], [61331925, u'Nicolas Jaar - And I Say (Xinobi Edit)'], [81778064, u'SALLY SHAPIRO - Sundown (Nite Jewel Remix)'], [49813240, u'Strip Steve - \\\"Astral Projection (Destructo Remix)\\\"'], [100199685, u'Summer Tape'], [104120136, u'Crayon Feat. KLP - Give You Up (Darius Remix)'], [45403168, u'Milk And Honey (original)'], [134595738, u'Jupiter - Juicy Lucy (Crayon Remix)'], [134009094, u'Lana Del Rey - Young & Beautiful (Myon & Shane 54 Summer Of Love Mix)'], [104560877, u\\\"M.A.N.D.Y. Presents Get Physical On Ibiza #108 mixed by Catz 'N Dogz live at Watergate\\\"], [78903838, u'Catz N Dogz Boiler Room Berlin 70 Min Mix'], [72281329, u\\\"Kim Ann Foxman's Skyline Mix\\\"], [43425968, u'DJ STEAW - Rhubarbe ep ( Phonogramme record ) sample of 3 tracks'], [73850596, u'DJ STEAW - Tomate & Farci ep - RUTILANCE RECORDINGS'], [47334974, u'Sirius XM:  Blow Your Head 12 MOOMBAHTON 2k12 MIX!!!!!!!'], [53314475, u'HOT CHIP VS MAJOR LAZER (EXTENDED VERSION)'], [50246995, u'Set It Off feat Lazerdisk Party Sex'], [76824238, u'Saturday Night Live'], [68881678, u'Nhar - Correspondant.FM Podcast - Dj Set'], [74928577, u'Lindstr\\\\xf8m & Todd Terje - Lanzarote'], [71685410, u'Lindstrom - El Pais Mix'], [62291599, u'Lindstr\\\\xf8m - L\\\\u0101mm-\\\\u0119l-\\\\u0101\\\\u0101r'], [50887098, u'Anna Lunoe & Flume - I Met You (Radio Edit)'], [48985147, u'Hermitude - HyperParadise (Flume Remix)'], [47641795, u'Junior Boys - Every Little Step (Flume Remix) [FREE DOWNLOAD]'], [63628697, u'Aeroplane Not-So-Monthly October 2012 Mix'], [54073148, u'move d @ n.o.g. 2012-07-22'], [68053480, u'Pacific Mix #1'], [68480097, u'U&ME'], [69465447, u'Aeroplane Not-So-Monthly Mix November 2012'], [68230319, u'The Miracles Club - U&Me (Discodromo remix)'], [32490807, u'Pachanga Boys - Time'], [39872740, u'Soul Capsule - Lady Science -NYC Sunrise-'], [63488298, u'ANGELO DI LAURO LIVE PANORAMA RESET (live set bar luisi)'], [33168063, u\\\"Machinedrum - 'DDD'\\\"]]\", \n",
        "  \"_id\": {\n",
        "   \"$oid\": \"54848af05cab4d0a76405e70\"\n",
        "  }, \n",
        "  \"uid\": \"4499457\"\n",
        " }\n",
        "]\n"
       ]
      }
     ],
     "prompt_number": 130
    },
    {
     "cell_type": "code",
     "collapsed": false,
     "input": [
      "def writeUserToMongo(uid, ufavs, db):\n",
      "    try:\n",
      "        collection = db.user_favorites  # adds collection soundcloud.user_favourites\n",
      "\n",
      "        user = { \"uid\": uid,\n",
      "                 \"favorites\": ufavs #TODO: format properly as json\n",
      "                }\n",
      "\n",
      "        o = collection.insert(user)\n",
      "    \n",
      "    except pymongo.errors.DuplicateKeyError, e:\n",
      "        print e"
     ],
     "language": "python",
     "metadata": {},
     "outputs": [],
     "prompt_number": 149
    },
    {
     "cell_type": "code",
     "collapsed": false,
     "input": [
      "import requests\n",
      "# get all songs from all followers\n",
      "\n",
      "#TODO get all song where they commented on /users/{id}/comments\n",
      "#TODO get all songs with same tags\n",
      "#IDEA check for users that are similar based on comments?\n",
      "\n",
      "fan_ids =  [x[0] for x in fans]\n",
      "comm_ids = [x[0] for x in sorted_commenters]\n",
      "\n",
      "\n",
      "followers = fan_ids #+ comm_ids #just using fans for now\n",
      "myset = set(followers) # unique ids\n",
      "followers = list(myset)\n",
      "\n",
      "\n",
      "print '%d Followers' % len(followers)  \n",
      "print '%d Fans' % len(fan_ids)  \n",
      "print '%d Commenters' % len(comm_ids)  "
     ],
     "language": "python",
     "metadata": {},
     "outputs": [
      {
       "output_type": "stream",
       "stream": "stdout",
       "text": [
        "878 Followers\n",
        "878 Fans\n",
        "22 Commenters\n"
       ]
      }
     ],
     "prompt_number": 114
    },
    {
     "cell_type": "code",
     "collapsed": false,
     "input": [
      "# Bottleneck!\n",
      "\n",
      "songs = []\n",
      "i=0\n",
      "\n",
      "for uid in followers:   # 1.2 seconds per user  = 25 mins\n",
      "    i=i+1\n",
      "    a = datetime.datetime.now()    \n",
      "    try:\n",
      "        user =  [u['favorites'] for u in db.user_favorites.find({\"uid\" : uid})]\n",
      "        #if uid in cached_user_favorites:\n",
      "        if len(user)>0:\n",
      "            #ufavs = cached_user_favorites[uid]\n",
      "            ufavs = user[0]\n",
      "            #print \"got it from mongo\"\n",
      "        else:\n",
      "            print '/users/%d/favorites' % uid\n",
      "            ufavs = [[track.id, track.title] for track in client.get('/users/%d/favorites' % uid)] \n",
      "            #ufavs = [[track.id, track.title] for track in getAllHighPageSize('/users/%d/favorites' % uid,200,1000)] \n",
      "            #cached_user_favorites[uid]=ufavs\n",
      "            writeUserToMongo(uid, ufavs, db) #TODO: probably better to store just the id and have a lookup table in mongo\n",
      "        songs=songs+[track for track in ufavs]\n",
      "        #print 'Track ID: %d, Title: \"%s\"' % (track.id, track.title)\n",
      "    except requests.HTTPError, e:\n",
      "      print 'HTTP ERROR occured for user %d: %s' %(uid, e)\n",
      "\n",
      "    b = datetime.datetime.now()\n",
      "    c = b - a\n",
      "\n",
      "    if i % 10 == 0:  \n",
      "        print i, c.total_seconds()\n",
      "\n",
      "        \n",
      "# HTTP error ????:        \n",
      "#songs = [ client.get('/users/%d/favorites' %uid)\n",
      "#             for uid in followers]  \n",
      "        \n"
     ],
     "language": "python",
     "metadata": {},
     "outputs": [
      {
       "output_type": "stream",
       "stream": "stdout",
       "text": [
        "/users/11765519/favorites\n",
        "10"
       ]
      },
      {
       "output_type": "stream",
       "stream": "stdout",
       "text": [
        " 0.000634\n",
        "/users/5709850/favorites\n",
        "/users/32323615/favorites"
       ]
      },
      {
       "output_type": "stream",
       "stream": "stdout",
       "text": [
        "\n",
        "/users/12253216/favorites"
       ]
      },
      {
       "output_type": "stream",
       "stream": "stdout",
       "text": [
        "\n",
        "/users/54885040/favorites"
       ]
      },
      {
       "output_type": "stream",
       "stream": "stdout",
       "text": [
        "\n",
        "/users/5736482/favorites"
       ]
      },
      {
       "output_type": "stream",
       "stream": "stdout",
       "text": [
        "\n",
        "/users/602148/favorites"
       ]
      },
      {
       "output_type": "stream",
       "stream": "stdout",
       "text": [
        "\n",
        "/users/7284774/favorites"
       ]
      },
      {
       "output_type": "stream",
       "stream": "stdout",
       "text": [
        "\n",
        "/users/6848177/favorites"
       ]
      },
      {
       "output_type": "stream",
       "stream": "stdout",
       "text": [
        "\n",
        "/users/68831272/favorites"
       ]
      },
      {
       "output_type": "stream",
       "stream": "stdout",
       "text": [
        "\n",
        "/users/29094236/favorites"
       ]
      },
      {
       "output_type": "stream",
       "stream": "stdout",
       "text": [
        "\n",
        "20"
       ]
      },
      {
       "output_type": "stream",
       "stream": "stdout",
       "text": [
        " 0.842164\n",
        "/users/29243439/favorites\n",
        "/users/4452400/favorites"
       ]
      },
      {
       "output_type": "stream",
       "stream": "stdout",
       "text": [
        "\n",
        "/users/59754545/favorites"
       ]
      },
      {
       "output_type": "stream",
       "stream": "stdout",
       "text": [
        "\n",
        "/users/13481411/favorites"
       ]
      },
      {
       "output_type": "stream",
       "stream": "stdout",
       "text": [
        "\n",
        "/users/23108909/favorites"
       ]
      },
      {
       "output_type": "stream",
       "stream": "stdout",
       "text": [
        "\n",
        "/users/58200118/favorites"
       ]
      },
      {
       "output_type": "stream",
       "stream": "stdout",
       "text": [
        "\n",
        "/users/5850589/favorites"
       ]
      },
      {
       "output_type": "stream",
       "stream": "stdout",
       "text": [
        "\n",
        "/users/4632637/favorites"
       ]
      },
      {
       "output_type": "stream",
       "stream": "stdout",
       "text": [
        "\n",
        "/users/67294901/favorites"
       ]
      },
      {
       "output_type": "stream",
       "stream": "stdout",
       "text": [
        "\n",
        "/users/5947456/favorites"
       ]
      },
      {
       "output_type": "stream",
       "stream": "stdout",
       "text": [
        "\n",
        "30"
       ]
      },
      {
       "output_type": "stream",
       "stream": "stdout",
       "text": [
        " 0.853838\n",
        "/users/8259649/favorites\n",
        "/users/42356802/favorites"
       ]
      },
      {
       "output_type": "stream",
       "stream": "stdout",
       "text": [
        "\n",
        "/users/31770691/favorites"
       ]
      },
      {
       "output_type": "stream",
       "stream": "stdout",
       "text": [
        "\n",
        "/users/8415301/favorites"
       ]
      },
      {
       "output_type": "stream",
       "stream": "stdout",
       "text": [
        "\n",
        "/users/54814791/favorites"
       ]
      },
      {
       "output_type": "stream",
       "stream": "stdout",
       "text": [
        "\n",
        "/users/71737417/favorites"
       ]
      },
      {
       "output_type": "stream",
       "stream": "stdout",
       "text": [
        "\n",
        "/users/90459800/favorites"
       ]
      },
      {
       "output_type": "stream",
       "stream": "stdout",
       "text": [
        "\n",
        "/users/7467083/favorites"
       ]
      },
      {
       "output_type": "stream",
       "stream": "stdout",
       "text": [
        "\n",
        "/users/9543756/favorites"
       ]
      },
      {
       "output_type": "stream",
       "stream": "stdout",
       "text": [
        "\n",
        "/users/13434210/favorites"
       ]
      },
      {
       "output_type": "stream",
       "stream": "stdout",
       "text": [
        "\n",
        "40"
       ]
      },
      {
       "output_type": "stream",
       "stream": "stdout",
       "text": [
        " 1.063344\n",
        "/users/19624015/favorites\n",
        "/users/11315281/favorites"
       ]
      },
      {
       "output_type": "stream",
       "stream": "stdout",
       "text": [
        "\n",
        "/users/13816846/favorites"
       ]
      },
      {
       "output_type": "stream",
       "stream": "stdout",
       "text": [
        "\n",
        "/users/9339236/favorites"
       ]
      },
      {
       "output_type": "stream",
       "stream": "stdout",
       "text": [
        "\n",
        "/users/62353501/favorites"
       ]
      },
      {
       "output_type": "stream",
       "stream": "stdout",
       "text": [
        "\n",
        "/users/7673648/favorites"
       ]
      },
      {
       "output_type": "stream",
       "stream": "stdout",
       "text": [
        "\n",
        "/users/1826912/favorites"
       ]
      },
      {
       "output_type": "stream",
       "stream": "stdout",
       "text": [
        "\n",
        "/users/11828701/favorites"
       ]
      },
      {
       "output_type": "stream",
       "stream": "stdout",
       "text": [
        "\n",
        "/users/4946119/favorites"
       ]
      },
      {
       "output_type": "stream",
       "stream": "stdout",
       "text": [
        "\n",
        "/users/2918708/favorites"
       ]
      },
      {
       "output_type": "stream",
       "stream": "stdout",
       "text": [
        "\n",
        "50"
       ]
      },
      {
       "output_type": "stream",
       "stream": "stdout",
       "text": [
        " 0.675653\n",
        "/users/15110250/favorites\n",
        "/users/36644977/favorites"
       ]
      },
      {
       "output_type": "stream",
       "stream": "stdout",
       "text": [
        "\n",
        "/users/694386/favorites"
       ]
      },
      {
       "output_type": "stream",
       "stream": "stdout",
       "text": [
        "\n",
        "/users/14483571/favorites"
       ]
      },
      {
       "output_type": "stream",
       "stream": "stdout",
       "text": [
        "\n",
        "/users/3868788/favorites"
       ]
      },
      {
       "output_type": "stream",
       "stream": "stdout",
       "text": [
        "\n",
        "/users/113449079/favorites"
       ]
      },
      {
       "output_type": "stream",
       "stream": "stdout",
       "text": [
        "\n",
        "/users/44243066/favorites"
       ]
      },
      {
       "output_type": "stream",
       "stream": "stdout",
       "text": [
        "\n",
        "/users/6465660/favorites"
       ]
      },
      {
       "output_type": "stream",
       "stream": "stdout",
       "text": [
        "\n",
        "/users/43468925/favorites"
       ]
      },
      {
       "output_type": "stream",
       "stream": "stdout",
       "text": [
        "\n",
        "/users/17367170/favorites"
       ]
      },
      {
       "output_type": "stream",
       "stream": "stdout",
       "text": [
        "\n",
        "60"
       ]
      },
      {
       "output_type": "stream",
       "stream": "stdout",
       "text": [
        " 0.909683\n",
        "/users/67821700/favorites\n",
        "/users/12441736/favorites"
       ]
      },
      {
       "output_type": "stream",
       "stream": "stdout",
       "text": [
        "\n",
        "/users/56924303/favorites"
       ]
      },
      {
       "output_type": "stream",
       "stream": "stdout",
       "text": [
        "\n",
        "/users/61175953/favorites"
       ]
      },
      {
       "output_type": "stream",
       "stream": "stdout",
       "text": [
        "\n",
        "/users/25737364/favorites"
       ]
      },
      {
       "output_type": "stream",
       "stream": "stdout",
       "text": [
        "\n",
        "/users/66150549/favorites"
       ]
      },
      {
       "output_type": "stream",
       "stream": "stdout",
       "text": [
        "\n",
        "/users/4346006/favorites"
       ]
      },
      {
       "output_type": "stream",
       "stream": "stdout",
       "text": [
        "\n",
        "/users/271254/favorites"
       ]
      },
      {
       "output_type": "stream",
       "stream": "stdout",
       "text": [
        "\n",
        "/users/8007838/favorites"
       ]
      },
      {
       "output_type": "stream",
       "stream": "stdout",
       "text": [
        "\n",
        "/users/28879008/favorites"
       ]
      },
      {
       "output_type": "stream",
       "stream": "stdout",
       "text": [
        "\n",
        "70"
       ]
      },
      {
       "output_type": "stream",
       "stream": "stdout",
       "text": [
        " 1.26641\n",
        "/users/5265569/favorites\n",
        "/users/34080930/favorites"
       ]
      },
      {
       "output_type": "stream",
       "stream": "stdout",
       "text": [
        "\n",
        "/users/91699364/favorites"
       ]
      },
      {
       "output_type": "stream",
       "stream": "stdout",
       "text": [
        "\n",
        "/users/16214726/favorites"
       ]
      },
      {
       "output_type": "stream",
       "stream": "stdout",
       "text": [
        "\n",
        "/users/42681713/favorites"
       ]
      },
      {
       "output_type": "stream",
       "stream": "stdout",
       "text": [
        "\n",
        "/users/50030764/favorites"
       ]
      },
      {
       "output_type": "stream",
       "stream": "stdout",
       "text": [
        "\n",
        "/users/38799536/favorites"
       ]
      },
      {
       "output_type": "stream",
       "stream": "stdout",
       "text": [
        "\n",
        "/users/2928821/favorites"
       ]
      },
      {
       "output_type": "stream",
       "stream": "stdout",
       "text": [
        "\n",
        "/users/4503241/favorites"
       ]
      },
      {
       "output_type": "stream",
       "stream": "stdout",
       "text": [
        "\n",
        "/users/20272314/favorites"
       ]
      },
      {
       "output_type": "stream",
       "stream": "stdout",
       "text": [
        "\n",
        "80"
       ]
      },
      {
       "output_type": "stream",
       "stream": "stdout",
       "text": [
        " 0.9251\n",
        "/users/12436852/favorites\n",
        "/users/50867914/favorites"
       ]
      },
      {
       "output_type": "stream",
       "stream": "stdout",
       "text": [
        "\n",
        "/users/119650494/favorites"
       ]
      },
      {
       "output_type": "stream",
       "stream": "stdout",
       "text": [
        "\n",
        "/users/63129791/favorites"
       ]
      },
      {
       "output_type": "stream",
       "stream": "stdout",
       "text": [
        "\n",
        "/users/1457756/favorites"
       ]
      },
      {
       "output_type": "stream",
       "stream": "stdout",
       "text": [
        "\n",
        "/users/72351937/favorites"
       ]
      },
      {
       "output_type": "stream",
       "stream": "stdout",
       "text": [
        "\n",
        "/users/34078915/favorites"
       ]
      },
      {
       "output_type": "stream",
       "stream": "stdout",
       "text": [
        "\n",
        "/users/8908996/favorites"
       ]
      },
      {
       "output_type": "stream",
       "stream": "stdout",
       "text": [
        "\n",
        "/users/13527239/favorites"
       ]
      },
      {
       "output_type": "stream",
       "stream": "stdout",
       "text": [
        "\n",
        "/users/21953912/favorites"
       ]
      },
      {
       "output_type": "stream",
       "stream": "stdout",
       "text": [
        "\n",
        "90"
       ]
      },
      {
       "output_type": "stream",
       "stream": "stdout",
       "text": [
        " 0.99069\n",
        "/users/12810450/favorites\n",
        "/users/18426068/favorites"
       ]
      },
      {
       "output_type": "stream",
       "stream": "stdout",
       "text": [
        "\n",
        "/users/53827797/favorites"
       ]
      },
      {
       "output_type": "stream",
       "stream": "stdout",
       "text": [
        "\n",
        "/users/19769558/favorites"
       ]
      },
      {
       "output_type": "stream",
       "stream": "stdout",
       "text": [
        "\n",
        "/users/32323799/favorites"
       ]
      },
      {
       "output_type": "stream",
       "stream": "stdout",
       "text": [
        "\n",
        "/users/38736088/favorites"
       ]
      },
      {
       "output_type": "stream",
       "stream": "stdout",
       "text": [
        "\n",
        "/users/25366564/favorites"
       ]
      },
      {
       "output_type": "stream",
       "stream": "stdout",
       "text": [
        "\n",
        "/users/37390555/favorites"
       ]
      },
      {
       "output_type": "stream",
       "stream": "stdout",
       "text": [
        "\n",
        "/users/9066720/favorites"
       ]
      },
      {
       "output_type": "stream",
       "stream": "stdout",
       "text": [
        "\n",
        "/users/48609507/favorites"
       ]
      },
      {
       "output_type": "stream",
       "stream": "stdout",
       "text": [
        "\n",
        "100"
       ]
      },
      {
       "output_type": "stream",
       "stream": "stdout",
       "text": [
        " 1.515412\n",
        "/users/1462505/favorites\n",
        "/users/52687084/favorites"
       ]
      },
      {
       "output_type": "stream",
       "stream": "stdout",
       "text": [
        "\n",
        "/users/14102765/favorites"
       ]
      },
      {
       "output_type": "stream",
       "stream": "stdout",
       "text": [
        "\n",
        "/users/102967535/favorites"
       ]
      },
      {
       "output_type": "stream",
       "stream": "stdout",
       "text": [
        "\n",
        "/users/7280880/favorites"
       ]
      },
      {
       "output_type": "stream",
       "stream": "stdout",
       "text": [
        "\n",
        "/users/14624940/favorites"
       ]
      },
      {
       "output_type": "stream",
       "stream": "stdout",
       "text": [
        "\n",
        "/users/7520499/favorites"
       ]
      },
      {
       "output_type": "stream",
       "stream": "stdout",
       "text": [
        "\n",
        "/users/9613556/favorites"
       ]
      },
      {
       "output_type": "stream",
       "stream": "stdout",
       "text": [
        "\n",
        "/users/42313979/favorites"
       ]
      },
      {
       "output_type": "stream",
       "stream": "stdout",
       "text": [
        "\n",
        "/users/38226175/favorites"
       ]
      },
      {
       "output_type": "stream",
       "stream": "stdout",
       "text": [
        "\n",
        "110"
       ]
      },
      {
       "output_type": "stream",
       "stream": "stdout",
       "text": [
        " 1.004172\n",
        "/users/16618034/favorites\n",
        "/users/10799364/favorites"
       ]
      },
      {
       "output_type": "stream",
       "stream": "stdout",
       "text": [
        "\n",
        "/users/19532037/favorites"
       ]
      },
      {
       "output_type": "stream",
       "stream": "stdout",
       "text": [
        "\n",
        "/users/5091598/favorites"
       ]
      },
      {
       "output_type": "stream",
       "stream": "stdout",
       "text": [
        "\n",
        "/users/5992720/favorites"
       ]
      },
      {
       "output_type": "stream",
       "stream": "stdout",
       "text": [
        "\n",
        "/users/69081364/favorites"
       ]
      },
      {
       "output_type": "stream",
       "stream": "stdout",
       "text": [
        "\n",
        "/users/9050389/favorites"
       ]
      },
      {
       "output_type": "stream",
       "stream": "stdout",
       "text": [
        "\n",
        "/users/5239063/favorites"
       ]
      },
      {
       "output_type": "stream",
       "stream": "stdout",
       "text": [
        "\n",
        "/users/73263384/favorites"
       ]
      },
      {
       "output_type": "stream",
       "stream": "stdout",
       "text": [
        "\n",
        "/users/24299801/favorites"
       ]
      },
      {
       "output_type": "stream",
       "stream": "stdout",
       "text": [
        "\n",
        "120"
       ]
      },
      {
       "output_type": "stream",
       "stream": "stdout",
       "text": [
        " 1.199113\n",
        "/users/113088797/favorites\n",
        "/users/4235653/favorites"
       ]
      },
      {
       "output_type": "stream",
       "stream": "stdout",
       "text": [
        "\n",
        "/users/60213536/favorites"
       ]
      },
      {
       "output_type": "stream",
       "stream": "stdout",
       "text": [
        "\n",
        "/users/30298401/favorites"
       ]
      },
      {
       "output_type": "stream",
       "stream": "stdout",
       "text": [
        "\n",
        "/users/3410213/favorites"
       ]
      },
      {
       "output_type": "stream",
       "stream": "stdout",
       "text": [
        "\n",
        "/users/51736625/favorites"
       ]
      },
      {
       "output_type": "stream",
       "stream": "stdout",
       "text": [
        "\n",
        "/users/48630057/favorites"
       ]
      },
      {
       "output_type": "stream",
       "stream": "stdout",
       "text": [
        "\n",
        "/users/3944747/favorites"
       ]
      },
      {
       "output_type": "stream",
       "stream": "stdout",
       "text": [
        "\n",
        "/users/13132076/favorites"
       ]
      },
      {
       "output_type": "stream",
       "stream": "stdout",
       "text": [
        "\n",
        "/users/8345906/favorites"
       ]
      },
      {
       "output_type": "stream",
       "stream": "stdout",
       "text": [
        "\n",
        "130"
       ]
      },
      {
       "output_type": "stream",
       "stream": "stdout",
       "text": [
        " 0.924481\n",
        "/users/47483187/favorites\n",
        "/users/31656244/favorites"
       ]
      },
      {
       "output_type": "stream",
       "stream": "stdout",
       "text": [
        "\n",
        "/users/59846966/favorites"
       ]
      },
      {
       "output_type": "stream",
       "stream": "stdout",
       "text": [
        "\n",
        "/users/18489655/favorites"
       ]
      },
      {
       "output_type": "stream",
       "stream": "stdout",
       "text": [
        "\n",
        "/users/16185656/favorites"
       ]
      },
      {
       "output_type": "stream",
       "stream": "stdout",
       "text": [
        "\n",
        "/users/27500859/favorites"
       ]
      },
      {
       "output_type": "stream",
       "stream": "stdout",
       "text": [
        "\n",
        "/users/50886972/favorites"
       ]
      },
      {
       "output_type": "stream",
       "stream": "stdout",
       "text": [
        "\n",
        "/users/15049021/favorites"
       ]
      },
      {
       "output_type": "stream",
       "stream": "stdout",
       "text": [
        "\n",
        "/users/1462596/favorites"
       ]
      },
      {
       "output_type": "stream",
       "stream": "stdout",
       "text": [
        "\n",
        "/users/39493957/favorites"
       ]
      },
      {
       "output_type": "stream",
       "stream": "stdout",
       "text": [
        "\n",
        "140"
       ]
      },
      {
       "output_type": "stream",
       "stream": "stdout",
       "text": [
        " 1.436535\n",
        "/users/56375622/favorites\n",
        "/users/9265889/favorites"
       ]
      },
      {
       "output_type": "stream",
       "stream": "stdout",
       "text": [
        "\n",
        "/users/40351092/favorites"
       ]
      },
      {
       "output_type": "stream",
       "stream": "stdout",
       "text": [
        "\n",
        "/users/30583115/favorites"
       ]
      },
      {
       "output_type": "stream",
       "stream": "stdout",
       "text": [
        "\n",
        "/users/53578060/favorites"
       ]
      },
      {
       "output_type": "stream",
       "stream": "stdout",
       "text": [
        "\n",
        "/users/45210680/favorites"
       ]
      },
      {
       "output_type": "stream",
       "stream": "stdout",
       "text": [
        "\n",
        "/users/22264547/favorites"
       ]
      },
      {
       "output_type": "stream",
       "stream": "stdout",
       "text": [
        "\n",
        "/users/438612/favorites"
       ]
      },
      {
       "output_type": "stream",
       "stream": "stdout",
       "text": [
        "\n",
        "/users/7014744/favorites"
       ]
      },
      {
       "output_type": "stream",
       "stream": "stdout",
       "text": [
        "\n",
        "/users/614746/favorites"
       ]
      },
      {
       "output_type": "stream",
       "stream": "stdout",
       "text": [
        "\n",
        "150"
       ]
      },
      {
       "output_type": "stream",
       "stream": "stdout",
       "text": [
        " 1.203852\n",
        "/users/1065308/favorites\n",
        "/users/4760953/favorites"
       ]
      },
      {
       "output_type": "stream",
       "stream": "stdout",
       "text": [
        "\n",
        "/users/36516192/favorites"
       ]
      },
      {
       "output_type": "stream",
       "stream": "stdout",
       "text": [
        "\n",
        "/users/46420322/favorites"
       ]
      },
      {
       "output_type": "stream",
       "stream": "stdout",
       "text": [
        "\n",
        "/users/28981603/favorites"
       ]
      },
      {
       "output_type": "stream",
       "stream": "stdout",
       "text": [
        "\n",
        "/users/101622116/favorites"
       ]
      },
      {
       "output_type": "stream",
       "stream": "stdout",
       "text": [
        "\n",
        "/users/9095528/favorites"
       ]
      },
      {
       "output_type": "stream",
       "stream": "stdout",
       "text": [
        "\n",
        "/users/42043755/favorites"
       ]
      },
      {
       "output_type": "stream",
       "stream": "stdout",
       "text": [
        "\n",
        "/users/20226416/favorites"
       ]
      },
      {
       "output_type": "stream",
       "stream": "stdout",
       "text": [
        "\n",
        "/users/13619554/favorites"
       ]
      },
      {
       "output_type": "stream",
       "stream": "stdout",
       "text": [
        "\n",
        "160"
       ]
      },
      {
       "output_type": "stream",
       "stream": "stdout",
       "text": [
        " 0.883508\n",
        "/users/66468213/favorites\n",
        "/users/17543542/favorites"
       ]
      },
      {
       "output_type": "stream",
       "stream": "stdout",
       "text": [
        "\n",
        "/users/7883129/favorites"
       ]
      },
      {
       "output_type": "stream",
       "stream": "stdout",
       "text": [
        "\n",
        "/users/4067706/favorites"
       ]
      },
      {
       "output_type": "stream",
       "stream": "stdout",
       "text": [
        "\n",
        "/users/61628795/favorites"
       ]
      },
      {
       "output_type": "stream",
       "stream": "stdout",
       "text": [
        "\n",
        "/users/13619946/favorites"
       ]
      },
      {
       "output_type": "stream",
       "stream": "stdout",
       "text": [
        "\n",
        "/users/22552960/favorites"
       ]
      },
      {
       "output_type": "stream",
       "stream": "stdout",
       "text": [
        "\n",
        "/users/114338177/favorites"
       ]
      },
      {
       "output_type": "stream",
       "stream": "stdout",
       "text": [
        "\n",
        "/users/28760452/favorites"
       ]
      },
      {
       "output_type": "stream",
       "stream": "stdout",
       "text": [
        "\n",
        "/users/450949/favorites"
       ]
      },
      {
       "output_type": "stream",
       "stream": "stdout",
       "text": [
        "\n",
        "170"
       ]
      },
      {
       "output_type": "stream",
       "stream": "stdout",
       "text": [
        " 0.971072\n",
        "/users/41312646/favorites\n",
        "/users/22178183/favorites"
       ]
      },
      {
       "output_type": "stream",
       "stream": "stdout",
       "text": [
        "\n",
        "/users/125105900/favorites"
       ]
      },
      {
       "output_type": "stream",
       "stream": "stdout",
       "text": [
        "\n",
        "/users/19206540/favorites"
       ]
      },
      {
       "output_type": "stream",
       "stream": "stdout",
       "text": [
        "\n",
        "/users/3062157/favorites"
       ]
      },
      {
       "output_type": "stream",
       "stream": "stdout",
       "text": [
        "\n",
        "/users/14316611/favorites"
       ]
      },
      {
       "output_type": "stream",
       "stream": "stdout",
       "text": [
        "\n",
        "/users/25983380/favorites"
       ]
      },
      {
       "output_type": "stream",
       "stream": "stdout",
       "text": [
        "\n",
        "/users/13963674/favorites"
       ]
      },
      {
       "output_type": "stream",
       "stream": "stdout",
       "text": [
        "\n",
        "/users/50940317/favorites"
       ]
      },
      {
       "output_type": "stream",
       "stream": "stdout",
       "text": [
        "\n",
        "/users/36581786/favorites"
       ]
      },
      {
       "output_type": "stream",
       "stream": "stdout",
       "text": [
        "\n",
        "180"
       ]
      },
      {
       "output_type": "stream",
       "stream": "stdout",
       "text": [
        " 0.724179\n",
        "/users/27505055/favorites\n",
        "/users/12757409/favorites"
       ]
      },
      {
       "output_type": "stream",
       "stream": "stdout",
       "text": [
        "\n",
        "/users/44974498/favorites"
       ]
      },
      {
       "output_type": "stream",
       "stream": "stdout",
       "text": [
        "\n",
        "/users/9351588/favorites"
       ]
      },
      {
       "output_type": "stream",
       "stream": "stdout",
       "text": [
        "\n",
        "/users/86174118/favorites"
       ]
      },
      {
       "output_type": "stream",
       "stream": "stdout",
       "text": [
        "\n",
        "/users/39405991/favorites"
       ]
      },
      {
       "output_type": "stream",
       "stream": "stdout",
       "text": [
        "\n",
        "/users/10940840/favorites"
       ]
      },
      {
       "output_type": "stream",
       "stream": "stdout",
       "text": [
        "\n",
        "/users/94689441/favorites"
       ]
      },
      {
       "output_type": "stream",
       "stream": "stdout",
       "text": [
        "\n",
        "/users/61407659/favorites"
       ]
      },
      {
       "output_type": "stream",
       "stream": "stdout",
       "text": [
        "\n",
        "/users/13869484/favorites"
       ]
      },
      {
       "output_type": "stream",
       "stream": "stdout",
       "text": [
        "\n",
        "190"
       ]
      },
      {
       "output_type": "stream",
       "stream": "stdout",
       "text": [
        " 0.962803\n",
        "/users/52196148/favorites\n",
        "/users/58789619/favorites"
       ]
      },
      {
       "output_type": "stream",
       "stream": "stdout",
       "text": [
        "\n",
        "/users/40726965/favorites"
       ]
      },
      {
       "output_type": "stream",
       "stream": "stdout",
       "text": [
        "\n",
        "/users/12857782/favorites"
       ]
      },
      {
       "output_type": "stream",
       "stream": "stdout",
       "text": [
        "\n",
        "/users/17222072/favorites"
       ]
      },
      {
       "output_type": "stream",
       "stream": "stdout",
       "text": [
        "\n",
        "/users/11768251/favorites"
       ]
      },
      {
       "output_type": "stream",
       "stream": "stdout",
       "text": [
        "\n",
        "/users/72280510/favorites"
       ]
      },
      {
       "output_type": "stream",
       "stream": "stdout",
       "text": [
        "\n",
        "/users/18323906/favorites"
       ]
      },
      {
       "output_type": "stream",
       "stream": "stdout",
       "text": [
        "\n",
        "/users/30751173/favorites"
       ]
      },
      {
       "output_type": "stream",
       "stream": "stdout",
       "text": [
        "\n",
        "/users/110711239/favorites"
       ]
      },
      {
       "output_type": "stream",
       "stream": "stdout",
       "text": [
        "\n",
        "200"
       ]
      },
      {
       "output_type": "stream",
       "stream": "stdout",
       "text": [
        " 0.887757\n",
        "/users/46391756/favorites\n",
        "/users/52081058/favorites"
       ]
      },
      {
       "output_type": "stream",
       "stream": "stdout",
       "text": [
        "\n",
        "/users/105175502/favorites"
       ]
      },
      {
       "output_type": "stream",
       "stream": "stdout",
       "text": [
        "\n",
        "/users/20590380/favorites"
       ]
      },
      {
       "output_type": "stream",
       "stream": "stdout",
       "text": [
        "\n",
        "/users/94632401/favorites"
       ]
      },
      {
       "output_type": "stream",
       "stream": "stdout",
       "text": [
        "\n",
        "/users/31459797/favorites"
       ]
      },
      {
       "output_type": "stream",
       "stream": "stdout",
       "text": [
        "\n",
        "/users/84799958/favorites"
       ]
      },
      {
       "output_type": "stream",
       "stream": "stdout",
       "text": [
        "\n",
        "/users/11975129/favorites"
       ]
      },
      {
       "output_type": "stream",
       "stream": "stdout",
       "text": [
        "\n",
        "/users/69392858/favorites"
       ]
      },
      {
       "output_type": "stream",
       "stream": "stdout",
       "text": [
        "\n",
        "/users/10301915/favorites"
       ]
      },
      {
       "output_type": "stream",
       "stream": "stdout",
       "text": [
        "\n",
        "210"
       ]
      },
      {
       "output_type": "stream",
       "stream": "stdout",
       "text": [
        " 0.973223\n",
        "/users/26614236/favorites\n",
        "/users/122797477/favorites"
       ]
      },
      {
       "output_type": "stream",
       "stream": "stdout",
       "text": [
        "\n",
        "/users/51446243/favorites"
       ]
      },
      {
       "output_type": "stream",
       "stream": "stdout",
       "text": [
        "\n",
        "/users/45023719/favorites"
       ]
      },
      {
       "output_type": "stream",
       "stream": "stdout",
       "text": [
        "\n",
        "/users/13431274/favorites"
       ]
      },
      {
       "output_type": "stream",
       "stream": "stdout",
       "text": [
        "\n",
        "/users/47305127/favorites"
       ]
      },
      {
       "output_type": "stream",
       "stream": "stdout",
       "text": [
        "\n",
        "/users/11739632/favorites"
       ]
      },
      {
       "output_type": "stream",
       "stream": "stdout",
       "text": [
        "\n",
        "/users/969202/favorites"
       ]
      },
      {
       "output_type": "stream",
       "stream": "stdout",
       "text": [
        "\n",
        "/users/109629944/favorites"
       ]
      },
      {
       "output_type": "stream",
       "stream": "stdout",
       "text": [
        "\n",
        "/users/154108/favorites"
       ]
      },
      {
       "output_type": "stream",
       "stream": "stdout",
       "text": [
        "\n",
        "220"
       ]
      },
      {
       "output_type": "stream",
       "stream": "stdout",
       "text": [
        " 1.063732\n",
        "/users/14725758/favorites\n",
        "/users/13867093/favorites"
       ]
      },
      {
       "output_type": "stream",
       "stream": "stdout",
       "text": [
        "\n",
        "/users/29061634/favorites"
       ]
      },
      {
       "output_type": "stream",
       "stream": "stdout",
       "text": [
        "\n",
        "/users/14207492/favorites"
       ]
      }
     ]
    },
    {
     "cell_type": "code",
     "collapsed": false,
     "input": [
      "print \"Number of users in MongoDB soundcloud.user_favorites:\"\n",
      "print db.user_favorites.count()"
     ],
     "language": "python",
     "metadata": {},
     "outputs": [
      {
       "output_type": "stream",
       "stream": "stdout",
       "text": [
        "Number of users in MongoDB soundcloud.user_favorites:\n",
        "0\n"
       ]
      }
     ],
     "prompt_number": 172
    },
    {
     "cell_type": "code",
     "collapsed": false,
     "input": [
      "uid = \"6940695\" \n",
      "user =  [u for u in db.user_favorites.find({\"uid\" : uid})]\n",
      "print len(user)\n",
      "\n",
      "def pp(o, indent=1):\n",
      "    print json.dumps(o, indent=indent, default=json_util.default)\n",
      "\n",
      "print \"All the users favorites:\"\n",
      "pp(user)"
     ],
     "language": "python",
     "metadata": {},
     "outputs": [
      {
       "output_type": "stream",
       "stream": "stdout",
       "text": [
        "1\n",
        "All the users favorites:\n",
        "[\n",
        " {\n",
        "  \"_id\": {\n",
        "   \"$oid\": \"54848d8a5cab4d0a76405e81\"\n",
        "  }, \n",
        "  \"uid\": \"6940695\", \n",
        "  \"favorites\": \"[[83290142, u'spazieren gehen im Traumland 5 @ Systemfeind'], [69311911, u'Spazieren gehen im Traumland part 4'], [58075576, u'Spazieren gehen im Traumland part 3'], [51422388, u'Spazieren gehen im Traumland part 1'], [95684467, u'Help Me Lose My Mind ft. London Grammar'], [95224532, u'SVT\\\\u2013Podcast028  \\\\u2013 Marlon Hoffstadt & HRRSN -liveset-'], [94803730, u'Robin Schulz - Cheating (Bootleg)'], [64515659, u'Chris Malinchak - So Good To Me'], [90968750, u'#Beautiful'], [24300049, u'Missing Love (Original Mix) 12\\\" [Needwant]'], [38180130, u'Sascha Funke - Mango'], [29552513, u'Theophilus London - Wine & Chocolates (andhim rmx)'], [46668013, u'BW001 - Julio Bashmore - Au Seve'], [90149562, u'KlangKuenstler - Barfuss Auf Wolken [Stil vor Talent]'], [81942585, u'FM Laeti - Show me the way (David Keller Remix)'], [89837612, u'Mr. Probz - Waves (Robin Schulz Remix) OUT NOW!!! on Ultra Music'], [51230423, u'Nicon\\\\xe9 & Sascha Braemer - Caje (album edit)'], [65641283, u'Ludacris \\\"Rest Of My Life\\\" feat. Usher & David Guetta'], [16683323, u'Noir and Haze - Around (Solomun Vox) 128kbit - Noir Music'], [22975333, u'LAING - Morgens immer m\\\\xfcde'], [57443865, u'Redlight - Lost In Your Love Lyrics.'], [75868018, u'White Noise ft. AlunaGeorge'], [59051244, u'Latch ft. Sam Smith'], [89585394, u'HVOB \\\\u2013 Always like this (Oliver Koletzki Remix) [Full Track]'], [66254854, u'K Koke Ft Maverick Sabre - Turn Back (Tough Love Remix)'], [61423202, u\\\"AIN'T NO USE [DOWNLOAD]\\\"], [78758801, u'Rihanna - Stay (Marius H\\\\xf6rsturz Edit)'], [69320059, u'Stephan Funkmann - Zeit f\\\\xfcr Liebe (Wintermixtape 2012)'], [55469833, u'Alle Farben - 38 (Gentian Blue) \\\"Familiar Traveler\\\"'], [56738298, u'Ron Flatters - Herr Lonnert (Alle Farben Remix) Snip'], [7507955, u'Waulking Song'], [5493752, u\\\"Totally Extinct Enormous Dinosaurs 'Garden'\\\"], [34405900, u'Mumford & Sons - Little Lion Man'], [29779331, u'Nero - Must Be The Feeling']]\"\n",
        " }\n",
        "]\n"
       ]
      }
     ],
     "prompt_number": 148
    },
    {
     "cell_type": "code",
     "collapsed": false,
     "input": [
      "print '%d Songs' % len(songs) \n",
      "print \n",
      "for song in songs[1:10]: \n",
      "     print song[1]\n",
      "\n",
      "print '...'\n"
     ],
     "language": "python",
     "metadata": {},
     "outputs": [
      {
       "output_type": "stream",
       "stream": "stdout",
       "text": [
        "416 Songs\n",
        "\n",
        "Thomas Newman - Arose (Remix By Scott Tobin)\n",
        "Andre Lodemann - Robot Heart - Spring - NYC -2014\n",
        "Tensnake \u2013 Love Sublime Ft Niles Rodgers & Fiora (Duke Dumont Remix)\n",
        "IV46 Agoria - Scala EP - Scala\n",
        "Nicolas Jaar - And I Say (Xinobi Edit)\n",
        "SALLY SHAPIRO - Sundown (Nite Jewel Remix)\n",
        "Strip Steve - \"Astral Projection (Destructo Remix)\"\n",
        "Summer Tape\n",
        "Crayon Feat. KLP - Give You Up (Darius Remix)\n",
        "...\n"
       ]
      }
     ],
     "prompt_number": 174
    },
    {
     "cell_type": "code",
     "collapsed": false,
     "input": [
      "song_map = [(song.id,song.title) for song in songs] \n",
      "\n",
      "print song_map[1:15]"
     ],
     "language": "python",
     "metadata": {},
     "outputs": [
      {
       "output_type": "stream",
       "stream": "stdout",
       "text": [
        "[(3814408, u'Thomas Newman - Arose (Remix By Scott Tobin)'), (159238854, u'Andre Lodemann - Robot Heart - Spring - NYC -2014'), (130796309, u'Tensnake \\u2013 Love Sublime Ft Niles Rodgers & Fiora (Duke Dumont Remix)'), (111986060, u'IV46 Agoria - Scala EP - Scala'), (61331925, u'Nicolas Jaar - And I Say (Xinobi Edit)'), (81778064, u'SALLY SHAPIRO - Sundown (Nite Jewel Remix)'), (49813240, u'Strip Steve - \"Astral Projection (Destructo Remix)\"'), (100199685, u'Summer Tape'), (104120136, u'Crayon Feat. KLP - Give You Up (Darius Remix)'), (45403168, u'Milk And Honey (original)'), (134595738, u'Jupiter - Juicy Lucy (Crayon Remix)'), (134009094, u'Lana Del Rey - Young & Beautiful (Myon & Shane 54 Summer Of Love Mix)'), (104560877, u\"M.A.N.D.Y. Presents Get Physical On Ibiza #108 mixed by Catz 'N Dogz live at Watergate\"), (78903838, u'Catz N Dogz Boiler Room Berlin 70 Min Mix')]\n"
       ]
      }
     ],
     "prompt_number": 52
    },
    {
     "cell_type": "code",
     "collapsed": false,
     "input": [
      "agg =  [ Counter(song).items()\n",
      "    for song in [song_map]][0]\n",
      "\n",
      "#print agg[1:10]\n",
      "\n",
      "top_songs = sorted(agg, key=lambda tup: tup[1], reverse=True)\n",
      "\n",
      "print '%d Songs' % len(top_songs)\n",
      "\n",
      "for x in top_songs[1:10]:\n",
      "    print x\n",
      "#from tabulate import tabulate\n",
      "#print tabulate( ?????, headers=['user_id', '#comments'])\n"
     ],
     "language": "python",
     "metadata": {},
     "outputs": [
      {
       "output_type": "stream",
       "stream": "stdout",
       "text": [
        "7496 Songs\n",
        "((138712428, u'ZHU - Faded.'), 9)\n",
        "((32490807, u'Pachanga Boys - Time'), 9)\n",
        "((123406633, u'Lilly Wood & the Prick & Robin Schulz - Prayer In C (Robin Schulz Remix) BUY ON I TUNES NOW !!!'), 7)\n",
        "((74914066, u'Tube & Berger - Imprint Of Pleasure [SUARA072]'), 7)\n",
        "((177856481, u'DJ Tennis - Robot Heart - Burning Man 2014'), 7)\n",
        "((96379023, u'Disclosure - You & Me (Flume Remix)'), 7)\n",
        "((7475138, u'Paul Kalkbrenner - Gebrunn Gebrunn (Original Mix)'), 7)\n",
        "((151641960, u'Diynamic Radio Show May 2014 by Kollektiv Turmstrasse'), 6)\n",
        "((179440234, u'Max Cooper - Origins (David August Remix)'), 6)\n"
       ]
      }
     ],
     "prompt_number": 53
    },
    {
     "cell_type": "code",
     "collapsed": false,
     "input": [
      "cached_tracks = {}"
     ],
     "language": "python",
     "metadata": {},
     "outputs": [],
     "prompt_number": 54
    },
    {
     "cell_type": "code",
     "collapsed": false,
     "input": [
      "print len(cached_tracks)"
     ],
     "language": "python",
     "metadata": {},
     "outputs": [
      {
       "output_type": "stream",
       "stream": "stdout",
       "text": [
        "0\n"
       ]
      }
     ],
     "prompt_number": 55
    },
    {
     "cell_type": "code",
     "collapsed": false,
     "input": [
      "related_tracks = []  # 1.5 seconds per track: 5000 = 40 mins\n",
      "i=0\n",
      "for song in top_songs:\n",
      "    a = datetime.datetime.now()\n",
      "    i=i+1\n",
      "    freq = song[1]\n",
      "    if freq >= 3: # only for high enough intersections to save time (top_songs are sorted by intersections)\n",
      "        a = datetime.datetime.now()\n",
      "        tid = song[0][0]\n",
      "        \n",
      "        try:\n",
      "            if tid in cached_tracks:\n",
      "                track_stats = cached_tracks[tid]\n",
      "            else:\n",
      "                track = client.get('/tracks/%d' %tid)\n",
      "                track_stats = [track.id, freq, freq*1000/float(track.favoritings_count), track.title, track.favoritings_count, track.comment_count, track.playback_count] \n",
      "                cached_tracks[tid]=track_stats \n",
      "            related_tracks = related_tracks + [track_stats]\n",
      "        except AttributeError, e:\n",
      "            print 'Attribute Error occured for track %d: %s' %(tid, e)\n",
      "        except requests.HTTPError, e:\n",
      "            print 'HTTPError occured for track %d: %s' %(tid, e)\n",
      "        b = datetime.datetime.now()\n",
      "        c = b - a\n",
      "    \n",
      "    if (i % 10 == 0) & (freq >= 3):  \n",
      "        print i, c.total_seconds()\n",
      "\n",
      "print        \n",
      "print '%d tracks found' %len(related_tracks)\n",
      "        \n"
     ],
     "language": "python",
     "metadata": {},
     "outputs": [
      {
       "output_type": "stream",
       "stream": "stdout",
       "text": [
        "10 1e-05\n",
        "Attribute Error occured for track 124147566: "
       ]
      },
      {
       "output_type": "stream",
       "stream": "stdout",
       "text": [
        "\n",
        "20 1.1e-05\n",
        "30 1e-05\n",
        "40 1e-05\n",
        "50 1e-05\n",
        "60 1e-05\n",
        "70 1e-05\n",
        "Attribute Error occured for track 165915864: "
       ]
      },
      {
       "output_type": "stream",
       "stream": "stdout",
       "text": [
        "\n",
        "80 1.1e-05\n",
        "90 1.1e-05\n",
        "100 1.1e-05\n",
        "110 1e-05\n",
        "Attribute Error occured for track 162076439: "
       ]
      },
      {
       "output_type": "stream",
       "stream": "stdout",
       "text": [
        "\n",
        "120 1.1e-05\n",
        "130 1.3e-05\n",
        "140 1.1e-05\n",
        "150 1.1e-05\n",
        "160 1.1e-05\n",
        "Attribute Error occured for track 69125795: "
       ]
      },
      {
       "output_type": "stream",
       "stream": "stdout",
       "text": [
        "\n",
        "170 1.1e-05\n",
        "Attribute Error occured for track 76255568: "
       ]
      },
      {
       "output_type": "stream",
       "stream": "stdout",
       "text": [
        "\n",
        "180 1.9e-05\n",
        "190 1.1e-05\n",
        "200 1e-05\n",
        "210 1.2e-05\n",
        "Attribute Error occured for track 11265947: "
       ]
      },
      {
       "output_type": "stream",
       "stream": "stdout",
       "text": [
        "\n",
        "220 1.2e-05\n",
        "\n"
       ]
      },
      {
       "output_type": "stream",
       "stream": "stdout",
       "text": [
        "214 tracks found\n"
       ]
      }
     ],
     "prompt_number": 62
    },
    {
     "cell_type": "code",
     "collapsed": false,
     "input": [
      "#Normalization happens by favs of top songs    \n",
      "recos = sorted(related_tracks, key=lambda x: x[2], reverse=True)\n",
      "\n",
      "#print tabulate( [ track[1:5] for track in filtered_recos], headers=[ 'common', 'score', 'title', 'favs'])\n",
      "print 'related_score, common favoriters, total favoriters, title '\n",
      "for candidate in recos:\n",
      "    if candidate[1]>=5:\n",
      "        print \"%.2f\" % candidate[2], candidate[3], candidate[1], candidate[4]\n",
      "    "
     ],
     "language": "python",
     "metadata": {},
     "outputs": [
      {
       "output_type": "stream",
       "stream": "stdout",
       "text": [
        "related_score, common favoriters, total favoriters, title \n",
        "112.88 Sascha Funke - Mango 99 877\n",
        "22.03 Sascha Funke - We Are Facing The Sun 5 227\n",
        "4.04 HVOB - Exclusive \"Window\" EP Prelistening 2014 5 1238\n",
        "3.31 Sascha Funke -  Deep House Amsterdam Kompakt Podcast #001 5 1510\n",
        "2.30 Sabo - Robot Heart - Burning Man 2014 5 2177\n",
        "2.15 Max Cooper - Origins (David August Remix) 6 2788\n",
        "2.12 Monaberry Podberry  19 - Super Flu 5 2357\n",
        "1.75 IV55 Recondite - Levo (Club Edit) - Levo EP 5 2865\n",
        "1.58 DJ Tennis - Robot Heart - Burning Man 2014 7 4417\n",
        "1.39 Recondite - Duolo - Iffy 5 3607\n",
        "1.18 Bedouin - Robot Heart - Burning Man 2014 5 4226\n",
        "1.11 Diynamic Radio Show May 2014 by Kollektiv Turmstrasse 6 5417\n",
        "0.95 Oliver Koletzki @ Watergate 26.09.2014 6 6329\n",
        "0.86 Francesca Lombardo - Robot Heart - Burning Man 2014 5 5831\n",
        "0.76 Nils Frahm - For - Max Cooper remix 5 6581\n",
        "0.65 Darkside - Gone Too Soon 5 7696\n",
        "0.64 Kollektiv Turmstrasse - Mix July 2013 6 9339\n",
        "0.64 Kollektiv Turmstrasse - Mix June 2013 6 9352\n",
        "0.60 Pachanga Boys - Time 9 14953\n",
        "0.59 Paul Kalkbrenner - Gebrunn Gebrunn (Original Mix) 7 11858\n",
        "0.37 Qtier - Set Me On (David August Remix) 5 13375\n",
        "0.35 Super Flu @ Fusion 2014 5 14432\n",
        "0.28 Fade Out Lines 5 17888\n",
        "0.26 Tube & Berger - Imprint Of Pleasure [SUARA072] 7 26837\n",
        "0.23 Noir and Haze - Around (Solomun Vox) 128kbit - Noir Music 6 25811\n",
        "0.18 Kungs ft. Molly - West Coast 6 32484\n",
        "0.12 Awake 5 41645\n",
        "0.11 Daughter - Youth (Alle Farben remix) 5 46929\n",
        "0.09 Waterm\u00e4t - Bullit (Original Mix) 5 53156\n",
        "0.03 ZHU - Faded. 9 277040\n",
        "0.03 Klingande - Jubel (Original mix) Available On Itunes 5 198951\n",
        "0.02 Lilly Wood & the Prick & Robin Schulz - Prayer In C (Robin Schulz Remix) BUY ON I TUNES NOW !!! 7 291637\n",
        "0.02 Disclosure - You & Me (Flume Remix) 7 423568\n"
       ]
      }
     ],
     "prompt_number": 57
    },
    {
     "cell_type": "code",
     "collapsed": false,
     "input": [
      "import pandas as pd\n",
      "\n",
      "df = pd.DataFrame(recos)\n"
     ],
     "language": "python",
     "metadata": {},
     "outputs": [],
     "prompt_number": 66
    },
    {
     "cell_type": "code",
     "collapsed": false,
     "input": [
      "print df[1:10]"
     ],
     "language": "python",
     "metadata": {},
     "outputs": [
      {
       "output_type": "stream",
       "stream": "stdout",
       "text": [
        "           0  1          2                                                  3  \\\n",
        "1   15129623  4  24.242424                   Chemin des figons - Sascha Funke   \n",
        "2   61707760  5  22.026432               Sascha Funke - We Are Facing The Sun   \n",
        "3  161930823  3   8.849558  Sterac aka Steve Rachmad - The Hypnoticus I (1...   \n",
        "4  179602402  3   7.109005         Max Cooper - Origins (Throwing Snow Remix)   \n",
        "5    3961542  3   5.859375                   03. Stimming - Song for Isabelle   \n",
        "6  179297101  3   5.235602  Full Premiere: Trentemoller - Always Something...   \n",
        "7  157719686  3   5.084746                       Leon Vynehall \u200e\u2013 Butterflies   \n",
        "8  178904956  3   5.076142                                 5 Months Nonsmoker   \n",
        "9  177954425  3   4.497751  01 Melokind - Katzenfutter (Schnipsel von turn...   \n",
        "\n",
        "     4   5      6  \n",
        "1  165   4   7024  \n",
        "2  227   5  14277  \n",
        "3  339   9   9378  \n",
        "4  422  21   7063  \n",
        "5  512  24  26429  \n",
        "6  573   7   8671  \n",
        "7  590  15  53207  \n",
        "8  591  31  11264  \n",
        "9  667  20  26869  \n",
        "\n",
        "[9 rows x 7 columns]\n"
       ]
      }
     ],
     "prompt_number": 67
    },
    {
     "cell_type": "heading",
     "level": 2,
     "metadata": {},
     "source": [
      "<a id='recos'>2. Other stuff</a>"
     ]
    },
    {
     "cell_type": "code",
     "collapsed": false,
     "input": [
      "upls = client.get('/users/%d/playlists' %uid )\n",
      "\n",
      "for pl in upls:\n",
      "    print 'pl ID: %d, Title: \"%s\"' % (pl.id, pl.title)\n",
      "\n",
      "#http://api.soundcloud.com/playlists/56964368.json?client_id=17089d3c7d05cb2cfdffe46c2e486ff0\n",
      "plid = 62070993\n",
      "\n",
      "pl_tracks = client.get('/playlists/%d/tracks' %plid)\n",
      "for track in pl_tracks:\n",
      "    print 'Track ID: %d, Title: \"%s\"' % (track.id, track.title)\n",
      "    "
     ],
     "language": "python",
     "metadata": {},
     "outputs": [
      {
       "output_type": "stream",
       "stream": "stdout",
       "text": [
        "Track ID: 143501087, Title: \"Out Of My Head (Naughty Boy Remix)\"\n",
        "Track ID: 174365478, Title: \"Jay Rock - Pay for It (Ft. Kendrick Lamar & Chantal)\"\n"
       ]
      }
     ],
     "prompt_number": 67
    },
    {
     "cell_type": "code",
     "collapsed": false,
     "input": [],
     "language": "python",
     "metadata": {},
     "outputs": [],
     "prompt_number": 60
    },
    {
     "cell_type": "code",
     "collapsed": false,
     "input": [],
     "language": "python",
     "metadata": {},
     "outputs": []
    }
   ],
   "metadata": {}
  }
 ]
}