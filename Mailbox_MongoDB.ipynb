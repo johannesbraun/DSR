{
 "metadata": {
  "name": "",
  "signature": "sha256:2f3e89a499620d2459170e4753324c5c06ad599ac2cc3796e4369b101560bacf"
 },
 "nbformat": 3,
 "nbformat_minor": 0,
 "worksheets": [
  {
   "cells": [
    {
     "cell_type": "markdown",
     "metadata": {},
     "source": [
      "#Mining the Social Web, 2nd Edition\n",
      "\n",
      "##Chapter 6: Mining Mailboxes: Analyzing Who's Talking To Whom About What, How Often, and More\n",
      "\n",
      "This IPython Notebook provides an interactive way to follow along with and explore the numbered examples from [_Mining the Social Web (2nd Edition)_](http://bit.ly/135dHfs). The intent behind this notebook is to reinforce the concepts from the sample code in a fun, convenient, and effective way. This notebook assumes that you are reading along with the book and have the context of the discussion as you work through these exercises.\n",
      "\n",
      "In the somewhat unlikely event that you've somehow stumbled across this notebook outside of its context on GitHub, [you can find the full source code repository here](http://bit.ly/16kGNyb).\n",
      "\n",
      "## Copyright and Licensing\n",
      "\n",
      "You are free to use or adapt this notebook for any purpose you'd like. However, please respect the [Simplified BSD License](https://github.com/ptwobrussell/Mining-the-Social-Web-2nd-Edition/blob/master/LICENSE.txt) that governs its use."
     ]
    },
    {
     "cell_type": "heading",
     "level": 2,
     "metadata": {},
     "source": [
      "Example 1. Converting a toy mailbox to JSON"
     ]
    },
    {
     "cell_type": "heading",
     "level": 2,
     "metadata": {},
     "source": [
      "Example 2. Converting the Enron corpus to a standardized mbox format"
     ]
    },
    {
     "cell_type": "heading",
     "level": 2,
     "metadata": {},
     "source": [
      "Example 3. Converting an mbox to a JSON structure suitable for import into MongoDB"
     ]
    },
    {
     "cell_type": "markdown",
     "metadata": {},
     "source": [
      "**Workaround for obtaining output from Example 3.**\n",
      "\n",
      "If you have opted to use the compressed version of the output from *Example 3* that is checked-in as part of this GitHub repository, just execute the following cell, and you'll be able to proceed with *Example 4* as usual. See the previous note after *Example 1* for details on why this workaround may be helpful."
     ]
    },
    {
     "cell_type": "code",
     "collapsed": false,
     "input": [
      "import envoy\n",
      "\n",
      "# This data is checked-in to the repository and is a compressed \n",
      "# version of the output from Example 3\n",
      "\n",
      "F = 'resources/ch06-mailboxes/data/enron.mbox.json.bz2'\n",
      "\"home/ubuntu/DSR/resources/enron.mbox.json\"\n",
      "\n",
      "r = envoy.run(\"bunzip2 %s\" % (F,))\n",
      "print r.std_out\n",
      "print r.std_err"
     ],
     "language": "python",
     "metadata": {},
     "outputs": [
      {
       "output_type": "stream",
       "stream": "stdout",
       "text": [
        "\n",
        "bunzip2: Output file resources/ch06-mailboxes/data/enron.mbox.json already exists.\n",
        "\n"
       ]
      }
     ],
     "prompt_number": 11
    },
    {
     "cell_type": "heading",
     "level": 2,
     "metadata": {},
     "source": [
      "Example 4. Getting the options for the mongoimport command from IPython Notebook"
     ]
    },
    {
     "cell_type": "code",
     "collapsed": false,
     "input": [
      "import envoy # pip install envoy\n",
      "\n",
      "r = envoy.run('mongoimport')\n",
      "print r.std_out\n",
      "print r.std_err"
     ],
     "language": "python",
     "metadata": {},
     "outputs": [
      {
       "output_type": "stream",
       "stream": "stdout",
       "text": [
        "\n",
        "No such file or directory\n",
        "Traceback (most recent call last):\n",
        "  File \"/usr/local/lib/python2.7/dist-packages/envoy/core.py\", line 214, in run\n",
        "    out, err = cmd.run(data, timeout, kill_timeout, env, cwd)\n",
        "  File \"/usr/local/lib/python2.7/dist-packages/envoy/core.py\", line 93, in run\n",
        "    raise self.exc\n",
        "OSError: [Errno 2] No such file or directory\n",
        "\n"
       ]
      }
     ],
     "prompt_number": 5
    },
    {
     "cell_type": "heading",
     "level": 2,
     "metadata": {},
     "source": [
      "Example 5. Using mongoimport to load data into MongoDB from IPython Notebook"
     ]
    },
    {
     "cell_type": "code",
     "collapsed": false,
     "input": [
      "import os\n",
      "import sys\n",
      "import envoy\n",
      "\n",
      "data_file = os.path.join(os.getcwd(), '/home/ubuntu/DSR/resources/enron.mbox.json')\n",
      "\n",
      "# Run a command just as you would in a terminal on the virtual machine to \n",
      "# import the data file into MongoDB.\n",
      "r = envoy.run('mongoimport --db enron --collection mbox ' + \\\n",
      "              '--file %s' % data_file)\n",
      "\n",
      "# Print its standard output\n",
      "print r.std_out\n",
      "print sys.stderr.write(r.std_err)"
     ],
     "language": "python",
     "metadata": {},
     "outputs": [
      {
       "output_type": "stream",
       "stream": "stdout",
       "text": [
        "\n",
        "None\n"
       ]
      },
      {
       "output_type": "stream",
       "stream": "stderr",
       "text": [
        "No such file or directory\n",
        "Traceback (most recent call last):\n",
        "  File \"/usr/local/lib/python2.7/dist-packages/envoy/core.py\", line 214, in run\n",
        "    out, err = cmd.run(data, timeout, kill_timeout, env, cwd)\n",
        "  File \"/usr/local/lib/python2.7/dist-packages/envoy/core.py\", line 93, in run\n",
        "    raise self.exc\n",
        "OSError: [Errno 2] No such file or directory\n"
       ]
      }
     ],
     "prompt_number": 9
    },
    {
     "cell_type": "heading",
     "level": 2,
     "metadata": {},
     "source": [
      "Example 6. Simulating a MongoDB shell that you can run from within IPython Notebook"
     ]
    },
    {
     "cell_type": "code",
     "collapsed": false,
     "input": [
      "# We can even simulate a MongoDB shell using envoy to execute commands.\n",
      "# For example, let's get some stats out of MongoDB just as though we were working \n",
      "# in a shell by passing it the command and wrapping it in a printjson function to \n",
      "# display it for us.\n",
      "\n",
      "def mongo(db, cmd):\n",
      "    r = envoy.run(\"mongo %s --eval 'printjson(%s)'\" % (db, cmd,))\n",
      "    print r.std_out\n",
      "    if r.std_err: print r.std_err\n",
      "    \n",
      "mongo('enron', 'db.mbox.stats()')"
     ],
     "language": "python",
     "metadata": {},
     "outputs": [
      {
       "output_type": "stream",
       "stream": "stdout",
       "text": [
        "\n",
        "No such file or directory\n",
        "Traceback (most recent call last):\n",
        "  File \"/usr/local/lib/python2.7/dist-packages/envoy/core.py\", line 214, in run\n",
        "    out, err = cmd.run(data, timeout, kill_timeout, env, cwd)\n",
        "  File \"/usr/local/lib/python2.7/dist-packages/envoy/core.py\", line 93, in run\n",
        "    raise self.exc\n",
        "OSError: [Errno 2] No such file or directory\n",
        "\n"
       ]
      }
     ],
     "prompt_number": 7
    },
    {
     "cell_type": "heading",
     "level": 2,
     "metadata": {},
     "source": [
      "Example 7. Using PyMongo to access MongoDB from Python"
     ]
    },
    {
     "cell_type": "code",
     "collapsed": false,
     "input": [
      "import json\n",
      "import pymongo # pip install pymongo\n",
      "from bson import json_util # Comes with pymongo\n",
      "\n",
      "# Connects to the MongoDB server running on \n",
      "# localhost:27017 by default\n",
      "\n",
      "client = pymongo.MongoClient()\n",
      "\n",
      "# Get a reference to the enron database\n",
      "\n",
      "db = client.enron\n",
      "\n",
      "# Reference the mbox collection in the Enron database\n",
      "\n",
      "mbox = db.mbox\n",
      "\n",
      "# The number of messages in the collection\n",
      "\n",
      "print \"Number of messages in mbox:\"\n",
      "print mbox.count()\n",
      "print\n",
      "\n",
      "# Pick a message to look at...\n",
      "\n",
      "msg = mbox.find_one()\n",
      "\n",
      "# Display the message as pretty-printed JSON. The use of\n",
      "# the custom serializer supplied by PyMongo is necessary in order\n",
      "# to handle the date field that is provided as a datetime.datetime \n",
      "# tuple.\n",
      "\n",
      "print \"A message:\"\n",
      "print json.dumps(msg, indent=1, default=json_util.default)"
     ],
     "language": "python",
     "metadata": {},
     "outputs": [
      {
       "output_type": "stream",
       "stream": "stdout",
       "text": [
        "Number of messages in mbox:\n",
        "41299\n",
        "\n",
        "A message:\n",
        "{\n",
        " \"X-cc\": \"\", \n",
        " \"From\": \"craig_estes@enron.com\", \n",
        " \"Content-Transfer-Encoding\": \"7bit\", \n",
        " \"X-bcc\": \"\", \n",
        " \"parts\": [\n",
        "  {\n",
        "   \"content\": \"Please respond to Keith_Williams\\\"A YPO International Event\\\"\\n\\nwww.myypo.org/solutions\\n\\nWould an investment of five days be worth a comment from your child such as\\n\\n\\\"Dad, this is the best trip I've ever been on.\\\" Michael Montgomery, son of\\nYPOer William Montgomery (Cincinnati)\\n\\nOr would that same five days with your child be valuable if you could say:\\n\\n\\\"It was clear that each parent and child had shared a special time that\\ncould only be experienced in the wilderness.  Away from television, the\\nInternet and the conveniences we mistake as necessities, we all\\nrediscovered the simple pleasures of conversation and time together.\\\"  Tonn\\nOstergard (Nebraska)\\n\\nEnjoy the splendor of the Rocky Mountains in a program exclusively designed\\nfor you or your spouse and your child.  As you rock climb, rappel, hike and\\nbackpack you will strengthen your family bonds as you are physically\\nchallenged in this rugged yet beautiful environment.  Your nights will be\\nspent under the stars as you tell stories around a roaring campfire, play\\ngames and enjoy fellowship with other YPO families.\\n\\nFor fourteen years, the Parent Child Mountain Adventure has helped\\nfacilitate stronger one-on-one family bonding experiences for over 300 YPO\\nmembers and their children.  Professional guides from Young Life's\\nWilderness Ranch guide YPOers and their children through the three-day\\njourney.  This is not a luxury retreat.  You will wear your sweaty cap as a\\nbadge of courage and pride.  Flexibility and laid back leadership will be\\nyour chief assets as you and your child learn more about each other.... and\\nyou will learn more about yourself.\\n\\nFast Facts\\nChairman: Craig Estes (West Texas)\\nLocation: Creed, Colorado USA\\nFee: US$1895.00 per member/child pair. Children must be at least 10 years\\nof age. Program is limited to 20 parent/child pairs (a total of 40\\nparticipants).  Fee includes registration, meals and ground transportation\\nduring the event.\\nHotel/Accommodations: Best Western Tomichi Village, Gunnison, Colorado\\n(nights of July 20 and July 24.)  To access the YPO negotiated rates, call\\nthe hotel directly at 1-800-641-1131.  Thirty days or more before the\\nevent, the hotel may release the YPO block of rooms.\\nRegistration or More Information\\nContact: YPO Global Services Center\\nEmail: askypo@ypo.org\\nPhone: 1-800-773-7976 or 1-972-650-4600\\nFax: 1-972-650-4721\\nCancellation Policy: Full refunds will be made 30 days before the event if\\nnotification is received in writing.  After that time, no refunds will be\\ngiven.\\n\\n\", \n",
        "   \"contentType\": \"text/plain\"\n",
        "  }\n",
        " ], \n",
        " \"X-Folder\": \"\\\\jskillin\\\\Inbox\", \n",
        " \"X-Origin\": \"SKILLING-J\", \n",
        " \"X-FileName\": \"jskillin.pst\", \n",
        " \"Mime-Version\": \"1.0\", \n",
        " \"Message-ID\": \"<24537021.1075840152262.JavaMail.evans@thyme>\", \n",
        " \"X-From\": \"Craig_Estes\", \n",
        " \"Date\": {\n",
        "  \"$date\": 988145040000\n",
        " }, \n",
        " \"X-To\": \"\", \n",
        " \"_id\": {\n",
        "  \"$oid\": \"54833a307bbace6a49d3c4ed\"\n",
        " }, \n",
        " \"Content-Type\": \"text/plain; charset=us-ascii\", \n",
        " \"Subject\": \"Parent Child Mountain Adventure, July 21-25, 2001\"\n",
        "}\n"
       ]
      }
     ],
     "prompt_number": 11
    },
    {
     "cell_type": "heading",
     "level": 2,
     "metadata": {},
     "source": [
      "Creating new db/collection and adding documents to MongoDB"
     ]
    },
    {
     "cell_type": "code",
     "collapsed": false,
     "input": [
      "#http://api.mongodb.org/python/current/tutorial.html\n",
      "\n",
      "import json\n",
      "import pymongo # pip install pymongo\n",
      "from bson import json_util # Comes with pymongo\n",
      "from datetime import datetime as dt\n",
      "\n",
      "client = pymongo.MongoClient()\n",
      "\n",
      "db = client.soundcloud\n",
      "\n",
      "\n",
      "post = {\"post_id\": \"1\",\n",
      "        \"author\": \"Mike\",\n",
      "        \"text\": \"My first blog post!\",\n",
      "        \"tags\": [\"mongodb\", \"python\", \"pymongo\"],\n",
      "        \"date\": datetime.datetime.utcnow()}\n",
      "\n",
      "collection = db.posts  # adds collection soundcloud.posts\n",
      "p = collection.insert(post)\n",
      "p\n",
      "\n",
      "collection.ensure_index('post_id', unique= True, drop_dups=True)\n",
      "\n",
      "print collection\n",
      "\n",
      "print db.collection_names()\n",
      "\n",
      "results = [p for p in db.posts.find()]\n",
      "\n",
      "def pp(o, indent=1):\n",
      "    print json.dumps(o, indent=indent, default=json_util.default)\n",
      "\n",
      "pp(results)"
     ],
     "language": "python",
     "metadata": {},
     "outputs": [
      {
       "output_type": "stream",
       "stream": "stdout",
       "text": [
        "Collection(Database(MongoClient('localhost', 27017), u'soundcloud'), u'posts')\n",
        "[u'posts', u'system.indexes']\n",
        "[\n",
        " {\n",
        "  \"author\": \"Mike\", \n",
        "  \"post-id\": \"1\", \n",
        "  \"text\": \"My first blog post!\", \n",
        "  \"tags\": [\n",
        "   \"mongodb\", \n",
        "   \"python\", \n",
        "   \"pymongo\"\n",
        "  ], \n",
        "  \"date\": {\n",
        "   \"$date\": 1417940825539\n",
        "  }, \n",
        "  \"_id\": {\n",
        "   \"$oid\": \"54840f595cab4d0b59fd316f\"\n",
        "  }\n",
        " }, \n",
        " {\n",
        "  \"author\": \"Mike\", \n",
        "  \"text\": \"My first blog post!\", \n",
        "  \"tags\": [\n",
        "   \"mongodb\", \n",
        "   \"python\", \n",
        "   \"pymongo\"\n",
        "  ], \n",
        "  \"post_id\": \"1\", \n",
        "  \"date\": {\n",
        "   \"$date\": 1417941183863\n",
        "  }, \n",
        "  \"_id\": {\n",
        "   \"$oid\": \"548410bf5cab4d0b59fd3172\"\n",
        "  }\n",
        " }\n",
        "]\n"
       ]
      }
     ],
     "prompt_number": 25
    },
    {
     "cell_type": "code",
     "collapsed": false,
     "input": [
      "post = {\"post_id\": \"1\",\n",
      "        \"author\": \"Mike\",\n",
      "        \"text\": \"My first blog post!\",\n",
      "        \"tags\": [\"mongodb\", \"python\", \"pymongo\"],\n",
      "        \"date\": datetime.datetime.utcnow()}\n",
      "\n",
      "p = collection.insert(post)\n",
      "p"
     ],
     "language": "python",
     "metadata": {},
     "outputs": [
      {
       "ename": "DuplicateKeyError",
       "evalue": "insertDocument :: caused by :: 11000 E11000 duplicate key error index: soundcloud.posts.$post_id_1  dup key: { : \"1\" }",
       "output_type": "pyerr",
       "traceback": [
        "\u001b[1;31m---------------------------------------------------------------------------\u001b[0m\n\u001b[1;31mDuplicateKeyError\u001b[0m                         Traceback (most recent call last)",
        "\u001b[1;32m<ipython-input-30-f9e6d65ae85c>\u001b[0m in \u001b[0;36m<module>\u001b[1;34m()\u001b[0m\n\u001b[0;32m      5\u001b[0m         \"date\": datetime.datetime.utcnow()}\n\u001b[0;32m      6\u001b[0m \u001b[1;33m\u001b[0m\u001b[0m\n\u001b[1;32m----> 7\u001b[1;33m \u001b[0mp\u001b[0m \u001b[1;33m=\u001b[0m \u001b[0mcollection\u001b[0m\u001b[1;33m.\u001b[0m\u001b[0minsert\u001b[0m\u001b[1;33m(\u001b[0m\u001b[0mpost\u001b[0m\u001b[1;33m)\u001b[0m\u001b[1;33m\u001b[0m\u001b[0m\n\u001b[0m\u001b[0;32m      8\u001b[0m \u001b[0mp\u001b[0m\u001b[1;33m\u001b[0m\u001b[0m\n",
        "\u001b[1;32m/usr/local/lib/python2.7/dist-packages/pymongo/collection.pyc\u001b[0m in \u001b[0;36minsert\u001b[1;34m(self, doc_or_docs, manipulate, safe, check_keys, continue_on_error, **kwargs)\u001b[0m\n\u001b[0;32m    408\u001b[0m                     \u001b[0mself\u001b[0m\u001b[1;33m.\u001b[0m\u001b[0mdatabase\u001b[0m\u001b[1;33m.\u001b[0m\u001b[0mname\u001b[0m \u001b[1;33m+\u001b[0m \u001b[1;34m\".$cmd\"\u001b[0m\u001b[1;33m,\u001b[0m \u001b[0m_INSERT\u001b[0m\u001b[1;33m,\u001b[0m \u001b[0mcommand\u001b[0m\u001b[1;33m,\u001b[0m\u001b[1;33m\u001b[0m\u001b[0m\n\u001b[0;32m    409\u001b[0m                     gen(), check_keys, self.uuid_subtype, client)\n\u001b[1;32m--> 410\u001b[1;33m             \u001b[0m_check_write_command_response\u001b[0m\u001b[1;33m(\u001b[0m\u001b[0mresults\u001b[0m\u001b[1;33m)\u001b[0m\u001b[1;33m\u001b[0m\u001b[0m\n\u001b[0m\u001b[0;32m    411\u001b[0m         \u001b[1;32melse\u001b[0m\u001b[1;33m:\u001b[0m\u001b[1;33m\u001b[0m\u001b[0m\n\u001b[0;32m    412\u001b[0m             \u001b[1;31m# Legacy batched OP_INSERT\u001b[0m\u001b[1;33m\u001b[0m\u001b[1;33m\u001b[0m\u001b[0m\n",
        "\u001b[1;32m/usr/local/lib/python2.7/dist-packages/pymongo/helpers.pyc\u001b[0m in \u001b[0;36m_check_write_command_response\u001b[1;34m(results)\u001b[0m\n\u001b[0;32m    196\u001b[0m             \u001b[0merror\u001b[0m\u001b[1;33m[\u001b[0m\u001b[1;34m\"index\"\u001b[0m\u001b[1;33m]\u001b[0m \u001b[1;33m+=\u001b[0m \u001b[0moffset\u001b[0m\u001b[1;33m\u001b[0m\u001b[0m\n\u001b[0;32m    197\u001b[0m             \u001b[1;32mif\u001b[0m \u001b[0merror\u001b[0m\u001b[1;33m.\u001b[0m\u001b[0mget\u001b[0m\u001b[1;33m(\u001b[0m\u001b[1;34m\"code\"\u001b[0m\u001b[1;33m)\u001b[0m \u001b[1;33m==\u001b[0m \u001b[1;36m11000\u001b[0m\u001b[1;33m:\u001b[0m\u001b[1;33m\u001b[0m\u001b[0m\n\u001b[1;32m--> 198\u001b[1;33m                 \u001b[1;32mraise\u001b[0m \u001b[0mDuplicateKeyError\u001b[0m\u001b[1;33m(\u001b[0m\u001b[0merror\u001b[0m\u001b[1;33m.\u001b[0m\u001b[0mget\u001b[0m\u001b[1;33m(\u001b[0m\u001b[1;34m\"errmsg\"\u001b[0m\u001b[1;33m)\u001b[0m\u001b[1;33m,\u001b[0m \u001b[1;36m11000\u001b[0m\u001b[1;33m,\u001b[0m \u001b[0merror\u001b[0m\u001b[1;33m)\u001b[0m\u001b[1;33m\u001b[0m\u001b[0m\n\u001b[0m\u001b[0;32m    199\u001b[0m         \u001b[1;32melse\u001b[0m\u001b[1;33m:\u001b[0m\u001b[1;33m\u001b[0m\u001b[0m\n\u001b[0;32m    200\u001b[0m             \u001b[0merror\u001b[0m \u001b[1;33m=\u001b[0m \u001b[0mresult\u001b[0m\u001b[1;33m[\u001b[0m\u001b[1;34m\"writeConcernError\"\u001b[0m\u001b[1;33m]\u001b[0m\u001b[1;33m\u001b[0m\u001b[0m\n",
        "\u001b[1;31mDuplicateKeyError\u001b[0m: insertDocument :: caused by :: 11000 E11000 duplicate key error index: soundcloud.posts.$post_id_1  dup key: { : \"1\" }"
       ]
      }
     ],
     "prompt_number": 30
    },
    {
     "cell_type": "markdown",
     "metadata": {},
     "source": [
      "Indexing?  \n",
      "http://api.mongodb.org/python/current/tutorial.html\n"
     ]
    },
    {
     "cell_type": "heading",
     "level": 2,
     "metadata": {},
     "source": [
      "Example 8. Querying MongoDB by date/time range"
     ]
    },
    {
     "cell_type": "code",
     "collapsed": false,
     "input": [
      "import json\n",
      "import pymongo # pip install pymongo\n",
      "from bson import json_util # Comes with pymongo\n",
      "from datetime import datetime as dt\n",
      "\n",
      "client = pymongo.MongoClient()\n",
      "\n",
      "db = client.enron\n",
      "\n",
      "mbox = db.mbox\n",
      "\n",
      "# Create a small date range here of one day\n",
      "\n",
      "start_date = dt(2001, 4, 1) # Year, Month, Day\n",
      "end_date = dt(2001, 4, 2) # Year, Month, Day\n",
      "\n",
      "# Query the database with the highly versatile \"find\" command,\n",
      "# just like in the MongoDB shell.\n",
      "\n",
      "msgs = [ msg \n",
      "         for msg in mbox.find({\"Date\" : \n",
      "                                  {\n",
      "                                   \"$lt\" : end_date, \n",
      "                                   \"$gt\" : start_date\n",
      "                                  }\n",
      "                              }).sort(\"date\")]\n",
      "\n",
      "# Create a convenience function to make pretty-printing JSON a little\n",
      "# less cumbersome\n",
      "\n",
      "def pp(o, indent=1):\n",
      "    print json.dumps(o, indent=indent, default=json_util.default)\n",
      "\n",
      "print \"Messages from a query by date range:\"\n",
      "pp(msgs)"
     ],
     "language": "python",
     "metadata": {},
     "outputs": [
      {
       "output_type": "stream",
       "stream": "stdout",
       "text": [
        "Messages from a query by date range:\n",
        "[\n",
        " {\n",
        "  \"X-cc\": \"\", \n",
        "  \"From\": \"spisano@sprintmail.com\", \n",
        "  \"Subject\": \"House repair bid\", \n",
        "  \"To\": [\n",
        "   \"kevin.ruscitti@enron.com\"\n",
        "  ], \n",
        "  \"Content-Transfer-Encoding\": \"7bit\", \n",
        "  \"X-bcc\": \"\", \n",
        "  \"parts\": [\n",
        "   {\n",
        "    \"content\": \"\\n \\n - RUSCITTI BID.wps \\n\\n\", \n",
        "    \"contentType\": \"text/plain\"\n",
        "   }\n",
        "  ], \n",
        "  \"X-Folder\": \"\\\\Ruscitti, Kevin\\\\Ruscitti, Kevin\\\\Inbox\", \n",
        "  \"X-Origin\": \"RUSCITTI-K\", \n",
        "  \"X-FileName\": \"Ruscitti, Kevin.pst\", \n",
        "  \"Message-ID\": \"<8472651.1075845282216.JavaMail.evans@thyme>\", \n",
        "  \"X-From\": \"Steven Anthony Pisano  <spisano@sprintmail.com>\", \n",
        "  \"Date\": {\n",
        "   \"$date\": 986163540000\n",
        "  }, \n",
        "  \"X-To\": \"KEVIN.RUSCITTI@ENRON.COM\", \n",
        "  \"_id\": {\n",
        "   \"$oid\": \"54833a3e7bbace6a49d45252\"\n",
        "  }, \n",
        "  \"Content-Type\": \"text/plain; charset=us-ascii\", \n",
        "  \"Mime-Version\": \"1.0\"\n",
        " }\n",
        "]\n"
       ]
      }
     ],
     "prompt_number": 10
    },
    {
     "cell_type": "heading",
     "level": 2,
     "metadata": {},
     "source": [
      "Example 9. Enumerating senders and receivers of messages"
     ]
    },
    {
     "cell_type": "code",
     "collapsed": false,
     "input": [
      "import json\n",
      "import pymongo # pip install pymongo\n",
      "from bson import json_util # Comes with pymongo\n",
      "\n",
      "client = pymongo.MongoClient()\n",
      "db = client.enron\n",
      "mbox = db.mbox\n",
      "\n",
      "senders = [ i for i in mbox.distinct(\"From\") ]\n",
      "\n",
      "receivers = [ i for i in mbox.distinct(\"To\") ]\n",
      "\n",
      "cc_receivers = [ i for i in mbox.distinct(\"Cc\") ]\n",
      "\n",
      "bcc_receivers = [ i for i in mbox.distinct(\"Bcc\") ]\n",
      "\n",
      "print \"Num Senders:\", len(senders)\n",
      "print \"Num Receivers:\", len(receivers)\n",
      "print \"Num CC Receivers:\", len(cc_receivers)\n",
      "print \"Num BCC Receivers:\", len(bcc_receivers)"
     ],
     "language": "python",
     "metadata": {},
     "outputs": []
    },
    {
     "cell_type": "heading",
     "level": 2,
     "metadata": {},
     "source": [
      "Example 10. Analyzing senders and receivers with set operations"
     ]
    },
    {
     "cell_type": "code",
     "collapsed": false,
     "input": [
      "senders = set(senders)\n",
      "receivers = set(receivers)\n",
      "cc_receivers = set(cc_receivers)\n",
      "bcc_receivers = set(bcc_receivers)\n",
      "\n",
      "# Find the number of senders who were also direct receivers\n",
      "\n",
      "senders_intersect_receivers = senders.intersection(receivers)\n",
      "\n",
      "# Find the senders that didn't receive any messages\n",
      "\n",
      "senders_diff_receivers = senders.difference(receivers)\n",
      "\n",
      "# Find the receivers that didn't send any messages\n",
      "\n",
      "receivers_diff_senders = receivers.difference(senders)\n",
      "\n",
      "# Find the senders who were any kind of receiver by\n",
      "# first computing the union of all types of receivers\n",
      "\n",
      "all_receivers = receivers.union(cc_receivers, bcc_receivers)\n",
      "senders_all_receivers = senders.intersection(all_receivers)\n",
      "\n",
      "print \"Num senders in common with receivers:\", len(senders_intersect_receivers)\n",
      "print \"Num senders who didn't receive:\", len(senders_diff_receivers)\n",
      "print \"Num receivers who didn't send:\", len(receivers_diff_senders)\n",
      "print \"Num senders in common with *all* receivers:\", len(senders_all_receivers)"
     ],
     "language": "python",
     "metadata": {},
     "outputs": []
    },
    {
     "cell_type": "heading",
     "level": 2,
     "metadata": {},
     "source": [
      "Example 11. Finding senders and receivers of messages who were Enron employees"
     ]
    },
    {
     "cell_type": "code",
     "collapsed": false,
     "input": [
      "# In a Mongo shell, you could try this query for the same effect:\n",
      "# db.mbox.find({\"To\" : {\"$regex\" : /.*enron.com.*/i} }, \n",
      "#              {\"To\" : 1, \"_id\" : 0})\n",
      "\n",
      "senders = [ i \n",
      "            for i in mbox.distinct(\"From\") \n",
      "                if i.lower().find(\"@enron.com\") > -1 ]\n",
      "\n",
      "receivers = [ i \n",
      "              for i in mbox.distinct(\"To\") \n",
      "                  if i.lower().find(\"@enron.com\") > -1 ]\n",
      "\n",
      "cc_receivers = [ i \n",
      "                 for i in mbox.distinct(\"Cc\") \n",
      "                     if i.lower().find(\"@enron.com\") > -1 ]\n",
      "\n",
      "bcc_receivers = [ i \n",
      "                  for i in mbox.distinct(\"Bcc\") \n",
      "                      if i.lower().find(\"@enron.com\") > -1 ]\n",
      "\n",
      "print \"Num Senders:\", len(senders)\n",
      "print \"Num Receivers:\", len(receivers)\n",
      "print \"Num CC Receivers:\", len(cc_receivers)\n",
      "print \"Num BCC Receivers:\", len(bcc_receivers)"
     ],
     "language": "python",
     "metadata": {},
     "outputs": []
    },
    {
     "cell_type": "heading",
     "level": 2,
     "metadata": {},
     "source": [
      "Example 12. Counting sent/received messages for particular email addresses"
     ]
    },
    {
     "cell_type": "code",
     "collapsed": false,
     "input": [
      "import json\n",
      "import pymongo # pip install pymongo\n",
      "from bson import json_util # Comes with pymongo\n",
      "\n",
      "client = pymongo.MongoClient()\n",
      "db = client.enron\n",
      "mbox = db.mbox\n",
      "\n",
      "aliases = [\"kenneth.lay@enron.com\", \"ken_lay@enron.com\", \"ken.lay@enron.com\", \n",
      "           \"kenneth_lay@enron.net\", \"klay@enron.com\"] # More possibilities?\n",
      "\n",
      "to_msgs = [ msg \n",
      "            for msg in mbox.find({\"To\" : { \"$in\" : aliases } })]\n",
      "\n",
      "from_msgs = [ msg \n",
      "         for msg in mbox.find({\"From\" : { \"$in\" : aliases } })]\n",
      "\n",
      "print \"Number of message sent to:\", len(to_msgs)\n",
      "print \"Number of messages sent from:\", len(from_msgs)"
     ],
     "language": "python",
     "metadata": {},
     "outputs": []
    },
    {
     "cell_type": "heading",
     "level": 2,
     "metadata": {},
     "source": [
      "Example 13. Using MongoDB's data aggregation framework"
     ]
    },
    {
     "cell_type": "code",
     "collapsed": false,
     "input": [
      "import json\n",
      "import pymongo # pip install pymongo\n",
      "from bson import json_util # Comes with pymongo\n",
      "import re\n",
      "\n",
      "# The basis of our query\n",
      "FROM = \"kenneth.lay@enron.com\"\n",
      "\n",
      "client = pymongo.MongoClient()\n",
      "db = client.enron\n",
      "mbox = db.mbox\n",
      "\n",
      "# Get the recipient lists for each message\n",
      "\n",
      "recipients_per_message = db.mbox.aggregate([\n",
      "  {\"$match\" : {\"From\" : re.compile(r\".*{0}.*\".format(FROM), re.IGNORECASE)}}, \n",
      "  {\"$project\" : {\"From\" : 1, \"To\" : 1} }, \n",
      "  {\"$group\" : {\"_id\" : \"$From\", \"recipients\" : {\"$addToSet\" : \"$To\" } } }                    \n",
      "])['result'][0]['recipients']\n",
      "\n",
      "# Collapse the lists of recipients into a single list\n",
      "\n",
      "all_recipients = [recipient\n",
      "                  for message in recipients_per_message\n",
      "                      for recipient in message]\n",
      "\n",
      "# Calculate the number of recipients per sent message and sort\n",
      "\n",
      "recipients_per_message_totals = \\\n",
      "  sorted([len(recipients) \n",
      "   for recipients in recipients_per_message])\n",
      "\n",
      "# Demonstrate how to use $unwind followed by $group to collapse\n",
      "# the recipient lists into a single list (with no duplicates\n",
      "# per the $addToSet operator)\n",
      "\n",
      "unique_recipients = db.mbox.aggregate([\n",
      "  {\"$match\" : {\"From\" : re.compile(r\".*{0}.*\".format(FROM), re.IGNORECASE)}}, \n",
      "  {\"$project\" : {\"From\" : 1, \"To\" : 1} }, \n",
      "  {\"$unwind\" : \"$To\"}, \n",
      "  {\"$group\" : {\"_id\" : \"From\", \"recipients\" : {\"$addToSet\" : \"$To\"}} }\n",
      "])['result'][0]['recipients']\n",
      "\n",
      "print all_recipients\n",
      "print \"Num total recipients on all messages:\", len(all_recipients)\n",
      "print \"Num recipients for each message:\", recipients_per_message_totals\n",
      "print \"Num unique recipients\", len(unique_recipients)"
     ],
     "language": "python",
     "metadata": {},
     "outputs": []
    },
    {
     "cell_type": "heading",
     "level": 2,
     "metadata": {},
     "source": [
      "Example 14. Creating a text index on MongoDB documents with PyMongo"
     ]
    },
    {
     "cell_type": "code",
     "collapsed": false,
     "input": [
      "import json\n",
      "import pymongo # pip install pymongo\n",
      "from bson import json_util # Comes with pymongo\n",
      "\n",
      "client = pymongo.MongoClient()\n",
      "db = client.enron\n",
      "mbox = db.mbox\n",
      "\n",
      "# Create an index if it doesn't already exist\n",
      "mbox.ensure_index([(\"$**\", \"text\")], name=\"TextIndex\")\n",
      "\n",
      "# Get the collection stats (collstats) on a collection\n",
      "# named \"mbox\"\n",
      "print json.dumps(db.command(\"collstats\", \"mbox\"), indent=1)\n",
      "\n",
      "# Use the db.command method to issue a \"text\" command\n",
      "# on collection \"mbox\" with parameters, remembering that\n",
      "# we need to use json_util to handle serialization of our JSON\n",
      "print json.dumps(db.command(\"text\", \"mbox\",  \n",
      "                            search=\"raptor\", \n",
      "                            limit=1), \n",
      "                 indent=1, default=json_util.default)"
     ],
     "language": "python",
     "metadata": {},
     "outputs": []
    },
    {
     "cell_type": "heading",
     "level": 2,
     "metadata": {},
     "source": [
      "Example 15. Aggregate querying for counts of messages by date/time range"
     ]
    },
    {
     "cell_type": "code",
     "collapsed": false,
     "input": [
      "import json\n",
      "import pymongo # pip install pymongo\n",
      "from bson import json_util # Comes with pymongo\n",
      "\n",
      "client = pymongo.MongoClient()\n",
      "db = client.enron\n",
      "mbox = db.mbox\n",
      "\n",
      "results = mbox.aggregate([\n",
      "{\n",
      "  # Create a subdocument called DateBucket with each date component projected\n",
      "  # so that these fields can be grouped on in the next stage of the pipeline\n",
      "  \"$project\" :\n",
      "  {\n",
      "     \"_id\" : 0,\n",
      "     \"DateBucket\" : \n",
      "     {\n",
      "       \"year\" : {\"$year\" : \"$Date\"}, \n",
      "       \"month\" : {\"$month\" : \"$Date\"}, \n",
      "       \"day\" : {\"$dayOfMonth\" : \"$Date\"},\n",
      "       \"hour\" : {\"$hour\" : \"$Date\"},\n",
      "     }\n",
      "  }\n",
      "},\n",
      "{\n",
      "  \"$group\" : \n",
      "  {\n",
      "    # Group by year and date by using these fields for the key.\n",
      "    \"_id\" : {\"year\" : \"$DateBucket.year\", \"month\" : \"$DateBucket.month\"},\n",
      "    \n",
      "    # Increment the sum for each group by 1 for every document that's in it\n",
      "    \"num_msgs\" : {\"$sum\" : 1}\n",
      "  }\n",
      "},\n",
      "{\n",
      "  \"$sort\" : {\"_id.year\" : 1, \"_id.month\" : 1} \n",
      "}\n",
      "])\n",
      "\n",
      "print results"
     ],
     "language": "python",
     "metadata": {},
     "outputs": []
    },
    {
     "cell_type": "heading",
     "level": 2,
     "metadata": {},
     "source": [
      "Example 16. Rendering time series results as a nicely displayed table"
     ]
    },
    {
     "cell_type": "code",
     "collapsed": false,
     "input": [
      "from prettytable import PrettyTable\n",
      "\n",
      "\n",
      "pt = PrettyTable(field_names=['Year', 'Month', 'Num Msgs'])\n",
      "pt.align['Num Msgs'], pt.align['Month'] = 'r', 'r'\n",
      "[ pt.add_row([ result['_id']['year'], result['_id']['month'], result['num_msgs'] ]) \n",
      "  for result in results['result'] ]\n",
      "\n",
      "print pt"
     ],
     "language": "python",
     "metadata": {},
     "outputs": []
    },
    {
     "cell_type": "heading",
     "level": 2,
     "metadata": {},
     "source": [
      "Example 17. Connecting to Gmail with Xoauth"
     ]
    },
    {
     "cell_type": "code",
     "collapsed": false,
     "input": [
      "import sys\n",
      "import oauth2 as oauth\n",
      "import oauth2.clients.imap as imaplib\n",
      "\n",
      "# See http://code.google.com/p/google-mail-xoauth-tools/wiki/\n",
      "# XoauthDotPyRunThrough for details on obtaining and\n",
      "# running xoauth.py to get the credentials\n",
      "\n",
      "OAUTH_TOKEN = ''  # XXX: Obtained with xoauth.py\n",
      "OAUTH_TOKEN_SECRET = ''  # XXX: Obtained with xoauth.py\n",
      "GMAIL_ACCOUNT = ''  # XXX: Your Gmail address - example@gmail.com\n",
      "\n",
      "url = 'https://mail.google.com/mail/b/%s/imap/' % (GMAIL_ACCOUNT, )\n",
      "\n",
      "# Standard values for Gmail's Xoauth\n",
      "consumer = oauth.Consumer('anonymous', 'anonymous')  \n",
      "token = oauth.Token(OAUTH_TOKEN, OAUTH_TOKEN_SECRET)\n",
      "\n",
      "conn = imaplib.IMAP4_SSL('imap.googlemail.com')\n",
      "conn.debug = 4  # Set to the desired debug level\n",
      "conn.authenticate(url, consumer, token)\n",
      "\n",
      "conn.select('INBOX')\n",
      "\n",
      "# Access your INBOX data"
     ],
     "language": "python",
     "metadata": {},
     "outputs": []
    },
    {
     "cell_type": "heading",
     "level": 2,
     "metadata": {},
     "source": [
      "Example 18. Query your Gmail inbox and store the results as JSON"
     ]
    },
    {
     "cell_type": "code",
     "collapsed": false,
     "input": [
      "import sys\n",
      "import mailbox\n",
      "import email\n",
      "import quopri\n",
      "import json\n",
      "import time\n",
      "from BeautifulSoup import BeautifulSoup\n",
      "from dateutil.parser import parse\n",
      "\n",
      "# What you'd like to search for in the subject of your mail.\n",
      "# See Section 6.4.4 of http://www.faqs.org/rfcs/rfc3501.html\n",
      "# for more SEARCH options.\n",
      "\n",
      "Q = \"Alaska\" # XXX\n",
      "\n",
      "# Recycle some routines from Example 6-3 so that you arrive at the\n",
      "# very same data structure you've been using throughout this chapter\n",
      "\n",
      "def cleanContent(msg):\n",
      "\n",
      "    # Decode message from \"quoted printable\" format\n",
      "    msg = quopri.decodestring(msg)\n",
      "        \n",
      "    # Strip out HTML tags, if any are present.\n",
      "    # Bail on unknown encodings if errors happen in BeautifulSoup.\n",
      "    try:\n",
      "        soup = BeautifulSoup(msg)\n",
      "    except:\n",
      "        return ''\n",
      "    return ''.join(soup.findAll(text=True))\n",
      "\n",
      "def jsonifyMessage(msg):\n",
      "    json_msg = {'parts': []}\n",
      "    for (k, v) in msg.items():\n",
      "        json_msg[k] = v.decode('utf-8', 'ignore')\n",
      "\n",
      "    # The To, Cc, and Bcc fields, if present, could have multiple items.\n",
      "    # Note that not all of these fields are necessarily defined.\n",
      "\n",
      "    for k in ['To', 'Cc', 'Bcc']:\n",
      "        if not json_msg.get(k):\n",
      "            continue\n",
      "        json_msg[k] = json_msg[k].replace('\\n', '').replace('\\t', '')\\\n",
      "                                 .replace('\\r', '').replace(' ', '')\\\n",
      "                                 .decode('utf-8', 'ignore').split(',')\n",
      "\n",
      "    for part in msg.walk():\n",
      "        json_part = {}\n",
      "        if part.get_content_maintype() == 'multipart':\n",
      "            continue\n",
      "            \n",
      "        json_part['contentType'] = part.get_content_type()\n",
      "        content = part.get_payload(decode=False).decode('utf-8', 'ignore')\n",
      "        json_part['content'] = cleanContent(content)\n",
      "           \n",
      "        json_msg['parts'].append(json_part)\n",
      "        \n",
      "    # Finally, convert date from asctime to milliseconds since epoch using the\n",
      "    # $date descriptor so it imports \"natively\" as an ISODate object in MongoDB.\n",
      "    then = parse(json_msg['Date'])\n",
      "    millis = int(time.mktime(then.timetuple())*1000 + then.microsecond/1000)\n",
      "    json_msg['Date'] = {'$date' : millis}\n",
      "\n",
      "    return json_msg\n",
      "\n",
      "# Consume a query from the user. This example illustrates searching by subject.\n",
      "\n",
      "(status, data) = conn.search(None, '(SUBJECT \"%s\")' % (Q, ))\n",
      "ids = data[0].split()\n",
      "\n",
      "messages = []\n",
      "for i in ids:\n",
      "    try:\n",
      "        (status, data) = conn.fetch(i, '(RFC822)')\n",
      "        messages.append(email.message_from_string(data[0][1]))\n",
      "    except Exception, e:\n",
      "        print e\n",
      "        print 'Print error fetching message %s. Skipping it.' % (i, )\n",
      "\n",
      "print len(messages)\n",
      "jsonified_messages = [jsonifyMessage(m) for m in messages]\n",
      "\n",
      "# Separate out the text content from each message so that it can be analyzed.\n",
      "\n",
      "content = [p['content'] for m in jsonified_messages for p in m['parts']]\n",
      "\n",
      "# Content can still be quite messy and contain line breaks and other quirks.\n",
      "\n",
      "filename = os.path.join('resources/ch06-mailboxes/data', \n",
      "                        GMAIL_ACCOUNT.split(\"@\")[0] + '.gmail.json')\n",
      "f = open(filename, 'w')\n",
      "f.write(json.dumps(jsonified_messages))\n",
      "f.close()\n",
      "\n",
      "print >> sys.stderr, \"Data written out to\", f.name"
     ],
     "language": "python",
     "metadata": {},
     "outputs": []
    }
   ],
   "metadata": {}
  }
 ]
}