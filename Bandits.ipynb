{
 "metadata": {
  "name": "",
  "signature": "sha256:9f659ebc530efc4cad0e7421c6211a25300da1a6ceb040f6edb3fea19334da99"
 },
 "nbformat": 3,
 "nbformat_minor": 0,
 "worksheets": [
  {
   "cells": [
    {
     "cell_type": "heading",
     "level": 1,
     "metadata": {},
     "source": [
      "Bandits"
     ]
    },
    {
     "cell_type": "markdown",
     "metadata": {},
     "source": [
      "Table of contents:\n",
      "<dl>\n",
      "    <dt><a href='#greedy'>1. Epsilon-Greedy</a></dt>\n",
      "    <dt><a href='#softmax'>2. SoftMax</a></dt>\n",
      "</dl>"
     ]
    },
    {
     "cell_type": "heading",
     "level": 2,
     "metadata": {},
     "source": [
      "<a id='greedy'>1. Epislon-Greedy</a>"
     ]
    },
    {
     "cell_type": "markdown",
     "metadata": {},
     "source": [
      "This is an example of an epsilon-greedy Bandit with Bernoulli arms taken from the o'reilly book: <a href=\"https://www.google.com/url?sa=t&rct=j&q=&esrc=s&source=web&cd=5&cad=rja&uact=8&ved=0CDoQFjAE&url=http%3A%2F%2Fpdf.th7.cn%2Fdown%2Ffiles%2F1312%2Fbandit_algorithms_for_website_optimization.pdf&ei=sdmBVMSJEYyxyASVrIGgAw&usg=AFQjCNEN11c2ZtaNgx9W0KBO7tVATKFxUw&sig2=FdB09voIG6WLMdIAj6Jonw&bvm=bv.80642063,d.aWw\">Bandit algorithms for website optimization</a>"
     ]
    },
    {
     "cell_type": "markdown",
     "metadata": {},
     "source": [
      "<p><b><u>In a nutshell:</u></b> \n",
      "A simulation runs 5 arms with different probablities of a reward. Epsilon is the parameter that decides how likely it is to explore vs exploit. <i>\"If epsilon is high we explore a lot and find the best arm qucikly, but then we keep exploring even after it's not worth doing anymore.\"</i> [p. 28]</p> "
     ]
    },
    {
     "cell_type": "markdown",
     "metadata": {},
     "source": [
      "<img src=\"img/accuracy_mc_simulation.jpeg\" alt=\"Accuracy graph\" align=\"left\" height=\"245\" width=\"400\">"
     ]
    },
    {
     "cell_type": "markdown",
     "metadata": {},
     "source": [
      "<img src=\"img/variability_mc_simulation.jpeg\" alt=\"Variability graph\" align=\"left\" height=\"245\" width=\"400\">"
     ]
    },
    {
     "cell_type": "markdown",
     "metadata": {},
     "source": [
      "<p><i>Charts: <a href=\"https://github.com/johannesbraun/BanditsBook/blob/master/r/epsilon_greedy/plot_standard.R\"> R-script</a> that plot the output of the simulation \n",
      "</i></p>"
     ]
    },
    {
     "cell_type": "code",
     "collapsed": false,
     "input": [
      "class EpsilonGreedy():\n",
      "    \n",
      "    def __init__(self, epsilon, counts, values):\n",
      "        self.epsilon = epsilon\n",
      "        self.counts = counts\n",
      "        self.values = values\n",
      "        return\n",
      "    \n",
      "    def initialize(self, n_arms):\n",
      "        self.counts = [0 for col in range(n_arms)]\n",
      "        self.values = [0.0 for col in range(n_arms)]\n",
      "        return\n",
      "    \n",
      "    def ind_max(x):\n",
      "        m = max(x)\n",
      "        return x.index(m)\n",
      "    \n",
      "    \"\"\"\n",
      "    As you can see, the epsilon-Greedy algorithm handles selecting an arm in two parts: \n",
      "    (1) we flip a coin to see if we\u2019ll choose the best arm we know about and then \n",
      "    (2) if the coin comes up tails, we\u2019ll select an arm completely at random.\n",
      "    \"\"\"\n",
      "    def select_arm(self):\n",
      "        if random.random() > self.epsilon: # (1)\n",
      "          return ind_max(self.values)\n",
      "        else: # (2)\n",
      "          return random.randrange(len(self.values)) \n",
      "        \n",
      "    def update(self, chosen_arm, reward):\n",
      "        self.counts[chosen_arm] = self.counts[chosen_arm] + 1.0\n",
      "        n = self.counts[chosen_arm]\n",
      "        value = self.values[chosen_arm]\n",
      "        new_value = ((n - 1) / float(n)) * value + (1 / float(n)) * reward # running average\n",
      "        self.values[chosen_arm] = new_value\n",
      "        #print self.values[chosen_arm]\n",
      "        return\n",
      "\n"
     ],
     "language": "python",
     "metadata": {},
     "outputs": [],
     "prompt_number": 5
    },
    {
     "cell_type": "code",
     "collapsed": false,
     "input": [
      "class BernoulliArm():\n",
      "    \n",
      "    def __init__(self, p):\n",
      "        self.p = p\n",
      "        \n",
      "    def draw(self):\n",
      "        if random.random() > self.p:\n",
      "            return 0.0\n",
      "        else:\n",
      "            return 1.0"
     ],
     "language": "python",
     "metadata": {},
     "outputs": [],
     "prompt_number": 6
    },
    {
     "cell_type": "code",
     "collapsed": false,
     "input": [
      "# Example:\n",
      "\n",
      "algo = EpsilonGreedy(1.0, [],[])\n",
      "algo.initialize(2)\n",
      "\n",
      "means = [0.5, 0.1, 0.1, 0.1, 0.9]\n",
      "n_arms = len(means)\n",
      "random.shuffle(means)\n",
      "arms = map(lambda (mu): BernoulliArm(mu), means)\n",
      "# r = map(func, seq) # map wendet die Funktion func auf alle Elemente von seq\n",
      "# Mit Hilfe des lambda-Operators k\u00f6nnen anonyme Funktionen, d.h. Funktionen ohne Namen erzeugt werden\n",
      "# geht auch mit meherern listen: map(lambda x,y:x+y, a,b)"
     ],
     "language": "python",
     "metadata": {},
     "outputs": [],
     "prompt_number": 7
    },
    {
     "cell_type": "code",
     "collapsed": false,
     "input": [
      "for i in range(3):\n",
      "    print \"Arm 0: \", arms[0].draw()\n",
      "    print \"Arm 1: \", arms[1].draw()"
     ],
     "language": "python",
     "metadata": {},
     "outputs": [
      {
       "output_type": "stream",
       "stream": "stdout",
       "text": [
        "Arm 0:  0.0\n",
        "Arm 1:  0.0\n",
        "Arm 0:  0.0\n",
        "Arm 1:  0.0\n",
        "Arm 0:  0.0\n",
        "Arm 1:  0.0\n"
       ]
      }
     ],
     "prompt_number": 10
    },
    {
     "cell_type": "code",
     "collapsed": false,
     "input": [
      "def test_algorithm(algo, arms, num_sims, horizon):\n",
      "    \n",
      "    #empty arrays\n",
      "    chosen_arms = [0.0 for i in range(num_sims * horizon)]\n",
      "    rewards = [0.0 for i in range(num_sims * horizon)]\n",
      "    cumulative_rewards = [0.0 for i in range(num_sims * horizon)]\n",
      "    sim_nums = [0.0 for i in range(num_sims * horizon)]\n",
      "    times = [0.0 for i in range(num_sims * horizon)]\n",
      "\n",
      "    for sim in range(num_sims): \n",
      "        sim=sim+1 \n",
      "        algo.initialize(len(arms)) #no prior knowledge on which arm is best\n",
      "        \n",
      "        for t in range(horizon): #Loops over opportunities to pull an arm\n",
      "            t=t+1 \n",
      "            index=(sim-1)*horizon+t-1\n",
      "            #print 'index: %d' %index\n",
      "            sim_nums[index] = sim\n",
      "            times[index] = t\n",
      "            \n",
      "            chosen_arm = algo.select_arm() # which arm the algorithm chooses?\n",
      "            chosen_arms[index] = chosen_arm\n",
      "            \n",
      "            reward = arms[chosen_arms[index]].draw() # simulate the result of pulling that arm.      \n",
      "            rewards[index] = reward # record the amount of reward received by the algorithm\n",
      "            \n",
      "            if t==1: \n",
      "                cumulative_rewards[index] = reward\n",
      "            else:\n",
      "                cumulative_rewards[index] = cumulative_rewards[index - 1] + reward\n",
      "            \n",
      "            algo.update(chosen_arm, reward) # update to let the algorithm process that new piece of information\n",
      "            \n",
      "            \n",
      "    return [sim_nums, times, chosen_arms, rewards, cumulative_rewards]  #\n",
      "    # returns a data set that tells us for each simulation which arm was chosen and how well the algorithm did at each point \n",
      "    # each list is num_sims * horizon long"
     ],
     "language": "python",
     "metadata": {},
     "outputs": [],
     "prompt_number": 11
    },
    {
     "cell_type": "code",
     "collapsed": false,
     "input": [
      "def ind_max(x):\n",
      "  m = max(x)\n",
      "  return x.index(m)"
     ],
     "language": "python",
     "metadata": {},
     "outputs": [],
     "prompt_number": 12
    },
    {
     "cell_type": "code",
     "collapsed": false,
     "input": [
      "import random\n",
      "import os\n",
      "\n",
      "random.seed(1)\n",
      "means = [0.1, 0.1, 0.1, 0.1, 0.9] # 5 arms\n",
      "n_arms = len(means)\n",
      "random.shuffle(means)\n",
      "arms = map(lambda (mu): BernoulliArm(mu), means) # define arms as bernoulli arms \n",
      "print(\"Best arm is \" + str(ind_max(means)))\n",
      "\n",
      "\n",
      "filename = \"algorithms/epsilon_greedy/standard_results.tsv\"\n",
      "directory = os.path.dirname(filename)\n",
      "if not os.path.exists(directory):\n",
      "    os.makedirs(directory)\n",
      "    \n",
      "f = open(filename, \"w\")\n",
      "\n",
      "for epsilon in [0.1, 0.2, 0.3, 0.4, 0.5]: # different probs of exploiting i.e. deciding to pick the best\n",
      "    algo = EpsilonGreedy(epsilon, [], [])\n",
      "    algo.initialize(n_arms) # create counts and values for all arms\n",
      "    results = test_algorithm(algo, arms, 5000, 250) # 5000 simulations, 250 pulls of arms\n",
      "    # 5 lists 5000 * 250 long  \n",
      "    # print len(results[0])\n",
      "    for i in range(len(results[0])): # write progress to file for analysis\n",
      "        #log = str(epsilon) + \"\\t\"\n",
      "        #log = log + \"\\t\".join([str(results[j][i]) for j in range(len(results))]) + \"\\n\"\n",
      "        #print log\n",
      "        #f.write(log)\n",
      "        f.write(str(epsilon) + \"\\t\")\n",
      "        f.write(\"\\t\".join([str(results[j][i]) for j in range(len(results))]) + \"\\n\")\n",
      "        \n",
      "        # my_list = [\"Hello\", \"world\"]\n",
      "        # print \"-\".join(my_list)\n",
      "        ## Produce: \"Hello-world\"\n",
      "f.close()\n",
      "\n",
      "print(\"TODO: Analyze simulation results logged in \" + filename)"
     ],
     "language": "python",
     "metadata": {},
     "outputs": [
      {
       "output_type": "stream",
       "stream": "stdout",
       "text": [
        "Best arm is 1\n"
       ]
      }
     ],
     "prompt_number": 127
    },
    {
     "cell_type": "heading",
     "level": 1,
     "metadata": {},
     "source": [
      "<a id='softmax'>2. SoftMax</a>"
     ]
    },
    {
     "cell_type": "code",
     "collapsed": false,
     "input": [],
     "language": "python",
     "metadata": {},
     "outputs": []
    }
   ],
   "metadata": {}
  }
 ]
}